{
 "cells": [
  {
   "cell_type": "code",
   "execution_count": 46,
   "id": "a9cb81f9",
   "metadata": {},
   "outputs": [],
   "source": [
    "import numpy as np\n",
    "import pandas as pd\n",
    "import matplotlib.pyplot as plt"
   ]
  },
  {
   "cell_type": "code",
   "execution_count": 229,
   "id": "23213866",
   "metadata": {},
   "outputs": [],
   "source": [
    "df=  pd.read_csv('element_data.csv')"
   ]
  },
  {
   "cell_type": "code",
   "execution_count": 341,
   "id": "ea115854",
   "metadata": {},
   "outputs": [
    {
     "data": {
      "text/html": [
       "<div>\n",
       "<style scoped>\n",
       "    .dataframe tbody tr th:only-of-type {\n",
       "        vertical-align: middle;\n",
       "    }\n",
       "\n",
       "    .dataframe tbody tr th {\n",
       "        vertical-align: top;\n",
       "    }\n",
       "\n",
       "    .dataframe thead th {\n",
       "        text-align: right;\n",
       "    }\n",
       "</style>\n",
       "<table border=\"1\" class=\"dataframe\">\n",
       "  <thead>\n",
       "    <tr style=\"text-align: right;\">\n",
       "      <th></th>\n",
       "      <th>atomic_number</th>\n",
       "      <th>atomic_volume</th>\n",
       "      <th>boiling_point</th>\n",
       "      <th>en_ghosh</th>\n",
       "      <th>evaporation_heat</th>\n",
       "      <th>heat_of_formation</th>\n",
       "      <th>lattice_constant</th>\n",
       "      <th>specific_heat</th>\n",
       "      <th>atomic_mass</th>\n",
       "      <th>atomic_radius</th>\n",
       "      <th>electrical_resistivity</th>\n",
       "      <th>molar_volume</th>\n",
       "      <th>bulk_modulus</th>\n",
       "      <th>youngs_modulus</th>\n",
       "      <th>average_ionic_radius</th>\n",
       "      <th>density_of_solid</th>\n",
       "      <th>coefficient_of_linear_thermal_expansion</th>\n",
       "    </tr>\n",
       "  </thead>\n",
       "  <tbody>\n",
       "    <tr>\n",
       "      <th>0</th>\n",
       "      <td>47</td>\n",
       "      <td>10.30</td>\n",
       "      <td>2485.0</td>\n",
       "      <td>0.147217</td>\n",
       "      <td>254.1</td>\n",
       "      <td>284.9</td>\n",
       "      <td>4.09</td>\n",
       "      <td>0.237</td>\n",
       "      <td>107.868200</td>\n",
       "      <td>1.60</td>\n",
       "      <td>1.630000e-08</td>\n",
       "      <td>10.27</td>\n",
       "      <td>100.0</td>\n",
       "      <td>83.0</td>\n",
       "      <td>1.086667</td>\n",
       "      <td>10490.0</td>\n",
       "      <td>0.000019</td>\n",
       "    </tr>\n",
       "    <tr>\n",
       "      <th>1</th>\n",
       "      <td>13</td>\n",
       "      <td>10.00</td>\n",
       "      <td>2740.0</td>\n",
       "      <td>0.150078</td>\n",
       "      <td>284.1</td>\n",
       "      <td>330.9</td>\n",
       "      <td>4.05</td>\n",
       "      <td>0.900</td>\n",
       "      <td>26.981539</td>\n",
       "      <td>1.25</td>\n",
       "      <td>2.700000e-08</td>\n",
       "      <td>10.00</td>\n",
       "      <td>76.0</td>\n",
       "      <td>70.0</td>\n",
       "      <td>0.675000</td>\n",
       "      <td>2700.0</td>\n",
       "      <td>0.000023</td>\n",
       "    </tr>\n",
       "    <tr>\n",
       "      <th>2</th>\n",
       "      <td>79</td>\n",
       "      <td>10.20</td>\n",
       "      <td>3080.0</td>\n",
       "      <td>0.261370</td>\n",
       "      <td>340.0</td>\n",
       "      <td>368.2</td>\n",
       "      <td>4.08</td>\n",
       "      <td>0.129</td>\n",
       "      <td>196.966569</td>\n",
       "      <td>1.35</td>\n",
       "      <td>2.200000e-08</td>\n",
       "      <td>10.21</td>\n",
       "      <td>220.0</td>\n",
       "      <td>78.0</td>\n",
       "      <td>1.070000</td>\n",
       "      <td>19300.0</td>\n",
       "      <td>0.000014</td>\n",
       "    </tr>\n",
       "    <tr>\n",
       "      <th>3</th>\n",
       "      <td>29</td>\n",
       "      <td>7.10</td>\n",
       "      <td>2840.0</td>\n",
       "      <td>0.151172</td>\n",
       "      <td>304.6</td>\n",
       "      <td>337.4</td>\n",
       "      <td>3.61</td>\n",
       "      <td>0.385</td>\n",
       "      <td>63.546000</td>\n",
       "      <td>1.35</td>\n",
       "      <td>1.720000e-08</td>\n",
       "      <td>7.11</td>\n",
       "      <td>140.0</td>\n",
       "      <td>130.0</td>\n",
       "      <td>0.820000</td>\n",
       "      <td>8920.0</td>\n",
       "      <td>0.000017</td>\n",
       "    </tr>\n",
       "    <tr>\n",
       "      <th>4</th>\n",
       "      <td>77</td>\n",
       "      <td>8.54</td>\n",
       "      <td>4403.0</td>\n",
       "      <td>0.251060</td>\n",
       "      <td>604.0</td>\n",
       "      <td>669.0</td>\n",
       "      <td>3.84</td>\n",
       "      <td>0.133</td>\n",
       "      <td>192.217000</td>\n",
       "      <td>1.35</td>\n",
       "      <td>4.700000e-08</td>\n",
       "      <td>8.52</td>\n",
       "      <td>320.0</td>\n",
       "      <td>528.0</td>\n",
       "      <td>0.765000</td>\n",
       "      <td>22650.0</td>\n",
       "      <td>0.000006</td>\n",
       "    </tr>\n",
       "  </tbody>\n",
       "</table>\n",
       "</div>"
      ],
      "text/plain": [
       "   atomic_number  atomic_volume  boiling_point  en_ghosh  evaporation_heat  \\\n",
       "0             47          10.30         2485.0  0.147217             254.1   \n",
       "1             13          10.00         2740.0  0.150078             284.1   \n",
       "2             79          10.20         3080.0  0.261370             340.0   \n",
       "3             29           7.10         2840.0  0.151172             304.6   \n",
       "4             77           8.54         4403.0  0.251060             604.0   \n",
       "\n",
       "   heat_of_formation  lattice_constant  specific_heat  atomic_mass  \\\n",
       "0              284.9              4.09          0.237   107.868200   \n",
       "1              330.9              4.05          0.900    26.981539   \n",
       "2              368.2              4.08          0.129   196.966569   \n",
       "3              337.4              3.61          0.385    63.546000   \n",
       "4              669.0              3.84          0.133   192.217000   \n",
       "\n",
       "   atomic_radius  electrical_resistivity  molar_volume  bulk_modulus  \\\n",
       "0           1.60            1.630000e-08         10.27         100.0   \n",
       "1           1.25            2.700000e-08         10.00          76.0   \n",
       "2           1.35            2.200000e-08         10.21         220.0   \n",
       "3           1.35            1.720000e-08          7.11         140.0   \n",
       "4           1.35            4.700000e-08          8.52         320.0   \n",
       "\n",
       "   youngs_modulus  average_ionic_radius  density_of_solid  \\\n",
       "0            83.0              1.086667           10490.0   \n",
       "1            70.0              0.675000            2700.0   \n",
       "2            78.0              1.070000           19300.0   \n",
       "3           130.0              0.820000            8920.0   \n",
       "4           528.0              0.765000           22650.0   \n",
       "\n",
       "   coefficient_of_linear_thermal_expansion  \n",
       "0                                 0.000019  \n",
       "1                                 0.000023  \n",
       "2                                 0.000014  \n",
       "3                                 0.000017  \n",
       "4                                 0.000006  "
      ]
     },
     "execution_count": 341,
     "metadata": {},
     "output_type": "execute_result"
    }
   ],
   "source": [
    "df.head()"
   ]
  },
  {
   "cell_type": "code",
   "execution_count": 232,
   "id": "72dad3d7",
   "metadata": {},
   "outputs": [],
   "source": [
    "X= df['en_ghosh'].values"
   ]
  },
  {
   "cell_type": "code",
   "execution_count": 250,
   "id": "5f36c631",
   "metadata": {},
   "outputs": [
    {
     "data": {
      "text/plain": [
       "array([[0.1472165],\n",
       "       [0.150078 ],\n",
       "       [0.26137  ],\n",
       "       [0.1511716],\n",
       "       [0.25106  ],\n",
       "       [0.1472068],\n",
       "       [0.177911 ],\n",
       "       [0.1440276],\n",
       "       [0.25691  ],\n",
       "       [0.1408379],\n",
       "       [0.10277  ],\n",
       "       [0.22119  ],\n",
       "       [0.1586786],\n",
       "       [0.1313053],\n",
       "       [0.189935 ],\n",
       "       [0.1392532],\n",
       "       [0.105093 ],\n",
       "       [0.1352844],\n",
       "       [0.1312672],\n",
       "       [0.093214 ],\n",
       "       [0.1280782],\n",
       "       [0.234581 ],\n",
       "       [0.1273344],\n",
       "       [0.2390504],\n",
       "       [0.144986 ],\n",
       "       [0.1154119],\n",
       "       [0.1504066],\n",
       "       [0.1432363],\n",
       "       [0.20333  ],\n",
       "       [0.212261 ],\n",
       "       [0.1944   ],\n",
       "       [0.229987 ],\n",
       "       [0.207795 ],\n",
       "       [0.22565  ],\n",
       "       [0.121644 ],\n",
       "       [0.2435164],\n",
       "       [0.1193833],\n",
       "       [0.198863 ],\n",
       "       [0.1233637],\n",
       "       [0.173447 ],\n",
       "       [0.2167244],\n",
       "       [0.1216986],\n",
       "       [0.1551518]])"
      ]
     },
     "execution_count": 250,
     "metadata": {},
     "output_type": "execute_result"
    }
   ],
   "source": [
    "X"
   ]
  },
  {
   "cell_type": "code",
   "execution_count": null,
   "id": "82753e39",
   "metadata": {},
   "outputs": [],
   "source": []
  },
  {
   "cell_type": "markdown",
   "id": "b8d4065c",
   "metadata": {},
   "source": [
    "# Q1  • Develop a Linear Regression based model (see Tutorial 8) where electronegativity is X and boiling point is Y"
   ]
  },
  {
   "cell_type": "code",
   "execution_count": 233,
   "id": "b5b847c4",
   "metadata": {},
   "outputs": [],
   "source": [
    "from sklearn.linear_model import LinearRegression"
   ]
  },
  {
   "cell_type": "code",
   "execution_count": 240,
   "id": "d0c5884b",
   "metadata": {},
   "outputs": [],
   "source": [
    "class MyLR:\n",
    "    def __init__(self):\n",
    "        self.m=2\n",
    "        self.b=3\n",
    "        \n",
    "        \n",
    "    def fit(self,X_train,y_train):\n",
    "        \n",
    "        num = 0\n",
    "        den = 0\n",
    "        \n",
    "        for i in range(X_train.shape[0]):\n",
    "            \n",
    "            num = num + ((X_train[i] - X_train.mean())*(y_train[i] - y_train.mean()))\n",
    "            den = den + ((X_train[i] - X_train.mean())*(X_train[i] - X_train.mean()))\n",
    "        \n",
    "        self.m = num/den\n",
    "        self.b = y_train.mean() - (self.m * X_train.mean())\n",
    "        print(self.m)\n",
    "        print(self.b)       \n",
    "    \n",
    "    def predict(self,X_test):\n",
    "        \n",
    "        # print(X_test)\n",
    "          \n",
    "        return self.m * X_test + self.b"
   ]
  },
  {
   "cell_type": "code",
   "execution_count": 266,
   "id": "47e9f1c7",
   "metadata": {},
   "outputs": [
    {
     "name": "stdout",
     "output_type": "stream",
     "text": [
      "[10150.29424497]\n",
      "[1419.73020878]\n"
     ]
    }
   ],
   "source": [
    "lin = MyLR()\n",
    "lin.fit(X,y)"
   ]
  },
  {
   "cell_type": "code",
   "execution_count": 251,
   "id": "dd144200",
   "metadata": {},
   "outputs": [],
   "source": [
    "X= df['en_ghosh'].values.reshape(-1, 1)\n",
    "y= df['boiling_point'].values"
   ]
  },
  {
   "cell_type": "code",
   "execution_count": 37,
   "id": "5c9fcbb6",
   "metadata": {},
   "outputs": [
    {
     "data": {
      "text/plain": [
       "(76, 1)"
      ]
     },
     "execution_count": 37,
     "metadata": {},
     "output_type": "execute_result"
    }
   ],
   "source": [
    "from sklearn.model_selection import train_test_split\n",
    "X_train,X_test,y_train,y_test = train_test_split(X,y,test_size=0.2,random_state=2)\n",
    "X_train.shape"
   ]
  },
  {
   "cell_type": "code",
   "execution_count": 267,
   "id": "dd69eedb",
   "metadata": {},
   "outputs": [
    {
     "name": "stdout",
     "output_type": "stream",
     "text": [
      "[10150.29424497]\n"
     ]
    }
   ],
   "source": [
    "slope = lin.m\n",
    "print(slope)"
   ]
  },
  {
   "cell_type": "code",
   "execution_count": 268,
   "id": "699423a5",
   "metadata": {},
   "outputs": [
    {
     "name": "stdout",
     "output_type": "stream",
     "text": [
      "[1419.73020878]\n"
     ]
    }
   ],
   "source": [
    "constant = lin.b\n",
    "print(constant)"
   ]
  },
  {
   "cell_type": "code",
   "execution_count": 269,
   "id": "f47ce3be",
   "metadata": {},
   "outputs": [],
   "source": [
    "y_Pred = lin.predict(X)"
   ]
  },
  {
   "cell_type": "code",
   "execution_count": 270,
   "id": "e5c14c29",
   "metadata": {},
   "outputs": [],
   "source": [
    "def plot_regression_line(x, y, y_pred):\n",
    "    # plotting the actual points as scatter plot\n",
    "    plt.scatter(x, y, color=\"r\", marker=\"p\", s=None)\n",
    "\n",
    "    # plotting the regression line\n",
    "    plt.plot(x, y_pred, color=\"blue\")\n",
    "\n",
    "    # putting labels\n",
    "    plt.xlabel('Electronegativity')\n",
    "    plt.ylabel('boiling point')\n",
    "\n",
    "    # function to show plot\n",
    "    plt.show()\n"
   ]
  },
  {
   "cell_type": "code",
   "execution_count": 271,
   "id": "339e78b0",
   "metadata": {},
   "outputs": [
    {
     "data": {
      "image/png": "[encoded data removed]",
      "text/plain": [
       "<Figure size 864x432 with 1 Axes>"
      ]
     },
     "metadata": {
      "needs_background": "light"
     },
     "output_type": "display_data"
    }
   ],
   "source": [
    "plt.figure(figsize=(12,6))\n",
    "plot_regression_line(X,y,y_Pred)"
   ]
  },
  {
   "cell_type": "code",
   "execution_count": null,
   "id": "fd6dac79",
   "metadata": {},
   "outputs": [],
   "source": []
  },
  {
   "cell_type": "code",
   "execution_count": null,
   "id": "34a8c84f",
   "metadata": {},
   "outputs": [],
   "source": []
  },
  {
   "cell_type": "markdown",
   "id": "a1f950c8",
   "metadata": {},
   "source": [
    "# Q2 .Develop a MultiLinear Regression based model (see Tutorial 8) where electronegativity is X1 and density is X2 and Young’s modulus is Y .\n"
   ]
  },
  {
   "cell_type": "code",
   "execution_count": null,
   "id": "b151ce5a",
   "metadata": {},
   "outputs": [],
   "source": []
  },
  {
   "cell_type": "code",
   "execution_count": 272,
   "id": "2ae0d08e",
   "metadata": {},
   "outputs": [],
   "source": [
    "X1 =  df['en_ghosh'].values"
   ]
  },
  {
   "cell_type": "code",
   "execution_count": 279,
   "id": "2f27dc03",
   "metadata": {},
   "outputs": [],
   "source": [
    "X2 = df['density_of_solid'].values"
   ]
  },
  {
   "cell_type": "code",
   "execution_count": 280,
   "id": "234ad3c7",
   "metadata": {},
   "outputs": [],
   "source": [
    "X_comb= np.array([X1, X2]).reshape(-1,2)"
   ]
  },
  {
   "cell_type": "code",
   "execution_count": 281,
   "id": "00c9a0b2",
   "metadata": {},
   "outputs": [
    {
     "data": {
      "text/plain": [
       "(43, 2)"
      ]
     },
     "execution_count": 281,
     "metadata": {},
     "output_type": "execute_result"
    }
   ],
   "source": [
    "X_comb.shape"
   ]
  },
  {
   "cell_type": "code",
   "execution_count": 282,
   "id": "e223bbff",
   "metadata": {},
   "outputs": [],
   "source": [
    "y_young_M= df['youngs_modulus'].values"
   ]
  },
  {
   "cell_type": "code",
   "execution_count": 283,
   "id": "9f43234d",
   "metadata": {},
   "outputs": [],
   "source": [
    "class Multiple_LR:\n",
    "    \n",
    "    def __init__(self):\n",
    "        self.coef_ = None\n",
    "        self.intercept_ = None\n",
    "        \n",
    "    def fit(self,X_train,y_train):\n",
    "        X_train = np.insert(X_train,0,1,axis=1)\n",
    "        \n",
    "        # calcuate the coeffs\n",
    "        betas = np.linalg.inv(np.dot(X_train.T,X_train)).dot(X_train.T).dot(y_train)\n",
    "        self.intercept_ = betas[0]\n",
    "        self.coef_ = betas[1:]\n",
    "    \n",
    "    def predict(self,X_test):\n",
    "        y_pred = np.dot(X_test,self.coef_) + self.intercept_\n",
    "        return y_pred"
   ]
  },
  {
   "cell_type": "code",
   "execution_count": 284,
   "id": "d8aae6c6",
   "metadata": {},
   "outputs": [],
   "source": [
    "mlr=  Multiple_LR()"
   ]
  },
  {
   "cell_type": "code",
   "execution_count": 288,
   "id": "ab1379d8",
   "metadata": {},
   "outputs": [],
   "source": [
    "mlr.fit(X_comb,y_young_M)"
   ]
  },
  {
   "cell_type": "code",
   "execution_count": 289,
   "id": "f59354bd",
   "metadata": {},
   "outputs": [],
   "source": [
    "y_pred_mlr = mlr.predict(X_comb)"
   ]
  },
  {
   "cell_type": "code",
   "execution_count": 290,
   "id": "491c9348",
   "metadata": {},
   "outputs": [
    {
     "data": {
      "text/plain": [
       "array([-0.00493918,  0.00408519])"
      ]
     },
     "execution_count": 290,
     "metadata": {},
     "output_type": "execute_result"
    }
   ],
   "source": [
    "mlr.coef_"
   ]
  },
  {
   "cell_type": "code",
   "execution_count": 291,
   "id": "bbe56bc8",
   "metadata": {},
   "outputs": [
    {
     "data": {
      "text/plain": [
       "135.69887081010828"
      ]
     },
     "execution_count": 291,
     "metadata": {},
     "output_type": "execute_result"
    }
   ],
   "source": [
    "mlr.intercept_"
   ]
  },
  {
   "cell_type": "code",
   "execution_count": 295,
   "id": "c80a7ed5",
   "metadata": {},
   "outputs": [
    {
     "data": {
      "text/html": [
       "<div>\n",
       "<style scoped>\n",
       "    .dataframe tbody tr th:only-of-type {\n",
       "        vertical-align: middle;\n",
       "    }\n",
       "\n",
       "    .dataframe tbody tr th {\n",
       "        vertical-align: top;\n",
       "    }\n",
       "\n",
       "    .dataframe thead th {\n",
       "        text-align: right;\n",
       "    }\n",
       "</style>\n",
       "<table border=\"1\" class=\"dataframe\">\n",
       "  <thead>\n",
       "    <tr style=\"text-align: right;\">\n",
       "      <th></th>\n",
       "      <th>atomic_number</th>\n",
       "      <th>atomic_volume</th>\n",
       "      <th>boiling_point</th>\n",
       "      <th>en_ghosh</th>\n",
       "      <th>evaporation_heat</th>\n",
       "      <th>heat_of_formation</th>\n",
       "      <th>lattice_constant</th>\n",
       "      <th>specific_heat</th>\n",
       "      <th>atomic_mass</th>\n",
       "      <th>atomic_radius</th>\n",
       "      <th>electrical_resistivity</th>\n",
       "      <th>molar_volume</th>\n",
       "      <th>bulk_modulus</th>\n",
       "      <th>youngs_modulus</th>\n",
       "      <th>average_ionic_radius</th>\n",
       "      <th>density_of_solid</th>\n",
       "      <th>coefficient_of_linear_thermal_expansion</th>\n",
       "    </tr>\n",
       "  </thead>\n",
       "  <tbody>\n",
       "    <tr>\n",
       "      <th>0</th>\n",
       "      <td>47</td>\n",
       "      <td>10.30</td>\n",
       "      <td>2485.0</td>\n",
       "      <td>0.147217</td>\n",
       "      <td>254.1</td>\n",
       "      <td>284.9</td>\n",
       "      <td>4.09</td>\n",
       "      <td>0.237</td>\n",
       "      <td>107.868200</td>\n",
       "      <td>1.60</td>\n",
       "      <td>1.630000e-08</td>\n",
       "      <td>10.27</td>\n",
       "      <td>100.0</td>\n",
       "      <td>83.0</td>\n",
       "      <td>1.086667</td>\n",
       "      <td>10490.0</td>\n",
       "      <td>0.000019</td>\n",
       "    </tr>\n",
       "    <tr>\n",
       "      <th>1</th>\n",
       "      <td>13</td>\n",
       "      <td>10.00</td>\n",
       "      <td>2740.0</td>\n",
       "      <td>0.150078</td>\n",
       "      <td>284.1</td>\n",
       "      <td>330.9</td>\n",
       "      <td>4.05</td>\n",
       "      <td>0.900</td>\n",
       "      <td>26.981539</td>\n",
       "      <td>1.25</td>\n",
       "      <td>2.700000e-08</td>\n",
       "      <td>10.00</td>\n",
       "      <td>76.0</td>\n",
       "      <td>70.0</td>\n",
       "      <td>0.675000</td>\n",
       "      <td>2700.0</td>\n",
       "      <td>0.000023</td>\n",
       "    </tr>\n",
       "    <tr>\n",
       "      <th>2</th>\n",
       "      <td>79</td>\n",
       "      <td>10.20</td>\n",
       "      <td>3080.0</td>\n",
       "      <td>0.261370</td>\n",
       "      <td>340.0</td>\n",
       "      <td>368.2</td>\n",
       "      <td>4.08</td>\n",
       "      <td>0.129</td>\n",
       "      <td>196.966569</td>\n",
       "      <td>1.35</td>\n",
       "      <td>2.200000e-08</td>\n",
       "      <td>10.21</td>\n",
       "      <td>220.0</td>\n",
       "      <td>78.0</td>\n",
       "      <td>1.070000</td>\n",
       "      <td>19300.0</td>\n",
       "      <td>0.000014</td>\n",
       "    </tr>\n",
       "    <tr>\n",
       "      <th>3</th>\n",
       "      <td>29</td>\n",
       "      <td>7.10</td>\n",
       "      <td>2840.0</td>\n",
       "      <td>0.151172</td>\n",
       "      <td>304.6</td>\n",
       "      <td>337.4</td>\n",
       "      <td>3.61</td>\n",
       "      <td>0.385</td>\n",
       "      <td>63.546000</td>\n",
       "      <td>1.35</td>\n",
       "      <td>1.720000e-08</td>\n",
       "      <td>7.11</td>\n",
       "      <td>140.0</td>\n",
       "      <td>130.0</td>\n",
       "      <td>0.820000</td>\n",
       "      <td>8920.0</td>\n",
       "      <td>0.000017</td>\n",
       "    </tr>\n",
       "    <tr>\n",
       "      <th>4</th>\n",
       "      <td>77</td>\n",
       "      <td>8.54</td>\n",
       "      <td>4403.0</td>\n",
       "      <td>0.251060</td>\n",
       "      <td>604.0</td>\n",
       "      <td>669.0</td>\n",
       "      <td>3.84</td>\n",
       "      <td>0.133</td>\n",
       "      <td>192.217000</td>\n",
       "      <td>1.35</td>\n",
       "      <td>4.700000e-08</td>\n",
       "      <td>8.52</td>\n",
       "      <td>320.0</td>\n",
       "      <td>528.0</td>\n",
       "      <td>0.765000</td>\n",
       "      <td>22650.0</td>\n",
       "      <td>0.000006</td>\n",
       "    </tr>\n",
       "  </tbody>\n",
       "</table>\n",
       "</div>"
      ],
      "text/plain": [
       "   atomic_number  atomic_volume  boiling_point  en_ghosh  evaporation_heat  \\\n",
       "0             47          10.30         2485.0  0.147217             254.1   \n",
       "1             13          10.00         2740.0  0.150078             284.1   \n",
       "2             79          10.20         3080.0  0.261370             340.0   \n",
       "3             29           7.10         2840.0  0.151172             304.6   \n",
       "4             77           8.54         4403.0  0.251060             604.0   \n",
       "\n",
       "   heat_of_formation  lattice_constant  specific_heat  atomic_mass  \\\n",
       "0              284.9              4.09          0.237   107.868200   \n",
       "1              330.9              4.05          0.900    26.981539   \n",
       "2              368.2              4.08          0.129   196.966569   \n",
       "3              337.4              3.61          0.385    63.546000   \n",
       "4              669.0              3.84          0.133   192.217000   \n",
       "\n",
       "   atomic_radius  electrical_resistivity  molar_volume  bulk_modulus  \\\n",
       "0           1.60            1.630000e-08         10.27         100.0   \n",
       "1           1.25            2.700000e-08         10.00          76.0   \n",
       "2           1.35            2.200000e-08         10.21         220.0   \n",
       "3           1.35            1.720000e-08          7.11         140.0   \n",
       "4           1.35            4.700000e-08          8.52         320.0   \n",
       "\n",
       "   youngs_modulus  average_ionic_radius  density_of_solid  \\\n",
       "0            83.0              1.086667           10490.0   \n",
       "1            70.0              0.675000            2700.0   \n",
       "2            78.0              1.070000           19300.0   \n",
       "3           130.0              0.820000            8920.0   \n",
       "4           528.0              0.765000           22650.0   \n",
       "\n",
       "   coefficient_of_linear_thermal_expansion  \n",
       "0                                 0.000019  \n",
       "1                                 0.000023  \n",
       "2                                 0.000014  \n",
       "3                                 0.000017  \n",
       "4                                 0.000006  "
      ]
     },
     "execution_count": 295,
     "metadata": {},
     "output_type": "execute_result"
    }
   ],
   "source": [
    "df.head()"
   ]
  },
  {
   "cell_type": "code",
   "execution_count": 292,
   "id": "2989b3a7",
   "metadata": {},
   "outputs": [],
   "source": [
    "import plotly.express as px\n",
    "import plotly.graph_objects as go\n",
    "\n",
    "from sklearn.metrics import mean_absolute_error,mean_squared_error,r2_score"
   ]
  },
  {
   "cell_type": "code",
   "execution_count": 296,
   "id": "735bfdae",
   "metadata": {},
   "outputs": [
    {
     "data": {
      "application/vnd.plotly.v1+json": {
       "config": {
        "plotlyServerURL": "https://plot.ly"
       },
       "data": [
        {
         "hovertemplate": "en_ghosh=%{x}<br>density_of_solid=%{y}<br>youngs_modulus=%{z}<extra></extra>",
         "legendgroup": "",
         "marker": {
          "color": "#636efa",
          "symbol": "circle"
         },
         "mode": "markers",
         "name": "",
         "scene": "scene",
         "showlegend": false,
         "type": "scatter3d",
         "x": [
          0.1472165,
          0.150078,
          0.26137,
          0.1511716,
          0.25106,
          0.1472068,
          0.1779109999999999,
          0.1440276,
          0.2569099999999999,
          0.1408379,
          0.10277,
          0.22119,
          0.1586786,
          0.1313052999999999,
          0.189935,
          0.1392532,
          0.105093,
          0.1352844,
          0.1312672,
          0.093214,
          0.1280782,
          0.2345809999999999,
          0.1273344,
          0.2390504,
          0.144986,
          0.1154119,
          0.1504066,
          0.1432362999999999,
          0.2033299999999999,
          0.212261,
          0.1944,
          0.229987,
          0.2077949999999999,
          0.22565,
          0.121644,
          0.2435163999999999,
          0.1193833,
          0.198863,
          0.1233636999999999,
          0.173447,
          0.2167244,
          0.1216986,
          0.1551517999999999
         ],
         "y": [
          10490,
          2700,
          19300,
          8920,
          22650,
          8908,
          11340,
          12023,
          21090,
          12450,
          11724,
          6570,
          3510,
          7140,
          5244,
          7874,
          535,
          7470,
          10280,
          968,
          8570,
          16650,
          6110,
          19250,
          1848,
          1550,
          8650,
          8900,
          8551,
          9066,
          7901,
          13310,
          8795,
          9841,
          1738,
          21020,
          2985,
          8219,
          4507,
          11850,
          9321,
          4472,
          7140
         ],
         "z": [
          83,
          70,
          78,
          130,
          528,
          200,
          16,
          121,
          168,
          275,
          79,
          24,
          13,
          279,
          18,
          211,
          4.9,
          198,
          329,
          10,
          105,
          186,
          128,
          411,
          287,
          20,
          50,
          209,
          61,
          70,
          55,
          78,
          65,
          69,
          45,
          463,
          74,
          56,
          116,
          8,
          74,
          64,
          108
         ]
        }
       ],
       "layout": {
        "legend": {
         "tracegroupgap": 0
        },
        "margin": {
         "t": 60
        },
        "scene": {
         "domain": {
          "x": [
           0,
           1
          ],
          "y": [
           0,
           1
          ]
         },
         "xaxis": {
          "title": {
           "text": "en_ghosh"
          }
         },
         "yaxis": {
          "title": {
           "text": "density_of_solid"
          }
         },
         "zaxis": {
          "title": {
           "text": "youngs_modulus"
          }
         }
        },
        "template": {
         "data": {
          "bar": [
           {
            "error_x": {
             "color": "#2a3f5f"
            },
            "error_y": {
             "color": "#2a3f5f"
            },
            "marker": {
             "line": {
              "color": "#E5ECF6",
              "width": 0.5
             },
             "pattern": {
              "fillmode": "overlay",
              "size": 10,
              "solidity": 0.2
             }
            },
            "type": "bar"
           }
          ],
          "barpolar": [
           {
            "marker": {
             "line": {
              "color": "#E5ECF6",
              "width": 0.5
             },
             "pattern": {
              "fillmode": "overlay",
              "size": 10,
              "solidity": 0.2
             }
            },
            "type": "barpolar"
           }
          ],
          "carpet": [
           {
            "aaxis": {
             "endlinecolor": "#2a3f5f",
             "gridcolor": "white",
             "linecolor": "white",
             "minorgridcolor": "white",
             "startlinecolor": "#2a3f5f"
            },
            "baxis": {
             "endlinecolor": "#2a3f5f",
             "gridcolor": "white",
             "linecolor": "white",
             "minorgridcolor": "white",
             "startlinecolor": "#2a3f5f"
            },
            "type": "carpet"
           }
          ],
          "choropleth": [
           {
            "colorbar": {
             "outlinewidth": 0,
             "ticks": ""
            },
            "type": "choropleth"
           }
          ],
          "contour": [
           {
            "colorbar": {
             "outlinewidth": 0,
             "ticks": ""
            },
            "colorscale": [
             [
              0,
              "#0d0887"
             ],
             [
              0.1111111111111111,
              "#46039f"
             ],
             [
              0.2222222222222222,
              "#7201a8"
             ],
             [
              0.3333333333333333,
              "#9c179e"
             ],
             [
              0.4444444444444444,
              "#bd3786"
             ],
             [
              0.5555555555555556,
              "#d8576b"
             ],
             [
              0.6666666666666666,
              "#ed7953"
             ],
             [
              0.7777777777777778,
              "#fb9f3a"
             ],
             [
              0.8888888888888888,
              "#fdca26"
             ],
             [
              1,
              "#f0f921"
             ]
            ],
            "type": "contour"
           }
          ],
          "contourcarpet": [
           {
            "colorbar": {
             "outlinewidth": 0,
             "ticks": ""
            },
            "type": "contourcarpet"
           }
          ],
          "heatmap": [
           {
            "colorbar": {
             "outlinewidth": 0,
             "ticks": ""
            },
            "colorscale": [
             [
              0,
              "#0d0887"
             ],
             [
              0.1111111111111111,
              "#46039f"
             ],
             [
              0.2222222222222222,
              "#7201a8"
             ],
             [
              0.3333333333333333,
              "#9c179e"
             ],
             [
              0.4444444444444444,
              "#bd3786"
             ],
             [
              0.5555555555555556,
              "#d8576b"
             ],
             [
              0.6666666666666666,
              "#ed7953"
             ],
             [
              0.7777777777777778,
              "#fb9f3a"
             ],
             [
              0.8888888888888888,
              "#fdca26"
             ],
             [
              1,
              "#f0f921"
             ]
            ],
            "type": "heatmap"
           }
          ],
          "heatmapgl": [
           {
            "colorbar": {
             "outlinewidth": 0,
             "ticks": ""
            },
            "colorscale": [
             [
              0,
              "#0d0887"
             ],
             [
              0.1111111111111111,
              "#46039f"
             ],
             [
              0.2222222222222222,
              "#7201a8"
             ],
             [
              0.3333333333333333,
              "#9c179e"
             ],
             [
              0.4444444444444444,
              "#bd3786"
             ],
             [
              0.5555555555555556,
              "#d8576b"
             ],
             [
              0.6666666666666666,
              "#ed7953"
             ],
             [
              0.7777777777777778,
              "#fb9f3a"
             ],
             [
              0.8888888888888888,
              "#fdca26"
             ],
             [
              1,
              "#f0f921"
             ]
            ],
            "type": "heatmapgl"
           }
          ],
          "histogram": [
           {
            "marker": {
             "pattern": {
              "fillmode": "overlay",
              "size": 10,
              "solidity": 0.2
             }
            },
            "type": "histogram"
           }
          ],
          "histogram2d": [
           {
            "colorbar": {
             "outlinewidth": 0,
             "ticks": ""
            },
            "colorscale": [
             [
              0,
              "#0d0887"
             ],
             [
              0.1111111111111111,
              "#46039f"
             ],
             [
              0.2222222222222222,
              "#7201a8"
             ],
             [
              0.3333333333333333,
              "#9c179e"
             ],
             [
              0.4444444444444444,
              "#bd3786"
             ],
             [
              0.5555555555555556,
              "#d8576b"
             ],
             [
              0.6666666666666666,
              "#ed7953"
             ],
             [
              0.7777777777777778,
              "#fb9f3a"
             ],
             [
              0.8888888888888888,
              "#fdca26"
             ],
             [
              1,
              "#f0f921"
             ]
            ],
            "type": "histogram2d"
           }
          ],
          "histogram2dcontour": [
           {
            "colorbar": {
             "outlinewidth": 0,
             "ticks": ""
            },
            "colorscale": [
             [
              0,
              "#0d0887"
             ],
             [
              0.1111111111111111,
              "#46039f"
             ],
             [
              0.2222222222222222,
              "#7201a8"
             ],
             [
              0.3333333333333333,
              "#9c179e"
             ],
             [
              0.4444444444444444,
              "#bd3786"
             ],
             [
              0.5555555555555556,
              "#d8576b"
             ],
             [
              0.6666666666666666,
              "#ed7953"
             ],
             [
              0.7777777777777778,
              "#fb9f3a"
             ],
             [
              0.8888888888888888,
              "#fdca26"
             ],
             [
              1,
              "#f0f921"
             ]
            ],
            "type": "histogram2dcontour"
           }
          ],
          "mesh3d": [
           {
            "colorbar": {
             "outlinewidth": 0,
             "ticks": ""
            },
            "type": "mesh3d"
           }
          ],
          "parcoords": [
           {
            "line": {
             "colorbar": {
              "outlinewidth": 0,
              "ticks": ""
             }
            },
            "type": "parcoords"
           }
          ],
          "pie": [
           {
            "automargin": true,
            "type": "pie"
           }
          ],
          "scatter": [
           {
            "marker": {
             "colorbar": {
              "outlinewidth": 0,
              "ticks": ""
             }
            },
            "type": "scatter"
           }
          ],
          "scatter3d": [
           {
            "line": {
             "colorbar": {
              "outlinewidth": 0,
              "ticks": ""
             }
            },
            "marker": {
             "colorbar": {
              "outlinewidth": 0,
              "ticks": ""
             }
            },
            "type": "scatter3d"
           }
          ],
          "scattercarpet": [
           {
            "marker": {
             "colorbar": {
              "outlinewidth": 0,
              "ticks": ""
             }
            },
            "type": "scattercarpet"
           }
          ],
          "scattergeo": [
           {
            "marker": {
             "colorbar": {
              "outlinewidth": 0,
              "ticks": ""
             }
            },
            "type": "scattergeo"
           }
          ],
          "scattergl": [
           {
            "marker": {
             "colorbar": {
              "outlinewidth": 0,
              "ticks": ""
             }
            },
            "type": "scattergl"
           }
          ],
          "scattermapbox": [
           {
            "marker": {
             "colorbar": {
              "outlinewidth": 0,
              "ticks": ""
             }
            },
            "type": "scattermapbox"
           }
          ],
          "scatterpolar": [
           {
            "marker": {
             "colorbar": {
              "outlinewidth": 0,
              "ticks": ""
             }
            },
            "type": "scatterpolar"
           }
          ],
          "scatterpolargl": [
           {
            "marker": {
             "colorbar": {
              "outlinewidth": 0,
              "ticks": ""
             }
            },
            "type": "scatterpolargl"
           }
          ],
          "scatterternary": [
           {
            "marker": {
             "colorbar": {
              "outlinewidth": 0,
              "ticks": ""
             }
            },
            "type": "scatterternary"
           }
          ],
          "surface": [
           {
            "colorbar": {
             "outlinewidth": 0,
             "ticks": ""
            },
            "colorscale": [
             [
              0,
              "#0d0887"
             ],
             [
              0.1111111111111111,
              "#46039f"
             ],
             [
              0.2222222222222222,
              "#7201a8"
             ],
             [
              0.3333333333333333,
              "#9c179e"
             ],
             [
              0.4444444444444444,
              "#bd3786"
             ],
             [
              0.5555555555555556,
              "#d8576b"
             ],
             [
              0.6666666666666666,
              "#ed7953"
             ],
             [
              0.7777777777777778,
              "#fb9f3a"
             ],
             [
              0.8888888888888888,
              "#fdca26"
             ],
             [
              1,
              "#f0f921"
             ]
            ],
            "type": "surface"
           }
          ],
          "table": [
           {
            "cells": {
             "fill": {
              "color": "#EBF0F8"
             },
             "line": {
              "color": "white"
             }
            },
            "header": {
             "fill": {
              "color": "#C8D4E3"
             },
             "line": {
              "color": "white"
             }
            },
            "type": "table"
           }
          ]
         },
         "layout": {
          "annotationdefaults": {
           "arrowcolor": "#2a3f5f",
           "arrowhead": 0,
           "arrowwidth": 1
          },
          "autotypenumbers": "strict",
          "coloraxis": {
           "colorbar": {
            "outlinewidth": 0,
            "ticks": ""
           }
          },
          "colorscale": {
           "diverging": [
            [
             0,
             "#8e0152"
            ],
            [
             0.1,
             "#c51b7d"
            ],
            [
             0.2,
             "#de77ae"
            ],
            [
             0.3,
             "#f1b6da"
            ],
            [
             0.4,
             "#fde0ef"
            ],
            [
             0.5,
             "#f7f7f7"
            ],
            [
             0.6,
             "#e6f5d0"
            ],
            [
             0.7,
             "#b8e186"
            ],
            [
             0.8,
             "#7fbc41"
            ],
            [
             0.9,
             "#4d9221"
            ],
            [
             1,
             "#276419"
            ]
           ],
           "sequential": [
            [
             0,
             "#0d0887"
            ],
            [
             0.1111111111111111,
             "#46039f"
            ],
            [
             0.2222222222222222,
             "#7201a8"
            ],
            [
             0.3333333333333333,
             "#9c179e"
            ],
            [
             0.4444444444444444,
             "#bd3786"
            ],
            [
             0.5555555555555556,
             "#d8576b"
            ],
            [
             0.6666666666666666,
             "#ed7953"
            ],
            [
             0.7777777777777778,
             "#fb9f3a"
            ],
            [
             0.8888888888888888,
             "#fdca26"
            ],
            [
             1,
             "#f0f921"
            ]
           ],
           "sequentialminus": [
            [
             0,
             "#0d0887"
            ],
            [
             0.1111111111111111,
             "#46039f"
            ],
            [
             0.2222222222222222,
             "#7201a8"
            ],
            [
             0.3333333333333333,
             "#9c179e"
            ],
            [
             0.4444444444444444,
             "#bd3786"
            ],
            [
             0.5555555555555556,
             "#d8576b"
            ],
            [
             0.6666666666666666,
             "#ed7953"
            ],
            [
             0.7777777777777778,
             "#fb9f3a"
            ],
            [
             0.8888888888888888,
             "#fdca26"
            ],
            [
             1,
             "#f0f921"
            ]
           ]
          },
          "colorway": [
           "#636efa",
           "#EF553B",
           "#00cc96",
           "#ab63fa",
           "#FFA15A",
           "#19d3f3",
           "#FF6692",
           "#B6E880",
           "#FF97FF",
           "#FECB52"
          ],
          "font": {
           "color": "#2a3f5f"
          },
          "geo": {
           "bgcolor": "white",
           "lakecolor": "white",
           "landcolor": "#E5ECF6",
           "showlakes": true,
           "showland": true,
           "subunitcolor": "white"
          },
          "hoverlabel": {
           "align": "left"
          },
          "hovermode": "closest",
          "mapbox": {
           "style": "light"
          },
          "paper_bgcolor": "white",
          "plot_bgcolor": "#E5ECF6",
          "polar": {
           "angularaxis": {
            "gridcolor": "white",
            "linecolor": "white",
            "ticks": ""
           },
           "bgcolor": "#E5ECF6",
           "radialaxis": {
            "gridcolor": "white",
            "linecolor": "white",
            "ticks": ""
           }
          },
          "scene": {
           "xaxis": {
            "backgroundcolor": "#E5ECF6",
            "gridcolor": "white",
            "gridwidth": 2,
            "linecolor": "white",
            "showbackground": true,
            "ticks": "",
            "zerolinecolor": "white"
           },
           "yaxis": {
            "backgroundcolor": "#E5ECF6",
            "gridcolor": "white",
            "gridwidth": 2,
            "linecolor": "white",
            "showbackground": true,
            "ticks": "",
            "zerolinecolor": "white"
           },
           "zaxis": {
            "backgroundcolor": "#E5ECF6",
            "gridcolor": "white",
            "gridwidth": 2,
            "linecolor": "white",
            "showbackground": true,
            "ticks": "",
            "zerolinecolor": "white"
           }
          },
          "shapedefaults": {
           "line": {
            "color": "#2a3f5f"
           }
          },
          "ternary": {
           "aaxis": {
            "gridcolor": "white",
            "linecolor": "white",
            "ticks": ""
           },
           "baxis": {
            "gridcolor": "white",
            "linecolor": "white",
            "ticks": ""
           },
           "bgcolor": "#E5ECF6",
           "caxis": {
            "gridcolor": "white",
            "linecolor": "white",
            "ticks": ""
           }
          },
          "title": {
           "x": 0.05
          },
          "xaxis": {
           "automargin": true,
           "gridcolor": "white",
           "linecolor": "white",
           "ticks": "",
           "title": {
            "standoff": 15
           },
           "zerolinecolor": "white",
           "zerolinewidth": 2
          },
          "yaxis": {
           "automargin": true,
           "gridcolor": "white",
           "linecolor": "white",
           "ticks": "",
           "title": {
            "standoff": 15
           },
           "zerolinecolor": "white",
           "zerolinewidth": 2
          }
         }
        }
       }
      },
      "text/html": [
       "<div>                            <div id=\"e1cbd7e7-a155-4e76-bbb3-56a3e7c87c56\" class=\"plotly-graph-div\" style=\"height:525px; width:100%;\"></div>            <script type=\"text/javascript\">                require([\"plotly\"], function(Plotly) {                    window.PLOTLYENV=window.PLOTLYENV || {};                                    if (document.getElementById(\"e1cbd7e7-a155-4e76-bbb3-56a3e7c87c56\")) {                    Plotly.newPlot(                        \"e1cbd7e7-a155-4e76-bbb3-56a3e7c87c56\",                        [{\"hovertemplate\":\"en_ghosh=%{x}<br>density_of_solid=%{y}<br>youngs_modulus=%{z}<extra></extra>\",\"legendgroup\":\"\",\"marker\":{\"color\":\"#636efa\",\"symbol\":\"circle\"},\"mode\":\"markers\",\"name\":\"\",\"scene\":\"scene\",\"showlegend\":false,\"x\":[0.1472165,0.150078,0.26137,0.1511716,0.25106,0.1472068,0.1779109999999999,0.1440276,0.2569099999999999,0.1408379,0.10277,0.22119,0.1586786,0.1313052999999999,0.189935,0.1392532,0.105093,0.1352844,0.1312672,0.093214,0.1280782,0.2345809999999999,0.1273344,0.2390504,0.144986,0.1154119,0.1504066,0.1432362999999999,0.2033299999999999,0.212261,0.1944,0.229987,0.2077949999999999,0.22565,0.121644,0.2435163999999999,0.1193833,0.198863,0.1233636999999999,0.173447,0.2167244,0.1216986,0.1551517999999999],\"y\":[10490.0,2700.0,19300.0,8920.0,22650.0,8908.0,11340.0,12023.0,21090.0,12450.0,11724.0,6570.0,3510.0,7140.0,5244.0,7874.0,535.0,7470.0,10280.0,968.0,8570.0,16650.0,6110.0,19250.0,1848.0,1550.0,8650.0,8900.0,8551.0,9066.0,7901.0,13310.0,8795.0,9841.0,1738.0,21020.0,2985.0,8219.0,4507.0,11850.0,9321.0,4472.0,7140.0],\"z\":[83.0,70.0,78.0,130.0,528.0,200.0,16.0,121.0,168.0,275.0,79.0,24.0,13.0,279.0,18.0,211.0,4.9,198.0,329.0,10.0,105.0,186.0,128.0,411.0,287.0,20.0,50.0,209.0,61.0,70.0,55.0,78.0,65.0,69.0,45.0,463.0,74.0,56.0,116.0,8.0,74.0,64.0,108.0],\"type\":\"scatter3d\"}],                        {\"template\":{\"data\":{\"bar\":[{\"error_x\":{\"color\":\"#2a3f5f\"},\"error_y\":{\"color\":\"#2a3f5f\"},\"marker\":{\"line\":{\"color\":\"#E5ECF6\",\"width\":0.5},\"pattern\":{\"fillmode\":\"overlay\",\"size\":10,\"solidity\":0.2}},\"type\":\"bar\"}],\"barpolar\":[{\"marker\":{\"line\":{\"color\":\"#E5ECF6\",\"width\":0.5},\"pattern\":{\"fillmode\":\"overlay\",\"size\":10,\"solidity\":0.2}},\"type\":\"barpolar\"}],\"carpet\":[{\"aaxis\":{\"endlinecolor\":\"#2a3f5f\",\"gridcolor\":\"white\",\"linecolor\":\"white\",\"minorgridcolor\":\"white\",\"startlinecolor\":\"#2a3f5f\"},\"baxis\":{\"endlinecolor\":\"#2a3f5f\",\"gridcolor\":\"white\",\"linecolor\":\"white\",\"minorgridcolor\":\"white\",\"startlinecolor\":\"#2a3f5f\"},\"type\":\"carpet\"}],\"choropleth\":[{\"colorbar\":{\"outlinewidth\":0,\"ticks\":\"\"},\"type\":\"choropleth\"}],\"contour\":[{\"colorbar\":{\"outlinewidth\":0,\"ticks\":\"\"},\"colorscale\":[[0.0,\"#0d0887\"],[0.1111111111111111,\"#46039f\"],[0.2222222222222222,\"#7201a8\"],[0.3333333333333333,\"#9c179e\"],[0.4444444444444444,\"#bd3786\"],[0.5555555555555556,\"#d8576b\"],[0.6666666666666666,\"#ed7953\"],[0.7777777777777778,\"#fb9f3a\"],[0.8888888888888888,\"#fdca26\"],[1.0,\"#f0f921\"]],\"type\":\"contour\"}],\"contourcarpet\":[{\"colorbar\":{\"outlinewidth\":0,\"ticks\":\"\"},\"type\":\"contourcarpet\"}],\"heatmap\":[{\"colorbar\":{\"outlinewidth\":0,\"ticks\":\"\"},\"colorscale\":[[0.0,\"#0d0887\"],[0.1111111111111111,\"#46039f\"],[0.2222222222222222,\"#7201a8\"],[0.3333333333333333,\"#9c179e\"],[0.4444444444444444,\"#bd3786\"],[0.5555555555555556,\"#d8576b\"],[0.6666666666666666,\"#ed7953\"],[0.7777777777777778,\"#fb9f3a\"],[0.8888888888888888,\"#fdca26\"],[1.0,\"#f0f921\"]],\"type\":\"heatmap\"}],\"heatmapgl\":[{\"colorbar\":{\"outlinewidth\":0,\"ticks\":\"\"},\"colorscale\":[[0.0,\"#0d0887\"],[0.1111111111111111,\"#46039f\"],[0.2222222222222222,\"#7201a8\"],[0.3333333333333333,\"#9c179e\"],[0.4444444444444444,\"#bd3786\"],[0.5555555555555556,\"#d8576b\"],[0.6666666666666666,\"#ed7953\"],[0.7777777777777778,\"#fb9f3a\"],[0.8888888888888888,\"#fdca26\"],[1.0,\"#f0f921\"]],\"type\":\"heatmapgl\"}],\"histogram\":[{\"marker\":{\"pattern\":{\"fillmode\":\"overlay\",\"size\":10,\"solidity\":0.2}},\"type\":\"histogram\"}],\"histogram2d\":[{\"colorbar\":{\"outlinewidth\":0,\"ticks\":\"\"},\"colorscale\":[[0.0,\"#0d0887\"],[0.1111111111111111,\"#46039f\"],[0.2222222222222222,\"#7201a8\"],[0.3333333333333333,\"#9c179e\"],[0.4444444444444444,\"#bd3786\"],[0.5555555555555556,\"#d8576b\"],[0.6666666666666666,\"#ed7953\"],[0.7777777777777778,\"#fb9f3a\"],[0.8888888888888888,\"#fdca26\"],[1.0,\"#f0f921\"]],\"type\":\"histogram2d\"}],\"histogram2dcontour\":[{\"colorbar\":{\"outlinewidth\":0,\"ticks\":\"\"},\"colorscale\":[[0.0,\"#0d0887\"],[0.1111111111111111,\"#46039f\"],[0.2222222222222222,\"#7201a8\"],[0.3333333333333333,\"#9c179e\"],[0.4444444444444444,\"#bd3786\"],[0.5555555555555556,\"#d8576b\"],[0.6666666666666666,\"#ed7953\"],[0.7777777777777778,\"#fb9f3a\"],[0.8888888888888888,\"#fdca26\"],[1.0,\"#f0f921\"]],\"type\":\"histogram2dcontour\"}],\"mesh3d\":[{\"colorbar\":{\"outlinewidth\":0,\"ticks\":\"\"},\"type\":\"mesh3d\"}],\"parcoords\":[{\"line\":{\"colorbar\":{\"outlinewidth\":0,\"ticks\":\"\"}},\"type\":\"parcoords\"}],\"pie\":[{\"automargin\":true,\"type\":\"pie\"}],\"scatter\":[{\"marker\":{\"colorbar\":{\"outlinewidth\":0,\"ticks\":\"\"}},\"type\":\"scatter\"}],\"scatter3d\":[{\"line\":{\"colorbar\":{\"outlinewidth\":0,\"ticks\":\"\"}},\"marker\":{\"colorbar\":{\"outlinewidth\":0,\"ticks\":\"\"}},\"type\":\"scatter3d\"}],\"scattercarpet\":[{\"marker\":{\"colorbar\":{\"outlinewidth\":0,\"ticks\":\"\"}},\"type\":\"scattercarpet\"}],\"scattergeo\":[{\"marker\":{\"colorbar\":{\"outlinewidth\":0,\"ticks\":\"\"}},\"type\":\"scattergeo\"}],\"scattergl\":[{\"marker\":{\"colorbar\":{\"outlinewidth\":0,\"ticks\":\"\"}},\"type\":\"scattergl\"}],\"scattermapbox\":[{\"marker\":{\"colorbar\":{\"outlinewidth\":0,\"ticks\":\"\"}},\"type\":\"scattermapbox\"}],\"scatterpolar\":[{\"marker\":{\"colorbar\":{\"outlinewidth\":0,\"ticks\":\"\"}},\"type\":\"scatterpolar\"}],\"scatterpolargl\":[{\"marker\":{\"colorbar\":{\"outlinewidth\":0,\"ticks\":\"\"}},\"type\":\"scatterpolargl\"}],\"scatterternary\":[{\"marker\":{\"colorbar\":{\"outlinewidth\":0,\"ticks\":\"\"}},\"type\":\"scatterternary\"}],\"surface\":[{\"colorbar\":{\"outlinewidth\":0,\"ticks\":\"\"},\"colorscale\":[[0.0,\"#0d0887\"],[0.1111111111111111,\"#46039f\"],[0.2222222222222222,\"#7201a8\"],[0.3333333333333333,\"#9c179e\"],[0.4444444444444444,\"#bd3786\"],[0.5555555555555556,\"#d8576b\"],[0.6666666666666666,\"#ed7953\"],[0.7777777777777778,\"#fb9f3a\"],[0.8888888888888888,\"#fdca26\"],[1.0,\"#f0f921\"]],\"type\":\"surface\"}],\"table\":[{\"cells\":{\"fill\":{\"color\":\"#EBF0F8\"},\"line\":{\"color\":\"white\"}},\"header\":{\"fill\":{\"color\":\"#C8D4E3\"},\"line\":{\"color\":\"white\"}},\"type\":\"table\"}]},\"layout\":{\"annotationdefaults\":{\"arrowcolor\":\"#2a3f5f\",\"arrowhead\":0,\"arrowwidth\":1},\"autotypenumbers\":\"strict\",\"coloraxis\":{\"colorbar\":{\"outlinewidth\":0,\"ticks\":\"\"}},\"colorscale\":{\"diverging\":[[0,\"#8e0152\"],[0.1,\"#c51b7d\"],[0.2,\"#de77ae\"],[0.3,\"#f1b6da\"],[0.4,\"#fde0ef\"],[0.5,\"#f7f7f7\"],[0.6,\"#e6f5d0\"],[0.7,\"#b8e186\"],[0.8,\"#7fbc41\"],[0.9,\"#4d9221\"],[1,\"#276419\"]],\"sequential\":[[0.0,\"#0d0887\"],[0.1111111111111111,\"#46039f\"],[0.2222222222222222,\"#7201a8\"],[0.3333333333333333,\"#9c179e\"],[0.4444444444444444,\"#bd3786\"],[0.5555555555555556,\"#d8576b\"],[0.6666666666666666,\"#ed7953\"],[0.7777777777777778,\"#fb9f3a\"],[0.8888888888888888,\"#fdca26\"],[1.0,\"#f0f921\"]],\"sequentialminus\":[[0.0,\"#0d0887\"],[0.1111111111111111,\"#46039f\"],[0.2222222222222222,\"#7201a8\"],[0.3333333333333333,\"#9c179e\"],[0.4444444444444444,\"#bd3786\"],[0.5555555555555556,\"#d8576b\"],[0.6666666666666666,\"#ed7953\"],[0.7777777777777778,\"#fb9f3a\"],[0.8888888888888888,\"#fdca26\"],[1.0,\"#f0f921\"]]},\"colorway\":[\"#636efa\",\"#EF553B\",\"#00cc96\",\"#ab63fa\",\"#FFA15A\",\"#19d3f3\",\"#FF6692\",\"#B6E880\",\"#FF97FF\",\"#FECB52\"],\"font\":{\"color\":\"#2a3f5f\"},\"geo\":{\"bgcolor\":\"white\",\"lakecolor\":\"white\",\"landcolor\":\"#E5ECF6\",\"showlakes\":true,\"showland\":true,\"subunitcolor\":\"white\"},\"hoverlabel\":{\"align\":\"left\"},\"hovermode\":\"closest\",\"mapbox\":{\"style\":\"light\"},\"paper_bgcolor\":\"white\",\"plot_bgcolor\":\"#E5ECF6\",\"polar\":{\"angularaxis\":{\"gridcolor\":\"white\",\"linecolor\":\"white\",\"ticks\":\"\"},\"bgcolor\":\"#E5ECF6\",\"radialaxis\":{\"gridcolor\":\"white\",\"linecolor\":\"white\",\"ticks\":\"\"}},\"scene\":{\"xaxis\":{\"backgroundcolor\":\"#E5ECF6\",\"gridcolor\":\"white\",\"gridwidth\":2,\"linecolor\":\"white\",\"showbackground\":true,\"ticks\":\"\",\"zerolinecolor\":\"white\"},\"yaxis\":{\"backgroundcolor\":\"#E5ECF6\",\"gridcolor\":\"white\",\"gridwidth\":2,\"linecolor\":\"white\",\"showbackground\":true,\"ticks\":\"\",\"zerolinecolor\":\"white\"},\"zaxis\":{\"backgroundcolor\":\"#E5ECF6\",\"gridcolor\":\"white\",\"gridwidth\":2,\"linecolor\":\"white\",\"showbackground\":true,\"ticks\":\"\",\"zerolinecolor\":\"white\"}},\"shapedefaults\":{\"line\":{\"color\":\"#2a3f5f\"}},\"ternary\":{\"aaxis\":{\"gridcolor\":\"white\",\"linecolor\":\"white\",\"ticks\":\"\"},\"baxis\":{\"gridcolor\":\"white\",\"linecolor\":\"white\",\"ticks\":\"\"},\"bgcolor\":\"#E5ECF6\",\"caxis\":{\"gridcolor\":\"white\",\"linecolor\":\"white\",\"ticks\":\"\"}},\"title\":{\"x\":0.05},\"xaxis\":{\"automargin\":true,\"gridcolor\":\"white\",\"linecolor\":\"white\",\"ticks\":\"\",\"title\":{\"standoff\":15},\"zerolinecolor\":\"white\",\"zerolinewidth\":2},\"yaxis\":{\"automargin\":true,\"gridcolor\":\"white\",\"linecolor\":\"white\",\"ticks\":\"\",\"title\":{\"standoff\":15},\"zerolinecolor\":\"white\",\"zerolinewidth\":2}}},\"scene\":{\"domain\":{\"x\":[0.0,1.0],\"y\":[0.0,1.0]},\"xaxis\":{\"title\":{\"text\":\"en_ghosh\"}},\"yaxis\":{\"title\":{\"text\":\"density_of_solid\"}},\"zaxis\":{\"title\":{\"text\":\"youngs_modulus\"}}},\"legend\":{\"tracegroupgap\":0},\"margin\":{\"t\":60}},                        {\"responsive\": true}                    ).then(function(){\n",
       "                            \n",
       "var gd = document.getElementById('e1cbd7e7-a155-4e76-bbb3-56a3e7c87c56');\n",
       "var x = new MutationObserver(function (mutations, observer) {{\n",
       "        var display = window.getComputedStyle(gd).display;\n",
       "        if (!display || display === 'none') {{\n",
       "            console.log([gd, 'removed!']);\n",
       "            Plotly.purge(gd);\n",
       "            observer.disconnect();\n",
       "        }}\n",
       "}});\n",
       "\n",
       "// Listen for the removal of the full notebook cells\n",
       "var notebookContainer = gd.closest('#notebook-container');\n",
       "if (notebookContainer) {{\n",
       "    x.observe(notebookContainer, {childList: true});\n",
       "}}\n",
       "\n",
       "// Listen for the clearing of the current output cell\n",
       "var outputEl = gd.closest('.output');\n",
       "if (outputEl) {{\n",
       "    x.observe(outputEl, {childList: true});\n",
       "}}\n",
       "\n",
       "                        })                };                });            </script>        </div>"
      ]
     },
     "metadata": {},
     "output_type": "display_data"
    }
   ],
   "source": [
    "fig = px.scatter_3d(df, x='en_ghosh', y='density_of_solid', z='youngs_modulus')\n",
    "\n",
    "fig.show()"
   ]
  },
  {
   "cell_type": "code",
   "execution_count": 297,
   "id": "4a468fa7",
   "metadata": {},
   "outputs": [
    {
     "data": {
      "application/vnd.plotly.v1+json": {
       "config": {
        "plotlyServerURL": "https://plot.ly"
       },
       "data": [
        {
         "hovertemplate": "en_ghosh=%{x}<br>density_of_solid=%{y}<br>youngs_modulus=%{z}<extra></extra>",
         "legendgroup": "",
         "marker": {
          "color": "#636efa",
          "symbol": "circle"
         },
         "mode": "markers",
         "name": "",
         "scene": "scene",
         "showlegend": false,
         "type": "scatter3d",
         "x": [
          0.1472165,
          0.150078,
          0.26137,
          0.1511716,
          0.25106,
          0.1472068,
          0.1779109999999999,
          0.1440276,
          0.2569099999999999,
          0.1408379,
          0.10277,
          0.22119,
          0.1586786,
          0.1313052999999999,
          0.189935,
          0.1392532,
          0.105093,
          0.1352844,
          0.1312672,
          0.093214,
          0.1280782,
          0.2345809999999999,
          0.1273344,
          0.2390504,
          0.144986,
          0.1154119,
          0.1504066,
          0.1432362999999999,
          0.2033299999999999,
          0.212261,
          0.1944,
          0.229987,
          0.2077949999999999,
          0.22565,
          0.121644,
          0.2435163999999999,
          0.1193833,
          0.198863,
          0.1233636999999999,
          0.173447,
          0.2167244,
          0.1216986,
          0.1551517999999999
         ],
         "y": [
          10490,
          2700,
          19300,
          8920,
          22650,
          8908,
          11340,
          12023,
          21090,
          12450,
          11724,
          6570,
          3510,
          7140,
          5244,
          7874,
          535,
          7470,
          10280,
          968,
          8570,
          16650,
          6110,
          19250,
          1848,
          1550,
          8650,
          8900,
          8551,
          9066,
          7901,
          13310,
          8795,
          9841,
          1738,
          21020,
          2985,
          8219,
          4507,
          11850,
          9321,
          4472,
          7140
         ],
         "z": [
          83,
          70,
          78,
          130,
          528,
          200,
          16,
          121,
          168,
          275,
          79,
          24,
          13,
          279,
          18,
          211,
          4.9,
          198,
          329,
          10,
          105,
          186,
          128,
          411,
          287,
          20,
          50,
          209,
          61,
          70,
          55,
          78,
          65,
          69,
          45,
          463,
          74,
          56,
          116,
          8,
          74,
          64,
          108
         ]
        },
        {
         "opacity": 0.5,
         "type": "surface",
         "x": [
          [
           0.093214,
           0.111898,
           0.130582,
           0.149266,
           0.16795,
           0.18663399999999997,
           0.205318,
           0.22400199999999998,
           0.24268599999999996,
           0.26137
          ],
          [
           0.093214,
           0.111898,
           0.130582,
           0.149266,
           0.16795,
           0.18663399999999997,
           0.205318,
           0.22400199999999998,
           0.24268599999999996,
           0.26137
          ],
          [
           0.093214,
           0.111898,
           0.130582,
           0.149266,
           0.16795,
           0.18663399999999997,
           0.205318,
           0.22400199999999998,
           0.24268599999999996,
           0.26137
          ],
          [
           0.093214,
           0.111898,
           0.130582,
           0.149266,
           0.16795,
           0.18663399999999997,
           0.205318,
           0.22400199999999998,
           0.24268599999999996,
           0.26137
          ],
          [
           0.093214,
           0.111898,
           0.130582,
           0.149266,
           0.16795,
           0.18663399999999997,
           0.205318,
           0.22400199999999998,
           0.24268599999999996,
           0.26137
          ],
          [
           0.093214,
           0.111898,
           0.130582,
           0.149266,
           0.16795,
           0.18663399999999997,
           0.205318,
           0.22400199999999998,
           0.24268599999999996,
           0.26137
          ],
          [
           0.093214,
           0.111898,
           0.130582,
           0.149266,
           0.16795,
           0.18663399999999997,
           0.205318,
           0.22400199999999998,
           0.24268599999999996,
           0.26137
          ],
          [
           0.093214,
           0.111898,
           0.130582,
           0.149266,
           0.16795,
           0.18663399999999997,
           0.205318,
           0.22400199999999998,
           0.24268599999999996,
           0.26137
          ],
          [
           0.093214,
           0.111898,
           0.130582,
           0.149266,
           0.16795,
           0.18663399999999997,
           0.205318,
           0.22400199999999998,
           0.24268599999999996,
           0.26137
          ],
          [
           0.093214,
           0.111898,
           0.130582,
           0.149266,
           0.16795,
           0.18663399999999997,
           0.205318,
           0.22400199999999998,
           0.24268599999999996,
           0.26137
          ]
         ],
         "y": [
          [
           535,
           535,
           535,
           535,
           535,
           535,
           535,
           535,
           535,
           535
          ],
          [
           2992.222222222222,
           2992.222222222222,
           2992.222222222222,
           2992.222222222222,
           2992.222222222222,
           2992.222222222222,
           2992.222222222222,
           2992.222222222222,
           2992.222222222222,
           2992.222222222222
          ],
          [
           5449.444444444444,
           5449.444444444444,
           5449.444444444444,
           5449.444444444444,
           5449.444444444444,
           5449.444444444444,
           5449.444444444444,
           5449.444444444444,
           5449.444444444444,
           5449.444444444444
          ],
          [
           7906.666666666666,
           7906.666666666666,
           7906.666666666666,
           7906.666666666666,
           7906.666666666666,
           7906.666666666666,
           7906.666666666666,
           7906.666666666666,
           7906.666666666666,
           7906.666666666666
          ],
          [
           10363.888888888889,
           10363.888888888889,
           10363.888888888889,
           10363.888888888889,
           10363.888888888889,
           10363.888888888889,
           10363.888888888889,
           10363.888888888889,
           10363.888888888889,
           10363.888888888889
          ],
          [
           12821.111111111111,
           12821.111111111111,
           12821.111111111111,
           12821.111111111111,
           12821.111111111111,
           12821.111111111111,
           12821.111111111111,
           12821.111111111111,
           12821.111111111111,
           12821.111111111111
          ],
          [
           15278.333333333332,
           15278.333333333332,
           15278.333333333332,
           15278.333333333332,
           15278.333333333332,
           15278.333333333332,
           15278.333333333332,
           15278.333333333332,
           15278.333333333332,
           15278.333333333332
          ],
          [
           17735.555555555555,
           17735.555555555555,
           17735.555555555555,
           17735.555555555555,
           17735.555555555555,
           17735.555555555555,
           17735.555555555555,
           17735.555555555555,
           17735.555555555555,
           17735.555555555555
          ],
          [
           20192.777777777777,
           20192.777777777777,
           20192.777777777777,
           20192.777777777777,
           20192.777777777777,
           20192.777777777777,
           20192.777777777777,
           20192.777777777777,
           20192.777777777777,
           20192.777777777777
          ],
          [
           22650,
           22650,
           22650,
           22650,
           22650,
           22650,
           22650,
           22650,
           22650,
           22650
          ]
         ],
         "z": [
          [
           137.8839849041602,
           137.88389262044575,
           137.88380033673133,
           137.8837080530169,
           137.88361576930248,
           137.88352348558806,
           137.88343120187363,
           137.8833389181592,
           137.8832466344448,
           137.88315435073036
          ],
          [
           147.92219465707592,
           147.9221023733615,
           147.92201008964707,
           147.92191780593265,
           147.92182552221823,
           147.9217332385038,
           147.92164095478938,
           147.92154867107496,
           147.92145638736054,
           147.9213641036461
          ],
          [
           157.96040440999167,
           157.96031212627724,
           157.96021984256282,
           157.9601275588484,
           157.96003527513398,
           157.95994299141952,
           157.9598507077051,
           157.95975842399068,
           157.95966614027625,
           157.95957385656183
          ],
          [
           167.9986141629074,
           167.99852187919296,
           167.99842959547854,
           167.99833731176412,
           167.9982450280497,
           167.99815274433527,
           167.99806046062085,
           167.99796817690643,
           167.997875893192,
           167.99778360947758
          ],
          [
           178.03682391582313,
           178.0367316321087,
           178.0366393483943,
           178.03654706467987,
           178.03645478096544,
           178.03636249725102,
           178.03627021353657,
           178.03617792982214,
           178.03608564610772,
           178.0359933623933
          ],
          [
           188.07503366873888,
           188.07494138502446,
           188.07484910131,
           188.07475681759558,
           188.07466453388116,
           188.07457225016674,
           188.07447996645232,
           188.0743876827379,
           188.07429539902347,
           188.07420311530905
          ],
          [
           198.1132434216546,
           198.11315113794018,
           198.11305885422576,
           198.11296657051133,
           198.1128742867969,
           198.1127820030825,
           198.11268971936806,
           198.11259743565364,
           198.11250515193922,
           198.1124128682248
          ],
          [
           208.15145317457035,
           208.15136089085593,
           208.1512686071415,
           208.15117632342708,
           208.15108403971266,
           208.15099175599823,
           208.1508994722838,
           208.1508071885694,
           208.15071490485496,
           208.15062262114054
          ],
          [
           218.1896629274861,
           218.18957064377167,
           218.18947836005725,
           218.18938607634283,
           218.18929379262838,
           218.18920150891395,
           218.18910922519953,
           218.1890169414851,
           218.18892465777068,
           218.18883237405626
          ],
          [
           228.22787268040182,
           228.2277803966874,
           228.22768811297297,
           228.22759582925855,
           228.2275035455441,
           228.22741126182967,
           228.22731897811525,
           228.22722669440083,
           228.2271344106864,
           228.22704212697198
          ]
         ]
        }
       ],
       "layout": {
        "legend": {
         "tracegroupgap": 0
        },
        "margin": {
         "t": 60
        },
        "scene": {
         "domain": {
          "x": [
           0,
           1
          ],
          "y": [
           0,
           1
          ]
         },
         "xaxis": {
          "title": {
           "text": "Electronegativity"
          }
         },
         "yaxis": {
          "title": {
           "text": "Density"
          }
         },
         "zaxis": {
          "title": {
           "text": "Youngs Modulus"
          }
         }
        },
        "template": {
         "data": {
          "bar": [
           {
            "error_x": {
             "color": "#2a3f5f"
            },
            "error_y": {
             "color": "#2a3f5f"
            },
            "marker": {
             "line": {
              "color": "#E5ECF6",
              "width": 0.5
             },
             "pattern": {
              "fillmode": "overlay",
              "size": 10,
              "solidity": 0.2
             }
            },
            "type": "bar"
           }
          ],
          "barpolar": [
           {
            "marker": {
             "line": {
              "color": "#E5ECF6",
              "width": 0.5
             },
             "pattern": {
              "fillmode": "overlay",
              "size": 10,
              "solidity": 0.2
             }
            },
            "type": "barpolar"
           }
          ],
          "carpet": [
           {
            "aaxis": {
             "endlinecolor": "#2a3f5f",
             "gridcolor": "white",
             "linecolor": "white",
             "minorgridcolor": "white",
             "startlinecolor": "#2a3f5f"
            },
            "baxis": {
             "endlinecolor": "#2a3f5f",
             "gridcolor": "white",
             "linecolor": "white",
             "minorgridcolor": "white",
             "startlinecolor": "#2a3f5f"
            },
            "type": "carpet"
           }
          ],
          "choropleth": [
           {
            "colorbar": {
             "outlinewidth": 0,
             "ticks": ""
            },
            "type": "choropleth"
           }
          ],
          "contour": [
           {
            "colorbar": {
             "outlinewidth": 0,
             "ticks": ""
            },
            "colorscale": [
             [
              0,
              "#0d0887"
             ],
             [
              0.1111111111111111,
              "#46039f"
             ],
             [
              0.2222222222222222,
              "#7201a8"
             ],
             [
              0.3333333333333333,
              "#9c179e"
             ],
             [
              0.4444444444444444,
              "#bd3786"
             ],
             [
              0.5555555555555556,
              "#d8576b"
             ],
             [
              0.6666666666666666,
              "#ed7953"
             ],
             [
              0.7777777777777778,
              "#fb9f3a"
             ],
             [
              0.8888888888888888,
              "#fdca26"
             ],
             [
              1,
              "#f0f921"
             ]
            ],
            "type": "contour"
           }
          ],
          "contourcarpet": [
           {
            "colorbar": {
             "outlinewidth": 0,
             "ticks": ""
            },
            "type": "contourcarpet"
           }
          ],
          "heatmap": [
           {
            "colorbar": {
             "outlinewidth": 0,
             "ticks": ""
            },
            "colorscale": [
             [
              0,
              "#0d0887"
             ],
             [
              0.1111111111111111,
              "#46039f"
             ],
             [
              0.2222222222222222,
              "#7201a8"
             ],
             [
              0.3333333333333333,
              "#9c179e"
             ],
             [
              0.4444444444444444,
              "#bd3786"
             ],
             [
              0.5555555555555556,
              "#d8576b"
             ],
             [
              0.6666666666666666,
              "#ed7953"
             ],
             [
              0.7777777777777778,
              "#fb9f3a"
             ],
             [
              0.8888888888888888,
              "#fdca26"
             ],
             [
              1,
              "#f0f921"
             ]
            ],
            "type": "heatmap"
           }
          ],
          "heatmapgl": [
           {
            "colorbar": {
             "outlinewidth": 0,
             "ticks": ""
            },
            "colorscale": [
             [
              0,
              "#0d0887"
             ],
             [
              0.1111111111111111,
              "#46039f"
             ],
             [
              0.2222222222222222,
              "#7201a8"
             ],
             [
              0.3333333333333333,
              "#9c179e"
             ],
             [
              0.4444444444444444,
              "#bd3786"
             ],
             [
              0.5555555555555556,
              "#d8576b"
             ],
             [
              0.6666666666666666,
              "#ed7953"
             ],
             [
              0.7777777777777778,
              "#fb9f3a"
             ],
             [
              0.8888888888888888,
              "#fdca26"
             ],
             [
              1,
              "#f0f921"
             ]
            ],
            "type": "heatmapgl"
           }
          ],
          "histogram": [
           {
            "marker": {
             "pattern": {
              "fillmode": "overlay",
              "size": 10,
              "solidity": 0.2
             }
            },
            "type": "histogram"
           }
          ],
          "histogram2d": [
           {
            "colorbar": {
             "outlinewidth": 0,
             "ticks": ""
            },
            "colorscale": [
             [
              0,
              "#0d0887"
             ],
             [
              0.1111111111111111,
              "#46039f"
             ],
             [
              0.2222222222222222,
              "#7201a8"
             ],
             [
              0.3333333333333333,
              "#9c179e"
             ],
             [
              0.4444444444444444,
              "#bd3786"
             ],
             [
              0.5555555555555556,
              "#d8576b"
             ],
             [
              0.6666666666666666,
              "#ed7953"
             ],
             [
              0.7777777777777778,
              "#fb9f3a"
             ],
             [
              0.8888888888888888,
              "#fdca26"
             ],
             [
              1,
              "#f0f921"
             ]
            ],
            "type": "histogram2d"
           }
          ],
          "histogram2dcontour": [
           {
            "colorbar": {
             "outlinewidth": 0,
             "ticks": ""
            },
            "colorscale": [
             [
              0,
              "#0d0887"
             ],
             [
              0.1111111111111111,
              "#46039f"
             ],
             [
              0.2222222222222222,
              "#7201a8"
             ],
             [
              0.3333333333333333,
              "#9c179e"
             ],
             [
              0.4444444444444444,
              "#bd3786"
             ],
             [
              0.5555555555555556,
              "#d8576b"
             ],
             [
              0.6666666666666666,
              "#ed7953"
             ],
             [
              0.7777777777777778,
              "#fb9f3a"
             ],
             [
              0.8888888888888888,
              "#fdca26"
             ],
             [
              1,
              "#f0f921"
             ]
            ],
            "type": "histogram2dcontour"
           }
          ],
          "mesh3d": [
           {
            "colorbar": {
             "outlinewidth": 0,
             "ticks": ""
            },
            "type": "mesh3d"
           }
          ],
          "parcoords": [
           {
            "line": {
             "colorbar": {
              "outlinewidth": 0,
              "ticks": ""
             }
            },
            "type": "parcoords"
           }
          ],
          "pie": [
           {
            "automargin": true,
            "type": "pie"
           }
          ],
          "scatter": [
           {
            "marker": {
             "colorbar": {
              "outlinewidth": 0,
              "ticks": ""
             }
            },
            "type": "scatter"
           }
          ],
          "scatter3d": [
           {
            "line": {
             "colorbar": {
              "outlinewidth": 0,
              "ticks": ""
             }
            },
            "marker": {
             "colorbar": {
              "outlinewidth": 0,
              "ticks": ""
             }
            },
            "type": "scatter3d"
           }
          ],
          "scattercarpet": [
           {
            "marker": {
             "colorbar": {
              "outlinewidth": 0,
              "ticks": ""
             }
            },
            "type": "scattercarpet"
           }
          ],
          "scattergeo": [
           {
            "marker": {
             "colorbar": {
              "outlinewidth": 0,
              "ticks": ""
             }
            },
            "type": "scattergeo"
           }
          ],
          "scattergl": [
           {
            "marker": {
             "colorbar": {
              "outlinewidth": 0,
              "ticks": ""
             }
            },
            "type": "scattergl"
           }
          ],
          "scattermapbox": [
           {
            "marker": {
             "colorbar": {
              "outlinewidth": 0,
              "ticks": ""
             }
            },
            "type": "scattermapbox"
           }
          ],
          "scatterpolar": [
           {
            "marker": {
             "colorbar": {
              "outlinewidth": 0,
              "ticks": ""
             }
            },
            "type": "scatterpolar"
           }
          ],
          "scatterpolargl": [
           {
            "marker": {
             "colorbar": {
              "outlinewidth": 0,
              "ticks": ""
             }
            },
            "type": "scatterpolargl"
           }
          ],
          "scatterternary": [
           {
            "marker": {
             "colorbar": {
              "outlinewidth": 0,
              "ticks": ""
             }
            },
            "type": "scatterternary"
           }
          ],
          "surface": [
           {
            "colorbar": {
             "outlinewidth": 0,
             "ticks": ""
            },
            "colorscale": [
             [
              0,
              "#0d0887"
             ],
             [
              0.1111111111111111,
              "#46039f"
             ],
             [
              0.2222222222222222,
              "#7201a8"
             ],
             [
              0.3333333333333333,
              "#9c179e"
             ],
             [
              0.4444444444444444,
              "#bd3786"
             ],
             [
              0.5555555555555556,
              "#d8576b"
             ],
             [
              0.6666666666666666,
              "#ed7953"
             ],
             [
              0.7777777777777778,
              "#fb9f3a"
             ],
             [
              0.8888888888888888,
              "#fdca26"
             ],
             [
              1,
              "#f0f921"
             ]
            ],
            "type": "surface"
           }
          ],
          "table": [
           {
            "cells": {
             "fill": {
              "color": "#EBF0F8"
             },
             "line": {
              "color": "white"
             }
            },
            "header": {
             "fill": {
              "color": "#C8D4E3"
             },
             "line": {
              "color": "white"
             }
            },
            "type": "table"
           }
          ]
         },
         "layout": {
          "annotationdefaults": {
           "arrowcolor": "#2a3f5f",
           "arrowhead": 0,
           "arrowwidth": 1
          },
          "autotypenumbers": "strict",
          "coloraxis": {
           "colorbar": {
            "outlinewidth": 0,
            "ticks": ""
           }
          },
          "colorscale": {
           "diverging": [
            [
             0,
             "#8e0152"
            ],
            [
             0.1,
             "#c51b7d"
            ],
            [
             0.2,
             "#de77ae"
            ],
            [
             0.3,
             "#f1b6da"
            ],
            [
             0.4,
             "#fde0ef"
            ],
            [
             0.5,
             "#f7f7f7"
            ],
            [
             0.6,
             "#e6f5d0"
            ],
            [
             0.7,
             "#b8e186"
            ],
            [
             0.8,
             "#7fbc41"
            ],
            [
             0.9,
             "#4d9221"
            ],
            [
             1,
             "#276419"
            ]
           ],
           "sequential": [
            [
             0,
             "#0d0887"
            ],
            [
             0.1111111111111111,
             "#46039f"
            ],
            [
             0.2222222222222222,
             "#7201a8"
            ],
            [
             0.3333333333333333,
             "#9c179e"
            ],
            [
             0.4444444444444444,
             "#bd3786"
            ],
            [
             0.5555555555555556,
             "#d8576b"
            ],
            [
             0.6666666666666666,
             "#ed7953"
            ],
            [
             0.7777777777777778,
             "#fb9f3a"
            ],
            [
             0.8888888888888888,
             "#fdca26"
            ],
            [
             1,
             "#f0f921"
            ]
           ],
           "sequentialminus": [
            [
             0,
             "#0d0887"
            ],
            [
             0.1111111111111111,
             "#46039f"
            ],
            [
             0.2222222222222222,
             "#7201a8"
            ],
            [
             0.3333333333333333,
             "#9c179e"
            ],
            [
             0.4444444444444444,
             "#bd3786"
            ],
            [
             0.5555555555555556,
             "#d8576b"
            ],
            [
             0.6666666666666666,
             "#ed7953"
            ],
            [
             0.7777777777777778,
             "#fb9f3a"
            ],
            [
             0.8888888888888888,
             "#fdca26"
            ],
            [
             1,
             "#f0f921"
            ]
           ]
          },
          "colorway": [
           "#636efa",
           "#EF553B",
           "#00cc96",
           "#ab63fa",
           "#FFA15A",
           "#19d3f3",
           "#FF6692",
           "#B6E880",
           "#FF97FF",
           "#FECB52"
          ],
          "font": {
           "color": "#2a3f5f"
          },
          "geo": {
           "bgcolor": "white",
           "lakecolor": "white",
           "landcolor": "#E5ECF6",
           "showlakes": true,
           "showland": true,
           "subunitcolor": "white"
          },
          "hoverlabel": {
           "align": "left"
          },
          "hovermode": "closest",
          "mapbox": {
           "style": "light"
          },
          "paper_bgcolor": "white",
          "plot_bgcolor": "#E5ECF6",
          "polar": {
           "angularaxis": {
            "gridcolor": "white",
            "linecolor": "white",
            "ticks": ""
           },
           "bgcolor": "#E5ECF6",
           "radialaxis": {
            "gridcolor": "white",
            "linecolor": "white",
            "ticks": ""
           }
          },
          "scene": {
           "xaxis": {
            "backgroundcolor": "#E5ECF6",
            "gridcolor": "white",
            "gridwidth": 2,
            "linecolor": "white",
            "showbackground": true,
            "ticks": "",
            "zerolinecolor": "white"
           },
           "yaxis": {
            "backgroundcolor": "#E5ECF6",
            "gridcolor": "white",
            "gridwidth": 2,
            "linecolor": "white",
            "showbackground": true,
            "ticks": "",
            "zerolinecolor": "white"
           },
           "zaxis": {
            "backgroundcolor": "#E5ECF6",
            "gridcolor": "white",
            "gridwidth": 2,
            "linecolor": "white",
            "showbackground": true,
            "ticks": "",
            "zerolinecolor": "white"
           }
          },
          "shapedefaults": {
           "line": {
            "color": "#2a3f5f"
           }
          },
          "ternary": {
           "aaxis": {
            "gridcolor": "white",
            "linecolor": "white",
            "ticks": ""
           },
           "baxis": {
            "gridcolor": "white",
            "linecolor": "white",
            "ticks": ""
           },
           "bgcolor": "#E5ECF6",
           "caxis": {
            "gridcolor": "white",
            "linecolor": "white",
            "ticks": ""
           }
          },
          "title": {
           "x": 0.05
          },
          "xaxis": {
           "automargin": true,
           "gridcolor": "white",
           "linecolor": "white",
           "ticks": "",
           "title": {
            "standoff": 15
           },
           "zerolinecolor": "white",
           "zerolinewidth": 2
          },
          "yaxis": {
           "automargin": true,
           "gridcolor": "white",
           "linecolor": "white",
           "ticks": "",
           "title": {
            "standoff": 15
           },
           "zerolinecolor": "white",
           "zerolinewidth": 2
          }
         }
        }
       }
      },
      "text/html": [
       "<div>                            <div id=\"fc701447-514b-4b58-ad9b-f06090872b95\" class=\"plotly-graph-div\" style=\"height:525px; width:100%;\"></div>            <script type=\"text/javascript\">                require([\"plotly\"], function(Plotly) {                    window.PLOTLYENV=window.PLOTLYENV || {};                                    if (document.getElementById(\"fc701447-514b-4b58-ad9b-f06090872b95\")) {                    Plotly.newPlot(                        \"fc701447-514b-4b58-ad9b-f06090872b95\",                        [{\"hovertemplate\":\"en_ghosh=%{x}<br>density_of_solid=%{y}<br>youngs_modulus=%{z}<extra></extra>\",\"legendgroup\":\"\",\"marker\":{\"color\":\"#636efa\",\"symbol\":\"circle\"},\"mode\":\"markers\",\"name\":\"\",\"scene\":\"scene\",\"showlegend\":false,\"x\":[0.1472165,0.150078,0.26137,0.1511716,0.25106,0.1472068,0.1779109999999999,0.1440276,0.2569099999999999,0.1408379,0.10277,0.22119,0.1586786,0.1313052999999999,0.189935,0.1392532,0.105093,0.1352844,0.1312672,0.093214,0.1280782,0.2345809999999999,0.1273344,0.2390504,0.144986,0.1154119,0.1504066,0.1432362999999999,0.2033299999999999,0.212261,0.1944,0.229987,0.2077949999999999,0.22565,0.121644,0.2435163999999999,0.1193833,0.198863,0.1233636999999999,0.173447,0.2167244,0.1216986,0.1551517999999999],\"y\":[10490.0,2700.0,19300.0,8920.0,22650.0,8908.0,11340.0,12023.0,21090.0,12450.0,11724.0,6570.0,3510.0,7140.0,5244.0,7874.0,535.0,7470.0,10280.0,968.0,8570.0,16650.0,6110.0,19250.0,1848.0,1550.0,8650.0,8900.0,8551.0,9066.0,7901.0,13310.0,8795.0,9841.0,1738.0,21020.0,2985.0,8219.0,4507.0,11850.0,9321.0,4472.0,7140.0],\"z\":[83.0,70.0,78.0,130.0,528.0,200.0,16.0,121.0,168.0,275.0,79.0,24.0,13.0,279.0,18.0,211.0,4.9,198.0,329.0,10.0,105.0,186.0,128.0,411.0,287.0,20.0,50.0,209.0,61.0,70.0,55.0,78.0,65.0,69.0,45.0,463.0,74.0,56.0,116.0,8.0,74.0,64.0,108.0],\"type\":\"scatter3d\"},{\"opacity\":0.5,\"x\":[[0.093214,0.111898,0.130582,0.149266,0.16795,0.18663399999999997,0.205318,0.22400199999999998,0.24268599999999996,0.26137],[0.093214,0.111898,0.130582,0.149266,0.16795,0.18663399999999997,0.205318,0.22400199999999998,0.24268599999999996,0.26137],[0.093214,0.111898,0.130582,0.149266,0.16795,0.18663399999999997,0.205318,0.22400199999999998,0.24268599999999996,0.26137],[0.093214,0.111898,0.130582,0.149266,0.16795,0.18663399999999997,0.205318,0.22400199999999998,0.24268599999999996,0.26137],[0.093214,0.111898,0.130582,0.149266,0.16795,0.18663399999999997,0.205318,0.22400199999999998,0.24268599999999996,0.26137],[0.093214,0.111898,0.130582,0.149266,0.16795,0.18663399999999997,0.205318,0.22400199999999998,0.24268599999999996,0.26137],[0.093214,0.111898,0.130582,0.149266,0.16795,0.18663399999999997,0.205318,0.22400199999999998,0.24268599999999996,0.26137],[0.093214,0.111898,0.130582,0.149266,0.16795,0.18663399999999997,0.205318,0.22400199999999998,0.24268599999999996,0.26137],[0.093214,0.111898,0.130582,0.149266,0.16795,0.18663399999999997,0.205318,0.22400199999999998,0.24268599999999996,0.26137],[0.093214,0.111898,0.130582,0.149266,0.16795,0.18663399999999997,0.205318,0.22400199999999998,0.24268599999999996,0.26137]],\"y\":[[535.0,535.0,535.0,535.0,535.0,535.0,535.0,535.0,535.0,535.0],[2992.222222222222,2992.222222222222,2992.222222222222,2992.222222222222,2992.222222222222,2992.222222222222,2992.222222222222,2992.222222222222,2992.222222222222,2992.222222222222],[5449.444444444444,5449.444444444444,5449.444444444444,5449.444444444444,5449.444444444444,5449.444444444444,5449.444444444444,5449.444444444444,5449.444444444444,5449.444444444444],[7906.666666666666,7906.666666666666,7906.666666666666,7906.666666666666,7906.666666666666,7906.666666666666,7906.666666666666,7906.666666666666,7906.666666666666,7906.666666666666],[10363.888888888889,10363.888888888889,10363.888888888889,10363.888888888889,10363.888888888889,10363.888888888889,10363.888888888889,10363.888888888889,10363.888888888889,10363.888888888889],[12821.111111111111,12821.111111111111,12821.111111111111,12821.111111111111,12821.111111111111,12821.111111111111,12821.111111111111,12821.111111111111,12821.111111111111,12821.111111111111],[15278.333333333332,15278.333333333332,15278.333333333332,15278.333333333332,15278.333333333332,15278.333333333332,15278.333333333332,15278.333333333332,15278.333333333332,15278.333333333332],[17735.555555555555,17735.555555555555,17735.555555555555,17735.555555555555,17735.555555555555,17735.555555555555,17735.555555555555,17735.555555555555,17735.555555555555,17735.555555555555],[20192.777777777777,20192.777777777777,20192.777777777777,20192.777777777777,20192.777777777777,20192.777777777777,20192.777777777777,20192.777777777777,20192.777777777777,20192.777777777777],[22650.0,22650.0,22650.0,22650.0,22650.0,22650.0,22650.0,22650.0,22650.0,22650.0]],\"z\":[[137.8839849041602,137.88389262044575,137.88380033673133,137.8837080530169,137.88361576930248,137.88352348558806,137.88343120187363,137.8833389181592,137.8832466344448,137.88315435073036],[147.92219465707592,147.9221023733615,147.92201008964707,147.92191780593265,147.92182552221823,147.9217332385038,147.92164095478938,147.92154867107496,147.92145638736054,147.9213641036461],[157.96040440999167,157.96031212627724,157.96021984256282,157.9601275588484,157.96003527513398,157.95994299141952,157.9598507077051,157.95975842399068,157.95966614027625,157.95957385656183],[167.9986141629074,167.99852187919296,167.99842959547854,167.99833731176412,167.9982450280497,167.99815274433527,167.99806046062085,167.99796817690643,167.997875893192,167.99778360947758],[178.03682391582313,178.0367316321087,178.0366393483943,178.03654706467987,178.03645478096544,178.03636249725102,178.03627021353657,178.03617792982214,178.03608564610772,178.0359933623933],[188.07503366873888,188.07494138502446,188.07484910131,188.07475681759558,188.07466453388116,188.07457225016674,188.07447996645232,188.0743876827379,188.07429539902347,188.07420311530905],[198.1132434216546,198.11315113794018,198.11305885422576,198.11296657051133,198.1128742867969,198.1127820030825,198.11268971936806,198.11259743565364,198.11250515193922,198.1124128682248],[208.15145317457035,208.15136089085593,208.1512686071415,208.15117632342708,208.15108403971266,208.15099175599823,208.1508994722838,208.1508071885694,208.15071490485496,208.15062262114054],[218.1896629274861,218.18957064377167,218.18947836005725,218.18938607634283,218.18929379262838,218.18920150891395,218.18910922519953,218.1890169414851,218.18892465777068,218.18883237405626],[228.22787268040182,228.2277803966874,228.22768811297297,228.22759582925855,228.2275035455441,228.22741126182967,228.22731897811525,228.22722669440083,228.2271344106864,228.22704212697198]],\"type\":\"surface\"}],                        {\"template\":{\"data\":{\"bar\":[{\"error_x\":{\"color\":\"#2a3f5f\"},\"error_y\":{\"color\":\"#2a3f5f\"},\"marker\":{\"line\":{\"color\":\"#E5ECF6\",\"width\":0.5},\"pattern\":{\"fillmode\":\"overlay\",\"size\":10,\"solidity\":0.2}},\"type\":\"bar\"}],\"barpolar\":[{\"marker\":{\"line\":{\"color\":\"#E5ECF6\",\"width\":0.5},\"pattern\":{\"fillmode\":\"overlay\",\"size\":10,\"solidity\":0.2}},\"type\":\"barpolar\"}],\"carpet\":[{\"aaxis\":{\"endlinecolor\":\"#2a3f5f\",\"gridcolor\":\"white\",\"linecolor\":\"white\",\"minorgridcolor\":\"white\",\"startlinecolor\":\"#2a3f5f\"},\"baxis\":{\"endlinecolor\":\"#2a3f5f\",\"gridcolor\":\"white\",\"linecolor\":\"white\",\"minorgridcolor\":\"white\",\"startlinecolor\":\"#2a3f5f\"},\"type\":\"carpet\"}],\"choropleth\":[{\"colorbar\":{\"outlinewidth\":0,\"ticks\":\"\"},\"type\":\"choropleth\"}],\"contour\":[{\"colorbar\":{\"outlinewidth\":0,\"ticks\":\"\"},\"colorscale\":[[0.0,\"#0d0887\"],[0.1111111111111111,\"#46039f\"],[0.2222222222222222,\"#7201a8\"],[0.3333333333333333,\"#9c179e\"],[0.4444444444444444,\"#bd3786\"],[0.5555555555555556,\"#d8576b\"],[0.6666666666666666,\"#ed7953\"],[0.7777777777777778,\"#fb9f3a\"],[0.8888888888888888,\"#fdca26\"],[1.0,\"#f0f921\"]],\"type\":\"contour\"}],\"contourcarpet\":[{\"colorbar\":{\"outlinewidth\":0,\"ticks\":\"\"},\"type\":\"contourcarpet\"}],\"heatmap\":[{\"colorbar\":{\"outlinewidth\":0,\"ticks\":\"\"},\"colorscale\":[[0.0,\"#0d0887\"],[0.1111111111111111,\"#46039f\"],[0.2222222222222222,\"#7201a8\"],[0.3333333333333333,\"#9c179e\"],[0.4444444444444444,\"#bd3786\"],[0.5555555555555556,\"#d8576b\"],[0.6666666666666666,\"#ed7953\"],[0.7777777777777778,\"#fb9f3a\"],[0.8888888888888888,\"#fdca26\"],[1.0,\"#f0f921\"]],\"type\":\"heatmap\"}],\"heatmapgl\":[{\"colorbar\":{\"outlinewidth\":0,\"ticks\":\"\"},\"colorscale\":[[0.0,\"#0d0887\"],[0.1111111111111111,\"#46039f\"],[0.2222222222222222,\"#7201a8\"],[0.3333333333333333,\"#9c179e\"],[0.4444444444444444,\"#bd3786\"],[0.5555555555555556,\"#d8576b\"],[0.6666666666666666,\"#ed7953\"],[0.7777777777777778,\"#fb9f3a\"],[0.8888888888888888,\"#fdca26\"],[1.0,\"#f0f921\"]],\"type\":\"heatmapgl\"}],\"histogram\":[{\"marker\":{\"pattern\":{\"fillmode\":\"overlay\",\"size\":10,\"solidity\":0.2}},\"type\":\"histogram\"}],\"histogram2d\":[{\"colorbar\":{\"outlinewidth\":0,\"ticks\":\"\"},\"colorscale\":[[0.0,\"#0d0887\"],[0.1111111111111111,\"#46039f\"],[0.2222222222222222,\"#7201a8\"],[0.3333333333333333,\"#9c179e\"],[0.4444444444444444,\"#bd3786\"],[0.5555555555555556,\"#d8576b\"],[0.6666666666666666,\"#ed7953\"],[0.7777777777777778,\"#fb9f3a\"],[0.8888888888888888,\"#fdca26\"],[1.0,\"#f0f921\"]],\"type\":\"histogram2d\"}],\"histogram2dcontour\":[{\"colorbar\":{\"outlinewidth\":0,\"ticks\":\"\"},\"colorscale\":[[0.0,\"#0d0887\"],[0.1111111111111111,\"#46039f\"],[0.2222222222222222,\"#7201a8\"],[0.3333333333333333,\"#9c179e\"],[0.4444444444444444,\"#bd3786\"],[0.5555555555555556,\"#d8576b\"],[0.6666666666666666,\"#ed7953\"],[0.7777777777777778,\"#fb9f3a\"],[0.8888888888888888,\"#fdca26\"],[1.0,\"#f0f921\"]],\"type\":\"histogram2dcontour\"}],\"mesh3d\":[{\"colorbar\":{\"outlinewidth\":0,\"ticks\":\"\"},\"type\":\"mesh3d\"}],\"parcoords\":[{\"line\":{\"colorbar\":{\"outlinewidth\":0,\"ticks\":\"\"}},\"type\":\"parcoords\"}],\"pie\":[{\"automargin\":true,\"type\":\"pie\"}],\"scatter\":[{\"marker\":{\"colorbar\":{\"outlinewidth\":0,\"ticks\":\"\"}},\"type\":\"scatter\"}],\"scatter3d\":[{\"line\":{\"colorbar\":{\"outlinewidth\":0,\"ticks\":\"\"}},\"marker\":{\"colorbar\":{\"outlinewidth\":0,\"ticks\":\"\"}},\"type\":\"scatter3d\"}],\"scattercarpet\":[{\"marker\":{\"colorbar\":{\"outlinewidth\":0,\"ticks\":\"\"}},\"type\":\"scattercarpet\"}],\"scattergeo\":[{\"marker\":{\"colorbar\":{\"outlinewidth\":0,\"ticks\":\"\"}},\"type\":\"scattergeo\"}],\"scattergl\":[{\"marker\":{\"colorbar\":{\"outlinewidth\":0,\"ticks\":\"\"}},\"type\":\"scattergl\"}],\"scattermapbox\":[{\"marker\":{\"colorbar\":{\"outlinewidth\":0,\"ticks\":\"\"}},\"type\":\"scattermapbox\"}],\"scatterpolar\":[{\"marker\":{\"colorbar\":{\"outlinewidth\":0,\"ticks\":\"\"}},\"type\":\"scatterpolar\"}],\"scatterpolargl\":[{\"marker\":{\"colorbar\":{\"outlinewidth\":0,\"ticks\":\"\"}},\"type\":\"scatterpolargl\"}],\"scatterternary\":[{\"marker\":{\"colorbar\":{\"outlinewidth\":0,\"ticks\":\"\"}},\"type\":\"scatterternary\"}],\"surface\":[{\"colorbar\":{\"outlinewidth\":0,\"ticks\":\"\"},\"colorscale\":[[0.0,\"#0d0887\"],[0.1111111111111111,\"#46039f\"],[0.2222222222222222,\"#7201a8\"],[0.3333333333333333,\"#9c179e\"],[0.4444444444444444,\"#bd3786\"],[0.5555555555555556,\"#d8576b\"],[0.6666666666666666,\"#ed7953\"],[0.7777777777777778,\"#fb9f3a\"],[0.8888888888888888,\"#fdca26\"],[1.0,\"#f0f921\"]],\"type\":\"surface\"}],\"table\":[{\"cells\":{\"fill\":{\"color\":\"#EBF0F8\"},\"line\":{\"color\":\"white\"}},\"header\":{\"fill\":{\"color\":\"#C8D4E3\"},\"line\":{\"color\":\"white\"}},\"type\":\"table\"}]},\"layout\":{\"annotationdefaults\":{\"arrowcolor\":\"#2a3f5f\",\"arrowhead\":0,\"arrowwidth\":1},\"autotypenumbers\":\"strict\",\"coloraxis\":{\"colorbar\":{\"outlinewidth\":0,\"ticks\":\"\"}},\"colorscale\":{\"diverging\":[[0,\"#8e0152\"],[0.1,\"#c51b7d\"],[0.2,\"#de77ae\"],[0.3,\"#f1b6da\"],[0.4,\"#fde0ef\"],[0.5,\"#f7f7f7\"],[0.6,\"#e6f5d0\"],[0.7,\"#b8e186\"],[0.8,\"#7fbc41\"],[0.9,\"#4d9221\"],[1,\"#276419\"]],\"sequential\":[[0.0,\"#0d0887\"],[0.1111111111111111,\"#46039f\"],[0.2222222222222222,\"#7201a8\"],[0.3333333333333333,\"#9c179e\"],[0.4444444444444444,\"#bd3786\"],[0.5555555555555556,\"#d8576b\"],[0.6666666666666666,\"#ed7953\"],[0.7777777777777778,\"#fb9f3a\"],[0.8888888888888888,\"#fdca26\"],[1.0,\"#f0f921\"]],\"sequentialminus\":[[0.0,\"#0d0887\"],[0.1111111111111111,\"#46039f\"],[0.2222222222222222,\"#7201a8\"],[0.3333333333333333,\"#9c179e\"],[0.4444444444444444,\"#bd3786\"],[0.5555555555555556,\"#d8576b\"],[0.6666666666666666,\"#ed7953\"],[0.7777777777777778,\"#fb9f3a\"],[0.8888888888888888,\"#fdca26\"],[1.0,\"#f0f921\"]]},\"colorway\":[\"#636efa\",\"#EF553B\",\"#00cc96\",\"#ab63fa\",\"#FFA15A\",\"#19d3f3\",\"#FF6692\",\"#B6E880\",\"#FF97FF\",\"#FECB52\"],\"font\":{\"color\":\"#2a3f5f\"},\"geo\":{\"bgcolor\":\"white\",\"lakecolor\":\"white\",\"landcolor\":\"#E5ECF6\",\"showlakes\":true,\"showland\":true,\"subunitcolor\":\"white\"},\"hoverlabel\":{\"align\":\"left\"},\"hovermode\":\"closest\",\"mapbox\":{\"style\":\"light\"},\"paper_bgcolor\":\"white\",\"plot_bgcolor\":\"#E5ECF6\",\"polar\":{\"angularaxis\":{\"gridcolor\":\"white\",\"linecolor\":\"white\",\"ticks\":\"\"},\"bgcolor\":\"#E5ECF6\",\"radialaxis\":{\"gridcolor\":\"white\",\"linecolor\":\"white\",\"ticks\":\"\"}},\"scene\":{\"xaxis\":{\"backgroundcolor\":\"#E5ECF6\",\"gridcolor\":\"white\",\"gridwidth\":2,\"linecolor\":\"white\",\"showbackground\":true,\"ticks\":\"\",\"zerolinecolor\":\"white\"},\"yaxis\":{\"backgroundcolor\":\"#E5ECF6\",\"gridcolor\":\"white\",\"gridwidth\":2,\"linecolor\":\"white\",\"showbackground\":true,\"ticks\":\"\",\"zerolinecolor\":\"white\"},\"zaxis\":{\"backgroundcolor\":\"#E5ECF6\",\"gridcolor\":\"white\",\"gridwidth\":2,\"linecolor\":\"white\",\"showbackground\":true,\"ticks\":\"\",\"zerolinecolor\":\"white\"}},\"shapedefaults\":{\"line\":{\"color\":\"#2a3f5f\"}},\"ternary\":{\"aaxis\":{\"gridcolor\":\"white\",\"linecolor\":\"white\",\"ticks\":\"\"},\"baxis\":{\"gridcolor\":\"white\",\"linecolor\":\"white\",\"ticks\":\"\"},\"bgcolor\":\"#E5ECF6\",\"caxis\":{\"gridcolor\":\"white\",\"linecolor\":\"white\",\"ticks\":\"\"}},\"title\":{\"x\":0.05},\"xaxis\":{\"automargin\":true,\"gridcolor\":\"white\",\"linecolor\":\"white\",\"ticks\":\"\",\"title\":{\"standoff\":15},\"zerolinecolor\":\"white\",\"zerolinewidth\":2},\"yaxis\":{\"automargin\":true,\"gridcolor\":\"white\",\"linecolor\":\"white\",\"ticks\":\"\",\"title\":{\"standoff\":15},\"zerolinecolor\":\"white\",\"zerolinewidth\":2}}},\"scene\":{\"domain\":{\"x\":[0.0,1.0],\"y\":[0.0,1.0]},\"xaxis\":{\"title\":{\"text\":\"Electronegativity\"}},\"yaxis\":{\"title\":{\"text\":\"Density\"}},\"zaxis\":{\"title\":{\"text\":\"Youngs Modulus\"}}},\"legend\":{\"tracegroupgap\":0},\"margin\":{\"t\":60}},                        {\"responsive\": true}                    ).then(function(){\n",
       "                            \n",
       "var gd = document.getElementById('fc701447-514b-4b58-ad9b-f06090872b95');\n",
       "var x = new MutationObserver(function (mutations, observer) {{\n",
       "        var display = window.getComputedStyle(gd).display;\n",
       "        if (!display || display === 'none') {{\n",
       "            console.log([gd, 'removed!']);\n",
       "            Plotly.purge(gd);\n",
       "            observer.disconnect();\n",
       "        }}\n",
       "}});\n",
       "\n",
       "// Listen for the removal of the full notebook cells\n",
       "var notebookContainer = gd.closest('#notebook-container');\n",
       "if (notebookContainer) {{\n",
       "    x.observe(notebookContainer, {childList: true});\n",
       "}}\n",
       "\n",
       "// Listen for the clearing of the current output cell\n",
       "var outputEl = gd.closest('.output');\n",
       "if (outputEl) {{\n",
       "    x.observe(outputEl, {childList: true});\n",
       "}}\n",
       "\n",
       "                        })                };                });            </script>        </div>"
      ]
     },
     "metadata": {},
     "output_type": "display_data"
    }
   ],
   "source": [
    "x1_range = np.linspace(df['en_ghosh'].min(), df['en_ghosh'].max(), 10)\n",
    "x2_range = np.linspace(df['density_of_solid'].min(), df['density_of_solid'].max(), 10)\n",
    "x1_mesh, x2_mesh = np.meshgrid(x1_range, x2_range)\n",
    "y_pred_mesh = mlr.predict(np.c_[x1_mesh.ravel(), x2_mesh.ravel()])\n",
    "y_pred_mesh = y_pred_mesh.reshape(x1_mesh.shape)\n",
    "fig.add_trace(go.Surface(x=x1_mesh, y=x2_mesh, z=y_pred_mesh, opacity=0.5))\n",
    "\n",
    "# updating the plot layout\n",
    "fig.update_layout(scene=dict(\n",
    "                    xaxis_title='Electronegativity',\n",
    "                    yaxis_title='Density',\n",
    "                    zaxis_title='Youngs Modulus'))\n",
    "\n",
    "# showing the plot\n",
    "fig.show()\n",
    "\n",
    "\n",
    "\n",
    "\n"
   ]
  },
  {
   "cell_type": "code",
   "execution_count": null,
   "id": "2239b90f",
   "metadata": {},
   "outputs": [],
   "source": []
  },
  {
   "cell_type": "markdown",
   "id": "9c2e9dc8",
   "metadata": {},
   "source": [
    "# Q3 . A tutorial (Tutorial 10) for Gradient Descent was conducted on March 9, Thursday during the lecture hour. Can you use the Gradient Descent based model from this tutorial such that electronegativity is X1 and density is X2 and Young's Modulus is Y ? If yes, show the fitted line for this data. If not, modify the function gradient_descent in the Tutorial 10 and show the fitted line. Note that, you do not need to use Batch GD or Stocastic Gradient Descent because your data is very small.\n",
    "\n"
   ]
  },
  {
   "cell_type": "code",
   "execution_count": null,
   "id": "27f3daaf",
   "metadata": {},
   "outputs": [],
   "source": []
  },
  {
   "cell_type": "code",
   "execution_count": 298,
   "id": "c4d07bff",
   "metadata": {},
   "outputs": [
    {
     "data": {
      "text/plain": [
       "(43, 2)"
      ]
     },
     "execution_count": 298,
     "metadata": {},
     "output_type": "execute_result"
    }
   ],
   "source": [
    "X_comb.shape"
   ]
  },
  {
   "cell_type": "code",
   "execution_count": 299,
   "id": "ffb3e69a",
   "metadata": {},
   "outputs": [
    {
     "data": {
      "text/plain": [
       "(43,)"
      ]
     },
     "execution_count": 299,
     "metadata": {},
     "output_type": "execute_result"
    }
   ],
   "source": [
    "y_young_M.shape"
   ]
  },
  {
   "cell_type": "code",
   "execution_count": 300,
   "id": "5f1cee55",
   "metadata": {},
   "outputs": [],
   "source": [
    "class GDregressor:\n",
    "    def __init__(self,learning_rate=0.1,epochs=100):\n",
    "        self.coef_= None\n",
    "        self.intercept_ =None\n",
    "        self.lr = learning_rate\n",
    "        self.epochs = epochs\n",
    "        \n",
    "    def fit(self,X_train,y_train):\n",
    "        # init the  coefficients \n",
    "        self.intercept_ =0\n",
    "        self.coef_ =np.ones(X_train.shape[1])\n",
    "        \n",
    "        \n",
    "        for i in range(self.epochs):\n",
    "            y_hat= np.dot(X_train,self.coef_) + self.intercept_\n",
    "            intercept_der = -2*np.mean(y_train-y_hat)\n",
    "            self.intercept_ = self.intercept_ - (self.lr*intercept_der)\n",
    "            \n",
    "            coef_der=  - 2*np.dot((y_train-y_hat),X_train)/X_train.shape[0]\n",
    "            self.coef_ = self.coef_ -  (self.lr*coef_der)\n",
    "        print(self.intercept_,self.coef_)\n",
    "            \n",
    "    def predict(self,X_test):\n",
    "        return np.dot(X_test,self.coef_) + self.intercept_\n",
    "        \n",
    "            \n",
    "            "
   ]
  },
  {
   "cell_type": "code",
   "execution_count": 316,
   "id": "c95a1cb5",
   "metadata": {},
   "outputs": [],
   "source": [
    "gdr =GDregressor(epochs=50,learning_rate=0.000000002)"
   ]
  },
  {
   "cell_type": "code",
   "execution_count": null,
   "id": "8cef7b22",
   "metadata": {},
   "outputs": [],
   "source": [
    "\n"
   ]
  },
  {
   "cell_type": "code",
   "execution_count": 318,
   "id": "3ac7fc14",
   "metadata": {},
   "outputs": [
    {
     "data": {
      "text/plain": [
       "(34, 2)"
      ]
     },
     "execution_count": 318,
     "metadata": {},
     "output_type": "execute_result"
    }
   ],
   "source": [
    "from sklearn.model_selection import train_test_split\n",
    "X_train,X_test,y_train,y_test = train_test_split(X_comb,y_young_M,test_size=0.2,random_state=2)\n",
    "X_train.shape"
   ]
  },
  {
   "cell_type": "code",
   "execution_count": 319,
   "id": "169af873",
   "metadata": {},
   "outputs": [
    {
     "data": {
      "text/plain": [
       "(9, 2)"
      ]
     },
     "execution_count": 319,
     "metadata": {},
     "output_type": "execute_result"
    }
   ],
   "source": [
    "X_test.shape"
   ]
  },
  {
   "cell_type": "code",
   "execution_count": 325,
   "id": "43c2deca",
   "metadata": {},
   "outputs": [
    {
     "name": "stdout",
     "output_type": "stream",
     "text": [
      "-8.129138837256283e-05 [0.00034476 0.0097026 ]\n"
     ]
    }
   ],
   "source": [
    "gdr.fit(X_train,y_train)"
   ]
  },
  {
   "cell_type": "code",
   "execution_count": null,
   "id": "49224767",
   "metadata": {},
   "outputs": [],
   "source": []
  },
  {
   "cell_type": "code",
   "execution_count": 320,
   "id": "b5df47cc",
   "metadata": {},
   "outputs": [
    {
     "data": {
      "text/html": [
       "<div>\n",
       "<style scoped>\n",
       "    .dataframe tbody tr th:only-of-type {\n",
       "        vertical-align: middle;\n",
       "    }\n",
       "\n",
       "    .dataframe tbody tr th {\n",
       "        vertical-align: top;\n",
       "    }\n",
       "\n",
       "    .dataframe thead th {\n",
       "        text-align: right;\n",
       "    }\n",
       "</style>\n",
       "<table border=\"1\" class=\"dataframe\">\n",
       "  <thead>\n",
       "    <tr style=\"text-align: right;\">\n",
       "      <th></th>\n",
       "      <th>atomic_number</th>\n",
       "      <th>atomic_volume</th>\n",
       "      <th>boiling_point</th>\n",
       "      <th>en_ghosh</th>\n",
       "      <th>evaporation_heat</th>\n",
       "      <th>heat_of_formation</th>\n",
       "      <th>lattice_constant</th>\n",
       "      <th>specific_heat</th>\n",
       "      <th>atomic_mass</th>\n",
       "      <th>atomic_radius</th>\n",
       "      <th>electrical_resistivity</th>\n",
       "      <th>molar_volume</th>\n",
       "      <th>bulk_modulus</th>\n",
       "      <th>youngs_modulus</th>\n",
       "      <th>average_ionic_radius</th>\n",
       "      <th>density_of_solid</th>\n",
       "      <th>coefficient_of_linear_thermal_expansion</th>\n",
       "    </tr>\n",
       "  </thead>\n",
       "  <tbody>\n",
       "    <tr>\n",
       "      <th>0</th>\n",
       "      <td>47</td>\n",
       "      <td>10.30</td>\n",
       "      <td>2485.0</td>\n",
       "      <td>0.147217</td>\n",
       "      <td>254.1</td>\n",
       "      <td>284.9</td>\n",
       "      <td>4.09</td>\n",
       "      <td>0.237</td>\n",
       "      <td>107.868200</td>\n",
       "      <td>1.60</td>\n",
       "      <td>1.630000e-08</td>\n",
       "      <td>10.27</td>\n",
       "      <td>100.0</td>\n",
       "      <td>83.0</td>\n",
       "      <td>1.086667</td>\n",
       "      <td>10490.0</td>\n",
       "      <td>0.000019</td>\n",
       "    </tr>\n",
       "    <tr>\n",
       "      <th>1</th>\n",
       "      <td>13</td>\n",
       "      <td>10.00</td>\n",
       "      <td>2740.0</td>\n",
       "      <td>0.150078</td>\n",
       "      <td>284.1</td>\n",
       "      <td>330.9</td>\n",
       "      <td>4.05</td>\n",
       "      <td>0.900</td>\n",
       "      <td>26.981539</td>\n",
       "      <td>1.25</td>\n",
       "      <td>2.700000e-08</td>\n",
       "      <td>10.00</td>\n",
       "      <td>76.0</td>\n",
       "      <td>70.0</td>\n",
       "      <td>0.675000</td>\n",
       "      <td>2700.0</td>\n",
       "      <td>0.000023</td>\n",
       "    </tr>\n",
       "    <tr>\n",
       "      <th>2</th>\n",
       "      <td>79</td>\n",
       "      <td>10.20</td>\n",
       "      <td>3080.0</td>\n",
       "      <td>0.261370</td>\n",
       "      <td>340.0</td>\n",
       "      <td>368.2</td>\n",
       "      <td>4.08</td>\n",
       "      <td>0.129</td>\n",
       "      <td>196.966569</td>\n",
       "      <td>1.35</td>\n",
       "      <td>2.200000e-08</td>\n",
       "      <td>10.21</td>\n",
       "      <td>220.0</td>\n",
       "      <td>78.0</td>\n",
       "      <td>1.070000</td>\n",
       "      <td>19300.0</td>\n",
       "      <td>0.000014</td>\n",
       "    </tr>\n",
       "    <tr>\n",
       "      <th>3</th>\n",
       "      <td>29</td>\n",
       "      <td>7.10</td>\n",
       "      <td>2840.0</td>\n",
       "      <td>0.151172</td>\n",
       "      <td>304.6</td>\n",
       "      <td>337.4</td>\n",
       "      <td>3.61</td>\n",
       "      <td>0.385</td>\n",
       "      <td>63.546000</td>\n",
       "      <td>1.35</td>\n",
       "      <td>1.720000e-08</td>\n",
       "      <td>7.11</td>\n",
       "      <td>140.0</td>\n",
       "      <td>130.0</td>\n",
       "      <td>0.820000</td>\n",
       "      <td>8920.0</td>\n",
       "      <td>0.000017</td>\n",
       "    </tr>\n",
       "    <tr>\n",
       "      <th>4</th>\n",
       "      <td>77</td>\n",
       "      <td>8.54</td>\n",
       "      <td>4403.0</td>\n",
       "      <td>0.251060</td>\n",
       "      <td>604.0</td>\n",
       "      <td>669.0</td>\n",
       "      <td>3.84</td>\n",
       "      <td>0.133</td>\n",
       "      <td>192.217000</td>\n",
       "      <td>1.35</td>\n",
       "      <td>4.700000e-08</td>\n",
       "      <td>8.52</td>\n",
       "      <td>320.0</td>\n",
       "      <td>528.0</td>\n",
       "      <td>0.765000</td>\n",
       "      <td>22650.0</td>\n",
       "      <td>0.000006</td>\n",
       "    </tr>\n",
       "  </tbody>\n",
       "</table>\n",
       "</div>"
      ],
      "text/plain": [
       "   atomic_number  atomic_volume  boiling_point  en_ghosh  evaporation_heat  \\\n",
       "0             47          10.30         2485.0  0.147217             254.1   \n",
       "1             13          10.00         2740.0  0.150078             284.1   \n",
       "2             79          10.20         3080.0  0.261370             340.0   \n",
       "3             29           7.10         2840.0  0.151172             304.6   \n",
       "4             77           8.54         4403.0  0.251060             604.0   \n",
       "\n",
       "   heat_of_formation  lattice_constant  specific_heat  atomic_mass  \\\n",
       "0              284.9              4.09          0.237   107.868200   \n",
       "1              330.9              4.05          0.900    26.981539   \n",
       "2              368.2              4.08          0.129   196.966569   \n",
       "3              337.4              3.61          0.385    63.546000   \n",
       "4              669.0              3.84          0.133   192.217000   \n",
       "\n",
       "   atomic_radius  electrical_resistivity  molar_volume  bulk_modulus  \\\n",
       "0           1.60            1.630000e-08         10.27         100.0   \n",
       "1           1.25            2.700000e-08         10.00          76.0   \n",
       "2           1.35            2.200000e-08         10.21         220.0   \n",
       "3           1.35            1.720000e-08          7.11         140.0   \n",
       "4           1.35            4.700000e-08          8.52         320.0   \n",
       "\n",
       "   youngs_modulus  average_ionic_radius  density_of_solid  \\\n",
       "0            83.0              1.086667           10490.0   \n",
       "1            70.0              0.675000            2700.0   \n",
       "2            78.0              1.070000           19300.0   \n",
       "3           130.0              0.820000            8920.0   \n",
       "4           528.0              0.765000           22650.0   \n",
       "\n",
       "   coefficient_of_linear_thermal_expansion  \n",
       "0                                 0.000019  \n",
       "1                                 0.000023  \n",
       "2                                 0.000014  \n",
       "3                                 0.000017  \n",
       "4                                 0.000006  "
      ]
     },
     "execution_count": 320,
     "metadata": {},
     "output_type": "execute_result"
    }
   ],
   "source": [
    "df.head()"
   ]
  },
  {
   "cell_type": "code",
   "execution_count": 321,
   "id": "1bebf7c8",
   "metadata": {},
   "outputs": [
    {
     "data": {
      "application/vnd.plotly.v1+json": {
       "config": {
        "plotlyServerURL": "https://plot.ly"
       },
       "data": [
        {
         "hovertemplate": "en_ghosh=%{x}<br>density_of_solid=%{y}<br>youngs_modulus=%{z}<extra></extra>",
         "legendgroup": "",
         "marker": {
          "color": "#636efa",
          "symbol": "circle"
         },
         "mode": "markers",
         "name": "",
         "scene": "scene",
         "showlegend": false,
         "type": "scatter3d",
         "x": [
          0.1472165,
          0.150078,
          0.26137,
          0.1511716,
          0.25106,
          0.1472068,
          0.1779109999999999,
          0.1440276,
          0.2569099999999999,
          0.1408379,
          0.10277,
          0.22119,
          0.1586786,
          0.1313052999999999,
          0.189935,
          0.1392532,
          0.105093,
          0.1352844,
          0.1312672,
          0.093214,
          0.1280782,
          0.2345809999999999,
          0.1273344,
          0.2390504,
          0.144986,
          0.1154119,
          0.1504066,
          0.1432362999999999,
          0.2033299999999999,
          0.212261,
          0.1944,
          0.229987,
          0.2077949999999999,
          0.22565,
          0.121644,
          0.2435163999999999,
          0.1193833,
          0.198863,
          0.1233636999999999,
          0.173447,
          0.2167244,
          0.1216986,
          0.1551517999999999
         ],
         "y": [
          10490,
          2700,
          19300,
          8920,
          22650,
          8908,
          11340,
          12023,
          21090,
          12450,
          11724,
          6570,
          3510,
          7140,
          5244,
          7874,
          535,
          7470,
          10280,
          968,
          8570,
          16650,
          6110,
          19250,
          1848,
          1550,
          8650,
          8900,
          8551,
          9066,
          7901,
          13310,
          8795,
          9841,
          1738,
          21020,
          2985,
          8219,
          4507,
          11850,
          9321,
          4472,
          7140
         ],
         "z": [
          83,
          70,
          78,
          130,
          528,
          200,
          16,
          121,
          168,
          275,
          79,
          24,
          13,
          279,
          18,
          211,
          4.9,
          198,
          329,
          10,
          105,
          186,
          128,
          411,
          287,
          20,
          50,
          209,
          61,
          70,
          55,
          78,
          65,
          69,
          45,
          463,
          74,
          56,
          116,
          8,
          74,
          64,
          108
         ]
        }
       ],
       "layout": {
        "legend": {
         "tracegroupgap": 0
        },
        "margin": {
         "t": 60
        },
        "scene": {
         "domain": {
          "x": [
           0,
           1
          ],
          "y": [
           0,
           1
          ]
         },
         "xaxis": {
          "title": {
           "text": "en_ghosh"
          }
         },
         "yaxis": {
          "title": {
           "text": "density_of_solid"
          }
         },
         "zaxis": {
          "title": {
           "text": "youngs_modulus"
          }
         }
        },
        "template": {
         "data": {
          "bar": [
           {
            "error_x": {
             "color": "#2a3f5f"
            },
            "error_y": {
             "color": "#2a3f5f"
            },
            "marker": {
             "line": {
              "color": "#E5ECF6",
              "width": 0.5
             },
             "pattern": {
              "fillmode": "overlay",
              "size": 10,
              "solidity": 0.2
             }
            },
            "type": "bar"
           }
          ],
          "barpolar": [
           {
            "marker": {
             "line": {
              "color": "#E5ECF6",
              "width": 0.5
             },
             "pattern": {
              "fillmode": "overlay",
              "size": 10,
              "solidity": 0.2
             }
            },
            "type": "barpolar"
           }
          ],
          "carpet": [
           {
            "aaxis": {
             "endlinecolor": "#2a3f5f",
             "gridcolor": "white",
             "linecolor": "white",
             "minorgridcolor": "white",
             "startlinecolor": "#2a3f5f"
            },
            "baxis": {
             "endlinecolor": "#2a3f5f",
             "gridcolor": "white",
             "linecolor": "white",
             "minorgridcolor": "white",
             "startlinecolor": "#2a3f5f"
            },
            "type": "carpet"
           }
          ],
          "choropleth": [
           {
            "colorbar": {
             "outlinewidth": 0,
             "ticks": ""
            },
            "type": "choropleth"
           }
          ],
          "contour": [
           {
            "colorbar": {
             "outlinewidth": 0,
             "ticks": ""
            },
            "colorscale": [
             [
              0,
              "#0d0887"
             ],
             [
              0.1111111111111111,
              "#46039f"
             ],
             [
              0.2222222222222222,
              "#7201a8"
             ],
             [
              0.3333333333333333,
              "#9c179e"
             ],
             [
              0.4444444444444444,
              "#bd3786"
             ],
             [
              0.5555555555555556,
              "#d8576b"
             ],
             [
              0.6666666666666666,
              "#ed7953"
             ],
             [
              0.7777777777777778,
              "#fb9f3a"
             ],
             [
              0.8888888888888888,
              "#fdca26"
             ],
             [
              1,
              "#f0f921"
             ]
            ],
            "type": "contour"
           }
          ],
          "contourcarpet": [
           {
            "colorbar": {
             "outlinewidth": 0,
             "ticks": ""
            },
            "type": "contourcarpet"
           }
          ],
          "heatmap": [
           {
            "colorbar": {
             "outlinewidth": 0,
             "ticks": ""
            },
            "colorscale": [
             [
              0,
              "#0d0887"
             ],
             [
              0.1111111111111111,
              "#46039f"
             ],
             [
              0.2222222222222222,
              "#7201a8"
             ],
             [
              0.3333333333333333,
              "#9c179e"
             ],
             [
              0.4444444444444444,
              "#bd3786"
             ],
             [
              0.5555555555555556,
              "#d8576b"
             ],
             [
              0.6666666666666666,
              "#ed7953"
             ],
             [
              0.7777777777777778,
              "#fb9f3a"
             ],
             [
              0.8888888888888888,
              "#fdca26"
             ],
             [
              1,
              "#f0f921"
             ]
            ],
            "type": "heatmap"
           }
          ],
          "heatmapgl": [
           {
            "colorbar": {
             "outlinewidth": 0,
             "ticks": ""
            },
            "colorscale": [
             [
              0,
              "#0d0887"
             ],
             [
              0.1111111111111111,
              "#46039f"
             ],
             [
              0.2222222222222222,
              "#7201a8"
             ],
             [
              0.3333333333333333,
              "#9c179e"
             ],
             [
              0.4444444444444444,
              "#bd3786"
             ],
             [
              0.5555555555555556,
              "#d8576b"
             ],
             [
              0.6666666666666666,
              "#ed7953"
             ],
             [
              0.7777777777777778,
              "#fb9f3a"
             ],
             [
              0.8888888888888888,
              "#fdca26"
             ],
             [
              1,
              "#f0f921"
             ]
            ],
            "type": "heatmapgl"
           }
          ],
          "histogram": [
           {
            "marker": {
             "pattern": {
              "fillmode": "overlay",
              "size": 10,
              "solidity": 0.2
             }
            },
            "type": "histogram"
           }
          ],
          "histogram2d": [
           {
            "colorbar": {
             "outlinewidth": 0,
             "ticks": ""
            },
            "colorscale": [
             [
              0,
              "#0d0887"
             ],
             [
              0.1111111111111111,
              "#46039f"
             ],
             [
              0.2222222222222222,
              "#7201a8"
             ],
             [
              0.3333333333333333,
              "#9c179e"
             ],
             [
              0.4444444444444444,
              "#bd3786"
             ],
             [
              0.5555555555555556,
              "#d8576b"
             ],
             [
              0.6666666666666666,
              "#ed7953"
             ],
             [
              0.7777777777777778,
              "#fb9f3a"
             ],
             [
              0.8888888888888888,
              "#fdca26"
             ],
             [
              1,
              "#f0f921"
             ]
            ],
            "type": "histogram2d"
           }
          ],
          "histogram2dcontour": [
           {
            "colorbar": {
             "outlinewidth": 0,
             "ticks": ""
            },
            "colorscale": [
             [
              0,
              "#0d0887"
             ],
             [
              0.1111111111111111,
              "#46039f"
             ],
             [
              0.2222222222222222,
              "#7201a8"
             ],
             [
              0.3333333333333333,
              "#9c179e"
             ],
             [
              0.4444444444444444,
              "#bd3786"
             ],
             [
              0.5555555555555556,
              "#d8576b"
             ],
             [
              0.6666666666666666,
              "#ed7953"
             ],
             [
              0.7777777777777778,
              "#fb9f3a"
             ],
             [
              0.8888888888888888,
              "#fdca26"
             ],
             [
              1,
              "#f0f921"
             ]
            ],
            "type": "histogram2dcontour"
           }
          ],
          "mesh3d": [
           {
            "colorbar": {
             "outlinewidth": 0,
             "ticks": ""
            },
            "type": "mesh3d"
           }
          ],
          "parcoords": [
           {
            "line": {
             "colorbar": {
              "outlinewidth": 0,
              "ticks": ""
             }
            },
            "type": "parcoords"
           }
          ],
          "pie": [
           {
            "automargin": true,
            "type": "pie"
           }
          ],
          "scatter": [
           {
            "marker": {
             "colorbar": {
              "outlinewidth": 0,
              "ticks": ""
             }
            },
            "type": "scatter"
           }
          ],
          "scatter3d": [
           {
            "line": {
             "colorbar": {
              "outlinewidth": 0,
              "ticks": ""
             }
            },
            "marker": {
             "colorbar": {
              "outlinewidth": 0,
              "ticks": ""
             }
            },
            "type": "scatter3d"
           }
          ],
          "scattercarpet": [
           {
            "marker": {
             "colorbar": {
              "outlinewidth": 0,
              "ticks": ""
             }
            },
            "type": "scattercarpet"
           }
          ],
          "scattergeo": [
           {
            "marker": {
             "colorbar": {
              "outlinewidth": 0,
              "ticks": ""
             }
            },
            "type": "scattergeo"
           }
          ],
          "scattergl": [
           {
            "marker": {
             "colorbar": {
              "outlinewidth": 0,
              "ticks": ""
             }
            },
            "type": "scattergl"
           }
          ],
          "scattermapbox": [
           {
            "marker": {
             "colorbar": {
              "outlinewidth": 0,
              "ticks": ""
             }
            },
            "type": "scattermapbox"
           }
          ],
          "scatterpolar": [
           {
            "marker": {
             "colorbar": {
              "outlinewidth": 0,
              "ticks": ""
             }
            },
            "type": "scatterpolar"
           }
          ],
          "scatterpolargl": [
           {
            "marker": {
             "colorbar": {
              "outlinewidth": 0,
              "ticks": ""
             }
            },
            "type": "scatterpolargl"
           }
          ],
          "scatterternary": [
           {
            "marker": {
             "colorbar": {
              "outlinewidth": 0,
              "ticks": ""
             }
            },
            "type": "scatterternary"
           }
          ],
          "surface": [
           {
            "colorbar": {
             "outlinewidth": 0,
             "ticks": ""
            },
            "colorscale": [
             [
              0,
              "#0d0887"
             ],
             [
              0.1111111111111111,
              "#46039f"
             ],
             [
              0.2222222222222222,
              "#7201a8"
             ],
             [
              0.3333333333333333,
              "#9c179e"
             ],
             [
              0.4444444444444444,
              "#bd3786"
             ],
             [
              0.5555555555555556,
              "#d8576b"
             ],
             [
              0.6666666666666666,
              "#ed7953"
             ],
             [
              0.7777777777777778,
              "#fb9f3a"
             ],
             [
              0.8888888888888888,
              "#fdca26"
             ],
             [
              1,
              "#f0f921"
             ]
            ],
            "type": "surface"
           }
          ],
          "table": [
           {
            "cells": {
             "fill": {
              "color": "#EBF0F8"
             },
             "line": {
              "color": "white"
             }
            },
            "header": {
             "fill": {
              "color": "#C8D4E3"
             },
             "line": {
              "color": "white"
             }
            },
            "type": "table"
           }
          ]
         },
         "layout": {
          "annotationdefaults": {
           "arrowcolor": "#2a3f5f",
           "arrowhead": 0,
           "arrowwidth": 1
          },
          "autotypenumbers": "strict",
          "coloraxis": {
           "colorbar": {
            "outlinewidth": 0,
            "ticks": ""
           }
          },
          "colorscale": {
           "diverging": [
            [
             0,
             "#8e0152"
            ],
            [
             0.1,
             "#c51b7d"
            ],
            [
             0.2,
             "#de77ae"
            ],
            [
             0.3,
             "#f1b6da"
            ],
            [
             0.4,
             "#fde0ef"
            ],
            [
             0.5,
             "#f7f7f7"
            ],
            [
             0.6,
             "#e6f5d0"
            ],
            [
             0.7,
             "#b8e186"
            ],
            [
             0.8,
             "#7fbc41"
            ],
            [
             0.9,
             "#4d9221"
            ],
            [
             1,
             "#276419"
            ]
           ],
           "sequential": [
            [
             0,
             "#0d0887"
            ],
            [
             0.1111111111111111,
             "#46039f"
            ],
            [
             0.2222222222222222,
             "#7201a8"
            ],
            [
             0.3333333333333333,
             "#9c179e"
            ],
            [
             0.4444444444444444,
             "#bd3786"
            ],
            [
             0.5555555555555556,
             "#d8576b"
            ],
            [
             0.6666666666666666,
             "#ed7953"
            ],
            [
             0.7777777777777778,
             "#fb9f3a"
            ],
            [
             0.8888888888888888,
             "#fdca26"
            ],
            [
             1,
             "#f0f921"
            ]
           ],
           "sequentialminus": [
            [
             0,
             "#0d0887"
            ],
            [
             0.1111111111111111,
             "#46039f"
            ],
            [
             0.2222222222222222,
             "#7201a8"
            ],
            [
             0.3333333333333333,
             "#9c179e"
            ],
            [
             0.4444444444444444,
             "#bd3786"
            ],
            [
             0.5555555555555556,
             "#d8576b"
            ],
            [
             0.6666666666666666,
             "#ed7953"
            ],
            [
             0.7777777777777778,
             "#fb9f3a"
            ],
            [
             0.8888888888888888,
             "#fdca26"
            ],
            [
             1,
             "#f0f921"
            ]
           ]
          },
          "colorway": [
           "#636efa",
           "#EF553B",
           "#00cc96",
           "#ab63fa",
           "#FFA15A",
           "#19d3f3",
           "#FF6692",
           "#B6E880",
           "#FF97FF",
           "#FECB52"
          ],
          "font": {
           "color": "#2a3f5f"
          },
          "geo": {
           "bgcolor": "white",
           "lakecolor": "white",
           "landcolor": "#E5ECF6",
           "showlakes": true,
           "showland": true,
           "subunitcolor": "white"
          },
          "hoverlabel": {
           "align": "left"
          },
          "hovermode": "closest",
          "mapbox": {
           "style": "light"
          },
          "paper_bgcolor": "white",
          "plot_bgcolor": "#E5ECF6",
          "polar": {
           "angularaxis": {
            "gridcolor": "white",
            "linecolor": "white",
            "ticks": ""
           },
           "bgcolor": "#E5ECF6",
           "radialaxis": {
            "gridcolor": "white",
            "linecolor": "white",
            "ticks": ""
           }
          },
          "scene": {
           "xaxis": {
            "backgroundcolor": "#E5ECF6",
            "gridcolor": "white",
            "gridwidth": 2,
            "linecolor": "white",
            "showbackground": true,
            "ticks": "",
            "zerolinecolor": "white"
           },
           "yaxis": {
            "backgroundcolor": "#E5ECF6",
            "gridcolor": "white",
            "gridwidth": 2,
            "linecolor": "white",
            "showbackground": true,
            "ticks": "",
            "zerolinecolor": "white"
           },
           "zaxis": {
            "backgroundcolor": "#E5ECF6",
            "gridcolor": "white",
            "gridwidth": 2,
            "linecolor": "white",
            "showbackground": true,
            "ticks": "",
            "zerolinecolor": "white"
           }
          },
          "shapedefaults": {
           "line": {
            "color": "#2a3f5f"
           }
          },
          "ternary": {
           "aaxis": {
            "gridcolor": "white",
            "linecolor": "white",
            "ticks": ""
           },
           "baxis": {
            "gridcolor": "white",
            "linecolor": "white",
            "ticks": ""
           },
           "bgcolor": "#E5ECF6",
           "caxis": {
            "gridcolor": "white",
            "linecolor": "white",
            "ticks": ""
           }
          },
          "title": {
           "x": 0.05
          },
          "xaxis": {
           "automargin": true,
           "gridcolor": "white",
           "linecolor": "white",
           "ticks": "",
           "title": {
            "standoff": 15
           },
           "zerolinecolor": "white",
           "zerolinewidth": 2
          },
          "yaxis": {
           "automargin": true,
           "gridcolor": "white",
           "linecolor": "white",
           "ticks": "",
           "title": {
            "standoff": 15
           },
           "zerolinecolor": "white",
           "zerolinewidth": 2
          }
         }
        }
       }
      },
      "text/html": [
       "<div>                            <div id=\"56efe126-e472-4885-95ee-97401d00ac10\" class=\"plotly-graph-div\" style=\"height:525px; width:100%;\"></div>            <script type=\"text/javascript\">                require([\"plotly\"], function(Plotly) {                    window.PLOTLYENV=window.PLOTLYENV || {};                                    if (document.getElementById(\"56efe126-e472-4885-95ee-97401d00ac10\")) {                    Plotly.newPlot(                        \"56efe126-e472-4885-95ee-97401d00ac10\",                        [{\"hovertemplate\":\"en_ghosh=%{x}<br>density_of_solid=%{y}<br>youngs_modulus=%{z}<extra></extra>\",\"legendgroup\":\"\",\"marker\":{\"color\":\"#636efa\",\"symbol\":\"circle\"},\"mode\":\"markers\",\"name\":\"\",\"scene\":\"scene\",\"showlegend\":false,\"x\":[0.1472165,0.150078,0.26137,0.1511716,0.25106,0.1472068,0.1779109999999999,0.1440276,0.2569099999999999,0.1408379,0.10277,0.22119,0.1586786,0.1313052999999999,0.189935,0.1392532,0.105093,0.1352844,0.1312672,0.093214,0.1280782,0.2345809999999999,0.1273344,0.2390504,0.144986,0.1154119,0.1504066,0.1432362999999999,0.2033299999999999,0.212261,0.1944,0.229987,0.2077949999999999,0.22565,0.121644,0.2435163999999999,0.1193833,0.198863,0.1233636999999999,0.173447,0.2167244,0.1216986,0.1551517999999999],\"y\":[10490.0,2700.0,19300.0,8920.0,22650.0,8908.0,11340.0,12023.0,21090.0,12450.0,11724.0,6570.0,3510.0,7140.0,5244.0,7874.0,535.0,7470.0,10280.0,968.0,8570.0,16650.0,6110.0,19250.0,1848.0,1550.0,8650.0,8900.0,8551.0,9066.0,7901.0,13310.0,8795.0,9841.0,1738.0,21020.0,2985.0,8219.0,4507.0,11850.0,9321.0,4472.0,7140.0],\"z\":[83.0,70.0,78.0,130.0,528.0,200.0,16.0,121.0,168.0,275.0,79.0,24.0,13.0,279.0,18.0,211.0,4.9,198.0,329.0,10.0,105.0,186.0,128.0,411.0,287.0,20.0,50.0,209.0,61.0,70.0,55.0,78.0,65.0,69.0,45.0,463.0,74.0,56.0,116.0,8.0,74.0,64.0,108.0],\"type\":\"scatter3d\"}],                        {\"template\":{\"data\":{\"bar\":[{\"error_x\":{\"color\":\"#2a3f5f\"},\"error_y\":{\"color\":\"#2a3f5f\"},\"marker\":{\"line\":{\"color\":\"#E5ECF6\",\"width\":0.5},\"pattern\":{\"fillmode\":\"overlay\",\"size\":10,\"solidity\":0.2}},\"type\":\"bar\"}],\"barpolar\":[{\"marker\":{\"line\":{\"color\":\"#E5ECF6\",\"width\":0.5},\"pattern\":{\"fillmode\":\"overlay\",\"size\":10,\"solidity\":0.2}},\"type\":\"barpolar\"}],\"carpet\":[{\"aaxis\":{\"endlinecolor\":\"#2a3f5f\",\"gridcolor\":\"white\",\"linecolor\":\"white\",\"minorgridcolor\":\"white\",\"startlinecolor\":\"#2a3f5f\"},\"baxis\":{\"endlinecolor\":\"#2a3f5f\",\"gridcolor\":\"white\",\"linecolor\":\"white\",\"minorgridcolor\":\"white\",\"startlinecolor\":\"#2a3f5f\"},\"type\":\"carpet\"}],\"choropleth\":[{\"colorbar\":{\"outlinewidth\":0,\"ticks\":\"\"},\"type\":\"choropleth\"}],\"contour\":[{\"colorbar\":{\"outlinewidth\":0,\"ticks\":\"\"},\"colorscale\":[[0.0,\"#0d0887\"],[0.1111111111111111,\"#46039f\"],[0.2222222222222222,\"#7201a8\"],[0.3333333333333333,\"#9c179e\"],[0.4444444444444444,\"#bd3786\"],[0.5555555555555556,\"#d8576b\"],[0.6666666666666666,\"#ed7953\"],[0.7777777777777778,\"#fb9f3a\"],[0.8888888888888888,\"#fdca26\"],[1.0,\"#f0f921\"]],\"type\":\"contour\"}],\"contourcarpet\":[{\"colorbar\":{\"outlinewidth\":0,\"ticks\":\"\"},\"type\":\"contourcarpet\"}],\"heatmap\":[{\"colorbar\":{\"outlinewidth\":0,\"ticks\":\"\"},\"colorscale\":[[0.0,\"#0d0887\"],[0.1111111111111111,\"#46039f\"],[0.2222222222222222,\"#7201a8\"],[0.3333333333333333,\"#9c179e\"],[0.4444444444444444,\"#bd3786\"],[0.5555555555555556,\"#d8576b\"],[0.6666666666666666,\"#ed7953\"],[0.7777777777777778,\"#fb9f3a\"],[0.8888888888888888,\"#fdca26\"],[1.0,\"#f0f921\"]],\"type\":\"heatmap\"}],\"heatmapgl\":[{\"colorbar\":{\"outlinewidth\":0,\"ticks\":\"\"},\"colorscale\":[[0.0,\"#0d0887\"],[0.1111111111111111,\"#46039f\"],[0.2222222222222222,\"#7201a8\"],[0.3333333333333333,\"#9c179e\"],[0.4444444444444444,\"#bd3786\"],[0.5555555555555556,\"#d8576b\"],[0.6666666666666666,\"#ed7953\"],[0.7777777777777778,\"#fb9f3a\"],[0.8888888888888888,\"#fdca26\"],[1.0,\"#f0f921\"]],\"type\":\"heatmapgl\"}],\"histogram\":[{\"marker\":{\"pattern\":{\"fillmode\":\"overlay\",\"size\":10,\"solidity\":0.2}},\"type\":\"histogram\"}],\"histogram2d\":[{\"colorbar\":{\"outlinewidth\":0,\"ticks\":\"\"},\"colorscale\":[[0.0,\"#0d0887\"],[0.1111111111111111,\"#46039f\"],[0.2222222222222222,\"#7201a8\"],[0.3333333333333333,\"#9c179e\"],[0.4444444444444444,\"#bd3786\"],[0.5555555555555556,\"#d8576b\"],[0.6666666666666666,\"#ed7953\"],[0.7777777777777778,\"#fb9f3a\"],[0.8888888888888888,\"#fdca26\"],[1.0,\"#f0f921\"]],\"type\":\"histogram2d\"}],\"histogram2dcontour\":[{\"colorbar\":{\"outlinewidth\":0,\"ticks\":\"\"},\"colorscale\":[[0.0,\"#0d0887\"],[0.1111111111111111,\"#46039f\"],[0.2222222222222222,\"#7201a8\"],[0.3333333333333333,\"#9c179e\"],[0.4444444444444444,\"#bd3786\"],[0.5555555555555556,\"#d8576b\"],[0.6666666666666666,\"#ed7953\"],[0.7777777777777778,\"#fb9f3a\"],[0.8888888888888888,\"#fdca26\"],[1.0,\"#f0f921\"]],\"type\":\"histogram2dcontour\"}],\"mesh3d\":[{\"colorbar\":{\"outlinewidth\":0,\"ticks\":\"\"},\"type\":\"mesh3d\"}],\"parcoords\":[{\"line\":{\"colorbar\":{\"outlinewidth\":0,\"ticks\":\"\"}},\"type\":\"parcoords\"}],\"pie\":[{\"automargin\":true,\"type\":\"pie\"}],\"scatter\":[{\"marker\":{\"colorbar\":{\"outlinewidth\":0,\"ticks\":\"\"}},\"type\":\"scatter\"}],\"scatter3d\":[{\"line\":{\"colorbar\":{\"outlinewidth\":0,\"ticks\":\"\"}},\"marker\":{\"colorbar\":{\"outlinewidth\":0,\"ticks\":\"\"}},\"type\":\"scatter3d\"}],\"scattercarpet\":[{\"marker\":{\"colorbar\":{\"outlinewidth\":0,\"ticks\":\"\"}},\"type\":\"scattercarpet\"}],\"scattergeo\":[{\"marker\":{\"colorbar\":{\"outlinewidth\":0,\"ticks\":\"\"}},\"type\":\"scattergeo\"}],\"scattergl\":[{\"marker\":{\"colorbar\":{\"outlinewidth\":0,\"ticks\":\"\"}},\"type\":\"scattergl\"}],\"scattermapbox\":[{\"marker\":{\"colorbar\":{\"outlinewidth\":0,\"ticks\":\"\"}},\"type\":\"scattermapbox\"}],\"scatterpolar\":[{\"marker\":{\"colorbar\":{\"outlinewidth\":0,\"ticks\":\"\"}},\"type\":\"scatterpolar\"}],\"scatterpolargl\":[{\"marker\":{\"colorbar\":{\"outlinewidth\":0,\"ticks\":\"\"}},\"type\":\"scatterpolargl\"}],\"scatterternary\":[{\"marker\":{\"colorbar\":{\"outlinewidth\":0,\"ticks\":\"\"}},\"type\":\"scatterternary\"}],\"surface\":[{\"colorbar\":{\"outlinewidth\":0,\"ticks\":\"\"},\"colorscale\":[[0.0,\"#0d0887\"],[0.1111111111111111,\"#46039f\"],[0.2222222222222222,\"#7201a8\"],[0.3333333333333333,\"#9c179e\"],[0.4444444444444444,\"#bd3786\"],[0.5555555555555556,\"#d8576b\"],[0.6666666666666666,\"#ed7953\"],[0.7777777777777778,\"#fb9f3a\"],[0.8888888888888888,\"#fdca26\"],[1.0,\"#f0f921\"]],\"type\":\"surface\"}],\"table\":[{\"cells\":{\"fill\":{\"color\":\"#EBF0F8\"},\"line\":{\"color\":\"white\"}},\"header\":{\"fill\":{\"color\":\"#C8D4E3\"},\"line\":{\"color\":\"white\"}},\"type\":\"table\"}]},\"layout\":{\"annotationdefaults\":{\"arrowcolor\":\"#2a3f5f\",\"arrowhead\":0,\"arrowwidth\":1},\"autotypenumbers\":\"strict\",\"coloraxis\":{\"colorbar\":{\"outlinewidth\":0,\"ticks\":\"\"}},\"colorscale\":{\"diverging\":[[0,\"#8e0152\"],[0.1,\"#c51b7d\"],[0.2,\"#de77ae\"],[0.3,\"#f1b6da\"],[0.4,\"#fde0ef\"],[0.5,\"#f7f7f7\"],[0.6,\"#e6f5d0\"],[0.7,\"#b8e186\"],[0.8,\"#7fbc41\"],[0.9,\"#4d9221\"],[1,\"#276419\"]],\"sequential\":[[0.0,\"#0d0887\"],[0.1111111111111111,\"#46039f\"],[0.2222222222222222,\"#7201a8\"],[0.3333333333333333,\"#9c179e\"],[0.4444444444444444,\"#bd3786\"],[0.5555555555555556,\"#d8576b\"],[0.6666666666666666,\"#ed7953\"],[0.7777777777777778,\"#fb9f3a\"],[0.8888888888888888,\"#fdca26\"],[1.0,\"#f0f921\"]],\"sequentialminus\":[[0.0,\"#0d0887\"],[0.1111111111111111,\"#46039f\"],[0.2222222222222222,\"#7201a8\"],[0.3333333333333333,\"#9c179e\"],[0.4444444444444444,\"#bd3786\"],[0.5555555555555556,\"#d8576b\"],[0.6666666666666666,\"#ed7953\"],[0.7777777777777778,\"#fb9f3a\"],[0.8888888888888888,\"#fdca26\"],[1.0,\"#f0f921\"]]},\"colorway\":[\"#636efa\",\"#EF553B\",\"#00cc96\",\"#ab63fa\",\"#FFA15A\",\"#19d3f3\",\"#FF6692\",\"#B6E880\",\"#FF97FF\",\"#FECB52\"],\"font\":{\"color\":\"#2a3f5f\"},\"geo\":{\"bgcolor\":\"white\",\"lakecolor\":\"white\",\"landcolor\":\"#E5ECF6\",\"showlakes\":true,\"showland\":true,\"subunitcolor\":\"white\"},\"hoverlabel\":{\"align\":\"left\"},\"hovermode\":\"closest\",\"mapbox\":{\"style\":\"light\"},\"paper_bgcolor\":\"white\",\"plot_bgcolor\":\"#E5ECF6\",\"polar\":{\"angularaxis\":{\"gridcolor\":\"white\",\"linecolor\":\"white\",\"ticks\":\"\"},\"bgcolor\":\"#E5ECF6\",\"radialaxis\":{\"gridcolor\":\"white\",\"linecolor\":\"white\",\"ticks\":\"\"}},\"scene\":{\"xaxis\":{\"backgroundcolor\":\"#E5ECF6\",\"gridcolor\":\"white\",\"gridwidth\":2,\"linecolor\":\"white\",\"showbackground\":true,\"ticks\":\"\",\"zerolinecolor\":\"white\"},\"yaxis\":{\"backgroundcolor\":\"#E5ECF6\",\"gridcolor\":\"white\",\"gridwidth\":2,\"linecolor\":\"white\",\"showbackground\":true,\"ticks\":\"\",\"zerolinecolor\":\"white\"},\"zaxis\":{\"backgroundcolor\":\"#E5ECF6\",\"gridcolor\":\"white\",\"gridwidth\":2,\"linecolor\":\"white\",\"showbackground\":true,\"ticks\":\"\",\"zerolinecolor\":\"white\"}},\"shapedefaults\":{\"line\":{\"color\":\"#2a3f5f\"}},\"ternary\":{\"aaxis\":{\"gridcolor\":\"white\",\"linecolor\":\"white\",\"ticks\":\"\"},\"baxis\":{\"gridcolor\":\"white\",\"linecolor\":\"white\",\"ticks\":\"\"},\"bgcolor\":\"#E5ECF6\",\"caxis\":{\"gridcolor\":\"white\",\"linecolor\":\"white\",\"ticks\":\"\"}},\"title\":{\"x\":0.05},\"xaxis\":{\"automargin\":true,\"gridcolor\":\"white\",\"linecolor\":\"white\",\"ticks\":\"\",\"title\":{\"standoff\":15},\"zerolinecolor\":\"white\",\"zerolinewidth\":2},\"yaxis\":{\"automargin\":true,\"gridcolor\":\"white\",\"linecolor\":\"white\",\"ticks\":\"\",\"title\":{\"standoff\":15},\"zerolinecolor\":\"white\",\"zerolinewidth\":2}}},\"scene\":{\"domain\":{\"x\":[0.0,1.0],\"y\":[0.0,1.0]},\"xaxis\":{\"title\":{\"text\":\"en_ghosh\"}},\"yaxis\":{\"title\":{\"text\":\"density_of_solid\"}},\"zaxis\":{\"title\":{\"text\":\"youngs_modulus\"}}},\"legend\":{\"tracegroupgap\":0},\"margin\":{\"t\":60}},                        {\"responsive\": true}                    ).then(function(){\n",
       "                            \n",
       "var gd = document.getElementById('56efe126-e472-4885-95ee-97401d00ac10');\n",
       "var x = new MutationObserver(function (mutations, observer) {{\n",
       "        var display = window.getComputedStyle(gd).display;\n",
       "        if (!display || display === 'none') {{\n",
       "            console.log([gd, 'removed!']);\n",
       "            Plotly.purge(gd);\n",
       "            observer.disconnect();\n",
       "        }}\n",
       "}});\n",
       "\n",
       "// Listen for the removal of the full notebook cells\n",
       "var notebookContainer = gd.closest('#notebook-container');\n",
       "if (notebookContainer) {{\n",
       "    x.observe(notebookContainer, {childList: true});\n",
       "}}\n",
       "\n",
       "// Listen for the clearing of the current output cell\n",
       "var outputEl = gd.closest('.output');\n",
       "if (outputEl) {{\n",
       "    x.observe(outputEl, {childList: true});\n",
       "}}\n",
       "\n",
       "                        })                };                });            </script>        </div>"
      ]
     },
     "metadata": {},
     "output_type": "display_data"
    }
   ],
   "source": [
    "fig = px.scatter_3d(df, x='en_ghosh', y='density_of_solid', z='youngs_modulus')\n",
    "\n",
    "fig.show()"
   ]
  },
  {
   "cell_type": "code",
   "execution_count": 326,
   "id": "4e618515",
   "metadata": {},
   "outputs": [
    {
     "data": {
      "application/vnd.plotly.v1+json": {
       "config": {
        "plotlyServerURL": "https://plot.ly"
       },
       "data": [
        {
         "hovertemplate": "en_ghosh=%{x}<br>density_of_solid=%{y}<br>youngs_modulus=%{z}<extra></extra>",
         "legendgroup": "",
         "marker": {
          "color": "#636efa",
          "symbol": "circle"
         },
         "mode": "markers",
         "name": "",
         "scene": "scene",
         "showlegend": false,
         "type": "scatter3d",
         "x": [
          0.1472165,
          0.150078,
          0.26137,
          0.1511716,
          0.25106,
          0.1472068,
          0.1779109999999999,
          0.1440276,
          0.2569099999999999,
          0.1408379,
          0.10277,
          0.22119,
          0.1586786,
          0.1313052999999999,
          0.189935,
          0.1392532,
          0.105093,
          0.1352844,
          0.1312672,
          0.093214,
          0.1280782,
          0.2345809999999999,
          0.1273344,
          0.2390504,
          0.144986,
          0.1154119,
          0.1504066,
          0.1432362999999999,
          0.2033299999999999,
          0.212261,
          0.1944,
          0.229987,
          0.2077949999999999,
          0.22565,
          0.121644,
          0.2435163999999999,
          0.1193833,
          0.198863,
          0.1233636999999999,
          0.173447,
          0.2167244,
          0.1216986,
          0.1551517999999999
         ],
         "y": [
          10490,
          2700,
          19300,
          8920,
          22650,
          8908,
          11340,
          12023,
          21090,
          12450,
          11724,
          6570,
          3510,
          7140,
          5244,
          7874,
          535,
          7470,
          10280,
          968,
          8570,
          16650,
          6110,
          19250,
          1848,
          1550,
          8650,
          8900,
          8551,
          9066,
          7901,
          13310,
          8795,
          9841,
          1738,
          21020,
          2985,
          8219,
          4507,
          11850,
          9321,
          4472,
          7140
         ],
         "z": [
          83,
          70,
          78,
          130,
          528,
          200,
          16,
          121,
          168,
          275,
          79,
          24,
          13,
          279,
          18,
          211,
          4.9,
          198,
          329,
          10,
          105,
          186,
          128,
          411,
          287,
          20,
          50,
          209,
          61,
          70,
          55,
          78,
          65,
          69,
          45,
          463,
          74,
          56,
          116,
          8,
          74,
          64,
          108
         ]
        },
        {
         "opacity": 0.5,
         "type": "surface",
         "x": [
          [
           0.093214,
           0.111898,
           0.130582,
           0.149266,
           0.16795,
           0.18663399999999997,
           0.205318,
           0.22400199999999998,
           0.24268599999999996,
           0.26137
          ],
          [
           0.093214,
           0.111898,
           0.130582,
           0.149266,
           0.16795,
           0.18663399999999997,
           0.205318,
           0.22400199999999998,
           0.24268599999999996,
           0.26137
          ],
          [
           0.093214,
           0.111898,
           0.130582,
           0.149266,
           0.16795,
           0.18663399999999997,
           0.205318,
           0.22400199999999998,
           0.24268599999999996,
           0.26137
          ],
          [
           0.093214,
           0.111898,
           0.130582,
           0.149266,
           0.16795,
           0.18663399999999997,
           0.205318,
           0.22400199999999998,
           0.24268599999999996,
           0.26137
          ],
          [
           0.093214,
           0.111898,
           0.130582,
           0.149266,
           0.16795,
           0.18663399999999997,
           0.205318,
           0.22400199999999998,
           0.24268599999999996,
           0.26137
          ],
          [
           0.093214,
           0.111898,
           0.130582,
           0.149266,
           0.16795,
           0.18663399999999997,
           0.205318,
           0.22400199999999998,
           0.24268599999999996,
           0.26137
          ],
          [
           0.093214,
           0.111898,
           0.130582,
           0.149266,
           0.16795,
           0.18663399999999997,
           0.205318,
           0.22400199999999998,
           0.24268599999999996,
           0.26137
          ],
          [
           0.093214,
           0.111898,
           0.130582,
           0.149266,
           0.16795,
           0.18663399999999997,
           0.205318,
           0.22400199999999998,
           0.24268599999999996,
           0.26137
          ],
          [
           0.093214,
           0.111898,
           0.130582,
           0.149266,
           0.16795,
           0.18663399999999997,
           0.205318,
           0.22400199999999998,
           0.24268599999999996,
           0.26137
          ],
          [
           0.093214,
           0.111898,
           0.130582,
           0.149266,
           0.16795,
           0.18663399999999997,
           0.205318,
           0.22400199999999998,
           0.24268599999999996,
           0.26137
          ]
         ],
         "y": [
          [
           535,
           535,
           535,
           535,
           535,
           535,
           535,
           535,
           535,
           535
          ],
          [
           2992.222222222222,
           2992.222222222222,
           2992.222222222222,
           2992.222222222222,
           2992.222222222222,
           2992.222222222222,
           2992.222222222222,
           2992.222222222222,
           2992.222222222222,
           2992.222222222222
          ],
          [
           5449.444444444444,
           5449.444444444444,
           5449.444444444444,
           5449.444444444444,
           5449.444444444444,
           5449.444444444444,
           5449.444444444444,
           5449.444444444444,
           5449.444444444444,
           5449.444444444444
          ],
          [
           7906.666666666666,
           7906.666666666666,
           7906.666666666666,
           7906.666666666666,
           7906.666666666666,
           7906.666666666666,
           7906.666666666666,
           7906.666666666666,
           7906.666666666666,
           7906.666666666666
          ],
          [
           10363.888888888889,
           10363.888888888889,
           10363.888888888889,
           10363.888888888889,
           10363.888888888889,
           10363.888888888889,
           10363.888888888889,
           10363.888888888889,
           10363.888888888889,
           10363.888888888889
          ],
          [
           12821.111111111111,
           12821.111111111111,
           12821.111111111111,
           12821.111111111111,
           12821.111111111111,
           12821.111111111111,
           12821.111111111111,
           12821.111111111111,
           12821.111111111111,
           12821.111111111111
          ],
          [
           15278.333333333332,
           15278.333333333332,
           15278.333333333332,
           15278.333333333332,
           15278.333333333332,
           15278.333333333332,
           15278.333333333332,
           15278.333333333332,
           15278.333333333332,
           15278.333333333332
          ],
          [
           17735.555555555555,
           17735.555555555555,
           17735.555555555555,
           17735.555555555555,
           17735.555555555555,
           17735.555555555555,
           17735.555555555555,
           17735.555555555555,
           17735.555555555555,
           17735.555555555555
          ],
          [
           20192.777777777777,
           20192.777777777777,
           20192.777777777777,
           20192.777777777777,
           20192.777777777777,
           20192.777777777777,
           20192.777777777777,
           20192.777777777777,
           20192.777777777777,
           20192.777777777777
          ],
          [
           22650,
           22650,
           22650,
           22650,
           22650,
           22650,
           22650,
           22650,
           22650,
           22650
          ]
         ],
         "z": [
          [
           5.435816088180502,
           5.435857866078348,
           5.435899643976194,
           5.43594142187404,
           5.435983199771887,
           5.436024977669733,
           5.4360667555675795,
           5.4361085334654256,
           5.436150311363272,
           5.436192089261118
          ],
          [
           30.401605702659936,
           30.40164748055778,
           30.40168925845563,
           30.401731036353475,
           30.40177281425132,
           30.401814592149165,
           30.401856370047014,
           30.40189814794486,
           30.401939925842704,
           30.401981703740553
          ],
          [
           55.367395317139376,
           55.367437095037225,
           55.36747887293507,
           55.367520650832915,
           55.367562428730764,
           55.367604206628606,
           55.367645984526455,
           55.367687762424296,
           55.367729540322145,
           55.367771318219994
          ],
          [
           80.3331849316188,
           80.33322670951665,
           80.3332684874145,
           80.33331026531233,
           80.33335204321018,
           80.33339382110803,
           80.33343559900588,
           80.33347737690373,
           80.33351915480158,
           80.33356093269941
          ],
          [
           105.29897454609825,
           105.2990163239961,
           105.29905810189395,
           105.29909987979178,
           105.29914165768963,
           105.29918343558748,
           105.29922521348533,
           105.29926699138318,
           105.29930876928103,
           105.29935054717886
          ],
          [
           130.26476416057767,
           130.26480593847552,
           130.26484771637337,
           130.26488949427122,
           130.26493127216906,
           130.2649730500669,
           130.26501482796473,
           130.26505660586258,
           130.26509838376043,
           130.26514016165828
          ],
          [
           155.2305537750571,
           155.23059555295495,
           155.2306373308528,
           155.23067910875065,
           155.2307208866485,
           155.23076266454635,
           155.23080444244417,
           155.23084622034202,
           155.23088799823987,
           155.2309297761377
          ],
          [
           180.19634338953654,
           180.19638516743439,
           180.19642694533223,
           180.19646872323008,
           180.19651050112793,
           180.19655227902578,
           180.1965940569236,
           180.19663583482145,
           180.1966776127193,
           180.19671939061715
          ],
          [
           205.16213300401597,
           205.16217478191382,
           205.16221655981167,
           205.16225833770952,
           205.16230011560737,
           205.16234189350521,
           205.16238367140303,
           205.16242544930088,
           205.16246722719873,
           205.16250900509658
          ],
          [
           230.1279226184954,
           230.12796439639325,
           230.1280061742911,
           230.12804795218895,
           230.1280897300868,
           230.12813150798465,
           230.12817328588247,
           230.12821506378032,
           230.12825684167817,
           230.12829861957601
          ]
         ]
        },
        {
         "opacity": 0.5,
         "type": "surface",
         "x": [
          [
           0.093214,
           0.111898,
           0.130582,
           0.149266,
           0.16795,
           0.18663399999999997,
           0.205318,
           0.22400199999999998,
           0.24268599999999996,
           0.26137
          ],
          [
           0.093214,
           0.111898,
           0.130582,
           0.149266,
           0.16795,
           0.18663399999999997,
           0.205318,
           0.22400199999999998,
           0.24268599999999996,
           0.26137
          ],
          [
           0.093214,
           0.111898,
           0.130582,
           0.149266,
           0.16795,
           0.18663399999999997,
           0.205318,
           0.22400199999999998,
           0.24268599999999996,
           0.26137
          ],
          [
           0.093214,
           0.111898,
           0.130582,
           0.149266,
           0.16795,
           0.18663399999999997,
           0.205318,
           0.22400199999999998,
           0.24268599999999996,
           0.26137
          ],
          [
           0.093214,
           0.111898,
           0.130582,
           0.149266,
           0.16795,
           0.18663399999999997,
           0.205318,
           0.22400199999999998,
           0.24268599999999996,
           0.26137
          ],
          [
           0.093214,
           0.111898,
           0.130582,
           0.149266,
           0.16795,
           0.18663399999999997,
           0.205318,
           0.22400199999999998,
           0.24268599999999996,
           0.26137
          ],
          [
           0.093214,
           0.111898,
           0.130582,
           0.149266,
           0.16795,
           0.18663399999999997,
           0.205318,
           0.22400199999999998,
           0.24268599999999996,
           0.26137
          ],
          [
           0.093214,
           0.111898,
           0.130582,
           0.149266,
           0.16795,
           0.18663399999999997,
           0.205318,
           0.22400199999999998,
           0.24268599999999996,
           0.26137
          ],
          [
           0.093214,
           0.111898,
           0.130582,
           0.149266,
           0.16795,
           0.18663399999999997,
           0.205318,
           0.22400199999999998,
           0.24268599999999996,
           0.26137
          ],
          [
           0.093214,
           0.111898,
           0.130582,
           0.149266,
           0.16795,
           0.18663399999999997,
           0.205318,
           0.22400199999999998,
           0.24268599999999996,
           0.26137
          ]
         ],
         "y": [
          [
           535,
           535,
           535,
           535,
           535,
           535,
           535,
           535,
           535,
           535
          ],
          [
           2992.222222222222,
           2992.222222222222,
           2992.222222222222,
           2992.222222222222,
           2992.222222222222,
           2992.222222222222,
           2992.222222222222,
           2992.222222222222,
           2992.222222222222,
           2992.222222222222
          ],
          [
           5449.444444444444,
           5449.444444444444,
           5449.444444444444,
           5449.444444444444,
           5449.444444444444,
           5449.444444444444,
           5449.444444444444,
           5449.444444444444,
           5449.444444444444,
           5449.444444444444
          ],
          [
           7906.666666666666,
           7906.666666666666,
           7906.666666666666,
           7906.666666666666,
           7906.666666666666,
           7906.666666666666,
           7906.666666666666,
           7906.666666666666,
           7906.666666666666,
           7906.666666666666
          ],
          [
           10363.888888888889,
           10363.888888888889,
           10363.888888888889,
           10363.888888888889,
           10363.888888888889,
           10363.888888888889,
           10363.888888888889,
           10363.888888888889,
           10363.888888888889,
           10363.888888888889
          ],
          [
           12821.111111111111,
           12821.111111111111,
           12821.111111111111,
           12821.111111111111,
           12821.111111111111,
           12821.111111111111,
           12821.111111111111,
           12821.111111111111,
           12821.111111111111,
           12821.111111111111
          ],
          [
           15278.333333333332,
           15278.333333333332,
           15278.333333333332,
           15278.333333333332,
           15278.333333333332,
           15278.333333333332,
           15278.333333333332,
           15278.333333333332,
           15278.333333333332,
           15278.333333333332
          ],
          [
           17735.555555555555,
           17735.555555555555,
           17735.555555555555,
           17735.555555555555,
           17735.555555555555,
           17735.555555555555,
           17735.555555555555,
           17735.555555555555,
           17735.555555555555,
           17735.555555555555
          ],
          [
           20192.777777777777,
           20192.777777777777,
           20192.777777777777,
           20192.777777777777,
           20192.777777777777,
           20192.777777777777,
           20192.777777777777,
           20192.777777777777,
           20192.777777777777,
           20192.777777777777
          ],
          [
           22650,
           22650,
           22650,
           22650,
           22650,
           22650,
           22650,
           22650,
           22650,
           22650
          ]
         ],
         "z": [
          [
           5.190839730475172,
           5.190846171920513,
           5.190852613365853,
           5.190859054811193,
           5.190865496256532,
           5.190871937701873,
           5.190878379147213,
           5.190884820592553,
           5.190891262037892,
           5.190897703483233
          ],
          [
           29.032274352759952,
           29.032280794205292,
           29.03228723565063,
           29.03229367709597,
           29.03230011854131,
           29.03230655998665,
           29.03231300143199,
           29.03231944287733,
           29.03232588432267,
           29.03233232576801
          ],
          [
           52.873708975044735,
           52.87371541649007,
           52.873721857935415,
           52.87372829938075,
           52.873734740826094,
           52.87374118227143,
           52.873747623716774,
           52.87375406516212,
           52.873760506607454,
           52.8737669480528
          ],
          [
           76.7151435973295,
           76.71515003877484,
           76.71515648022017,
           76.71516292166552,
           76.71516936311086,
           76.7151758045562,
           76.71518224600153,
           76.71518868744688,
           76.71519512889222,
           76.71520157033756
          ],
          [
           100.55657821961428,
           100.55658466105962,
           100.55659110250495,
           100.5565975439503,
           100.55660398539564,
           100.55661042684098,
           100.55661686828631,
           100.55662330973166,
           100.556629751177,
           100.55663619262234
          ],
          [
           124.39801284189907,
           124.39801928334441,
           124.39802572478975,
           124.3980321662351,
           124.39803860768043,
           124.39804504912577,
           124.3980514905711,
           124.39805793201646,
           124.39806437346179,
           124.39807081490713
          ],
          [
           148.23944746418383,
           148.23945390562918,
           148.2394603470745,
           148.23946678851985,
           148.23947322996517,
           148.23947967141052,
           148.23948611285587,
           148.2394925543012,
           148.23949899574654,
           148.2395054371919
          ],
          [
           172.08088208646862,
           172.08088852791397,
           172.0808949693593,
           172.08090141080464,
           172.08090785224996,
           172.08091429369532,
           172.08092073514067,
           172.080927176586,
           172.08093361803134,
           172.0809400594767
          ],
          [
           195.92231670875339,
           195.92232315019874,
           195.92232959164406,
           195.9223360330894,
           195.92234247453473,
           195.92234891598008,
           195.92235535742543,
           195.92236179887075,
           195.9223682403161,
           195.92237468176145
          ],
          [
           219.76375133103818,
           219.76375777248353,
           219.76376421392885,
           219.7637706553742,
           219.76377709681952,
           219.76378353826487,
           219.76378997971022,
           219.76379642115555,
           219.7638028626009,
           219.76380930404625
          ]
         ]
        }
       ],
       "layout": {
        "legend": {
         "tracegroupgap": 0
        },
        "margin": {
         "t": 60
        },
        "scene": {
         "domain": {
          "x": [
           0,
           1
          ],
          "y": [
           0,
           1
          ]
         },
         "xaxis": {
          "title": {
           "text": "Electronegativity"
          }
         },
         "yaxis": {
          "title": {
           "text": "Density"
          }
         },
         "zaxis": {
          "title": {
           "text": "Youngs Modulus"
          }
         }
        },
        "template": {
         "data": {
          "bar": [
           {
            "error_x": {
             "color": "#2a3f5f"
            },
            "error_y": {
             "color": "#2a3f5f"
            },
            "marker": {
             "line": {
              "color": "#E5ECF6",
              "width": 0.5
             },
             "pattern": {
              "fillmode": "overlay",
              "size": 10,
              "solidity": 0.2
             }
            },
            "type": "bar"
           }
          ],
          "barpolar": [
           {
            "marker": {
             "line": {
              "color": "#E5ECF6",
              "width": 0.5
             },
             "pattern": {
              "fillmode": "overlay",
              "size": 10,
              "solidity": 0.2
             }
            },
            "type": "barpolar"
           }
          ],
          "carpet": [
           {
            "aaxis": {
             "endlinecolor": "#2a3f5f",
             "gridcolor": "white",
             "linecolor": "white",
             "minorgridcolor": "white",
             "startlinecolor": "#2a3f5f"
            },
            "baxis": {
             "endlinecolor": "#2a3f5f",
             "gridcolor": "white",
             "linecolor": "white",
             "minorgridcolor": "white",
             "startlinecolor": "#2a3f5f"
            },
            "type": "carpet"
           }
          ],
          "choropleth": [
           {
            "colorbar": {
             "outlinewidth": 0,
             "ticks": ""
            },
            "type": "choropleth"
           }
          ],
          "contour": [
           {
            "colorbar": {
             "outlinewidth": 0,
             "ticks": ""
            },
            "colorscale": [
             [
              0,
              "#0d0887"
             ],
             [
              0.1111111111111111,
              "#46039f"
             ],
             [
              0.2222222222222222,
              "#7201a8"
             ],
             [
              0.3333333333333333,
              "#9c179e"
             ],
             [
              0.4444444444444444,
              "#bd3786"
             ],
             [
              0.5555555555555556,
              "#d8576b"
             ],
             [
              0.6666666666666666,
              "#ed7953"
             ],
             [
              0.7777777777777778,
              "#fb9f3a"
             ],
             [
              0.8888888888888888,
              "#fdca26"
             ],
             [
              1,
              "#f0f921"
             ]
            ],
            "type": "contour"
           }
          ],
          "contourcarpet": [
           {
            "colorbar": {
             "outlinewidth": 0,
             "ticks": ""
            },
            "type": "contourcarpet"
           }
          ],
          "heatmap": [
           {
            "colorbar": {
             "outlinewidth": 0,
             "ticks": ""
            },
            "colorscale": [
             [
              0,
              "#0d0887"
             ],
             [
              0.1111111111111111,
              "#46039f"
             ],
             [
              0.2222222222222222,
              "#7201a8"
             ],
             [
              0.3333333333333333,
              "#9c179e"
             ],
             [
              0.4444444444444444,
              "#bd3786"
             ],
             [
              0.5555555555555556,
              "#d8576b"
             ],
             [
              0.6666666666666666,
              "#ed7953"
             ],
             [
              0.7777777777777778,
              "#fb9f3a"
             ],
             [
              0.8888888888888888,
              "#fdca26"
             ],
             [
              1,
              "#f0f921"
             ]
            ],
            "type": "heatmap"
           }
          ],
          "heatmapgl": [
           {
            "colorbar": {
             "outlinewidth": 0,
             "ticks": ""
            },
            "colorscale": [
             [
              0,
              "#0d0887"
             ],
             [
              0.1111111111111111,
              "#46039f"
             ],
             [
              0.2222222222222222,
              "#7201a8"
             ],
             [
              0.3333333333333333,
              "#9c179e"
             ],
             [
              0.4444444444444444,
              "#bd3786"
             ],
             [
              0.5555555555555556,
              "#d8576b"
             ],
             [
              0.6666666666666666,
              "#ed7953"
             ],
             [
              0.7777777777777778,
              "#fb9f3a"
             ],
             [
              0.8888888888888888,
              "#fdca26"
             ],
             [
              1,
              "#f0f921"
             ]
            ],
            "type": "heatmapgl"
           }
          ],
          "histogram": [
           {
            "marker": {
             "pattern": {
              "fillmode": "overlay",
              "size": 10,
              "solidity": 0.2
             }
            },
            "type": "histogram"
           }
          ],
          "histogram2d": [
           {
            "colorbar": {
             "outlinewidth": 0,
             "ticks": ""
            },
            "colorscale": [
             [
              0,
              "#0d0887"
             ],
             [
              0.1111111111111111,
              "#46039f"
             ],
             [
              0.2222222222222222,
              "#7201a8"
             ],
             [
              0.3333333333333333,
              "#9c179e"
             ],
             [
              0.4444444444444444,
              "#bd3786"
             ],
             [
              0.5555555555555556,
              "#d8576b"
             ],
             [
              0.6666666666666666,
              "#ed7953"
             ],
             [
              0.7777777777777778,
              "#fb9f3a"
             ],
             [
              0.8888888888888888,
              "#fdca26"
             ],
             [
              1,
              "#f0f921"
             ]
            ],
            "type": "histogram2d"
           }
          ],
          "histogram2dcontour": [
           {
            "colorbar": {
             "outlinewidth": 0,
             "ticks": ""
            },
            "colorscale": [
             [
              0,
              "#0d0887"
             ],
             [
              0.1111111111111111,
              "#46039f"
             ],
             [
              0.2222222222222222,
              "#7201a8"
             ],
             [
              0.3333333333333333,
              "#9c179e"
             ],
             [
              0.4444444444444444,
              "#bd3786"
             ],
             [
              0.5555555555555556,
              "#d8576b"
             ],
             [
              0.6666666666666666,
              "#ed7953"
             ],
             [
              0.7777777777777778,
              "#fb9f3a"
             ],
             [
              0.8888888888888888,
              "#fdca26"
             ],
             [
              1,
              "#f0f921"
             ]
            ],
            "type": "histogram2dcontour"
           }
          ],
          "mesh3d": [
           {
            "colorbar": {
             "outlinewidth": 0,
             "ticks": ""
            },
            "type": "mesh3d"
           }
          ],
          "parcoords": [
           {
            "line": {
             "colorbar": {
              "outlinewidth": 0,
              "ticks": ""
             }
            },
            "type": "parcoords"
           }
          ],
          "pie": [
           {
            "automargin": true,
            "type": "pie"
           }
          ],
          "scatter": [
           {
            "marker": {
             "colorbar": {
              "outlinewidth": 0,
              "ticks": ""
             }
            },
            "type": "scatter"
           }
          ],
          "scatter3d": [
           {
            "line": {
             "colorbar": {
              "outlinewidth": 0,
              "ticks": ""
             }
            },
            "marker": {
             "colorbar": {
              "outlinewidth": 0,
              "ticks": ""
             }
            },
            "type": "scatter3d"
           }
          ],
          "scattercarpet": [
           {
            "marker": {
             "colorbar": {
              "outlinewidth": 0,
              "ticks": ""
             }
            },
            "type": "scattercarpet"
           }
          ],
          "scattergeo": [
           {
            "marker": {
             "colorbar": {
              "outlinewidth": 0,
              "ticks": ""
             }
            },
            "type": "scattergeo"
           }
          ],
          "scattergl": [
           {
            "marker": {
             "colorbar": {
              "outlinewidth": 0,
              "ticks": ""
             }
            },
            "type": "scattergl"
           }
          ],
          "scattermapbox": [
           {
            "marker": {
             "colorbar": {
              "outlinewidth": 0,
              "ticks": ""
             }
            },
            "type": "scattermapbox"
           }
          ],
          "scatterpolar": [
           {
            "marker": {
             "colorbar": {
              "outlinewidth": 0,
              "ticks": ""
             }
            },
            "type": "scatterpolar"
           }
          ],
          "scatterpolargl": [
           {
            "marker": {
             "colorbar": {
              "outlinewidth": 0,
              "ticks": ""
             }
            },
            "type": "scatterpolargl"
           }
          ],
          "scatterternary": [
           {
            "marker": {
             "colorbar": {
              "outlinewidth": 0,
              "ticks": ""
             }
            },
            "type": "scatterternary"
           }
          ],
          "surface": [
           {
            "colorbar": {
             "outlinewidth": 0,
             "ticks": ""
            },
            "colorscale": [
             [
              0,
              "#0d0887"
             ],
             [
              0.1111111111111111,
              "#46039f"
             ],
             [
              0.2222222222222222,
              "#7201a8"
             ],
             [
              0.3333333333333333,
              "#9c179e"
             ],
             [
              0.4444444444444444,
              "#bd3786"
             ],
             [
              0.5555555555555556,
              "#d8576b"
             ],
             [
              0.6666666666666666,
              "#ed7953"
             ],
             [
              0.7777777777777778,
              "#fb9f3a"
             ],
             [
              0.8888888888888888,
              "#fdca26"
             ],
             [
              1,
              "#f0f921"
             ]
            ],
            "type": "surface"
           }
          ],
          "table": [
           {
            "cells": {
             "fill": {
              "color": "#EBF0F8"
             },
             "line": {
              "color": "white"
             }
            },
            "header": {
             "fill": {
              "color": "#C8D4E3"
             },
             "line": {
              "color": "white"
             }
            },
            "type": "table"
           }
          ]
         },
         "layout": {
          "annotationdefaults": {
           "arrowcolor": "#2a3f5f",
           "arrowhead": 0,
           "arrowwidth": 1
          },
          "autotypenumbers": "strict",
          "coloraxis": {
           "colorbar": {
            "outlinewidth": 0,
            "ticks": ""
           }
          },
          "colorscale": {
           "diverging": [
            [
             0,
             "#8e0152"
            ],
            [
             0.1,
             "#c51b7d"
            ],
            [
             0.2,
             "#de77ae"
            ],
            [
             0.3,
             "#f1b6da"
            ],
            [
             0.4,
             "#fde0ef"
            ],
            [
             0.5,
             "#f7f7f7"
            ],
            [
             0.6,
             "#e6f5d0"
            ],
            [
             0.7,
             "#b8e186"
            ],
            [
             0.8,
             "#7fbc41"
            ],
            [
             0.9,
             "#4d9221"
            ],
            [
             1,
             "#276419"
            ]
           ],
           "sequential": [
            [
             0,
             "#0d0887"
            ],
            [
             0.1111111111111111,
             "#46039f"
            ],
            [
             0.2222222222222222,
             "#7201a8"
            ],
            [
             0.3333333333333333,
             "#9c179e"
            ],
            [
             0.4444444444444444,
             "#bd3786"
            ],
            [
             0.5555555555555556,
             "#d8576b"
            ],
            [
             0.6666666666666666,
             "#ed7953"
            ],
            [
             0.7777777777777778,
             "#fb9f3a"
            ],
            [
             0.8888888888888888,
             "#fdca26"
            ],
            [
             1,
             "#f0f921"
            ]
           ],
           "sequentialminus": [
            [
             0,
             "#0d0887"
            ],
            [
             0.1111111111111111,
             "#46039f"
            ],
            [
             0.2222222222222222,
             "#7201a8"
            ],
            [
             0.3333333333333333,
             "#9c179e"
            ],
            [
             0.4444444444444444,
             "#bd3786"
            ],
            [
             0.5555555555555556,
             "#d8576b"
            ],
            [
             0.6666666666666666,
             "#ed7953"
            ],
            [
             0.7777777777777778,
             "#fb9f3a"
            ],
            [
             0.8888888888888888,
             "#fdca26"
            ],
            [
             1,
             "#f0f921"
            ]
           ]
          },
          "colorway": [
           "#636efa",
           "#EF553B",
           "#00cc96",
           "#ab63fa",
           "#FFA15A",
           "#19d3f3",
           "#FF6692",
           "#B6E880",
           "#FF97FF",
           "#FECB52"
          ],
          "font": {
           "color": "#2a3f5f"
          },
          "geo": {
           "bgcolor": "white",
           "lakecolor": "white",
           "landcolor": "#E5ECF6",
           "showlakes": true,
           "showland": true,
           "subunitcolor": "white"
          },
          "hoverlabel": {
           "align": "left"
          },
          "hovermode": "closest",
          "mapbox": {
           "style": "light"
          },
          "paper_bgcolor": "white",
          "plot_bgcolor": "#E5ECF6",
          "polar": {
           "angularaxis": {
            "gridcolor": "white",
            "linecolor": "white",
            "ticks": ""
           },
           "bgcolor": "#E5ECF6",
           "radialaxis": {
            "gridcolor": "white",
            "linecolor": "white",
            "ticks": ""
           }
          },
          "scene": {
           "xaxis": {
            "backgroundcolor": "#E5ECF6",
            "gridcolor": "white",
            "gridwidth": 2,
            "linecolor": "white",
            "showbackground": true,
            "ticks": "",
            "zerolinecolor": "white"
           },
           "yaxis": {
            "backgroundcolor": "#E5ECF6",
            "gridcolor": "white",
            "gridwidth": 2,
            "linecolor": "white",
            "showbackground": true,
            "ticks": "",
            "zerolinecolor": "white"
           },
           "zaxis": {
            "backgroundcolor": "#E5ECF6",
            "gridcolor": "white",
            "gridwidth": 2,
            "linecolor": "white",
            "showbackground": true,
            "ticks": "",
            "zerolinecolor": "white"
           }
          },
          "shapedefaults": {
           "line": {
            "color": "#2a3f5f"
           }
          },
          "ternary": {
           "aaxis": {
            "gridcolor": "white",
            "linecolor": "white",
            "ticks": ""
           },
           "baxis": {
            "gridcolor": "white",
            "linecolor": "white",
            "ticks": ""
           },
           "bgcolor": "#E5ECF6",
           "caxis": {
            "gridcolor": "white",
            "linecolor": "white",
            "ticks": ""
           }
          },
          "title": {
           "x": 0.05
          },
          "xaxis": {
           "automargin": true,
           "gridcolor": "white",
           "linecolor": "white",
           "ticks": "",
           "title": {
            "standoff": 15
           },
           "zerolinecolor": "white",
           "zerolinewidth": 2
          },
          "yaxis": {
           "automargin": true,
           "gridcolor": "white",
           "linecolor": "white",
           "ticks": "",
           "title": {
            "standoff": 15
           },
           "zerolinecolor": "white",
           "zerolinewidth": 2
          }
         }
        }
       }
      },
      "text/html": [
       "<div>                            <div id=\"c5421e4c-cb15-4d57-83cc-0a5072fa1e42\" class=\"plotly-graph-div\" style=\"height:525px; width:100%;\"></div>            <script type=\"text/javascript\">                require([\"plotly\"], function(Plotly) {                    window.PLOTLYENV=window.PLOTLYENV || {};                                    if (document.getElementById(\"c5421e4c-cb15-4d57-83cc-0a5072fa1e42\")) {                    Plotly.newPlot(                        \"c5421e4c-cb15-4d57-83cc-0a5072fa1e42\",                        [{\"hovertemplate\":\"en_ghosh=%{x}<br>density_of_solid=%{y}<br>youngs_modulus=%{z}<extra></extra>\",\"legendgroup\":\"\",\"marker\":{\"color\":\"#636efa\",\"symbol\":\"circle\"},\"mode\":\"markers\",\"name\":\"\",\"scene\":\"scene\",\"showlegend\":false,\"x\":[0.1472165,0.150078,0.26137,0.1511716,0.25106,0.1472068,0.1779109999999999,0.1440276,0.2569099999999999,0.1408379,0.10277,0.22119,0.1586786,0.1313052999999999,0.189935,0.1392532,0.105093,0.1352844,0.1312672,0.093214,0.1280782,0.2345809999999999,0.1273344,0.2390504,0.144986,0.1154119,0.1504066,0.1432362999999999,0.2033299999999999,0.212261,0.1944,0.229987,0.2077949999999999,0.22565,0.121644,0.2435163999999999,0.1193833,0.198863,0.1233636999999999,0.173447,0.2167244,0.1216986,0.1551517999999999],\"y\":[10490.0,2700.0,19300.0,8920.0,22650.0,8908.0,11340.0,12023.0,21090.0,12450.0,11724.0,6570.0,3510.0,7140.0,5244.0,7874.0,535.0,7470.0,10280.0,968.0,8570.0,16650.0,6110.0,19250.0,1848.0,1550.0,8650.0,8900.0,8551.0,9066.0,7901.0,13310.0,8795.0,9841.0,1738.0,21020.0,2985.0,8219.0,4507.0,11850.0,9321.0,4472.0,7140.0],\"z\":[83.0,70.0,78.0,130.0,528.0,200.0,16.0,121.0,168.0,275.0,79.0,24.0,13.0,279.0,18.0,211.0,4.9,198.0,329.0,10.0,105.0,186.0,128.0,411.0,287.0,20.0,50.0,209.0,61.0,70.0,55.0,78.0,65.0,69.0,45.0,463.0,74.0,56.0,116.0,8.0,74.0,64.0,108.0],\"type\":\"scatter3d\"},{\"opacity\":0.5,\"x\":[[0.093214,0.111898,0.130582,0.149266,0.16795,0.18663399999999997,0.205318,0.22400199999999998,0.24268599999999996,0.26137],[0.093214,0.111898,0.130582,0.149266,0.16795,0.18663399999999997,0.205318,0.22400199999999998,0.24268599999999996,0.26137],[0.093214,0.111898,0.130582,0.149266,0.16795,0.18663399999999997,0.205318,0.22400199999999998,0.24268599999999996,0.26137],[0.093214,0.111898,0.130582,0.149266,0.16795,0.18663399999999997,0.205318,0.22400199999999998,0.24268599999999996,0.26137],[0.093214,0.111898,0.130582,0.149266,0.16795,0.18663399999999997,0.205318,0.22400199999999998,0.24268599999999996,0.26137],[0.093214,0.111898,0.130582,0.149266,0.16795,0.18663399999999997,0.205318,0.22400199999999998,0.24268599999999996,0.26137],[0.093214,0.111898,0.130582,0.149266,0.16795,0.18663399999999997,0.205318,0.22400199999999998,0.24268599999999996,0.26137],[0.093214,0.111898,0.130582,0.149266,0.16795,0.18663399999999997,0.205318,0.22400199999999998,0.24268599999999996,0.26137],[0.093214,0.111898,0.130582,0.149266,0.16795,0.18663399999999997,0.205318,0.22400199999999998,0.24268599999999996,0.26137],[0.093214,0.111898,0.130582,0.149266,0.16795,0.18663399999999997,0.205318,0.22400199999999998,0.24268599999999996,0.26137]],\"y\":[[535.0,535.0,535.0,535.0,535.0,535.0,535.0,535.0,535.0,535.0],[2992.222222222222,2992.222222222222,2992.222222222222,2992.222222222222,2992.222222222222,2992.222222222222,2992.222222222222,2992.222222222222,2992.222222222222,2992.222222222222],[5449.444444444444,5449.444444444444,5449.444444444444,5449.444444444444,5449.444444444444,5449.444444444444,5449.444444444444,5449.444444444444,5449.444444444444,5449.444444444444],[7906.666666666666,7906.666666666666,7906.666666666666,7906.666666666666,7906.666666666666,7906.666666666666,7906.666666666666,7906.666666666666,7906.666666666666,7906.666666666666],[10363.888888888889,10363.888888888889,10363.888888888889,10363.888888888889,10363.888888888889,10363.888888888889,10363.888888888889,10363.888888888889,10363.888888888889,10363.888888888889],[12821.111111111111,12821.111111111111,12821.111111111111,12821.111111111111,12821.111111111111,12821.111111111111,12821.111111111111,12821.111111111111,12821.111111111111,12821.111111111111],[15278.333333333332,15278.333333333332,15278.333333333332,15278.333333333332,15278.333333333332,15278.333333333332,15278.333333333332,15278.333333333332,15278.333333333332,15278.333333333332],[17735.555555555555,17735.555555555555,17735.555555555555,17735.555555555555,17735.555555555555,17735.555555555555,17735.555555555555,17735.555555555555,17735.555555555555,17735.555555555555],[20192.777777777777,20192.777777777777,20192.777777777777,20192.777777777777,20192.777777777777,20192.777777777777,20192.777777777777,20192.777777777777,20192.777777777777,20192.777777777777],[22650.0,22650.0,22650.0,22650.0,22650.0,22650.0,22650.0,22650.0,22650.0,22650.0]],\"z\":[[5.435816088180502,5.435857866078348,5.435899643976194,5.43594142187404,5.435983199771887,5.436024977669733,5.4360667555675795,5.4361085334654256,5.436150311363272,5.436192089261118],[30.401605702659936,30.40164748055778,30.40168925845563,30.401731036353475,30.40177281425132,30.401814592149165,30.401856370047014,30.40189814794486,30.401939925842704,30.401981703740553],[55.367395317139376,55.367437095037225,55.36747887293507,55.367520650832915,55.367562428730764,55.367604206628606,55.367645984526455,55.367687762424296,55.367729540322145,55.367771318219994],[80.3331849316188,80.33322670951665,80.3332684874145,80.33331026531233,80.33335204321018,80.33339382110803,80.33343559900588,80.33347737690373,80.33351915480158,80.33356093269941],[105.29897454609825,105.2990163239961,105.29905810189395,105.29909987979178,105.29914165768963,105.29918343558748,105.29922521348533,105.29926699138318,105.29930876928103,105.29935054717886],[130.26476416057767,130.26480593847552,130.26484771637337,130.26488949427122,130.26493127216906,130.2649730500669,130.26501482796473,130.26505660586258,130.26509838376043,130.26514016165828],[155.2305537750571,155.23059555295495,155.2306373308528,155.23067910875065,155.2307208866485,155.23076266454635,155.23080444244417,155.23084622034202,155.23088799823987,155.2309297761377],[180.19634338953654,180.19638516743439,180.19642694533223,180.19646872323008,180.19651050112793,180.19655227902578,180.1965940569236,180.19663583482145,180.1966776127193,180.19671939061715],[205.16213300401597,205.16217478191382,205.16221655981167,205.16225833770952,205.16230011560737,205.16234189350521,205.16238367140303,205.16242544930088,205.16246722719873,205.16250900509658],[230.1279226184954,230.12796439639325,230.1280061742911,230.12804795218895,230.1280897300868,230.12813150798465,230.12817328588247,230.12821506378032,230.12825684167817,230.12829861957601]],\"type\":\"surface\"},{\"opacity\":0.5,\"x\":[[0.093214,0.111898,0.130582,0.149266,0.16795,0.18663399999999997,0.205318,0.22400199999999998,0.24268599999999996,0.26137],[0.093214,0.111898,0.130582,0.149266,0.16795,0.18663399999999997,0.205318,0.22400199999999998,0.24268599999999996,0.26137],[0.093214,0.111898,0.130582,0.149266,0.16795,0.18663399999999997,0.205318,0.22400199999999998,0.24268599999999996,0.26137],[0.093214,0.111898,0.130582,0.149266,0.16795,0.18663399999999997,0.205318,0.22400199999999998,0.24268599999999996,0.26137],[0.093214,0.111898,0.130582,0.149266,0.16795,0.18663399999999997,0.205318,0.22400199999999998,0.24268599999999996,0.26137],[0.093214,0.111898,0.130582,0.149266,0.16795,0.18663399999999997,0.205318,0.22400199999999998,0.24268599999999996,0.26137],[0.093214,0.111898,0.130582,0.149266,0.16795,0.18663399999999997,0.205318,0.22400199999999998,0.24268599999999996,0.26137],[0.093214,0.111898,0.130582,0.149266,0.16795,0.18663399999999997,0.205318,0.22400199999999998,0.24268599999999996,0.26137],[0.093214,0.111898,0.130582,0.149266,0.16795,0.18663399999999997,0.205318,0.22400199999999998,0.24268599999999996,0.26137],[0.093214,0.111898,0.130582,0.149266,0.16795,0.18663399999999997,0.205318,0.22400199999999998,0.24268599999999996,0.26137]],\"y\":[[535.0,535.0,535.0,535.0,535.0,535.0,535.0,535.0,535.0,535.0],[2992.222222222222,2992.222222222222,2992.222222222222,2992.222222222222,2992.222222222222,2992.222222222222,2992.222222222222,2992.222222222222,2992.222222222222,2992.222222222222],[5449.444444444444,5449.444444444444,5449.444444444444,5449.444444444444,5449.444444444444,5449.444444444444,5449.444444444444,5449.444444444444,5449.444444444444,5449.444444444444],[7906.666666666666,7906.666666666666,7906.666666666666,7906.666666666666,7906.666666666666,7906.666666666666,7906.666666666666,7906.666666666666,7906.666666666666,7906.666666666666],[10363.888888888889,10363.888888888889,10363.888888888889,10363.888888888889,10363.888888888889,10363.888888888889,10363.888888888889,10363.888888888889,10363.888888888889,10363.888888888889],[12821.111111111111,12821.111111111111,12821.111111111111,12821.111111111111,12821.111111111111,12821.111111111111,12821.111111111111,12821.111111111111,12821.111111111111,12821.111111111111],[15278.333333333332,15278.333333333332,15278.333333333332,15278.333333333332,15278.333333333332,15278.333333333332,15278.333333333332,15278.333333333332,15278.333333333332,15278.333333333332],[17735.555555555555,17735.555555555555,17735.555555555555,17735.555555555555,17735.555555555555,17735.555555555555,17735.555555555555,17735.555555555555,17735.555555555555,17735.555555555555],[20192.777777777777,20192.777777777777,20192.777777777777,20192.777777777777,20192.777777777777,20192.777777777777,20192.777777777777,20192.777777777777,20192.777777777777,20192.777777777777],[22650.0,22650.0,22650.0,22650.0,22650.0,22650.0,22650.0,22650.0,22650.0,22650.0]],\"z\":[[5.190839730475172,5.190846171920513,5.190852613365853,5.190859054811193,5.190865496256532,5.190871937701873,5.190878379147213,5.190884820592553,5.190891262037892,5.190897703483233],[29.032274352759952,29.032280794205292,29.03228723565063,29.03229367709597,29.03230011854131,29.03230655998665,29.03231300143199,29.03231944287733,29.03232588432267,29.03233232576801],[52.873708975044735,52.87371541649007,52.873721857935415,52.87372829938075,52.873734740826094,52.87374118227143,52.873747623716774,52.87375406516212,52.873760506607454,52.8737669480528],[76.7151435973295,76.71515003877484,76.71515648022017,76.71516292166552,76.71516936311086,76.7151758045562,76.71518224600153,76.71518868744688,76.71519512889222,76.71520157033756],[100.55657821961428,100.55658466105962,100.55659110250495,100.5565975439503,100.55660398539564,100.55661042684098,100.55661686828631,100.55662330973166,100.556629751177,100.55663619262234],[124.39801284189907,124.39801928334441,124.39802572478975,124.3980321662351,124.39803860768043,124.39804504912577,124.3980514905711,124.39805793201646,124.39806437346179,124.39807081490713],[148.23944746418383,148.23945390562918,148.2394603470745,148.23946678851985,148.23947322996517,148.23947967141052,148.23948611285587,148.2394925543012,148.23949899574654,148.2395054371919],[172.08088208646862,172.08088852791397,172.0808949693593,172.08090141080464,172.08090785224996,172.08091429369532,172.08092073514067,172.080927176586,172.08093361803134,172.0809400594767],[195.92231670875339,195.92232315019874,195.92232959164406,195.9223360330894,195.92234247453473,195.92234891598008,195.92235535742543,195.92236179887075,195.9223682403161,195.92237468176145],[219.76375133103818,219.76375777248353,219.76376421392885,219.7637706553742,219.76377709681952,219.76378353826487,219.76378997971022,219.76379642115555,219.7638028626009,219.76380930404625]],\"type\":\"surface\"}],                        {\"template\":{\"data\":{\"bar\":[{\"error_x\":{\"color\":\"#2a3f5f\"},\"error_y\":{\"color\":\"#2a3f5f\"},\"marker\":{\"line\":{\"color\":\"#E5ECF6\",\"width\":0.5},\"pattern\":{\"fillmode\":\"overlay\",\"size\":10,\"solidity\":0.2}},\"type\":\"bar\"}],\"barpolar\":[{\"marker\":{\"line\":{\"color\":\"#E5ECF6\",\"width\":0.5},\"pattern\":{\"fillmode\":\"overlay\",\"size\":10,\"solidity\":0.2}},\"type\":\"barpolar\"}],\"carpet\":[{\"aaxis\":{\"endlinecolor\":\"#2a3f5f\",\"gridcolor\":\"white\",\"linecolor\":\"white\",\"minorgridcolor\":\"white\",\"startlinecolor\":\"#2a3f5f\"},\"baxis\":{\"endlinecolor\":\"#2a3f5f\",\"gridcolor\":\"white\",\"linecolor\":\"white\",\"minorgridcolor\":\"white\",\"startlinecolor\":\"#2a3f5f\"},\"type\":\"carpet\"}],\"choropleth\":[{\"colorbar\":{\"outlinewidth\":0,\"ticks\":\"\"},\"type\":\"choropleth\"}],\"contour\":[{\"colorbar\":{\"outlinewidth\":0,\"ticks\":\"\"},\"colorscale\":[[0.0,\"#0d0887\"],[0.1111111111111111,\"#46039f\"],[0.2222222222222222,\"#7201a8\"],[0.3333333333333333,\"#9c179e\"],[0.4444444444444444,\"#bd3786\"],[0.5555555555555556,\"#d8576b\"],[0.6666666666666666,\"#ed7953\"],[0.7777777777777778,\"#fb9f3a\"],[0.8888888888888888,\"#fdca26\"],[1.0,\"#f0f921\"]],\"type\":\"contour\"}],\"contourcarpet\":[{\"colorbar\":{\"outlinewidth\":0,\"ticks\":\"\"},\"type\":\"contourcarpet\"}],\"heatmap\":[{\"colorbar\":{\"outlinewidth\":0,\"ticks\":\"\"},\"colorscale\":[[0.0,\"#0d0887\"],[0.1111111111111111,\"#46039f\"],[0.2222222222222222,\"#7201a8\"],[0.3333333333333333,\"#9c179e\"],[0.4444444444444444,\"#bd3786\"],[0.5555555555555556,\"#d8576b\"],[0.6666666666666666,\"#ed7953\"],[0.7777777777777778,\"#fb9f3a\"],[0.8888888888888888,\"#fdca26\"],[1.0,\"#f0f921\"]],\"type\":\"heatmap\"}],\"heatmapgl\":[{\"colorbar\":{\"outlinewidth\":0,\"ticks\":\"\"},\"colorscale\":[[0.0,\"#0d0887\"],[0.1111111111111111,\"#46039f\"],[0.2222222222222222,\"#7201a8\"],[0.3333333333333333,\"#9c179e\"],[0.4444444444444444,\"#bd3786\"],[0.5555555555555556,\"#d8576b\"],[0.6666666666666666,\"#ed7953\"],[0.7777777777777778,\"#fb9f3a\"],[0.8888888888888888,\"#fdca26\"],[1.0,\"#f0f921\"]],\"type\":\"heatmapgl\"}],\"histogram\":[{\"marker\":{\"pattern\":{\"fillmode\":\"overlay\",\"size\":10,\"solidity\":0.2}},\"type\":\"histogram\"}],\"histogram2d\":[{\"colorbar\":{\"outlinewidth\":0,\"ticks\":\"\"},\"colorscale\":[[0.0,\"#0d0887\"],[0.1111111111111111,\"#46039f\"],[0.2222222222222222,\"#7201a8\"],[0.3333333333333333,\"#9c179e\"],[0.4444444444444444,\"#bd3786\"],[0.5555555555555556,\"#d8576b\"],[0.6666666666666666,\"#ed7953\"],[0.7777777777777778,\"#fb9f3a\"],[0.8888888888888888,\"#fdca26\"],[1.0,\"#f0f921\"]],\"type\":\"histogram2d\"}],\"histogram2dcontour\":[{\"colorbar\":{\"outlinewidth\":0,\"ticks\":\"\"},\"colorscale\":[[0.0,\"#0d0887\"],[0.1111111111111111,\"#46039f\"],[0.2222222222222222,\"#7201a8\"],[0.3333333333333333,\"#9c179e\"],[0.4444444444444444,\"#bd3786\"],[0.5555555555555556,\"#d8576b\"],[0.6666666666666666,\"#ed7953\"],[0.7777777777777778,\"#fb9f3a\"],[0.8888888888888888,\"#fdca26\"],[1.0,\"#f0f921\"]],\"type\":\"histogram2dcontour\"}],\"mesh3d\":[{\"colorbar\":{\"outlinewidth\":0,\"ticks\":\"\"},\"type\":\"mesh3d\"}],\"parcoords\":[{\"line\":{\"colorbar\":{\"outlinewidth\":0,\"ticks\":\"\"}},\"type\":\"parcoords\"}],\"pie\":[{\"automargin\":true,\"type\":\"pie\"}],\"scatter\":[{\"marker\":{\"colorbar\":{\"outlinewidth\":0,\"ticks\":\"\"}},\"type\":\"scatter\"}],\"scatter3d\":[{\"line\":{\"colorbar\":{\"outlinewidth\":0,\"ticks\":\"\"}},\"marker\":{\"colorbar\":{\"outlinewidth\":0,\"ticks\":\"\"}},\"type\":\"scatter3d\"}],\"scattercarpet\":[{\"marker\":{\"colorbar\":{\"outlinewidth\":0,\"ticks\":\"\"}},\"type\":\"scattercarpet\"}],\"scattergeo\":[{\"marker\":{\"colorbar\":{\"outlinewidth\":0,\"ticks\":\"\"}},\"type\":\"scattergeo\"}],\"scattergl\":[{\"marker\":{\"colorbar\":{\"outlinewidth\":0,\"ticks\":\"\"}},\"type\":\"scattergl\"}],\"scattermapbox\":[{\"marker\":{\"colorbar\":{\"outlinewidth\":0,\"ticks\":\"\"}},\"type\":\"scattermapbox\"}],\"scatterpolar\":[{\"marker\":{\"colorbar\":{\"outlinewidth\":0,\"ticks\":\"\"}},\"type\":\"scatterpolar\"}],\"scatterpolargl\":[{\"marker\":{\"colorbar\":{\"outlinewidth\":0,\"ticks\":\"\"}},\"type\":\"scatterpolargl\"}],\"scatterternary\":[{\"marker\":{\"colorbar\":{\"outlinewidth\":0,\"ticks\":\"\"}},\"type\":\"scatterternary\"}],\"surface\":[{\"colorbar\":{\"outlinewidth\":0,\"ticks\":\"\"},\"colorscale\":[[0.0,\"#0d0887\"],[0.1111111111111111,\"#46039f\"],[0.2222222222222222,\"#7201a8\"],[0.3333333333333333,\"#9c179e\"],[0.4444444444444444,\"#bd3786\"],[0.5555555555555556,\"#d8576b\"],[0.6666666666666666,\"#ed7953\"],[0.7777777777777778,\"#fb9f3a\"],[0.8888888888888888,\"#fdca26\"],[1.0,\"#f0f921\"]],\"type\":\"surface\"}],\"table\":[{\"cells\":{\"fill\":{\"color\":\"#EBF0F8\"},\"line\":{\"color\":\"white\"}},\"header\":{\"fill\":{\"color\":\"#C8D4E3\"},\"line\":{\"color\":\"white\"}},\"type\":\"table\"}]},\"layout\":{\"annotationdefaults\":{\"arrowcolor\":\"#2a3f5f\",\"arrowhead\":0,\"arrowwidth\":1},\"autotypenumbers\":\"strict\",\"coloraxis\":{\"colorbar\":{\"outlinewidth\":0,\"ticks\":\"\"}},\"colorscale\":{\"diverging\":[[0,\"#8e0152\"],[0.1,\"#c51b7d\"],[0.2,\"#de77ae\"],[0.3,\"#f1b6da\"],[0.4,\"#fde0ef\"],[0.5,\"#f7f7f7\"],[0.6,\"#e6f5d0\"],[0.7,\"#b8e186\"],[0.8,\"#7fbc41\"],[0.9,\"#4d9221\"],[1,\"#276419\"]],\"sequential\":[[0.0,\"#0d0887\"],[0.1111111111111111,\"#46039f\"],[0.2222222222222222,\"#7201a8\"],[0.3333333333333333,\"#9c179e\"],[0.4444444444444444,\"#bd3786\"],[0.5555555555555556,\"#d8576b\"],[0.6666666666666666,\"#ed7953\"],[0.7777777777777778,\"#fb9f3a\"],[0.8888888888888888,\"#fdca26\"],[1.0,\"#f0f921\"]],\"sequentialminus\":[[0.0,\"#0d0887\"],[0.1111111111111111,\"#46039f\"],[0.2222222222222222,\"#7201a8\"],[0.3333333333333333,\"#9c179e\"],[0.4444444444444444,\"#bd3786\"],[0.5555555555555556,\"#d8576b\"],[0.6666666666666666,\"#ed7953\"],[0.7777777777777778,\"#fb9f3a\"],[0.8888888888888888,\"#fdca26\"],[1.0,\"#f0f921\"]]},\"colorway\":[\"#636efa\",\"#EF553B\",\"#00cc96\",\"#ab63fa\",\"#FFA15A\",\"#19d3f3\",\"#FF6692\",\"#B6E880\",\"#FF97FF\",\"#FECB52\"],\"font\":{\"color\":\"#2a3f5f\"},\"geo\":{\"bgcolor\":\"white\",\"lakecolor\":\"white\",\"landcolor\":\"#E5ECF6\",\"showlakes\":true,\"showland\":true,\"subunitcolor\":\"white\"},\"hoverlabel\":{\"align\":\"left\"},\"hovermode\":\"closest\",\"mapbox\":{\"style\":\"light\"},\"paper_bgcolor\":\"white\",\"plot_bgcolor\":\"#E5ECF6\",\"polar\":{\"angularaxis\":{\"gridcolor\":\"white\",\"linecolor\":\"white\",\"ticks\":\"\"},\"bgcolor\":\"#E5ECF6\",\"radialaxis\":{\"gridcolor\":\"white\",\"linecolor\":\"white\",\"ticks\":\"\"}},\"scene\":{\"xaxis\":{\"backgroundcolor\":\"#E5ECF6\",\"gridcolor\":\"white\",\"gridwidth\":2,\"linecolor\":\"white\",\"showbackground\":true,\"ticks\":\"\",\"zerolinecolor\":\"white\"},\"yaxis\":{\"backgroundcolor\":\"#E5ECF6\",\"gridcolor\":\"white\",\"gridwidth\":2,\"linecolor\":\"white\",\"showbackground\":true,\"ticks\":\"\",\"zerolinecolor\":\"white\"},\"zaxis\":{\"backgroundcolor\":\"#E5ECF6\",\"gridcolor\":\"white\",\"gridwidth\":2,\"linecolor\":\"white\",\"showbackground\":true,\"ticks\":\"\",\"zerolinecolor\":\"white\"}},\"shapedefaults\":{\"line\":{\"color\":\"#2a3f5f\"}},\"ternary\":{\"aaxis\":{\"gridcolor\":\"white\",\"linecolor\":\"white\",\"ticks\":\"\"},\"baxis\":{\"gridcolor\":\"white\",\"linecolor\":\"white\",\"ticks\":\"\"},\"bgcolor\":\"#E5ECF6\",\"caxis\":{\"gridcolor\":\"white\",\"linecolor\":\"white\",\"ticks\":\"\"}},\"title\":{\"x\":0.05},\"xaxis\":{\"automargin\":true,\"gridcolor\":\"white\",\"linecolor\":\"white\",\"ticks\":\"\",\"title\":{\"standoff\":15},\"zerolinecolor\":\"white\",\"zerolinewidth\":2},\"yaxis\":{\"automargin\":true,\"gridcolor\":\"white\",\"linecolor\":\"white\",\"ticks\":\"\",\"title\":{\"standoff\":15},\"zerolinecolor\":\"white\",\"zerolinewidth\":2}}},\"scene\":{\"domain\":{\"x\":[0.0,1.0],\"y\":[0.0,1.0]},\"xaxis\":{\"title\":{\"text\":\"Electronegativity\"}},\"yaxis\":{\"title\":{\"text\":\"Density\"}},\"zaxis\":{\"title\":{\"text\":\"Youngs Modulus\"}}},\"legend\":{\"tracegroupgap\":0},\"margin\":{\"t\":60}},                        {\"responsive\": true}                    ).then(function(){\n",
       "                            \n",
       "var gd = document.getElementById('c5421e4c-cb15-4d57-83cc-0a5072fa1e42');\n",
       "var x = new MutationObserver(function (mutations, observer) {{\n",
       "        var display = window.getComputedStyle(gd).display;\n",
       "        if (!display || display === 'none') {{\n",
       "            console.log([gd, 'removed!']);\n",
       "            Plotly.purge(gd);\n",
       "            observer.disconnect();\n",
       "        }}\n",
       "}});\n",
       "\n",
       "// Listen for the removal of the full notebook cells\n",
       "var notebookContainer = gd.closest('#notebook-container');\n",
       "if (notebookContainer) {{\n",
       "    x.observe(notebookContainer, {childList: true});\n",
       "}}\n",
       "\n",
       "// Listen for the clearing of the current output cell\n",
       "var outputEl = gd.closest('.output');\n",
       "if (outputEl) {{\n",
       "    x.observe(outputEl, {childList: true});\n",
       "}}\n",
       "\n",
       "                        })                };                });            </script>        </div>"
      ]
     },
     "metadata": {},
     "output_type": "display_data"
    }
   ],
   "source": [
    "x1_range = np.linspace(df['en_ghosh'].min(), df['en_ghosh'].max(), 10)\n",
    "x2_range = np.linspace(df['density_of_solid'].min(), df['density_of_solid'].max(), 10)\n",
    "x1_mesh, x2_mesh = np.meshgrid(x1_range, x2_range)\n",
    "y_pred_mesh = gdr.predict(np.c_[x1_mesh.ravel(), x2_mesh.ravel()])\n",
    "y_pred_mesh = y_pred_mesh.reshape(x1_mesh.shape)\n",
    "fig.add_trace(go.Surface(x=x1_mesh, y=x2_mesh, z=y_pred_mesh, opacity=0.5))\n",
    "\n",
    "# updating the plot layout\n",
    "fig.update_layout(scene=dict(\n",
    "                    xaxis_title='Electronegativity',\n",
    "                    yaxis_title='Density',\n",
    "                    zaxis_title='Youngs Modulus'))\n",
    "\n",
    "# showing the plot\n",
    "fig.show()\n",
    "\n",
    "\n",
    "\n"
   ]
  },
  {
   "cell_type": "code",
   "execution_count": null,
   "id": "775a6ee3",
   "metadata": {},
   "outputs": [],
   "source": []
  },
  {
   "cell_type": "code",
   "execution_count": null,
   "id": "f0733b25",
   "metadata": {},
   "outputs": [],
   "source": []
  },
  {
   "cell_type": "markdown",
   "id": "638c5dfa",
   "metadata": {},
   "source": [
    "# Q4 .Use GD function from any library e.g. Numpy or Scikit learn and compare against the solution from Tutorial or your GD function"
   ]
  },
  {
   "cell_type": "code",
   "execution_count": null,
   "id": "5275cc10",
   "metadata": {},
   "outputs": [],
   "source": []
  },
  {
   "cell_type": "code",
   "execution_count": 323,
   "id": "6e69a59c",
   "metadata": {},
   "outputs": [
    {
     "data": {
      "text/plain": [
       "(43,)"
      ]
     },
     "execution_count": 323,
     "metadata": {},
     "output_type": "execute_result"
    }
   ],
   "source": [
    "y_young_M.shape"
   ]
  },
  {
   "cell_type": "code",
   "execution_count": 346,
   "id": "33d070de",
   "metadata": {},
   "outputs": [
    {
     "data": {
      "text/plain": [
       "(34, 2)"
      ]
     },
     "execution_count": 346,
     "metadata": {},
     "output_type": "execute_result"
    }
   ],
   "source": [
    "X_train.shape"
   ]
  },
  {
   "cell_type": "code",
   "execution_count": 324,
   "id": "aca5c28c",
   "metadata": {},
   "outputs": [],
   "source": [
    "from sklearn.linear_model import SGDRegressor\n",
    "from sklearn.pipeline import make_pipeline\n",
    "from sklearn.preprocessing import StandardScaler"
   ]
  },
  {
   "cell_type": "code",
   "execution_count": 353,
   "id": "30711a91",
   "metadata": {},
   "outputs": [
    {
     "data": {
      "text/html": [
       "<style>#sk-container-id-9 {color: black;background-color: white;}#sk-container-id-9 pre{padding: 0;}#sk-container-id-9 div.sk-toggleable {background-color: white;}#sk-container-id-9 label.sk-toggleable__label {cursor: pointer;display: block;width: 100%;margin-bottom: 0;padding: 0.3em;box-sizing: border-box;text-align: center;}#sk-container-id-9 label.sk-toggleable__label-arrow:before {content: \"▸\";float: left;margin-right: 0.25em;color: #696969;}#sk-container-id-9 label.sk-toggleable__label-arrow:hover:before {color: black;}#sk-container-id-9 div.sk-estimator:hover label.sk-toggleable__label-arrow:before {color: black;}#sk-container-id-9 div.sk-toggleable__content {max-height: 0;max-width: 0;overflow: hidden;text-align: left;background-color: #f0f8ff;}#sk-container-id-9 div.sk-toggleable__content pre {margin: 0.2em;color: black;border-radius: 0.25em;background-color: #f0f8ff;}#sk-container-id-9 input.sk-toggleable__control:checked~div.sk-toggleable__content {max-height: 200px;max-width: 100%;overflow: auto;}#sk-container-id-9 input.sk-toggleable__control:checked~label.sk-toggleable__label-arrow:before {content: \"▾\";}#sk-container-id-9 div.sk-estimator input.sk-toggleable__control:checked~label.sk-toggleable__label {background-color: #d4ebff;}#sk-container-id-9 div.sk-label input.sk-toggleable__control:checked~label.sk-toggleable__label {background-color: #d4ebff;}#sk-container-id-9 input.sk-hidden--visually {border: 0;clip: rect(1px 1px 1px 1px);clip: rect(1px, 1px, 1px, 1px);height: 1px;margin: -1px;overflow: hidden;padding: 0;position: absolute;width: 1px;}#sk-container-id-9 div.sk-estimator {font-family: monospace;background-color: #f0f8ff;border: 1px dotted black;border-radius: 0.25em;box-sizing: border-box;margin-bottom: 0.5em;}#sk-container-id-9 div.sk-estimator:hover {background-color: #d4ebff;}#sk-container-id-9 div.sk-parallel-item::after {content: \"\";width: 100%;border-bottom: 1px solid gray;flex-grow: 1;}#sk-container-id-9 div.sk-label:hover label.sk-toggleable__label {background-color: #d4ebff;}#sk-container-id-9 div.sk-serial::before {content: \"\";position: absolute;border-left: 1px solid gray;box-sizing: border-box;top: 0;bottom: 0;left: 50%;z-index: 0;}#sk-container-id-9 div.sk-serial {display: flex;flex-direction: column;align-items: center;background-color: white;padding-right: 0.2em;padding-left: 0.2em;position: relative;}#sk-container-id-9 div.sk-item {position: relative;z-index: 1;}#sk-container-id-9 div.sk-parallel {display: flex;align-items: stretch;justify-content: center;background-color: white;position: relative;}#sk-container-id-9 div.sk-item::before, #sk-container-id-9 div.sk-parallel-item::before {content: \"\";position: absolute;border-left: 1px solid gray;box-sizing: border-box;top: 0;bottom: 0;left: 50%;z-index: -1;}#sk-container-id-9 div.sk-parallel-item {display: flex;flex-direction: column;z-index: 1;position: relative;background-color: white;}#sk-container-id-9 div.sk-parallel-item:first-child::after {align-self: flex-end;width: 50%;}#sk-container-id-9 div.sk-parallel-item:last-child::after {align-self: flex-start;width: 50%;}#sk-container-id-9 div.sk-parallel-item:only-child::after {width: 0;}#sk-container-id-9 div.sk-dashed-wrapped {border: 1px dashed gray;margin: 0 0.4em 0.5em 0.4em;box-sizing: border-box;padding-bottom: 0.4em;background-color: white;}#sk-container-id-9 div.sk-label label {font-family: monospace;font-weight: bold;display: inline-block;line-height: 1.2em;}#sk-container-id-9 div.sk-label-container {text-align: center;}#sk-container-id-9 div.sk-container {/* jupyter's `normalize.less` sets `[hidden] { display: none; }` but bootstrap.min.css set `[hidden] { display: none !important; }` so we also need the `!important` here to be able to override the default hidden behavior on the sphinx rendered scikit-learn.org. See: https://github.com/scikit-learn/scikit-learn/issues/21755 */display: inline-block !important;position: relative;}#sk-container-id-9 div.sk-text-repr-fallback {display: none;}</style><div id=\"sk-container-id-9\" class=\"sk-top-container\"><div class=\"sk-text-repr-fallback\"><pre>SGDRegressor(max_iter=10000)</pre><b>In a Jupyter environment, please rerun this cell to show the HTML representation or trust the notebook. <br />On GitHub, the HTML representation is unable to render, please try loading this page with nbviewer.org.</b></div><div class=\"sk-container\" hidden><div class=\"sk-item\"><div class=\"sk-estimator sk-toggleable\"><input class=\"sk-toggleable__control sk-hidden--visually\" id=\"sk-estimator-id-11\" type=\"checkbox\" checked><label for=\"sk-estimator-id-11\" class=\"sk-toggleable__label sk-toggleable__label-arrow\">SGDRegressor</label><div class=\"sk-toggleable__content\"><pre>SGDRegressor(max_iter=10000)</pre></div></div></div></div></div>"
      ],
      "text/plain": [
       "SGDRegressor(max_iter=10000)"
      ]
     },
     "execution_count": 353,
     "metadata": {},
     "output_type": "execute_result"
    }
   ],
   "source": [
    "reg =  SGDRegressor(max_iter=10000, tol=1e-3)\n",
    "reg.fit(X_train, y_train)\n",
    "#Pipeline(steps=[('standardscaler', StandardScaler()),      # ('sgdregressor', SGDRegressor())])"
   ]
  },
  {
   "cell_type": "code",
   "execution_count": 354,
   "id": "b2fafbc6",
   "metadata": {},
   "outputs": [
    {
     "data": {
      "text/plain": [
       "array([-8.30871052e+12, -4.34616007e+12])"
      ]
     },
     "execution_count": 354,
     "metadata": {},
     "output_type": "execute_result"
    }
   ],
   "source": [
    "reg.coef_"
   ]
  },
  {
   "cell_type": "code",
   "execution_count": 355,
   "id": "5c34fe9b",
   "metadata": {},
   "outputs": [
    {
     "data": {
      "text/plain": [
       "array([3.91289514e+10])"
      ]
     },
     "execution_count": 355,
     "metadata": {},
     "output_type": "execute_result"
    }
   ],
   "source": [
    "reg.intercept_"
   ]
  },
  {
   "cell_type": "code",
   "execution_count": 356,
   "id": "b5bedb21",
   "metadata": {},
   "outputs": [
    {
     "data": {
      "text/plain": [
       "array([-6.98432109e+16, -1.45665518e+12, -2.57280144e+12, -1.83631334e+12,\n",
       "       -2.68664023e+12, -1.11111499e+17, -1.83308384e+12, -8.93196073e+16,\n",
       "       -2.02993709e+12])"
      ]
     },
     "execution_count": 356,
     "metadata": {},
     "output_type": "execute_result"
    }
   ],
   "source": [
    "reg.predict(X_test)"
   ]
  },
  {
   "cell_type": "code",
   "execution_count": 330,
   "id": "3af4430a",
   "metadata": {},
   "outputs": [
    {
     "data": {
      "text/html": [
       "<div>\n",
       "<style scoped>\n",
       "    .dataframe tbody tr th:only-of-type {\n",
       "        vertical-align: middle;\n",
       "    }\n",
       "\n",
       "    .dataframe tbody tr th {\n",
       "        vertical-align: top;\n",
       "    }\n",
       "\n",
       "    .dataframe thead th {\n",
       "        text-align: right;\n",
       "    }\n",
       "</style>\n",
       "<table border=\"1\" class=\"dataframe\">\n",
       "  <thead>\n",
       "    <tr style=\"text-align: right;\">\n",
       "      <th></th>\n",
       "      <th>atomic_number</th>\n",
       "      <th>atomic_volume</th>\n",
       "      <th>boiling_point</th>\n",
       "      <th>en_ghosh</th>\n",
       "      <th>evaporation_heat</th>\n",
       "      <th>heat_of_formation</th>\n",
       "      <th>lattice_constant</th>\n",
       "      <th>specific_heat</th>\n",
       "      <th>atomic_mass</th>\n",
       "      <th>atomic_radius</th>\n",
       "      <th>electrical_resistivity</th>\n",
       "      <th>molar_volume</th>\n",
       "      <th>bulk_modulus</th>\n",
       "      <th>youngs_modulus</th>\n",
       "      <th>average_ionic_radius</th>\n",
       "      <th>density_of_solid</th>\n",
       "      <th>coefficient_of_linear_thermal_expansion</th>\n",
       "    </tr>\n",
       "  </thead>\n",
       "  <tbody>\n",
       "    <tr>\n",
       "      <th>0</th>\n",
       "      <td>47</td>\n",
       "      <td>10.30</td>\n",
       "      <td>2485.0</td>\n",
       "      <td>0.147217</td>\n",
       "      <td>254.1</td>\n",
       "      <td>284.9</td>\n",
       "      <td>4.09</td>\n",
       "      <td>0.237</td>\n",
       "      <td>107.868200</td>\n",
       "      <td>1.60</td>\n",
       "      <td>1.630000e-08</td>\n",
       "      <td>10.27</td>\n",
       "      <td>100.0</td>\n",
       "      <td>83.0</td>\n",
       "      <td>1.086667</td>\n",
       "      <td>10490.0</td>\n",
       "      <td>0.000019</td>\n",
       "    </tr>\n",
       "    <tr>\n",
       "      <th>1</th>\n",
       "      <td>13</td>\n",
       "      <td>10.00</td>\n",
       "      <td>2740.0</td>\n",
       "      <td>0.150078</td>\n",
       "      <td>284.1</td>\n",
       "      <td>330.9</td>\n",
       "      <td>4.05</td>\n",
       "      <td>0.900</td>\n",
       "      <td>26.981539</td>\n",
       "      <td>1.25</td>\n",
       "      <td>2.700000e-08</td>\n",
       "      <td>10.00</td>\n",
       "      <td>76.0</td>\n",
       "      <td>70.0</td>\n",
       "      <td>0.675000</td>\n",
       "      <td>2700.0</td>\n",
       "      <td>0.000023</td>\n",
       "    </tr>\n",
       "    <tr>\n",
       "      <th>2</th>\n",
       "      <td>79</td>\n",
       "      <td>10.20</td>\n",
       "      <td>3080.0</td>\n",
       "      <td>0.261370</td>\n",
       "      <td>340.0</td>\n",
       "      <td>368.2</td>\n",
       "      <td>4.08</td>\n",
       "      <td>0.129</td>\n",
       "      <td>196.966569</td>\n",
       "      <td>1.35</td>\n",
       "      <td>2.200000e-08</td>\n",
       "      <td>10.21</td>\n",
       "      <td>220.0</td>\n",
       "      <td>78.0</td>\n",
       "      <td>1.070000</td>\n",
       "      <td>19300.0</td>\n",
       "      <td>0.000014</td>\n",
       "    </tr>\n",
       "    <tr>\n",
       "      <th>3</th>\n",
       "      <td>29</td>\n",
       "      <td>7.10</td>\n",
       "      <td>2840.0</td>\n",
       "      <td>0.151172</td>\n",
       "      <td>304.6</td>\n",
       "      <td>337.4</td>\n",
       "      <td>3.61</td>\n",
       "      <td>0.385</td>\n",
       "      <td>63.546000</td>\n",
       "      <td>1.35</td>\n",
       "      <td>1.720000e-08</td>\n",
       "      <td>7.11</td>\n",
       "      <td>140.0</td>\n",
       "      <td>130.0</td>\n",
       "      <td>0.820000</td>\n",
       "      <td>8920.0</td>\n",
       "      <td>0.000017</td>\n",
       "    </tr>\n",
       "    <tr>\n",
       "      <th>4</th>\n",
       "      <td>77</td>\n",
       "      <td>8.54</td>\n",
       "      <td>4403.0</td>\n",
       "      <td>0.251060</td>\n",
       "      <td>604.0</td>\n",
       "      <td>669.0</td>\n",
       "      <td>3.84</td>\n",
       "      <td>0.133</td>\n",
       "      <td>192.217000</td>\n",
       "      <td>1.35</td>\n",
       "      <td>4.700000e-08</td>\n",
       "      <td>8.52</td>\n",
       "      <td>320.0</td>\n",
       "      <td>528.0</td>\n",
       "      <td>0.765000</td>\n",
       "      <td>22650.0</td>\n",
       "      <td>0.000006</td>\n",
       "    </tr>\n",
       "  </tbody>\n",
       "</table>\n",
       "</div>"
      ],
      "text/plain": [
       "   atomic_number  atomic_volume  boiling_point  en_ghosh  evaporation_heat  \\\n",
       "0             47          10.30         2485.0  0.147217             254.1   \n",
       "1             13          10.00         2740.0  0.150078             284.1   \n",
       "2             79          10.20         3080.0  0.261370             340.0   \n",
       "3             29           7.10         2840.0  0.151172             304.6   \n",
       "4             77           8.54         4403.0  0.251060             604.0   \n",
       "\n",
       "   heat_of_formation  lattice_constant  specific_heat  atomic_mass  \\\n",
       "0              284.9              4.09          0.237   107.868200   \n",
       "1              330.9              4.05          0.900    26.981539   \n",
       "2              368.2              4.08          0.129   196.966569   \n",
       "3              337.4              3.61          0.385    63.546000   \n",
       "4              669.0              3.84          0.133   192.217000   \n",
       "\n",
       "   atomic_radius  electrical_resistivity  molar_volume  bulk_modulus  \\\n",
       "0           1.60            1.630000e-08         10.27         100.0   \n",
       "1           1.25            2.700000e-08         10.00          76.0   \n",
       "2           1.35            2.200000e-08         10.21         220.0   \n",
       "3           1.35            1.720000e-08          7.11         140.0   \n",
       "4           1.35            4.700000e-08          8.52         320.0   \n",
       "\n",
       "   youngs_modulus  average_ionic_radius  density_of_solid  \\\n",
       "0            83.0              1.086667           10490.0   \n",
       "1            70.0              0.675000            2700.0   \n",
       "2            78.0              1.070000           19300.0   \n",
       "3           130.0              0.820000            8920.0   \n",
       "4           528.0              0.765000           22650.0   \n",
       "\n",
       "   coefficient_of_linear_thermal_expansion  \n",
       "0                                 0.000019  \n",
       "1                                 0.000023  \n",
       "2                                 0.000014  \n",
       "3                                 0.000017  \n",
       "4                                 0.000006  "
      ]
     },
     "execution_count": 330,
     "metadata": {},
     "output_type": "execute_result"
    }
   ],
   "source": [
    "df.head()"
   ]
  },
  {
   "cell_type": "code",
   "execution_count": 357,
   "id": "5c66c86b",
   "metadata": {},
   "outputs": [
    {
     "data": {
      "application/vnd.plotly.v1+json": {
       "config": {
        "plotlyServerURL": "https://plot.ly"
       },
       "data": [
        {
         "hovertemplate": "en_ghosh=%{x}<br>density_of_solid=%{y}<br>youngs_modulus=%{z}<extra></extra>",
         "legendgroup": "",
         "marker": {
          "color": "#636efa",
          "symbol": "circle"
         },
         "mode": "markers",
         "name": "",
         "scene": "scene",
         "showlegend": false,
         "type": "scatter3d",
         "x": [
          0.1472165,
          0.150078,
          0.26137,
          0.1511716,
          0.25106,
          0.1472068,
          0.1779109999999999,
          0.1440276,
          0.2569099999999999,
          0.1408379,
          0.10277,
          0.22119,
          0.1586786,
          0.1313052999999999,
          0.189935,
          0.1392532,
          0.105093,
          0.1352844,
          0.1312672,
          0.093214,
          0.1280782,
          0.2345809999999999,
          0.1273344,
          0.2390504,
          0.144986,
          0.1154119,
          0.1504066,
          0.1432362999999999,
          0.2033299999999999,
          0.212261,
          0.1944,
          0.229987,
          0.2077949999999999,
          0.22565,
          0.121644,
          0.2435163999999999,
          0.1193833,
          0.198863,
          0.1233636999999999,
          0.173447,
          0.2167244,
          0.1216986,
          0.1551517999999999
         ],
         "y": [
          10490,
          2700,
          19300,
          8920,
          22650,
          8908,
          11340,
          12023,
          21090,
          12450,
          11724,
          6570,
          3510,
          7140,
          5244,
          7874,
          535,
          7470,
          10280,
          968,
          8570,
          16650,
          6110,
          19250,
          1848,
          1550,
          8650,
          8900,
          8551,
          9066,
          7901,
          13310,
          8795,
          9841,
          1738,
          21020,
          2985,
          8219,
          4507,
          11850,
          9321,
          4472,
          7140
         ],
         "z": [
          83,
          70,
          78,
          130,
          528,
          200,
          16,
          121,
          168,
          275,
          79,
          24,
          13,
          279,
          18,
          211,
          4.9,
          198,
          329,
          10,
          105,
          186,
          128,
          411,
          287,
          20,
          50,
          209,
          61,
          70,
          55,
          78,
          65,
          69,
          45,
          463,
          74,
          56,
          116,
          8,
          74,
          64,
          108
         ]
        },
        {
         "opacity": 0.5,
         "type": "surface",
         "x": [
          [
           0.093214,
           0.111898,
           0.130582,
           0.149266,
           0.16795,
           0.18663399999999997,
           0.205318,
           0.22400199999999998,
           0.24268599999999996,
           0.26137
          ],
          [
           0.093214,
           0.111898,
           0.130582,
           0.149266,
           0.16795,
           0.18663399999999997,
           0.205318,
           0.22400199999999998,
           0.24268599999999996,
           0.26137
          ],
          [
           0.093214,
           0.111898,
           0.130582,
           0.149266,
           0.16795,
           0.18663399999999997,
           0.205318,
           0.22400199999999998,
           0.24268599999999996,
           0.26137
          ],
          [
           0.093214,
           0.111898,
           0.130582,
           0.149266,
           0.16795,
           0.18663399999999997,
           0.205318,
           0.22400199999999998,
           0.24268599999999996,
           0.26137
          ],
          [
           0.093214,
           0.111898,
           0.130582,
           0.149266,
           0.16795,
           0.18663399999999997,
           0.205318,
           0.22400199999999998,
           0.24268599999999996,
           0.26137
          ],
          [
           0.093214,
           0.111898,
           0.130582,
           0.149266,
           0.16795,
           0.18663399999999997,
           0.205318,
           0.22400199999999998,
           0.24268599999999996,
           0.26137
          ],
          [
           0.093214,
           0.111898,
           0.130582,
           0.149266,
           0.16795,
           0.18663399999999997,
           0.205318,
           0.22400199999999998,
           0.24268599999999996,
           0.26137
          ],
          [
           0.093214,
           0.111898,
           0.130582,
           0.149266,
           0.16795,
           0.18663399999999997,
           0.205318,
           0.22400199999999998,
           0.24268599999999996,
           0.26137
          ],
          [
           0.093214,
           0.111898,
           0.130582,
           0.149266,
           0.16795,
           0.18663399999999997,
           0.205318,
           0.22400199999999998,
           0.24268599999999996,
           0.26137
          ],
          [
           0.093214,
           0.111898,
           0.130582,
           0.149266,
           0.16795,
           0.18663399999999997,
           0.205318,
           0.22400199999999998,
           0.24268599999999996,
           0.26137
          ]
         ],
         "y": [
          [
           535,
           535,
           535,
           535,
           535,
           535,
           535,
           535,
           535,
           535
          ],
          [
           2992.222222222222,
           2992.222222222222,
           2992.222222222222,
           2992.222222222222,
           2992.222222222222,
           2992.222222222222,
           2992.222222222222,
           2992.222222222222,
           2992.222222222222,
           2992.222222222222
          ],
          [
           5449.444444444444,
           5449.444444444444,
           5449.444444444444,
           5449.444444444444,
           5449.444444444444,
           5449.444444444444,
           5449.444444444444,
           5449.444444444444,
           5449.444444444444,
           5449.444444444444
          ],
          [
           7906.666666666666,
           7906.666666666666,
           7906.666666666666,
           7906.666666666666,
           7906.666666666666,
           7906.666666666666,
           7906.666666666666,
           7906.666666666666,
           7906.666666666666,
           7906.666666666666
          ],
          [
           10363.888888888889,
           10363.888888888889,
           10363.888888888889,
           10363.888888888889,
           10363.888888888889,
           10363.888888888889,
           10363.888888888889,
           10363.888888888889,
           10363.888888888889,
           10363.888888888889
          ],
          [
           12821.111111111111,
           12821.111111111111,
           12821.111111111111,
           12821.111111111111,
           12821.111111111111,
           12821.111111111111,
           12821.111111111111,
           12821.111111111111,
           12821.111111111111,
           12821.111111111111
          ],
          [
           15278.333333333332,
           15278.333333333332,
           15278.333333333332,
           15278.333333333332,
           15278.333333333332,
           15278.333333333332,
           15278.333333333332,
           15278.333333333332,
           15278.333333333332,
           15278.333333333332
          ],
          [
           17735.555555555555,
           17735.555555555555,
           17735.555555555555,
           17735.555555555555,
           17735.555555555555,
           17735.555555555555,
           17735.555555555555,
           17735.555555555555,
           17735.555555555555,
           17735.555555555555
          ],
          [
           20192.777777777777,
           20192.777777777777,
           20192.777777777777,
           20192.777777777777,
           20192.777777777777,
           20192.777777777777,
           20192.777777777777,
           20192.777777777777,
           20192.777777777777,
           20192.777777777777
          ],
          [
           22650,
           22650,
           22650,
           22650,
           22650,
           22650,
           22650,
           22650,
           22650,
           22650
          ]
         ],
         "z": [
          [
           5.435816088180502,
           5.435857866078348,
           5.435899643976194,
           5.43594142187404,
           5.435983199771887,
           5.436024977669733,
           5.4360667555675795,
           5.4361085334654256,
           5.436150311363272,
           5.436192089261118
          ],
          [
           30.401605702659936,
           30.40164748055778,
           30.40168925845563,
           30.401731036353475,
           30.40177281425132,
           30.401814592149165,
           30.401856370047014,
           30.40189814794486,
           30.401939925842704,
           30.401981703740553
          ],
          [
           55.367395317139376,
           55.367437095037225,
           55.36747887293507,
           55.367520650832915,
           55.367562428730764,
           55.367604206628606,
           55.367645984526455,
           55.367687762424296,
           55.367729540322145,
           55.367771318219994
          ],
          [
           80.3331849316188,
           80.33322670951665,
           80.3332684874145,
           80.33331026531233,
           80.33335204321018,
           80.33339382110803,
           80.33343559900588,
           80.33347737690373,
           80.33351915480158,
           80.33356093269941
          ],
          [
           105.29897454609825,
           105.2990163239961,
           105.29905810189395,
           105.29909987979178,
           105.29914165768963,
           105.29918343558748,
           105.29922521348533,
           105.29926699138318,
           105.29930876928103,
           105.29935054717886
          ],
          [
           130.26476416057767,
           130.26480593847552,
           130.26484771637337,
           130.26488949427122,
           130.26493127216906,
           130.2649730500669,
           130.26501482796473,
           130.26505660586258,
           130.26509838376043,
           130.26514016165828
          ],
          [
           155.2305537750571,
           155.23059555295495,
           155.2306373308528,
           155.23067910875065,
           155.2307208866485,
           155.23076266454635,
           155.23080444244417,
           155.23084622034202,
           155.23088799823987,
           155.2309297761377
          ],
          [
           180.19634338953654,
           180.19638516743439,
           180.19642694533223,
           180.19646872323008,
           180.19651050112793,
           180.19655227902578,
           180.1965940569236,
           180.19663583482145,
           180.1966776127193,
           180.19671939061715
          ],
          [
           205.16213300401597,
           205.16217478191382,
           205.16221655981167,
           205.16225833770952,
           205.16230011560737,
           205.16234189350521,
           205.16238367140303,
           205.16242544930088,
           205.16246722719873,
           205.16250900509658
          ],
          [
           230.1279226184954,
           230.12796439639325,
           230.1280061742911,
           230.12804795218895,
           230.1280897300868,
           230.12813150798465,
           230.12817328588247,
           230.12821506378032,
           230.12825684167817,
           230.12829861957601
          ]
         ]
        },
        {
         "opacity": 0.5,
         "type": "surface",
         "x": [
          [
           0.093214,
           0.111898,
           0.130582,
           0.149266,
           0.16795,
           0.18663399999999997,
           0.205318,
           0.22400199999999998,
           0.24268599999999996,
           0.26137
          ],
          [
           0.093214,
           0.111898,
           0.130582,
           0.149266,
           0.16795,
           0.18663399999999997,
           0.205318,
           0.22400199999999998,
           0.24268599999999996,
           0.26137
          ],
          [
           0.093214,
           0.111898,
           0.130582,
           0.149266,
           0.16795,
           0.18663399999999997,
           0.205318,
           0.22400199999999998,
           0.24268599999999996,
           0.26137
          ],
          [
           0.093214,
           0.111898,
           0.130582,
           0.149266,
           0.16795,
           0.18663399999999997,
           0.205318,
           0.22400199999999998,
           0.24268599999999996,
           0.26137
          ],
          [
           0.093214,
           0.111898,
           0.130582,
           0.149266,
           0.16795,
           0.18663399999999997,
           0.205318,
           0.22400199999999998,
           0.24268599999999996,
           0.26137
          ],
          [
           0.093214,
           0.111898,
           0.130582,
           0.149266,
           0.16795,
           0.18663399999999997,
           0.205318,
           0.22400199999999998,
           0.24268599999999996,
           0.26137
          ],
          [
           0.093214,
           0.111898,
           0.130582,
           0.149266,
           0.16795,
           0.18663399999999997,
           0.205318,
           0.22400199999999998,
           0.24268599999999996,
           0.26137
          ],
          [
           0.093214,
           0.111898,
           0.130582,
           0.149266,
           0.16795,
           0.18663399999999997,
           0.205318,
           0.22400199999999998,
           0.24268599999999996,
           0.26137
          ],
          [
           0.093214,
           0.111898,
           0.130582,
           0.149266,
           0.16795,
           0.18663399999999997,
           0.205318,
           0.22400199999999998,
           0.24268599999999996,
           0.26137
          ],
          [
           0.093214,
           0.111898,
           0.130582,
           0.149266,
           0.16795,
           0.18663399999999997,
           0.205318,
           0.22400199999999998,
           0.24268599999999996,
           0.26137
          ]
         ],
         "y": [
          [
           535,
           535,
           535,
           535,
           535,
           535,
           535,
           535,
           535,
           535
          ],
          [
           2992.222222222222,
           2992.222222222222,
           2992.222222222222,
           2992.222222222222,
           2992.222222222222,
           2992.222222222222,
           2992.222222222222,
           2992.222222222222,
           2992.222222222222,
           2992.222222222222
          ],
          [
           5449.444444444444,
           5449.444444444444,
           5449.444444444444,
           5449.444444444444,
           5449.444444444444,
           5449.444444444444,
           5449.444444444444,
           5449.444444444444,
           5449.444444444444,
           5449.444444444444
          ],
          [
           7906.666666666666,
           7906.666666666666,
           7906.666666666666,
           7906.666666666666,
           7906.666666666666,
           7906.666666666666,
           7906.666666666666,
           7906.666666666666,
           7906.666666666666,
           7906.666666666666
          ],
          [
           10363.888888888889,
           10363.888888888889,
           10363.888888888889,
           10363.888888888889,
           10363.888888888889,
           10363.888888888889,
           10363.888888888889,
           10363.888888888889,
           10363.888888888889,
           10363.888888888889
          ],
          [
           12821.111111111111,
           12821.111111111111,
           12821.111111111111,
           12821.111111111111,
           12821.111111111111,
           12821.111111111111,
           12821.111111111111,
           12821.111111111111,
           12821.111111111111,
           12821.111111111111
          ],
          [
           15278.333333333332,
           15278.333333333332,
           15278.333333333332,
           15278.333333333332,
           15278.333333333332,
           15278.333333333332,
           15278.333333333332,
           15278.333333333332,
           15278.333333333332,
           15278.333333333332
          ],
          [
           17735.555555555555,
           17735.555555555555,
           17735.555555555555,
           17735.555555555555,
           17735.555555555555,
           17735.555555555555,
           17735.555555555555,
           17735.555555555555,
           17735.555555555555,
           17735.555555555555
          ],
          [
           20192.777777777777,
           20192.777777777777,
           20192.777777777777,
           20192.777777777777,
           20192.777777777777,
           20192.777777777777,
           20192.777777777777,
           20192.777777777777,
           20192.777777777777,
           20192.777777777777
          ],
          [
           22650,
           22650,
           22650,
           22650,
           22650,
           22650,
           22650,
           22650,
           22650,
           22650
          ]
         ],
         "z": [
          [
           5.190839730475172,
           5.190846171920513,
           5.190852613365853,
           5.190859054811193,
           5.190865496256532,
           5.190871937701873,
           5.190878379147213,
           5.190884820592553,
           5.190891262037892,
           5.190897703483233
          ],
          [
           29.032274352759952,
           29.032280794205292,
           29.03228723565063,
           29.03229367709597,
           29.03230011854131,
           29.03230655998665,
           29.03231300143199,
           29.03231944287733,
           29.03232588432267,
           29.03233232576801
          ],
          [
           52.873708975044735,
           52.87371541649007,
           52.873721857935415,
           52.87372829938075,
           52.873734740826094,
           52.87374118227143,
           52.873747623716774,
           52.87375406516212,
           52.873760506607454,
           52.8737669480528
          ],
          [
           76.7151435973295,
           76.71515003877484,
           76.71515648022017,
           76.71516292166552,
           76.71516936311086,
           76.7151758045562,
           76.71518224600153,
           76.71518868744688,
           76.71519512889222,
           76.71520157033756
          ],
          [
           100.55657821961428,
           100.55658466105962,
           100.55659110250495,
           100.5565975439503,
           100.55660398539564,
           100.55661042684098,
           100.55661686828631,
           100.55662330973166,
           100.556629751177,
           100.55663619262234
          ],
          [
           124.39801284189907,
           124.39801928334441,
           124.39802572478975,
           124.3980321662351,
           124.39803860768043,
           124.39804504912577,
           124.3980514905711,
           124.39805793201646,
           124.39806437346179,
           124.39807081490713
          ],
          [
           148.23944746418383,
           148.23945390562918,
           148.2394603470745,
           148.23946678851985,
           148.23947322996517,
           148.23947967141052,
           148.23948611285587,
           148.2394925543012,
           148.23949899574654,
           148.2395054371919
          ],
          [
           172.08088208646862,
           172.08088852791397,
           172.0808949693593,
           172.08090141080464,
           172.08090785224996,
           172.08091429369532,
           172.08092073514067,
           172.080927176586,
           172.08093361803134,
           172.0809400594767
          ],
          [
           195.92231670875339,
           195.92232315019874,
           195.92232959164406,
           195.9223360330894,
           195.92234247453473,
           195.92234891598008,
           195.92235535742543,
           195.92236179887075,
           195.9223682403161,
           195.92237468176145
          ],
          [
           219.76375133103818,
           219.76375777248353,
           219.76376421392885,
           219.7637706553742,
           219.76377709681952,
           219.76378353826487,
           219.76378997971022,
           219.76379642115555,
           219.7638028626009,
           219.76380930404625
          ]
         ]
        },
        {
         "opacity": 0.5,
         "type": "surface",
         "x": [
          [
           0.093214,
           0.111898,
           0.130582,
           0.149266,
           0.16795,
           0.18663399999999997,
           0.205318,
           0.22400199999999998,
           0.24268599999999996,
           0.26137
          ],
          [
           0.093214,
           0.111898,
           0.130582,
           0.149266,
           0.16795,
           0.18663399999999997,
           0.205318,
           0.22400199999999998,
           0.24268599999999996,
           0.26137
          ],
          [
           0.093214,
           0.111898,
           0.130582,
           0.149266,
           0.16795,
           0.18663399999999997,
           0.205318,
           0.22400199999999998,
           0.24268599999999996,
           0.26137
          ],
          [
           0.093214,
           0.111898,
           0.130582,
           0.149266,
           0.16795,
           0.18663399999999997,
           0.205318,
           0.22400199999999998,
           0.24268599999999996,
           0.26137
          ],
          [
           0.093214,
           0.111898,
           0.130582,
           0.149266,
           0.16795,
           0.18663399999999997,
           0.205318,
           0.22400199999999998,
           0.24268599999999996,
           0.26137
          ],
          [
           0.093214,
           0.111898,
           0.130582,
           0.149266,
           0.16795,
           0.18663399999999997,
           0.205318,
           0.22400199999999998,
           0.24268599999999996,
           0.26137
          ],
          [
           0.093214,
           0.111898,
           0.130582,
           0.149266,
           0.16795,
           0.18663399999999997,
           0.205318,
           0.22400199999999998,
           0.24268599999999996,
           0.26137
          ],
          [
           0.093214,
           0.111898,
           0.130582,
           0.149266,
           0.16795,
           0.18663399999999997,
           0.205318,
           0.22400199999999998,
           0.24268599999999996,
           0.26137
          ],
          [
           0.093214,
           0.111898,
           0.130582,
           0.149266,
           0.16795,
           0.18663399999999997,
           0.205318,
           0.22400199999999998,
           0.24268599999999996,
           0.26137
          ],
          [
           0.093214,
           0.111898,
           0.130582,
           0.149266,
           0.16795,
           0.18663399999999997,
           0.205318,
           0.22400199999999998,
           0.24268599999999996,
           0.26137
          ]
         ],
         "y": [
          [
           535,
           535,
           535,
           535,
           535,
           535,
           535,
           535,
           535,
           535
          ],
          [
           2992.222222222222,
           2992.222222222222,
           2992.222222222222,
           2992.222222222222,
           2992.222222222222,
           2992.222222222222,
           2992.222222222222,
           2992.222222222222,
           2992.222222222222,
           2992.222222222222
          ],
          [
           5449.444444444444,
           5449.444444444444,
           5449.444444444444,
           5449.444444444444,
           5449.444444444444,
           5449.444444444444,
           5449.444444444444,
           5449.444444444444,
           5449.444444444444,
           5449.444444444444
          ],
          [
           7906.666666666666,
           7906.666666666666,
           7906.666666666666,
           7906.666666666666,
           7906.666666666666,
           7906.666666666666,
           7906.666666666666,
           7906.666666666666,
           7906.666666666666,
           7906.666666666666
          ],
          [
           10363.888888888889,
           10363.888888888889,
           10363.888888888889,
           10363.888888888889,
           10363.888888888889,
           10363.888888888889,
           10363.888888888889,
           10363.888888888889,
           10363.888888888889,
           10363.888888888889
          ],
          [
           12821.111111111111,
           12821.111111111111,
           12821.111111111111,
           12821.111111111111,
           12821.111111111111,
           12821.111111111111,
           12821.111111111111,
           12821.111111111111,
           12821.111111111111,
           12821.111111111111
          ],
          [
           15278.333333333332,
           15278.333333333332,
           15278.333333333332,
           15278.333333333332,
           15278.333333333332,
           15278.333333333332,
           15278.333333333332,
           15278.333333333332,
           15278.333333333332,
           15278.333333333332
          ],
          [
           17735.555555555555,
           17735.555555555555,
           17735.555555555555,
           17735.555555555555,
           17735.555555555555,
           17735.555555555555,
           17735.555555555555,
           17735.555555555555,
           17735.555555555555,
           17735.555555555555
          ],
          [
           20192.777777777777,
           20192.777777777777,
           20192.777777777777,
           20192.777777777777,
           20192.777777777777,
           20192.777777777777,
           20192.777777777777,
           20192.777777777777,
           20192.777777777777,
           20192.777777777777
          ],
          [
           22650,
           22650,
           22650,
           22650,
           22650,
           22650,
           22650,
           22650,
           22650,
           22650
          ]
         ],
         "z": [
          [
           -5089970383596506,
           -5090214114137336,
           -5090457844678165,
           -5090701575218995,
           -5090945305759824,
           -5091189036300654,
           -5091432766841484,
           -5091676497382313,
           -5091920227923143,
           -5092163958463972
          ],
          [
           -28462414726219340,
           -28462658456760170,
           -28462902187301000,
           -28463145917841828,
           -28463389648382660,
           -28463633378923490,
           -28463877109464316,
           -28464120840005148,
           -28464364570545976,
           -28464608301086810
          ],
          [
           -51834859068842180,
           -51835102799383010,
           -51835346529923840,
           -51835590260464670,
           -51835833991005496,
           -51836077721546330,
           -51836321452087160,
           -51836565182627980,
           -51836808913168820,
           -51837052643709650
          ],
          [
           -75207303411465010,
           -75207547142005840,
           -75207790872546670,
           -75208034603087500,
           -75208278333628340,
           -75208522064169170,
           -75208765794709980,
           -75209009525250820,
           -75209253255791650,
           -75209496986332480
          ],
          [
           -98579747754087860,
           -98579991484628690,
           -98580235215169520,
           -98580478945710350,
           -98580722676251180,
           -98580966406792020,
           -98581210137332830,
           -98581453867873660,
           -98581697598414500,
           -98581941328955330
          ],
          [
           -121952192096710700,
           -121952435827251540,
           -121952679557792370,
           -121952923288333200,
           -121953167018874030,
           -121953410749414860,
           -121953654479955680,
           -121953898210496510,
           -121954141941037340,
           -121954385671578180
          ],
          [
           -145324636439333540,
           -145324880169874370,
           -145325123900415170,
           -145325367630956000,
           -145325611361496830,
           -145325855092037660,
           -145326098822578500,
           -145326342553119330,
           -145326586283660160,
           -145326830014201000
          ],
          [
           -168697080781956380,
           -168697324512497200,
           -168697568243038000,
           -168697811973578850,
           -168698055704119680,
           -168698299434660500,
           -168698543165201340,
           -168698786895742180,
           -168699030626283000,
           -168699274356823840
          ],
          [
           -192069525124579230,
           -192069768855120060,
           -192070012585660860,
           -192070256316201700,
           -192070500046742530,
           -192070743777283360,
           -192070987507824200,
           -192071231238365020,
           -192071474968905860,
           -192071718699446700
          ],
          [
           -215441969467202050,
           -215442213197742880,
           -215442456928283680,
           -215442700658824500,
           -215442944389365340,
           -215443188119906180,
           -215443431850447000,
           -215443675580987840,
           -215443919311528670,
           -215444163042069500
          ]
         ]
        },
        {
         "opacity": 0.5,
         "type": "surface",
         "x": [
          [
           0.093214,
           0.111898,
           0.130582,
           0.149266,
           0.16795,
           0.18663399999999997,
           0.205318,
           0.22400199999999998,
           0.24268599999999996,
           0.26137
          ],
          [
           0.093214,
           0.111898,
           0.130582,
           0.149266,
           0.16795,
           0.18663399999999997,
           0.205318,
           0.22400199999999998,
           0.24268599999999996,
           0.26137
          ],
          [
           0.093214,
           0.111898,
           0.130582,
           0.149266,
           0.16795,
           0.18663399999999997,
           0.205318,
           0.22400199999999998,
           0.24268599999999996,
           0.26137
          ],
          [
           0.093214,
           0.111898,
           0.130582,
           0.149266,
           0.16795,
           0.18663399999999997,
           0.205318,
           0.22400199999999998,
           0.24268599999999996,
           0.26137
          ],
          [
           0.093214,
           0.111898,
           0.130582,
           0.149266,
           0.16795,
           0.18663399999999997,
           0.205318,
           0.22400199999999998,
           0.24268599999999996,
           0.26137
          ],
          [
           0.093214,
           0.111898,
           0.130582,
           0.149266,
           0.16795,
           0.18663399999999997,
           0.205318,
           0.22400199999999998,
           0.24268599999999996,
           0.26137
          ],
          [
           0.093214,
           0.111898,
           0.130582,
           0.149266,
           0.16795,
           0.18663399999999997,
           0.205318,
           0.22400199999999998,
           0.24268599999999996,
           0.26137
          ],
          [
           0.093214,
           0.111898,
           0.130582,
           0.149266,
           0.16795,
           0.18663399999999997,
           0.205318,
           0.22400199999999998,
           0.24268599999999996,
           0.26137
          ],
          [
           0.093214,
           0.111898,
           0.130582,
           0.149266,
           0.16795,
           0.18663399999999997,
           0.205318,
           0.22400199999999998,
           0.24268599999999996,
           0.26137
          ],
          [
           0.093214,
           0.111898,
           0.130582,
           0.149266,
           0.16795,
           0.18663399999999997,
           0.205318,
           0.22400199999999998,
           0.24268599999999996,
           0.26137
          ]
         ],
         "y": [
          [
           535,
           535,
           535,
           535,
           535,
           535,
           535,
           535,
           535,
           535
          ],
          [
           2992.222222222222,
           2992.222222222222,
           2992.222222222222,
           2992.222222222222,
           2992.222222222222,
           2992.222222222222,
           2992.222222222222,
           2992.222222222222,
           2992.222222222222,
           2992.222222222222
          ],
          [
           5449.444444444444,
           5449.444444444444,
           5449.444444444444,
           5449.444444444444,
           5449.444444444444,
           5449.444444444444,
           5449.444444444444,
           5449.444444444444,
           5449.444444444444,
           5449.444444444444
          ],
          [
           7906.666666666666,
           7906.666666666666,
           7906.666666666666,
           7906.666666666666,
           7906.666666666666,
           7906.666666666666,
           7906.666666666666,
           7906.666666666666,
           7906.666666666666,
           7906.666666666666
          ],
          [
           10363.888888888889,
           10363.888888888889,
           10363.888888888889,
           10363.888888888889,
           10363.888888888889,
           10363.888888888889,
           10363.888888888889,
           10363.888888888889,
           10363.888888888889,
           10363.888888888889
          ],
          [
           12821.111111111111,
           12821.111111111111,
           12821.111111111111,
           12821.111111111111,
           12821.111111111111,
           12821.111111111111,
           12821.111111111111,
           12821.111111111111,
           12821.111111111111,
           12821.111111111111
          ],
          [
           15278.333333333332,
           15278.333333333332,
           15278.333333333332,
           15278.333333333332,
           15278.333333333332,
           15278.333333333332,
           15278.333333333332,
           15278.333333333332,
           15278.333333333332,
           15278.333333333332
          ],
          [
           17735.555555555555,
           17735.555555555555,
           17735.555555555555,
           17735.555555555555,
           17735.555555555555,
           17735.555555555555,
           17735.555555555555,
           17735.555555555555,
           17735.555555555555,
           17735.555555555555
          ],
          [
           20192.777777777777,
           20192.777777777777,
           20192.777777777777,
           20192.777777777777,
           20192.777777777777,
           20192.777777777777,
           20192.777777777777,
           20192.777777777777,
           20192.777777777777,
           20192.777777777777
          ],
          [
           22650,
           22650,
           22650,
           22650,
           22650,
           22650,
           22650,
           22650,
           22650,
           22650
          ]
         ],
         "z": [
          [
           -5089970383596506,
           -5090214114137336,
           -5090457844678165,
           -5090701575218995,
           -5090945305759824,
           -5091189036300654,
           -5091432766841484,
           -5091676497382313,
           -5091920227923143,
           -5092163958463972
          ],
          [
           -28462414726219340,
           -28462658456760170,
           -28462902187301000,
           -28463145917841828,
           -28463389648382660,
           -28463633378923490,
           -28463877109464316,
           -28464120840005148,
           -28464364570545976,
           -28464608301086810
          ],
          [
           -51834859068842180,
           -51835102799383010,
           -51835346529923840,
           -51835590260464670,
           -51835833991005496,
           -51836077721546330,
           -51836321452087160,
           -51836565182627980,
           -51836808913168820,
           -51837052643709650
          ],
          [
           -75207303411465010,
           -75207547142005840,
           -75207790872546670,
           -75208034603087500,
           -75208278333628340,
           -75208522064169170,
           -75208765794709980,
           -75209009525250820,
           -75209253255791650,
           -75209496986332480
          ],
          [
           -98579747754087860,
           -98579991484628690,
           -98580235215169520,
           -98580478945710350,
           -98580722676251180,
           -98580966406792020,
           -98581210137332830,
           -98581453867873660,
           -98581697598414500,
           -98581941328955330
          ],
          [
           -121952192096710700,
           -121952435827251540,
           -121952679557792370,
           -121952923288333200,
           -121953167018874030,
           -121953410749414860,
           -121953654479955680,
           -121953898210496510,
           -121954141941037340,
           -121954385671578180
          ],
          [
           -145324636439333540,
           -145324880169874370,
           -145325123900415170,
           -145325367630956000,
           -145325611361496830,
           -145325855092037660,
           -145326098822578500,
           -145326342553119330,
           -145326586283660160,
           -145326830014201000
          ],
          [
           -168697080781956380,
           -168697324512497200,
           -168697568243038000,
           -168697811973578850,
           -168698055704119680,
           -168698299434660500,
           -168698543165201340,
           -168698786895742180,
           -168699030626283000,
           -168699274356823840
          ],
          [
           -192069525124579230,
           -192069768855120060,
           -192070012585660860,
           -192070256316201700,
           -192070500046742530,
           -192070743777283360,
           -192070987507824200,
           -192071231238365020,
           -192071474968905860,
           -192071718699446700
          ],
          [
           -215441969467202050,
           -215442213197742880,
           -215442456928283680,
           -215442700658824500,
           -215442944389365340,
           -215443188119906180,
           -215443431850447000,
           -215443675580987840,
           -215443919311528670,
           -215444163042069500
          ]
         ]
        },
        {
         "opacity": 0.5,
         "type": "surface",
         "x": [
          [
           0.093214,
           0.111898,
           0.130582,
           0.149266,
           0.16795,
           0.18663399999999997,
           0.205318,
           0.22400199999999998,
           0.24268599999999996,
           0.26137
          ],
          [
           0.093214,
           0.111898,
           0.130582,
           0.149266,
           0.16795,
           0.18663399999999997,
           0.205318,
           0.22400199999999998,
           0.24268599999999996,
           0.26137
          ],
          [
           0.093214,
           0.111898,
           0.130582,
           0.149266,
           0.16795,
           0.18663399999999997,
           0.205318,
           0.22400199999999998,
           0.24268599999999996,
           0.26137
          ],
          [
           0.093214,
           0.111898,
           0.130582,
           0.149266,
           0.16795,
           0.18663399999999997,
           0.205318,
           0.22400199999999998,
           0.24268599999999996,
           0.26137
          ],
          [
           0.093214,
           0.111898,
           0.130582,
           0.149266,
           0.16795,
           0.18663399999999997,
           0.205318,
           0.22400199999999998,
           0.24268599999999996,
           0.26137
          ],
          [
           0.093214,
           0.111898,
           0.130582,
           0.149266,
           0.16795,
           0.18663399999999997,
           0.205318,
           0.22400199999999998,
           0.24268599999999996,
           0.26137
          ],
          [
           0.093214,
           0.111898,
           0.130582,
           0.149266,
           0.16795,
           0.18663399999999997,
           0.205318,
           0.22400199999999998,
           0.24268599999999996,
           0.26137
          ],
          [
           0.093214,
           0.111898,
           0.130582,
           0.149266,
           0.16795,
           0.18663399999999997,
           0.205318,
           0.22400199999999998,
           0.24268599999999996,
           0.26137
          ],
          [
           0.093214,
           0.111898,
           0.130582,
           0.149266,
           0.16795,
           0.18663399999999997,
           0.205318,
           0.22400199999999998,
           0.24268599999999996,
           0.26137
          ],
          [
           0.093214,
           0.111898,
           0.130582,
           0.149266,
           0.16795,
           0.18663399999999997,
           0.205318,
           0.22400199999999998,
           0.24268599999999996,
           0.26137
          ]
         ],
         "y": [
          [
           535,
           535,
           535,
           535,
           535,
           535,
           535,
           535,
           535,
           535
          ],
          [
           2992.222222222222,
           2992.222222222222,
           2992.222222222222,
           2992.222222222222,
           2992.222222222222,
           2992.222222222222,
           2992.222222222222,
           2992.222222222222,
           2992.222222222222,
           2992.222222222222
          ],
          [
           5449.444444444444,
           5449.444444444444,
           5449.444444444444,
           5449.444444444444,
           5449.444444444444,
           5449.444444444444,
           5449.444444444444,
           5449.444444444444,
           5449.444444444444,
           5449.444444444444
          ],
          [
           7906.666666666666,
           7906.666666666666,
           7906.666666666666,
           7906.666666666666,
           7906.666666666666,
           7906.666666666666,
           7906.666666666666,
           7906.666666666666,
           7906.666666666666,
           7906.666666666666
          ],
          [
           10363.888888888889,
           10363.888888888889,
           10363.888888888889,
           10363.888888888889,
           10363.888888888889,
           10363.888888888889,
           10363.888888888889,
           10363.888888888889,
           10363.888888888889,
           10363.888888888889
          ],
          [
           12821.111111111111,
           12821.111111111111,
           12821.111111111111,
           12821.111111111111,
           12821.111111111111,
           12821.111111111111,
           12821.111111111111,
           12821.111111111111,
           12821.111111111111,
           12821.111111111111
          ],
          [
           15278.333333333332,
           15278.333333333332,
           15278.333333333332,
           15278.333333333332,
           15278.333333333332,
           15278.333333333332,
           15278.333333333332,
           15278.333333333332,
           15278.333333333332,
           15278.333333333332
          ],
          [
           17735.555555555555,
           17735.555555555555,
           17735.555555555555,
           17735.555555555555,
           17735.555555555555,
           17735.555555555555,
           17735.555555555555,
           17735.555555555555,
           17735.555555555555,
           17735.555555555555
          ],
          [
           20192.777777777777,
           20192.777777777777,
           20192.777777777777,
           20192.777777777777,
           20192.777777777777,
           20192.777777777777,
           20192.777777777777,
           20192.777777777777,
           20192.777777777777,
           20192.777777777777
          ],
          [
           22650,
           22650,
           22650,
           22650,
           22650,
           22650,
           22650,
           22650,
           22650,
           22650
          ]
         ],
         "z": [
          [
           -5089970383596506,
           -5090214114137336,
           -5090457844678165,
           -5090701575218995,
           -5090945305759824,
           -5091189036300654,
           -5091432766841484,
           -5091676497382313,
           -5091920227923143,
           -5092163958463972
          ],
          [
           -28462414726219340,
           -28462658456760170,
           -28462902187301000,
           -28463145917841828,
           -28463389648382660,
           -28463633378923490,
           -28463877109464316,
           -28464120840005148,
           -28464364570545976,
           -28464608301086810
          ],
          [
           -51834859068842180,
           -51835102799383010,
           -51835346529923840,
           -51835590260464670,
           -51835833991005496,
           -51836077721546330,
           -51836321452087160,
           -51836565182627980,
           -51836808913168820,
           -51837052643709650
          ],
          [
           -75207303411465010,
           -75207547142005840,
           -75207790872546670,
           -75208034603087500,
           -75208278333628340,
           -75208522064169170,
           -75208765794709980,
           -75209009525250820,
           -75209253255791650,
           -75209496986332480
          ],
          [
           -98579747754087860,
           -98579991484628690,
           -98580235215169520,
           -98580478945710350,
           -98580722676251180,
           -98580966406792020,
           -98581210137332830,
           -98581453867873660,
           -98581697598414500,
           -98581941328955330
          ],
          [
           -121952192096710700,
           -121952435827251540,
           -121952679557792370,
           -121952923288333200,
           -121953167018874030,
           -121953410749414860,
           -121953654479955680,
           -121953898210496510,
           -121954141941037340,
           -121954385671578180
          ],
          [
           -145324636439333540,
           -145324880169874370,
           -145325123900415170,
           -145325367630956000,
           -145325611361496830,
           -145325855092037660,
           -145326098822578500,
           -145326342553119330,
           -145326586283660160,
           -145326830014201000
          ],
          [
           -168697080781956380,
           -168697324512497200,
           -168697568243038000,
           -168697811973578850,
           -168698055704119680,
           -168698299434660500,
           -168698543165201340,
           -168698786895742180,
           -168699030626283000,
           -168699274356823840
          ],
          [
           -192069525124579230,
           -192069768855120060,
           -192070012585660860,
           -192070256316201700,
           -192070500046742530,
           -192070743777283360,
           -192070987507824200,
           -192071231238365020,
           -192071474968905860,
           -192071718699446700
          ],
          [
           -215441969467202050,
           -215442213197742880,
           -215442456928283680,
           -215442700658824500,
           -215442944389365340,
           -215443188119906180,
           -215443431850447000,
           -215443675580987840,
           -215443919311528670,
           -215444163042069500
          ]
         ]
        },
        {
         "opacity": 0.5,
         "type": "surface",
         "x": [
          [
           0.093214,
           0.111898,
           0.130582,
           0.149266,
           0.16795,
           0.18663399999999997,
           0.205318,
           0.22400199999999998,
           0.24268599999999996,
           0.26137
          ],
          [
           0.093214,
           0.111898,
           0.130582,
           0.149266,
           0.16795,
           0.18663399999999997,
           0.205318,
           0.22400199999999998,
           0.24268599999999996,
           0.26137
          ],
          [
           0.093214,
           0.111898,
           0.130582,
           0.149266,
           0.16795,
           0.18663399999999997,
           0.205318,
           0.22400199999999998,
           0.24268599999999996,
           0.26137
          ],
          [
           0.093214,
           0.111898,
           0.130582,
           0.149266,
           0.16795,
           0.18663399999999997,
           0.205318,
           0.22400199999999998,
           0.24268599999999996,
           0.26137
          ],
          [
           0.093214,
           0.111898,
           0.130582,
           0.149266,
           0.16795,
           0.18663399999999997,
           0.205318,
           0.22400199999999998,
           0.24268599999999996,
           0.26137
          ],
          [
           0.093214,
           0.111898,
           0.130582,
           0.149266,
           0.16795,
           0.18663399999999997,
           0.205318,
           0.22400199999999998,
           0.24268599999999996,
           0.26137
          ],
          [
           0.093214,
           0.111898,
           0.130582,
           0.149266,
           0.16795,
           0.18663399999999997,
           0.205318,
           0.22400199999999998,
           0.24268599999999996,
           0.26137
          ],
          [
           0.093214,
           0.111898,
           0.130582,
           0.149266,
           0.16795,
           0.18663399999999997,
           0.205318,
           0.22400199999999998,
           0.24268599999999996,
           0.26137
          ],
          [
           0.093214,
           0.111898,
           0.130582,
           0.149266,
           0.16795,
           0.18663399999999997,
           0.205318,
           0.22400199999999998,
           0.24268599999999996,
           0.26137
          ],
          [
           0.093214,
           0.111898,
           0.130582,
           0.149266,
           0.16795,
           0.18663399999999997,
           0.205318,
           0.22400199999999998,
           0.24268599999999996,
           0.26137
          ]
         ],
         "y": [
          [
           535,
           535,
           535,
           535,
           535,
           535,
           535,
           535,
           535,
           535
          ],
          [
           2992.222222222222,
           2992.222222222222,
           2992.222222222222,
           2992.222222222222,
           2992.222222222222,
           2992.222222222222,
           2992.222222222222,
           2992.222222222222,
           2992.222222222222,
           2992.222222222222
          ],
          [
           5449.444444444444,
           5449.444444444444,
           5449.444444444444,
           5449.444444444444,
           5449.444444444444,
           5449.444444444444,
           5449.444444444444,
           5449.444444444444,
           5449.444444444444,
           5449.444444444444
          ],
          [
           7906.666666666666,
           7906.666666666666,
           7906.666666666666,
           7906.666666666666,
           7906.666666666666,
           7906.666666666666,
           7906.666666666666,
           7906.666666666666,
           7906.666666666666,
           7906.666666666666
          ],
          [
           10363.888888888889,
           10363.888888888889,
           10363.888888888889,
           10363.888888888889,
           10363.888888888889,
           10363.888888888889,
           10363.888888888889,
           10363.888888888889,
           10363.888888888889,
           10363.888888888889
          ],
          [
           12821.111111111111,
           12821.111111111111,
           12821.111111111111,
           12821.111111111111,
           12821.111111111111,
           12821.111111111111,
           12821.111111111111,
           12821.111111111111,
           12821.111111111111,
           12821.111111111111
          ],
          [
           15278.333333333332,
           15278.333333333332,
           15278.333333333332,
           15278.333333333332,
           15278.333333333332,
           15278.333333333332,
           15278.333333333332,
           15278.333333333332,
           15278.333333333332,
           15278.333333333332
          ],
          [
           17735.555555555555,
           17735.555555555555,
           17735.555555555555,
           17735.555555555555,
           17735.555555555555,
           17735.555555555555,
           17735.555555555555,
           17735.555555555555,
           17735.555555555555,
           17735.555555555555
          ],
          [
           20192.777777777777,
           20192.777777777777,
           20192.777777777777,
           20192.777777777777,
           20192.777777777777,
           20192.777777777777,
           20192.777777777777,
           20192.777777777777,
           20192.777777777777,
           20192.777777777777
          ],
          [
           22650,
           22650,
           22650,
           22650,
           22650,
           22650,
           22650,
           22650,
           22650,
           22650
          ]
         ],
         "z": [
          [
           -5089970383596506,
           -5090214114137336,
           -5090457844678165,
           -5090701575218995,
           -5090945305759824,
           -5091189036300654,
           -5091432766841484,
           -5091676497382313,
           -5091920227923143,
           -5092163958463972
          ],
          [
           -28462414726219340,
           -28462658456760170,
           -28462902187301000,
           -28463145917841828,
           -28463389648382660,
           -28463633378923490,
           -28463877109464316,
           -28464120840005148,
           -28464364570545976,
           -28464608301086810
          ],
          [
           -51834859068842180,
           -51835102799383010,
           -51835346529923840,
           -51835590260464670,
           -51835833991005496,
           -51836077721546330,
           -51836321452087160,
           -51836565182627980,
           -51836808913168820,
           -51837052643709650
          ],
          [
           -75207303411465010,
           -75207547142005840,
           -75207790872546670,
           -75208034603087500,
           -75208278333628340,
           -75208522064169170,
           -75208765794709980,
           -75209009525250820,
           -75209253255791650,
           -75209496986332480
          ],
          [
           -98579747754087860,
           -98579991484628690,
           -98580235215169520,
           -98580478945710350,
           -98580722676251180,
           -98580966406792020,
           -98581210137332830,
           -98581453867873660,
           -98581697598414500,
           -98581941328955330
          ],
          [
           -121952192096710700,
           -121952435827251540,
           -121952679557792370,
           -121952923288333200,
           -121953167018874030,
           -121953410749414860,
           -121953654479955680,
           -121953898210496510,
           -121954141941037340,
           -121954385671578180
          ],
          [
           -145324636439333540,
           -145324880169874370,
           -145325123900415170,
           -145325367630956000,
           -145325611361496830,
           -145325855092037660,
           -145326098822578500,
           -145326342553119330,
           -145326586283660160,
           -145326830014201000
          ],
          [
           -168697080781956380,
           -168697324512497200,
           -168697568243038000,
           -168697811973578850,
           -168698055704119680,
           -168698299434660500,
           -168698543165201340,
           -168698786895742180,
           -168699030626283000,
           -168699274356823840
          ],
          [
           -192069525124579230,
           -192069768855120060,
           -192070012585660860,
           -192070256316201700,
           -192070500046742530,
           -192070743777283360,
           -192070987507824200,
           -192071231238365020,
           -192071474968905860,
           -192071718699446700
          ],
          [
           -215441969467202050,
           -215442213197742880,
           -215442456928283680,
           -215442700658824500,
           -215442944389365340,
           -215443188119906180,
           -215443431850447000,
           -215443675580987840,
           -215443919311528670,
           -215444163042069500
          ]
         ]
        },
        {
         "opacity": 0.5,
         "type": "surface",
         "x": [
          [
           0.093214,
           0.111898,
           0.130582,
           0.149266,
           0.16795,
           0.18663399999999997,
           0.205318,
           0.22400199999999998,
           0.24268599999999996,
           0.26137
          ],
          [
           0.093214,
           0.111898,
           0.130582,
           0.149266,
           0.16795,
           0.18663399999999997,
           0.205318,
           0.22400199999999998,
           0.24268599999999996,
           0.26137
          ],
          [
           0.093214,
           0.111898,
           0.130582,
           0.149266,
           0.16795,
           0.18663399999999997,
           0.205318,
           0.22400199999999998,
           0.24268599999999996,
           0.26137
          ],
          [
           0.093214,
           0.111898,
           0.130582,
           0.149266,
           0.16795,
           0.18663399999999997,
           0.205318,
           0.22400199999999998,
           0.24268599999999996,
           0.26137
          ],
          [
           0.093214,
           0.111898,
           0.130582,
           0.149266,
           0.16795,
           0.18663399999999997,
           0.205318,
           0.22400199999999998,
           0.24268599999999996,
           0.26137
          ],
          [
           0.093214,
           0.111898,
           0.130582,
           0.149266,
           0.16795,
           0.18663399999999997,
           0.205318,
           0.22400199999999998,
           0.24268599999999996,
           0.26137
          ],
          [
           0.093214,
           0.111898,
           0.130582,
           0.149266,
           0.16795,
           0.18663399999999997,
           0.205318,
           0.22400199999999998,
           0.24268599999999996,
           0.26137
          ],
          [
           0.093214,
           0.111898,
           0.130582,
           0.149266,
           0.16795,
           0.18663399999999997,
           0.205318,
           0.22400199999999998,
           0.24268599999999996,
           0.26137
          ],
          [
           0.093214,
           0.111898,
           0.130582,
           0.149266,
           0.16795,
           0.18663399999999997,
           0.205318,
           0.22400199999999998,
           0.24268599999999996,
           0.26137
          ],
          [
           0.093214,
           0.111898,
           0.130582,
           0.149266,
           0.16795,
           0.18663399999999997,
           0.205318,
           0.22400199999999998,
           0.24268599999999996,
           0.26137
          ]
         ],
         "y": [
          [
           535,
           535,
           535,
           535,
           535,
           535,
           535,
           535,
           535,
           535
          ],
          [
           2992.222222222222,
           2992.222222222222,
           2992.222222222222,
           2992.222222222222,
           2992.222222222222,
           2992.222222222222,
           2992.222222222222,
           2992.222222222222,
           2992.222222222222,
           2992.222222222222
          ],
          [
           5449.444444444444,
           5449.444444444444,
           5449.444444444444,
           5449.444444444444,
           5449.444444444444,
           5449.444444444444,
           5449.444444444444,
           5449.444444444444,
           5449.444444444444,
           5449.444444444444
          ],
          [
           7906.666666666666,
           7906.666666666666,
           7906.666666666666,
           7906.666666666666,
           7906.666666666666,
           7906.666666666666,
           7906.666666666666,
           7906.666666666666,
           7906.666666666666,
           7906.666666666666
          ],
          [
           10363.888888888889,
           10363.888888888889,
           10363.888888888889,
           10363.888888888889,
           10363.888888888889,
           10363.888888888889,
           10363.888888888889,
           10363.888888888889,
           10363.888888888889,
           10363.888888888889
          ],
          [
           12821.111111111111,
           12821.111111111111,
           12821.111111111111,
           12821.111111111111,
           12821.111111111111,
           12821.111111111111,
           12821.111111111111,
           12821.111111111111,
           12821.111111111111,
           12821.111111111111
          ],
          [
           15278.333333333332,
           15278.333333333332,
           15278.333333333332,
           15278.333333333332,
           15278.333333333332,
           15278.333333333332,
           15278.333333333332,
           15278.333333333332,
           15278.333333333332,
           15278.333333333332
          ],
          [
           17735.555555555555,
           17735.555555555555,
           17735.555555555555,
           17735.555555555555,
           17735.555555555555,
           17735.555555555555,
           17735.555555555555,
           17735.555555555555,
           17735.555555555555,
           17735.555555555555
          ],
          [
           20192.777777777777,
           20192.777777777777,
           20192.777777777777,
           20192.777777777777,
           20192.777777777777,
           20192.777777777777,
           20192.777777777777,
           20192.777777777777,
           20192.777777777777,
           20192.777777777777
          ],
          [
           22650,
           22650,
           22650,
           22650,
           22650,
           22650,
           22650,
           22650,
           22650,
           22650
          ]
         ],
         "z": [
          [
           5.190839730475172,
           5.190846171920513,
           5.190852613365853,
           5.190859054811193,
           5.190865496256532,
           5.190871937701873,
           5.190878379147213,
           5.190884820592553,
           5.190891262037892,
           5.190897703483233
          ],
          [
           29.032274352759952,
           29.032280794205292,
           29.03228723565063,
           29.03229367709597,
           29.03230011854131,
           29.03230655998665,
           29.03231300143199,
           29.03231944287733,
           29.03232588432267,
           29.03233232576801
          ],
          [
           52.873708975044735,
           52.87371541649007,
           52.873721857935415,
           52.87372829938075,
           52.873734740826094,
           52.87374118227143,
           52.873747623716774,
           52.87375406516212,
           52.873760506607454,
           52.8737669480528
          ],
          [
           76.7151435973295,
           76.71515003877484,
           76.71515648022017,
           76.71516292166552,
           76.71516936311086,
           76.7151758045562,
           76.71518224600153,
           76.71518868744688,
           76.71519512889222,
           76.71520157033756
          ],
          [
           100.55657821961428,
           100.55658466105962,
           100.55659110250495,
           100.5565975439503,
           100.55660398539564,
           100.55661042684098,
           100.55661686828631,
           100.55662330973166,
           100.556629751177,
           100.55663619262234
          ],
          [
           124.39801284189907,
           124.39801928334441,
           124.39802572478975,
           124.3980321662351,
           124.39803860768043,
           124.39804504912577,
           124.3980514905711,
           124.39805793201646,
           124.39806437346179,
           124.39807081490713
          ],
          [
           148.23944746418383,
           148.23945390562918,
           148.2394603470745,
           148.23946678851985,
           148.23947322996517,
           148.23947967141052,
           148.23948611285587,
           148.2394925543012,
           148.23949899574654,
           148.2395054371919
          ],
          [
           172.08088208646862,
           172.08088852791397,
           172.0808949693593,
           172.08090141080464,
           172.08090785224996,
           172.08091429369532,
           172.08092073514067,
           172.080927176586,
           172.08093361803134,
           172.0809400594767
          ],
          [
           195.92231670875339,
           195.92232315019874,
           195.92232959164406,
           195.9223360330894,
           195.92234247453473,
           195.92234891598008,
           195.92235535742543,
           195.92236179887075,
           195.9223682403161,
           195.92237468176145
          ],
          [
           219.76375133103818,
           219.76375777248353,
           219.76376421392885,
           219.7637706553742,
           219.76377709681952,
           219.76378353826487,
           219.76378997971022,
           219.76379642115555,
           219.7638028626009,
           219.76380930404625
          ]
         ]
        },
        {
         "opacity": 0.5,
         "type": "surface",
         "x": [
          [
           0.093214,
           0.111898,
           0.130582,
           0.149266,
           0.16795,
           0.18663399999999997,
           0.205318,
           0.22400199999999998,
           0.24268599999999996,
           0.26137
          ],
          [
           0.093214,
           0.111898,
           0.130582,
           0.149266,
           0.16795,
           0.18663399999999997,
           0.205318,
           0.22400199999999998,
           0.24268599999999996,
           0.26137
          ],
          [
           0.093214,
           0.111898,
           0.130582,
           0.149266,
           0.16795,
           0.18663399999999997,
           0.205318,
           0.22400199999999998,
           0.24268599999999996,
           0.26137
          ],
          [
           0.093214,
           0.111898,
           0.130582,
           0.149266,
           0.16795,
           0.18663399999999997,
           0.205318,
           0.22400199999999998,
           0.24268599999999996,
           0.26137
          ],
          [
           0.093214,
           0.111898,
           0.130582,
           0.149266,
           0.16795,
           0.18663399999999997,
           0.205318,
           0.22400199999999998,
           0.24268599999999996,
           0.26137
          ],
          [
           0.093214,
           0.111898,
           0.130582,
           0.149266,
           0.16795,
           0.18663399999999997,
           0.205318,
           0.22400199999999998,
           0.24268599999999996,
           0.26137
          ],
          [
           0.093214,
           0.111898,
           0.130582,
           0.149266,
           0.16795,
           0.18663399999999997,
           0.205318,
           0.22400199999999998,
           0.24268599999999996,
           0.26137
          ],
          [
           0.093214,
           0.111898,
           0.130582,
           0.149266,
           0.16795,
           0.18663399999999997,
           0.205318,
           0.22400199999999998,
           0.24268599999999996,
           0.26137
          ],
          [
           0.093214,
           0.111898,
           0.130582,
           0.149266,
           0.16795,
           0.18663399999999997,
           0.205318,
           0.22400199999999998,
           0.24268599999999996,
           0.26137
          ],
          [
           0.093214,
           0.111898,
           0.130582,
           0.149266,
           0.16795,
           0.18663399999999997,
           0.205318,
           0.22400199999999998,
           0.24268599999999996,
           0.26137
          ]
         ],
         "y": [
          [
           535,
           535,
           535,
           535,
           535,
           535,
           535,
           535,
           535,
           535
          ],
          [
           2992.222222222222,
           2992.222222222222,
           2992.222222222222,
           2992.222222222222,
           2992.222222222222,
           2992.222222222222,
           2992.222222222222,
           2992.222222222222,
           2992.222222222222,
           2992.222222222222
          ],
          [
           5449.444444444444,
           5449.444444444444,
           5449.444444444444,
           5449.444444444444,
           5449.444444444444,
           5449.444444444444,
           5449.444444444444,
           5449.444444444444,
           5449.444444444444,
           5449.444444444444
          ],
          [
           7906.666666666666,
           7906.666666666666,
           7906.666666666666,
           7906.666666666666,
           7906.666666666666,
           7906.666666666666,
           7906.666666666666,
           7906.666666666666,
           7906.666666666666,
           7906.666666666666
          ],
          [
           10363.888888888889,
           10363.888888888889,
           10363.888888888889,
           10363.888888888889,
           10363.888888888889,
           10363.888888888889,
           10363.888888888889,
           10363.888888888889,
           10363.888888888889,
           10363.888888888889
          ],
          [
           12821.111111111111,
           12821.111111111111,
           12821.111111111111,
           12821.111111111111,
           12821.111111111111,
           12821.111111111111,
           12821.111111111111,
           12821.111111111111,
           12821.111111111111,
           12821.111111111111
          ],
          [
           15278.333333333332,
           15278.333333333332,
           15278.333333333332,
           15278.333333333332,
           15278.333333333332,
           15278.333333333332,
           15278.333333333332,
           15278.333333333332,
           15278.333333333332,
           15278.333333333332
          ],
          [
           17735.555555555555,
           17735.555555555555,
           17735.555555555555,
           17735.555555555555,
           17735.555555555555,
           17735.555555555555,
           17735.555555555555,
           17735.555555555555,
           17735.555555555555,
           17735.555555555555
          ],
          [
           20192.777777777777,
           20192.777777777777,
           20192.777777777777,
           20192.777777777777,
           20192.777777777777,
           20192.777777777777,
           20192.777777777777,
           20192.777777777777,
           20192.777777777777,
           20192.777777777777
          ],
          [
           22650,
           22650,
           22650,
           22650,
           22650,
           22650,
           22650,
           22650,
           22650,
           22650
          ]
         ],
         "z": [
          [
           5.190839730475172,
           5.190846171920513,
           5.190852613365853,
           5.190859054811193,
           5.190865496256532,
           5.190871937701873,
           5.190878379147213,
           5.190884820592553,
           5.190891262037892,
           5.190897703483233
          ],
          [
           29.032274352759952,
           29.032280794205292,
           29.03228723565063,
           29.03229367709597,
           29.03230011854131,
           29.03230655998665,
           29.03231300143199,
           29.03231944287733,
           29.03232588432267,
           29.03233232576801
          ],
          [
           52.873708975044735,
           52.87371541649007,
           52.873721857935415,
           52.87372829938075,
           52.873734740826094,
           52.87374118227143,
           52.873747623716774,
           52.87375406516212,
           52.873760506607454,
           52.8737669480528
          ],
          [
           76.7151435973295,
           76.71515003877484,
           76.71515648022017,
           76.71516292166552,
           76.71516936311086,
           76.7151758045562,
           76.71518224600153,
           76.71518868744688,
           76.71519512889222,
           76.71520157033756
          ],
          [
           100.55657821961428,
           100.55658466105962,
           100.55659110250495,
           100.5565975439503,
           100.55660398539564,
           100.55661042684098,
           100.55661686828631,
           100.55662330973166,
           100.556629751177,
           100.55663619262234
          ],
          [
           124.39801284189907,
           124.39801928334441,
           124.39802572478975,
           124.3980321662351,
           124.39803860768043,
           124.39804504912577,
           124.3980514905711,
           124.39805793201646,
           124.39806437346179,
           124.39807081490713
          ],
          [
           148.23944746418383,
           148.23945390562918,
           148.2394603470745,
           148.23946678851985,
           148.23947322996517,
           148.23947967141052,
           148.23948611285587,
           148.2394925543012,
           148.23949899574654,
           148.2395054371919
          ],
          [
           172.08088208646862,
           172.08088852791397,
           172.0808949693593,
           172.08090141080464,
           172.08090785224996,
           172.08091429369532,
           172.08092073514067,
           172.080927176586,
           172.08093361803134,
           172.0809400594767
          ],
          [
           195.92231670875339,
           195.92232315019874,
           195.92232959164406,
           195.9223360330894,
           195.92234247453473,
           195.92234891598008,
           195.92235535742543,
           195.92236179887075,
           195.9223682403161,
           195.92237468176145
          ],
          [
           219.76375133103818,
           219.76375777248353,
           219.76376421392885,
           219.7637706553742,
           219.76377709681952,
           219.76378353826487,
           219.76378997971022,
           219.76379642115555,
           219.7638028626009,
           219.76380930404625
          ]
         ]
        },
        {
         "opacity": 0.5,
         "type": "surface",
         "x": [
          [
           0.093214,
           0.111898,
           0.130582,
           0.149266,
           0.16795,
           0.18663399999999997,
           0.205318,
           0.22400199999999998,
           0.24268599999999996,
           0.26137
          ],
          [
           0.093214,
           0.111898,
           0.130582,
           0.149266,
           0.16795,
           0.18663399999999997,
           0.205318,
           0.22400199999999998,
           0.24268599999999996,
           0.26137
          ],
          [
           0.093214,
           0.111898,
           0.130582,
           0.149266,
           0.16795,
           0.18663399999999997,
           0.205318,
           0.22400199999999998,
           0.24268599999999996,
           0.26137
          ],
          [
           0.093214,
           0.111898,
           0.130582,
           0.149266,
           0.16795,
           0.18663399999999997,
           0.205318,
           0.22400199999999998,
           0.24268599999999996,
           0.26137
          ],
          [
           0.093214,
           0.111898,
           0.130582,
           0.149266,
           0.16795,
           0.18663399999999997,
           0.205318,
           0.22400199999999998,
           0.24268599999999996,
           0.26137
          ],
          [
           0.093214,
           0.111898,
           0.130582,
           0.149266,
           0.16795,
           0.18663399999999997,
           0.205318,
           0.22400199999999998,
           0.24268599999999996,
           0.26137
          ],
          [
           0.093214,
           0.111898,
           0.130582,
           0.149266,
           0.16795,
           0.18663399999999997,
           0.205318,
           0.22400199999999998,
           0.24268599999999996,
           0.26137
          ],
          [
           0.093214,
           0.111898,
           0.130582,
           0.149266,
           0.16795,
           0.18663399999999997,
           0.205318,
           0.22400199999999998,
           0.24268599999999996,
           0.26137
          ],
          [
           0.093214,
           0.111898,
           0.130582,
           0.149266,
           0.16795,
           0.18663399999999997,
           0.205318,
           0.22400199999999998,
           0.24268599999999996,
           0.26137
          ],
          [
           0.093214,
           0.111898,
           0.130582,
           0.149266,
           0.16795,
           0.18663399999999997,
           0.205318,
           0.22400199999999998,
           0.24268599999999996,
           0.26137
          ]
         ],
         "y": [
          [
           535,
           535,
           535,
           535,
           535,
           535,
           535,
           535,
           535,
           535
          ],
          [
           2992.222222222222,
           2992.222222222222,
           2992.222222222222,
           2992.222222222222,
           2992.222222222222,
           2992.222222222222,
           2992.222222222222,
           2992.222222222222,
           2992.222222222222,
           2992.222222222222
          ],
          [
           5449.444444444444,
           5449.444444444444,
           5449.444444444444,
           5449.444444444444,
           5449.444444444444,
           5449.444444444444,
           5449.444444444444,
           5449.444444444444,
           5449.444444444444,
           5449.444444444444
          ],
          [
           7906.666666666666,
           7906.666666666666,
           7906.666666666666,
           7906.666666666666,
           7906.666666666666,
           7906.666666666666,
           7906.666666666666,
           7906.666666666666,
           7906.666666666666,
           7906.666666666666
          ],
          [
           10363.888888888889,
           10363.888888888889,
           10363.888888888889,
           10363.888888888889,
           10363.888888888889,
           10363.888888888889,
           10363.888888888889,
           10363.888888888889,
           10363.888888888889,
           10363.888888888889
          ],
          [
           12821.111111111111,
           12821.111111111111,
           12821.111111111111,
           12821.111111111111,
           12821.111111111111,
           12821.111111111111,
           12821.111111111111,
           12821.111111111111,
           12821.111111111111,
           12821.111111111111
          ],
          [
           15278.333333333332,
           15278.333333333332,
           15278.333333333332,
           15278.333333333332,
           15278.333333333332,
           15278.333333333332,
           15278.333333333332,
           15278.333333333332,
           15278.333333333332,
           15278.333333333332
          ],
          [
           17735.555555555555,
           17735.555555555555,
           17735.555555555555,
           17735.555555555555,
           17735.555555555555,
           17735.555555555555,
           17735.555555555555,
           17735.555555555555,
           17735.555555555555,
           17735.555555555555
          ],
          [
           20192.777777777777,
           20192.777777777777,
           20192.777777777777,
           20192.777777777777,
           20192.777777777777,
           20192.777777777777,
           20192.777777777777,
           20192.777777777777,
           20192.777777777777,
           20192.777777777777
          ],
          [
           22650,
           22650,
           22650,
           22650,
           22650,
           22650,
           22650,
           22650,
           22650,
           22650
          ]
         ],
         "z": [
          [
           5.190839730475172,
           5.190846171920513,
           5.190852613365853,
           5.190859054811193,
           5.190865496256532,
           5.190871937701873,
           5.190878379147213,
           5.190884820592553,
           5.190891262037892,
           5.190897703483233
          ],
          [
           29.032274352759952,
           29.032280794205292,
           29.03228723565063,
           29.03229367709597,
           29.03230011854131,
           29.03230655998665,
           29.03231300143199,
           29.03231944287733,
           29.03232588432267,
           29.03233232576801
          ],
          [
           52.873708975044735,
           52.87371541649007,
           52.873721857935415,
           52.87372829938075,
           52.873734740826094,
           52.87374118227143,
           52.873747623716774,
           52.87375406516212,
           52.873760506607454,
           52.8737669480528
          ],
          [
           76.7151435973295,
           76.71515003877484,
           76.71515648022017,
           76.71516292166552,
           76.71516936311086,
           76.7151758045562,
           76.71518224600153,
           76.71518868744688,
           76.71519512889222,
           76.71520157033756
          ],
          [
           100.55657821961428,
           100.55658466105962,
           100.55659110250495,
           100.5565975439503,
           100.55660398539564,
           100.55661042684098,
           100.55661686828631,
           100.55662330973166,
           100.556629751177,
           100.55663619262234
          ],
          [
           124.39801284189907,
           124.39801928334441,
           124.39802572478975,
           124.3980321662351,
           124.39803860768043,
           124.39804504912577,
           124.3980514905711,
           124.39805793201646,
           124.39806437346179,
           124.39807081490713
          ],
          [
           148.23944746418383,
           148.23945390562918,
           148.2394603470745,
           148.23946678851985,
           148.23947322996517,
           148.23947967141052,
           148.23948611285587,
           148.2394925543012,
           148.23949899574654,
           148.2395054371919
          ],
          [
           172.08088208646862,
           172.08088852791397,
           172.0808949693593,
           172.08090141080464,
           172.08090785224996,
           172.08091429369532,
           172.08092073514067,
           172.080927176586,
           172.08093361803134,
           172.0809400594767
          ],
          [
           195.92231670875339,
           195.92232315019874,
           195.92232959164406,
           195.9223360330894,
           195.92234247453473,
           195.92234891598008,
           195.92235535742543,
           195.92236179887075,
           195.9223682403161,
           195.92237468176145
          ],
          [
           219.76375133103818,
           219.76375777248353,
           219.76376421392885,
           219.7637706553742,
           219.76377709681952,
           219.76378353826487,
           219.76378997971022,
           219.76379642115555,
           219.7638028626009,
           219.76380930404625
          ]
         ]
        },
        {
         "opacity": 0.5,
         "type": "surface",
         "x": [
          [
           0.093214,
           0.111898,
           0.130582,
           0.149266,
           0.16795,
           0.18663399999999997,
           0.205318,
           0.22400199999999998,
           0.24268599999999996,
           0.26137
          ],
          [
           0.093214,
           0.111898,
           0.130582,
           0.149266,
           0.16795,
           0.18663399999999997,
           0.205318,
           0.22400199999999998,
           0.24268599999999996,
           0.26137
          ],
          [
           0.093214,
           0.111898,
           0.130582,
           0.149266,
           0.16795,
           0.18663399999999997,
           0.205318,
           0.22400199999999998,
           0.24268599999999996,
           0.26137
          ],
          [
           0.093214,
           0.111898,
           0.130582,
           0.149266,
           0.16795,
           0.18663399999999997,
           0.205318,
           0.22400199999999998,
           0.24268599999999996,
           0.26137
          ],
          [
           0.093214,
           0.111898,
           0.130582,
           0.149266,
           0.16795,
           0.18663399999999997,
           0.205318,
           0.22400199999999998,
           0.24268599999999996,
           0.26137
          ],
          [
           0.093214,
           0.111898,
           0.130582,
           0.149266,
           0.16795,
           0.18663399999999997,
           0.205318,
           0.22400199999999998,
           0.24268599999999996,
           0.26137
          ],
          [
           0.093214,
           0.111898,
           0.130582,
           0.149266,
           0.16795,
           0.18663399999999997,
           0.205318,
           0.22400199999999998,
           0.24268599999999996,
           0.26137
          ],
          [
           0.093214,
           0.111898,
           0.130582,
           0.149266,
           0.16795,
           0.18663399999999997,
           0.205318,
           0.22400199999999998,
           0.24268599999999996,
           0.26137
          ],
          [
           0.093214,
           0.111898,
           0.130582,
           0.149266,
           0.16795,
           0.18663399999999997,
           0.205318,
           0.22400199999999998,
           0.24268599999999996,
           0.26137
          ],
          [
           0.093214,
           0.111898,
           0.130582,
           0.149266,
           0.16795,
           0.18663399999999997,
           0.205318,
           0.22400199999999998,
           0.24268599999999996,
           0.26137
          ]
         ],
         "y": [
          [
           535,
           535,
           535,
           535,
           535,
           535,
           535,
           535,
           535,
           535
          ],
          [
           2992.222222222222,
           2992.222222222222,
           2992.222222222222,
           2992.222222222222,
           2992.222222222222,
           2992.222222222222,
           2992.222222222222,
           2992.222222222222,
           2992.222222222222,
           2992.222222222222
          ],
          [
           5449.444444444444,
           5449.444444444444,
           5449.444444444444,
           5449.444444444444,
           5449.444444444444,
           5449.444444444444,
           5449.444444444444,
           5449.444444444444,
           5449.444444444444,
           5449.444444444444
          ],
          [
           7906.666666666666,
           7906.666666666666,
           7906.666666666666,
           7906.666666666666,
           7906.666666666666,
           7906.666666666666,
           7906.666666666666,
           7906.666666666666,
           7906.666666666666,
           7906.666666666666
          ],
          [
           10363.888888888889,
           10363.888888888889,
           10363.888888888889,
           10363.888888888889,
           10363.888888888889,
           10363.888888888889,
           10363.888888888889,
           10363.888888888889,
           10363.888888888889,
           10363.888888888889
          ],
          [
           12821.111111111111,
           12821.111111111111,
           12821.111111111111,
           12821.111111111111,
           12821.111111111111,
           12821.111111111111,
           12821.111111111111,
           12821.111111111111,
           12821.111111111111,
           12821.111111111111
          ],
          [
           15278.333333333332,
           15278.333333333332,
           15278.333333333332,
           15278.333333333332,
           15278.333333333332,
           15278.333333333332,
           15278.333333333332,
           15278.333333333332,
           15278.333333333332,
           15278.333333333332
          ],
          [
           17735.555555555555,
           17735.555555555555,
           17735.555555555555,
           17735.555555555555,
           17735.555555555555,
           17735.555555555555,
           17735.555555555555,
           17735.555555555555,
           17735.555555555555,
           17735.555555555555
          ],
          [
           20192.777777777777,
           20192.777777777777,
           20192.777777777777,
           20192.777777777777,
           20192.777777777777,
           20192.777777777777,
           20192.777777777777,
           20192.777777777777,
           20192.777777777777,
           20192.777777777777
          ],
          [
           22650,
           22650,
           22650,
           22650,
           22650,
           22650,
           22650,
           22650,
           22650,
           22650
          ]
         ],
         "z": [
          [
           5.190839730475172,
           5.190846171920513,
           5.190852613365853,
           5.190859054811193,
           5.190865496256532,
           5.190871937701873,
           5.190878379147213,
           5.190884820592553,
           5.190891262037892,
           5.190897703483233
          ],
          [
           29.032274352759952,
           29.032280794205292,
           29.03228723565063,
           29.03229367709597,
           29.03230011854131,
           29.03230655998665,
           29.03231300143199,
           29.03231944287733,
           29.03232588432267,
           29.03233232576801
          ],
          [
           52.873708975044735,
           52.87371541649007,
           52.873721857935415,
           52.87372829938075,
           52.873734740826094,
           52.87374118227143,
           52.873747623716774,
           52.87375406516212,
           52.873760506607454,
           52.8737669480528
          ],
          [
           76.7151435973295,
           76.71515003877484,
           76.71515648022017,
           76.71516292166552,
           76.71516936311086,
           76.7151758045562,
           76.71518224600153,
           76.71518868744688,
           76.71519512889222,
           76.71520157033756
          ],
          [
           100.55657821961428,
           100.55658466105962,
           100.55659110250495,
           100.5565975439503,
           100.55660398539564,
           100.55661042684098,
           100.55661686828631,
           100.55662330973166,
           100.556629751177,
           100.55663619262234
          ],
          [
           124.39801284189907,
           124.39801928334441,
           124.39802572478975,
           124.3980321662351,
           124.39803860768043,
           124.39804504912577,
           124.3980514905711,
           124.39805793201646,
           124.39806437346179,
           124.39807081490713
          ],
          [
           148.23944746418383,
           148.23945390562918,
           148.2394603470745,
           148.23946678851985,
           148.23947322996517,
           148.23947967141052,
           148.23948611285587,
           148.2394925543012,
           148.23949899574654,
           148.2395054371919
          ],
          [
           172.08088208646862,
           172.08088852791397,
           172.0808949693593,
           172.08090141080464,
           172.08090785224996,
           172.08091429369532,
           172.08092073514067,
           172.080927176586,
           172.08093361803134,
           172.0809400594767
          ],
          [
           195.92231670875339,
           195.92232315019874,
           195.92232959164406,
           195.9223360330894,
           195.92234247453473,
           195.92234891598008,
           195.92235535742543,
           195.92236179887075,
           195.9223682403161,
           195.92237468176145
          ],
          [
           219.76375133103818,
           219.76375777248353,
           219.76376421392885,
           219.7637706553742,
           219.76377709681952,
           219.76378353826487,
           219.76378997971022,
           219.76379642115555,
           219.7638028626009,
           219.76380930404625
          ]
         ]
        }
       ],
       "layout": {
        "legend": {
         "tracegroupgap": 0
        },
        "margin": {
         "t": 60
        },
        "scene": {
         "domain": {
          "x": [
           0,
           1
          ],
          "y": [
           0,
           1
          ]
         },
         "xaxis": {
          "title": {
           "text": "Electronegativity"
          }
         },
         "yaxis": {
          "title": {
           "text": "Density"
          }
         },
         "zaxis": {
          "title": {
           "text": "Youngs MOdulus"
          }
         }
        },
        "template": {
         "data": {
          "bar": [
           {
            "error_x": {
             "color": "#2a3f5f"
            },
            "error_y": {
             "color": "#2a3f5f"
            },
            "marker": {
             "line": {
              "color": "#E5ECF6",
              "width": 0.5
             },
             "pattern": {
              "fillmode": "overlay",
              "size": 10,
              "solidity": 0.2
             }
            },
            "type": "bar"
           }
          ],
          "barpolar": [
           {
            "marker": {
             "line": {
              "color": "#E5ECF6",
              "width": 0.5
             },
             "pattern": {
              "fillmode": "overlay",
              "size": 10,
              "solidity": 0.2
             }
            },
            "type": "barpolar"
           }
          ],
          "carpet": [
           {
            "aaxis": {
             "endlinecolor": "#2a3f5f",
             "gridcolor": "white",
             "linecolor": "white",
             "minorgridcolor": "white",
             "startlinecolor": "#2a3f5f"
            },
            "baxis": {
             "endlinecolor": "#2a3f5f",
             "gridcolor": "white",
             "linecolor": "white",
             "minorgridcolor": "white",
             "startlinecolor": "#2a3f5f"
            },
            "type": "carpet"
           }
          ],
          "choropleth": [
           {
            "colorbar": {
             "outlinewidth": 0,
             "ticks": ""
            },
            "type": "choropleth"
           }
          ],
          "contour": [
           {
            "colorbar": {
             "outlinewidth": 0,
             "ticks": ""
            },
            "colorscale": [
             [
              0,
              "#0d0887"
             ],
             [
              0.1111111111111111,
              "#46039f"
             ],
             [
              0.2222222222222222,
              "#7201a8"
             ],
             [
              0.3333333333333333,
              "#9c179e"
             ],
             [
              0.4444444444444444,
              "#bd3786"
             ],
             [
              0.5555555555555556,
              "#d8576b"
             ],
             [
              0.6666666666666666,
              "#ed7953"
             ],
             [
              0.7777777777777778,
              "#fb9f3a"
             ],
             [
              0.8888888888888888,
              "#fdca26"
             ],
             [
              1,
              "#f0f921"
             ]
            ],
            "type": "contour"
           }
          ],
          "contourcarpet": [
           {
            "colorbar": {
             "outlinewidth": 0,
             "ticks": ""
            },
            "type": "contourcarpet"
           }
          ],
          "heatmap": [
           {
            "colorbar": {
             "outlinewidth": 0,
             "ticks": ""
            },
            "colorscale": [
             [
              0,
              "#0d0887"
             ],
             [
              0.1111111111111111,
              "#46039f"
             ],
             [
              0.2222222222222222,
              "#7201a8"
             ],
             [
              0.3333333333333333,
              "#9c179e"
             ],
             [
              0.4444444444444444,
              "#bd3786"
             ],
             [
              0.5555555555555556,
              "#d8576b"
             ],
             [
              0.6666666666666666,
              "#ed7953"
             ],
             [
              0.7777777777777778,
              "#fb9f3a"
             ],
             [
              0.8888888888888888,
              "#fdca26"
             ],
             [
              1,
              "#f0f921"
             ]
            ],
            "type": "heatmap"
           }
          ],
          "heatmapgl": [
           {
            "colorbar": {
             "outlinewidth": 0,
             "ticks": ""
            },
            "colorscale": [
             [
              0,
              "#0d0887"
             ],
             [
              0.1111111111111111,
              "#46039f"
             ],
             [
              0.2222222222222222,
              "#7201a8"
             ],
             [
              0.3333333333333333,
              "#9c179e"
             ],
             [
              0.4444444444444444,
              "#bd3786"
             ],
             [
              0.5555555555555556,
              "#d8576b"
             ],
             [
              0.6666666666666666,
              "#ed7953"
             ],
             [
              0.7777777777777778,
              "#fb9f3a"
             ],
             [
              0.8888888888888888,
              "#fdca26"
             ],
             [
              1,
              "#f0f921"
             ]
            ],
            "type": "heatmapgl"
           }
          ],
          "histogram": [
           {
            "marker": {
             "pattern": {
              "fillmode": "overlay",
              "size": 10,
              "solidity": 0.2
             }
            },
            "type": "histogram"
           }
          ],
          "histogram2d": [
           {
            "colorbar": {
             "outlinewidth": 0,
             "ticks": ""
            },
            "colorscale": [
             [
              0,
              "#0d0887"
             ],
             [
              0.1111111111111111,
              "#46039f"
             ],
             [
              0.2222222222222222,
              "#7201a8"
             ],
             [
              0.3333333333333333,
              "#9c179e"
             ],
             [
              0.4444444444444444,
              "#bd3786"
             ],
             [
              0.5555555555555556,
              "#d8576b"
             ],
             [
              0.6666666666666666,
              "#ed7953"
             ],
             [
              0.7777777777777778,
              "#fb9f3a"
             ],
             [
              0.8888888888888888,
              "#fdca26"
             ],
             [
              1,
              "#f0f921"
             ]
            ],
            "type": "histogram2d"
           }
          ],
          "histogram2dcontour": [
           {
            "colorbar": {
             "outlinewidth": 0,
             "ticks": ""
            },
            "colorscale": [
             [
              0,
              "#0d0887"
             ],
             [
              0.1111111111111111,
              "#46039f"
             ],
             [
              0.2222222222222222,
              "#7201a8"
             ],
             [
              0.3333333333333333,
              "#9c179e"
             ],
             [
              0.4444444444444444,
              "#bd3786"
             ],
             [
              0.5555555555555556,
              "#d8576b"
             ],
             [
              0.6666666666666666,
              "#ed7953"
             ],
             [
              0.7777777777777778,
              "#fb9f3a"
             ],
             [
              0.8888888888888888,
              "#fdca26"
             ],
             [
              1,
              "#f0f921"
             ]
            ],
            "type": "histogram2dcontour"
           }
          ],
          "mesh3d": [
           {
            "colorbar": {
             "outlinewidth": 0,
             "ticks": ""
            },
            "type": "mesh3d"
           }
          ],
          "parcoords": [
           {
            "line": {
             "colorbar": {
              "outlinewidth": 0,
              "ticks": ""
             }
            },
            "type": "parcoords"
           }
          ],
          "pie": [
           {
            "automargin": true,
            "type": "pie"
           }
          ],
          "scatter": [
           {
            "marker": {
             "colorbar": {
              "outlinewidth": 0,
              "ticks": ""
             }
            },
            "type": "scatter"
           }
          ],
          "scatter3d": [
           {
            "line": {
             "colorbar": {
              "outlinewidth": 0,
              "ticks": ""
             }
            },
            "marker": {
             "colorbar": {
              "outlinewidth": 0,
              "ticks": ""
             }
            },
            "type": "scatter3d"
           }
          ],
          "scattercarpet": [
           {
            "marker": {
             "colorbar": {
              "outlinewidth": 0,
              "ticks": ""
             }
            },
            "type": "scattercarpet"
           }
          ],
          "scattergeo": [
           {
            "marker": {
             "colorbar": {
              "outlinewidth": 0,
              "ticks": ""
             }
            },
            "type": "scattergeo"
           }
          ],
          "scattergl": [
           {
            "marker": {
             "colorbar": {
              "outlinewidth": 0,
              "ticks": ""
             }
            },
            "type": "scattergl"
           }
          ],
          "scattermapbox": [
           {
            "marker": {
             "colorbar": {
              "outlinewidth": 0,
              "ticks": ""
             }
            },
            "type": "scattermapbox"
           }
          ],
          "scatterpolar": [
           {
            "marker": {
             "colorbar": {
              "outlinewidth": 0,
              "ticks": ""
             }
            },
            "type": "scatterpolar"
           }
          ],
          "scatterpolargl": [
           {
            "marker": {
             "colorbar": {
              "outlinewidth": 0,
              "ticks": ""
             }
            },
            "type": "scatterpolargl"
           }
          ],
          "scatterternary": [
           {
            "marker": {
             "colorbar": {
              "outlinewidth": 0,
              "ticks": ""
             }
            },
            "type": "scatterternary"
           }
          ],
          "surface": [
           {
            "colorbar": {
             "outlinewidth": 0,
             "ticks": ""
            },
            "colorscale": [
             [
              0,
              "#0d0887"
             ],
             [
              0.1111111111111111,
              "#46039f"
             ],
             [
              0.2222222222222222,
              "#7201a8"
             ],
             [
              0.3333333333333333,
              "#9c179e"
             ],
             [
              0.4444444444444444,
              "#bd3786"
             ],
             [
              0.5555555555555556,
              "#d8576b"
             ],
             [
              0.6666666666666666,
              "#ed7953"
             ],
             [
              0.7777777777777778,
              "#fb9f3a"
             ],
             [
              0.8888888888888888,
              "#fdca26"
             ],
             [
              1,
              "#f0f921"
             ]
            ],
            "type": "surface"
           }
          ],
          "table": [
           {
            "cells": {
             "fill": {
              "color": "#EBF0F8"
             },
             "line": {
              "color": "white"
             }
            },
            "header": {
             "fill": {
              "color": "#C8D4E3"
             },
             "line": {
              "color": "white"
             }
            },
            "type": "table"
           }
          ]
         },
         "layout": {
          "annotationdefaults": {
           "arrowcolor": "#2a3f5f",
           "arrowhead": 0,
           "arrowwidth": 1
          },
          "autotypenumbers": "strict",
          "coloraxis": {
           "colorbar": {
            "outlinewidth": 0,
            "ticks": ""
           }
          },
          "colorscale": {
           "diverging": [
            [
             0,
             "#8e0152"
            ],
            [
             0.1,
             "#c51b7d"
            ],
            [
             0.2,
             "#de77ae"
            ],
            [
             0.3,
             "#f1b6da"
            ],
            [
             0.4,
             "#fde0ef"
            ],
            [
             0.5,
             "#f7f7f7"
            ],
            [
             0.6,
             "#e6f5d0"
            ],
            [
             0.7,
             "#b8e186"
            ],
            [
             0.8,
             "#7fbc41"
            ],
            [
             0.9,
             "#4d9221"
            ],
            [
             1,
             "#276419"
            ]
           ],
           "sequential": [
            [
             0,
             "#0d0887"
            ],
            [
             0.1111111111111111,
             "#46039f"
            ],
            [
             0.2222222222222222,
             "#7201a8"
            ],
            [
             0.3333333333333333,
             "#9c179e"
            ],
            [
             0.4444444444444444,
             "#bd3786"
            ],
            [
             0.5555555555555556,
             "#d8576b"
            ],
            [
             0.6666666666666666,
             "#ed7953"
            ],
            [
             0.7777777777777778,
             "#fb9f3a"
            ],
            [
             0.8888888888888888,
             "#fdca26"
            ],
            [
             1,
             "#f0f921"
            ]
           ],
           "sequentialminus": [
            [
             0,
             "#0d0887"
            ],
            [
             0.1111111111111111,
             "#46039f"
            ],
            [
             0.2222222222222222,
             "#7201a8"
            ],
            [
             0.3333333333333333,
             "#9c179e"
            ],
            [
             0.4444444444444444,
             "#bd3786"
            ],
            [
             0.5555555555555556,
             "#d8576b"
            ],
            [
             0.6666666666666666,
             "#ed7953"
            ],
            [
             0.7777777777777778,
             "#fb9f3a"
            ],
            [
             0.8888888888888888,
             "#fdca26"
            ],
            [
             1,
             "#f0f921"
            ]
           ]
          },
          "colorway": [
           "#636efa",
           "#EF553B",
           "#00cc96",
           "#ab63fa",
           "#FFA15A",
           "#19d3f3",
           "#FF6692",
           "#B6E880",
           "#FF97FF",
           "#FECB52"
          ],
          "font": {
           "color": "#2a3f5f"
          },
          "geo": {
           "bgcolor": "white",
           "lakecolor": "white",
           "landcolor": "#E5ECF6",
           "showlakes": true,
           "showland": true,
           "subunitcolor": "white"
          },
          "hoverlabel": {
           "align": "left"
          },
          "hovermode": "closest",
          "mapbox": {
           "style": "light"
          },
          "paper_bgcolor": "white",
          "plot_bgcolor": "#E5ECF6",
          "polar": {
           "angularaxis": {
            "gridcolor": "white",
            "linecolor": "white",
            "ticks": ""
           },
           "bgcolor": "#E5ECF6",
           "radialaxis": {
            "gridcolor": "white",
            "linecolor": "white",
            "ticks": ""
           }
          },
          "scene": {
           "xaxis": {
            "backgroundcolor": "#E5ECF6",
            "gridcolor": "white",
            "gridwidth": 2,
            "linecolor": "white",
            "showbackground": true,
            "ticks": "",
            "zerolinecolor": "white"
           },
           "yaxis": {
            "backgroundcolor": "#E5ECF6",
            "gridcolor": "white",
            "gridwidth": 2,
            "linecolor": "white",
            "showbackground": true,
            "ticks": "",
            "zerolinecolor": "white"
           },
           "zaxis": {
            "backgroundcolor": "#E5ECF6",
            "gridcolor": "white",
            "gridwidth": 2,
            "linecolor": "white",
            "showbackground": true,
            "ticks": "",
            "zerolinecolor": "white"
           }
          },
          "shapedefaults": {
           "line": {
            "color": "#2a3f5f"
           }
          },
          "ternary": {
           "aaxis": {
            "gridcolor": "white",
            "linecolor": "white",
            "ticks": ""
           },
           "baxis": {
            "gridcolor": "white",
            "linecolor": "white",
            "ticks": ""
           },
           "bgcolor": "#E5ECF6",
           "caxis": {
            "gridcolor": "white",
            "linecolor": "white",
            "ticks": ""
           }
          },
          "title": {
           "x": 0.05
          },
          "xaxis": {
           "automargin": true,
           "gridcolor": "white",
           "linecolor": "white",
           "ticks": "",
           "title": {
            "standoff": 15
           },
           "zerolinecolor": "white",
           "zerolinewidth": 2
          },
          "yaxis": {
           "automargin": true,
           "gridcolor": "white",
           "linecolor": "white",
           "ticks": "",
           "title": {
            "standoff": 15
           },
           "zerolinecolor": "white",
           "zerolinewidth": 2
          }
         }
        }
       }
      },
      "text/html": [
       "<div>                            <div id=\"d75ae7e6-b8a2-4afa-9838-20198d49d113\" class=\"plotly-graph-div\" style=\"height:525px; width:100%;\"></div>            <script type=\"text/javascript\">                require([\"plotly\"], function(Plotly) {                    window.PLOTLYENV=window.PLOTLYENV || {};                                    if (document.getElementById(\"d75ae7e6-b8a2-4afa-9838-20198d49d113\")) {                    Plotly.newPlot(                        \"d75ae7e6-b8a2-4afa-9838-20198d49d113\",                        [{\"hovertemplate\":\"en_ghosh=%{x}<br>density_of_solid=%{y}<br>youngs_modulus=%{z}<extra></extra>\",\"legendgroup\":\"\",\"marker\":{\"color\":\"#636efa\",\"symbol\":\"circle\"},\"mode\":\"markers\",\"name\":\"\",\"scene\":\"scene\",\"showlegend\":false,\"x\":[0.1472165,0.150078,0.26137,0.1511716,0.25106,0.1472068,0.1779109999999999,0.1440276,0.2569099999999999,0.1408379,0.10277,0.22119,0.1586786,0.1313052999999999,0.189935,0.1392532,0.105093,0.1352844,0.1312672,0.093214,0.1280782,0.2345809999999999,0.1273344,0.2390504,0.144986,0.1154119,0.1504066,0.1432362999999999,0.2033299999999999,0.212261,0.1944,0.229987,0.2077949999999999,0.22565,0.121644,0.2435163999999999,0.1193833,0.198863,0.1233636999999999,0.173447,0.2167244,0.1216986,0.1551517999999999],\"y\":[10490.0,2700.0,19300.0,8920.0,22650.0,8908.0,11340.0,12023.0,21090.0,12450.0,11724.0,6570.0,3510.0,7140.0,5244.0,7874.0,535.0,7470.0,10280.0,968.0,8570.0,16650.0,6110.0,19250.0,1848.0,1550.0,8650.0,8900.0,8551.0,9066.0,7901.0,13310.0,8795.0,9841.0,1738.0,21020.0,2985.0,8219.0,4507.0,11850.0,9321.0,4472.0,7140.0],\"z\":[83.0,70.0,78.0,130.0,528.0,200.0,16.0,121.0,168.0,275.0,79.0,24.0,13.0,279.0,18.0,211.0,4.9,198.0,329.0,10.0,105.0,186.0,128.0,411.0,287.0,20.0,50.0,209.0,61.0,70.0,55.0,78.0,65.0,69.0,45.0,463.0,74.0,56.0,116.0,8.0,74.0,64.0,108.0],\"type\":\"scatter3d\"},{\"opacity\":0.5,\"x\":[[0.093214,0.111898,0.130582,0.149266,0.16795,0.18663399999999997,0.205318,0.22400199999999998,0.24268599999999996,0.26137],[0.093214,0.111898,0.130582,0.149266,0.16795,0.18663399999999997,0.205318,0.22400199999999998,0.24268599999999996,0.26137],[0.093214,0.111898,0.130582,0.149266,0.16795,0.18663399999999997,0.205318,0.22400199999999998,0.24268599999999996,0.26137],[0.093214,0.111898,0.130582,0.149266,0.16795,0.18663399999999997,0.205318,0.22400199999999998,0.24268599999999996,0.26137],[0.093214,0.111898,0.130582,0.149266,0.16795,0.18663399999999997,0.205318,0.22400199999999998,0.24268599999999996,0.26137],[0.093214,0.111898,0.130582,0.149266,0.16795,0.18663399999999997,0.205318,0.22400199999999998,0.24268599999999996,0.26137],[0.093214,0.111898,0.130582,0.149266,0.16795,0.18663399999999997,0.205318,0.22400199999999998,0.24268599999999996,0.26137],[0.093214,0.111898,0.130582,0.149266,0.16795,0.18663399999999997,0.205318,0.22400199999999998,0.24268599999999996,0.26137],[0.093214,0.111898,0.130582,0.149266,0.16795,0.18663399999999997,0.205318,0.22400199999999998,0.24268599999999996,0.26137],[0.093214,0.111898,0.130582,0.149266,0.16795,0.18663399999999997,0.205318,0.22400199999999998,0.24268599999999996,0.26137]],\"y\":[[535.0,535.0,535.0,535.0,535.0,535.0,535.0,535.0,535.0,535.0],[2992.222222222222,2992.222222222222,2992.222222222222,2992.222222222222,2992.222222222222,2992.222222222222,2992.222222222222,2992.222222222222,2992.222222222222,2992.222222222222],[5449.444444444444,5449.444444444444,5449.444444444444,5449.444444444444,5449.444444444444,5449.444444444444,5449.444444444444,5449.444444444444,5449.444444444444,5449.444444444444],[7906.666666666666,7906.666666666666,7906.666666666666,7906.666666666666,7906.666666666666,7906.666666666666,7906.666666666666,7906.666666666666,7906.666666666666,7906.666666666666],[10363.888888888889,10363.888888888889,10363.888888888889,10363.888888888889,10363.888888888889,10363.888888888889,10363.888888888889,10363.888888888889,10363.888888888889,10363.888888888889],[12821.111111111111,12821.111111111111,12821.111111111111,12821.111111111111,12821.111111111111,12821.111111111111,12821.111111111111,12821.111111111111,12821.111111111111,12821.111111111111],[15278.333333333332,15278.333333333332,15278.333333333332,15278.333333333332,15278.333333333332,15278.333333333332,15278.333333333332,15278.333333333332,15278.333333333332,15278.333333333332],[17735.555555555555,17735.555555555555,17735.555555555555,17735.555555555555,17735.555555555555,17735.555555555555,17735.555555555555,17735.555555555555,17735.555555555555,17735.555555555555],[20192.777777777777,20192.777777777777,20192.777777777777,20192.777777777777,20192.777777777777,20192.777777777777,20192.777777777777,20192.777777777777,20192.777777777777,20192.777777777777],[22650.0,22650.0,22650.0,22650.0,22650.0,22650.0,22650.0,22650.0,22650.0,22650.0]],\"z\":[[5.435816088180502,5.435857866078348,5.435899643976194,5.43594142187404,5.435983199771887,5.436024977669733,5.4360667555675795,5.4361085334654256,5.436150311363272,5.436192089261118],[30.401605702659936,30.40164748055778,30.40168925845563,30.401731036353475,30.40177281425132,30.401814592149165,30.401856370047014,30.40189814794486,30.401939925842704,30.401981703740553],[55.367395317139376,55.367437095037225,55.36747887293507,55.367520650832915,55.367562428730764,55.367604206628606,55.367645984526455,55.367687762424296,55.367729540322145,55.367771318219994],[80.3331849316188,80.33322670951665,80.3332684874145,80.33331026531233,80.33335204321018,80.33339382110803,80.33343559900588,80.33347737690373,80.33351915480158,80.33356093269941],[105.29897454609825,105.2990163239961,105.29905810189395,105.29909987979178,105.29914165768963,105.29918343558748,105.29922521348533,105.29926699138318,105.29930876928103,105.29935054717886],[130.26476416057767,130.26480593847552,130.26484771637337,130.26488949427122,130.26493127216906,130.2649730500669,130.26501482796473,130.26505660586258,130.26509838376043,130.26514016165828],[155.2305537750571,155.23059555295495,155.2306373308528,155.23067910875065,155.2307208866485,155.23076266454635,155.23080444244417,155.23084622034202,155.23088799823987,155.2309297761377],[180.19634338953654,180.19638516743439,180.19642694533223,180.19646872323008,180.19651050112793,180.19655227902578,180.1965940569236,180.19663583482145,180.1966776127193,180.19671939061715],[205.16213300401597,205.16217478191382,205.16221655981167,205.16225833770952,205.16230011560737,205.16234189350521,205.16238367140303,205.16242544930088,205.16246722719873,205.16250900509658],[230.1279226184954,230.12796439639325,230.1280061742911,230.12804795218895,230.1280897300868,230.12813150798465,230.12817328588247,230.12821506378032,230.12825684167817,230.12829861957601]],\"type\":\"surface\"},{\"opacity\":0.5,\"x\":[[0.093214,0.111898,0.130582,0.149266,0.16795,0.18663399999999997,0.205318,0.22400199999999998,0.24268599999999996,0.26137],[0.093214,0.111898,0.130582,0.149266,0.16795,0.18663399999999997,0.205318,0.22400199999999998,0.24268599999999996,0.26137],[0.093214,0.111898,0.130582,0.149266,0.16795,0.18663399999999997,0.205318,0.22400199999999998,0.24268599999999996,0.26137],[0.093214,0.111898,0.130582,0.149266,0.16795,0.18663399999999997,0.205318,0.22400199999999998,0.24268599999999996,0.26137],[0.093214,0.111898,0.130582,0.149266,0.16795,0.18663399999999997,0.205318,0.22400199999999998,0.24268599999999996,0.26137],[0.093214,0.111898,0.130582,0.149266,0.16795,0.18663399999999997,0.205318,0.22400199999999998,0.24268599999999996,0.26137],[0.093214,0.111898,0.130582,0.149266,0.16795,0.18663399999999997,0.205318,0.22400199999999998,0.24268599999999996,0.26137],[0.093214,0.111898,0.130582,0.149266,0.16795,0.18663399999999997,0.205318,0.22400199999999998,0.24268599999999996,0.26137],[0.093214,0.111898,0.130582,0.149266,0.16795,0.18663399999999997,0.205318,0.22400199999999998,0.24268599999999996,0.26137],[0.093214,0.111898,0.130582,0.149266,0.16795,0.18663399999999997,0.205318,0.22400199999999998,0.24268599999999996,0.26137]],\"y\":[[535.0,535.0,535.0,535.0,535.0,535.0,535.0,535.0,535.0,535.0],[2992.222222222222,2992.222222222222,2992.222222222222,2992.222222222222,2992.222222222222,2992.222222222222,2992.222222222222,2992.222222222222,2992.222222222222,2992.222222222222],[5449.444444444444,5449.444444444444,5449.444444444444,5449.444444444444,5449.444444444444,5449.444444444444,5449.444444444444,5449.444444444444,5449.444444444444,5449.444444444444],[7906.666666666666,7906.666666666666,7906.666666666666,7906.666666666666,7906.666666666666,7906.666666666666,7906.666666666666,7906.666666666666,7906.666666666666,7906.666666666666],[10363.888888888889,10363.888888888889,10363.888888888889,10363.888888888889,10363.888888888889,10363.888888888889,10363.888888888889,10363.888888888889,10363.888888888889,10363.888888888889],[12821.111111111111,12821.111111111111,12821.111111111111,12821.111111111111,12821.111111111111,12821.111111111111,12821.111111111111,12821.111111111111,12821.111111111111,12821.111111111111],[15278.333333333332,15278.333333333332,15278.333333333332,15278.333333333332,15278.333333333332,15278.333333333332,15278.333333333332,15278.333333333332,15278.333333333332,15278.333333333332],[17735.555555555555,17735.555555555555,17735.555555555555,17735.555555555555,17735.555555555555,17735.555555555555,17735.555555555555,17735.555555555555,17735.555555555555,17735.555555555555],[20192.777777777777,20192.777777777777,20192.777777777777,20192.777777777777,20192.777777777777,20192.777777777777,20192.777777777777,20192.777777777777,20192.777777777777,20192.777777777777],[22650.0,22650.0,22650.0,22650.0,22650.0,22650.0,22650.0,22650.0,22650.0,22650.0]],\"z\":[[5.190839730475172,5.190846171920513,5.190852613365853,5.190859054811193,5.190865496256532,5.190871937701873,5.190878379147213,5.190884820592553,5.190891262037892,5.190897703483233],[29.032274352759952,29.032280794205292,29.03228723565063,29.03229367709597,29.03230011854131,29.03230655998665,29.03231300143199,29.03231944287733,29.03232588432267,29.03233232576801],[52.873708975044735,52.87371541649007,52.873721857935415,52.87372829938075,52.873734740826094,52.87374118227143,52.873747623716774,52.87375406516212,52.873760506607454,52.8737669480528],[76.7151435973295,76.71515003877484,76.71515648022017,76.71516292166552,76.71516936311086,76.7151758045562,76.71518224600153,76.71518868744688,76.71519512889222,76.71520157033756],[100.55657821961428,100.55658466105962,100.55659110250495,100.5565975439503,100.55660398539564,100.55661042684098,100.55661686828631,100.55662330973166,100.556629751177,100.55663619262234],[124.39801284189907,124.39801928334441,124.39802572478975,124.3980321662351,124.39803860768043,124.39804504912577,124.3980514905711,124.39805793201646,124.39806437346179,124.39807081490713],[148.23944746418383,148.23945390562918,148.2394603470745,148.23946678851985,148.23947322996517,148.23947967141052,148.23948611285587,148.2394925543012,148.23949899574654,148.2395054371919],[172.08088208646862,172.08088852791397,172.0808949693593,172.08090141080464,172.08090785224996,172.08091429369532,172.08092073514067,172.080927176586,172.08093361803134,172.0809400594767],[195.92231670875339,195.92232315019874,195.92232959164406,195.9223360330894,195.92234247453473,195.92234891598008,195.92235535742543,195.92236179887075,195.9223682403161,195.92237468176145],[219.76375133103818,219.76375777248353,219.76376421392885,219.7637706553742,219.76377709681952,219.76378353826487,219.76378997971022,219.76379642115555,219.7638028626009,219.76380930404625]],\"type\":\"surface\"},{\"opacity\":0.5,\"x\":[[0.093214,0.111898,0.130582,0.149266,0.16795,0.18663399999999997,0.205318,0.22400199999999998,0.24268599999999996,0.26137],[0.093214,0.111898,0.130582,0.149266,0.16795,0.18663399999999997,0.205318,0.22400199999999998,0.24268599999999996,0.26137],[0.093214,0.111898,0.130582,0.149266,0.16795,0.18663399999999997,0.205318,0.22400199999999998,0.24268599999999996,0.26137],[0.093214,0.111898,0.130582,0.149266,0.16795,0.18663399999999997,0.205318,0.22400199999999998,0.24268599999999996,0.26137],[0.093214,0.111898,0.130582,0.149266,0.16795,0.18663399999999997,0.205318,0.22400199999999998,0.24268599999999996,0.26137],[0.093214,0.111898,0.130582,0.149266,0.16795,0.18663399999999997,0.205318,0.22400199999999998,0.24268599999999996,0.26137],[0.093214,0.111898,0.130582,0.149266,0.16795,0.18663399999999997,0.205318,0.22400199999999998,0.24268599999999996,0.26137],[0.093214,0.111898,0.130582,0.149266,0.16795,0.18663399999999997,0.205318,0.22400199999999998,0.24268599999999996,0.26137],[0.093214,0.111898,0.130582,0.149266,0.16795,0.18663399999999997,0.205318,0.22400199999999998,0.24268599999999996,0.26137],[0.093214,0.111898,0.130582,0.149266,0.16795,0.18663399999999997,0.205318,0.22400199999999998,0.24268599999999996,0.26137]],\"y\":[[535.0,535.0,535.0,535.0,535.0,535.0,535.0,535.0,535.0,535.0],[2992.222222222222,2992.222222222222,2992.222222222222,2992.222222222222,2992.222222222222,2992.222222222222,2992.222222222222,2992.222222222222,2992.222222222222,2992.222222222222],[5449.444444444444,5449.444444444444,5449.444444444444,5449.444444444444,5449.444444444444,5449.444444444444,5449.444444444444,5449.444444444444,5449.444444444444,5449.444444444444],[7906.666666666666,7906.666666666666,7906.666666666666,7906.666666666666,7906.666666666666,7906.666666666666,7906.666666666666,7906.666666666666,7906.666666666666,7906.666666666666],[10363.888888888889,10363.888888888889,10363.888888888889,10363.888888888889,10363.888888888889,10363.888888888889,10363.888888888889,10363.888888888889,10363.888888888889,10363.888888888889],[12821.111111111111,12821.111111111111,12821.111111111111,12821.111111111111,12821.111111111111,12821.111111111111,12821.111111111111,12821.111111111111,12821.111111111111,12821.111111111111],[15278.333333333332,15278.333333333332,15278.333333333332,15278.333333333332,15278.333333333332,15278.333333333332,15278.333333333332,15278.333333333332,15278.333333333332,15278.333333333332],[17735.555555555555,17735.555555555555,17735.555555555555,17735.555555555555,17735.555555555555,17735.555555555555,17735.555555555555,17735.555555555555,17735.555555555555,17735.555555555555],[20192.777777777777,20192.777777777777,20192.777777777777,20192.777777777777,20192.777777777777,20192.777777777777,20192.777777777777,20192.777777777777,20192.777777777777,20192.777777777777],[22650.0,22650.0,22650.0,22650.0,22650.0,22650.0,22650.0,22650.0,22650.0,22650.0]],\"z\":[[-5089970383596506.0,-5090214114137336.0,-5090457844678165.0,-5090701575218995.0,-5090945305759824.0,-5091189036300654.0,-5091432766841484.0,-5091676497382313.0,-5091920227923143.0,-5092163958463972.0],[-2.846241472621934e+16,-2.846265845676017e+16,-2.8462902187301e+16,-2.8463145917841828e+16,-2.846338964838266e+16,-2.846363337892349e+16,-2.8463877109464316e+16,-2.8464120840005148e+16,-2.8464364570545976e+16,-2.846460830108681e+16],[-5.183485906884218e+16,-5.183510279938301e+16,-5.183534652992384e+16,-5.183559026046467e+16,-5.1835833991005496e+16,-5.183607772154633e+16,-5.183632145208716e+16,-5.183656518262798e+16,-5.183680891316882e+16,-5.183705264370965e+16],[-7.520730341146501e+16,-7.520754714200584e+16,-7.520779087254667e+16,-7.52080346030875e+16,-7.520827833362834e+16,-7.520852206416917e+16,-7.520876579470998e+16,-7.520900952525082e+16,-7.520925325579165e+16,-7.520949698633248e+16],[-9.857974775408786e+16,-9.857999148462869e+16,-9.858023521516952e+16,-9.858047894571035e+16,-9.858072267625118e+16,-9.858096640679202e+16,-9.858121013733283e+16,-9.858145386787366e+16,-9.85816975984145e+16,-9.858194132895533e+16],[-1.219521920967107e+17,-1.2195243582725154e+17,-1.2195267955779237e+17,-1.219529232883332e+17,-1.2195316701887403e+17,-1.2195341074941486e+17,-1.2195365447995568e+17,-1.2195389821049651e+17,-1.2195414194103734e+17,-1.2195438567157818e+17],[-1.4532463643933354e+17,-1.4532488016987437e+17,-1.4532512390041517e+17,-1.45325367630956e+17,-1.4532561136149683e+17,-1.4532585509203766e+17,-1.453260988225785e+17,-1.4532634255311933e+17,-1.4532658628366016e+17,-1.45326830014201e+17],[-1.6869708078195638e+17,-1.686973245124972e+17,-1.68697568243038e+17,-1.6869781197357885e+17,-1.6869805570411968e+17,-1.686982994346605e+17,-1.6869854316520134e+17,-1.6869878689574218e+17,-1.68699030626283e+17,-1.6869927435682384e+17],[-1.9206952512457923e+17,-1.9206976885512006e+17,-1.9207001258566086e+17,-1.920702563162017e+17,-1.9207050004674253e+17,-1.9207074377728336e+17,-1.920709875078242e+17,-1.9207123123836502e+17,-1.9207147496890586e+17,-1.920717186994467e+17],[-2.1544196946720205e+17,-2.1544221319774288e+17,-2.1544245692828368e+17,-2.154427006588245e+17,-2.1544294438936534e+17,-2.1544318811990618e+17,-2.15443431850447e+17,-2.1544367558098784e+17,-2.1544391931152867e+17,-2.154441630420695e+17]],\"type\":\"surface\"},{\"opacity\":0.5,\"x\":[[0.093214,0.111898,0.130582,0.149266,0.16795,0.18663399999999997,0.205318,0.22400199999999998,0.24268599999999996,0.26137],[0.093214,0.111898,0.130582,0.149266,0.16795,0.18663399999999997,0.205318,0.22400199999999998,0.24268599999999996,0.26137],[0.093214,0.111898,0.130582,0.149266,0.16795,0.18663399999999997,0.205318,0.22400199999999998,0.24268599999999996,0.26137],[0.093214,0.111898,0.130582,0.149266,0.16795,0.18663399999999997,0.205318,0.22400199999999998,0.24268599999999996,0.26137],[0.093214,0.111898,0.130582,0.149266,0.16795,0.18663399999999997,0.205318,0.22400199999999998,0.24268599999999996,0.26137],[0.093214,0.111898,0.130582,0.149266,0.16795,0.18663399999999997,0.205318,0.22400199999999998,0.24268599999999996,0.26137],[0.093214,0.111898,0.130582,0.149266,0.16795,0.18663399999999997,0.205318,0.22400199999999998,0.24268599999999996,0.26137],[0.093214,0.111898,0.130582,0.149266,0.16795,0.18663399999999997,0.205318,0.22400199999999998,0.24268599999999996,0.26137],[0.093214,0.111898,0.130582,0.149266,0.16795,0.18663399999999997,0.205318,0.22400199999999998,0.24268599999999996,0.26137],[0.093214,0.111898,0.130582,0.149266,0.16795,0.18663399999999997,0.205318,0.22400199999999998,0.24268599999999996,0.26137]],\"y\":[[535.0,535.0,535.0,535.0,535.0,535.0,535.0,535.0,535.0,535.0],[2992.222222222222,2992.222222222222,2992.222222222222,2992.222222222222,2992.222222222222,2992.222222222222,2992.222222222222,2992.222222222222,2992.222222222222,2992.222222222222],[5449.444444444444,5449.444444444444,5449.444444444444,5449.444444444444,5449.444444444444,5449.444444444444,5449.444444444444,5449.444444444444,5449.444444444444,5449.444444444444],[7906.666666666666,7906.666666666666,7906.666666666666,7906.666666666666,7906.666666666666,7906.666666666666,7906.666666666666,7906.666666666666,7906.666666666666,7906.666666666666],[10363.888888888889,10363.888888888889,10363.888888888889,10363.888888888889,10363.888888888889,10363.888888888889,10363.888888888889,10363.888888888889,10363.888888888889,10363.888888888889],[12821.111111111111,12821.111111111111,12821.111111111111,12821.111111111111,12821.111111111111,12821.111111111111,12821.111111111111,12821.111111111111,12821.111111111111,12821.111111111111],[15278.333333333332,15278.333333333332,15278.333333333332,15278.333333333332,15278.333333333332,15278.333333333332,15278.333333333332,15278.333333333332,15278.333333333332,15278.333333333332],[17735.555555555555,17735.555555555555,17735.555555555555,17735.555555555555,17735.555555555555,17735.555555555555,17735.555555555555,17735.555555555555,17735.555555555555,17735.555555555555],[20192.777777777777,20192.777777777777,20192.777777777777,20192.777777777777,20192.777777777777,20192.777777777777,20192.777777777777,20192.777777777777,20192.777777777777,20192.777777777777],[22650.0,22650.0,22650.0,22650.0,22650.0,22650.0,22650.0,22650.0,22650.0,22650.0]],\"z\":[[-5089970383596506.0,-5090214114137336.0,-5090457844678165.0,-5090701575218995.0,-5090945305759824.0,-5091189036300654.0,-5091432766841484.0,-5091676497382313.0,-5091920227923143.0,-5092163958463972.0],[-2.846241472621934e+16,-2.846265845676017e+16,-2.8462902187301e+16,-2.8463145917841828e+16,-2.846338964838266e+16,-2.846363337892349e+16,-2.8463877109464316e+16,-2.8464120840005148e+16,-2.8464364570545976e+16,-2.846460830108681e+16],[-5.183485906884218e+16,-5.183510279938301e+16,-5.183534652992384e+16,-5.183559026046467e+16,-5.1835833991005496e+16,-5.183607772154633e+16,-5.183632145208716e+16,-5.183656518262798e+16,-5.183680891316882e+16,-5.183705264370965e+16],[-7.520730341146501e+16,-7.520754714200584e+16,-7.520779087254667e+16,-7.52080346030875e+16,-7.520827833362834e+16,-7.520852206416917e+16,-7.520876579470998e+16,-7.520900952525082e+16,-7.520925325579165e+16,-7.520949698633248e+16],[-9.857974775408786e+16,-9.857999148462869e+16,-9.858023521516952e+16,-9.858047894571035e+16,-9.858072267625118e+16,-9.858096640679202e+16,-9.858121013733283e+16,-9.858145386787366e+16,-9.85816975984145e+16,-9.858194132895533e+16],[-1.219521920967107e+17,-1.2195243582725154e+17,-1.2195267955779237e+17,-1.219529232883332e+17,-1.2195316701887403e+17,-1.2195341074941486e+17,-1.2195365447995568e+17,-1.2195389821049651e+17,-1.2195414194103734e+17,-1.2195438567157818e+17],[-1.4532463643933354e+17,-1.4532488016987437e+17,-1.4532512390041517e+17,-1.45325367630956e+17,-1.4532561136149683e+17,-1.4532585509203766e+17,-1.453260988225785e+17,-1.4532634255311933e+17,-1.4532658628366016e+17,-1.45326830014201e+17],[-1.6869708078195638e+17,-1.686973245124972e+17,-1.68697568243038e+17,-1.6869781197357885e+17,-1.6869805570411968e+17,-1.686982994346605e+17,-1.6869854316520134e+17,-1.6869878689574218e+17,-1.68699030626283e+17,-1.6869927435682384e+17],[-1.9206952512457923e+17,-1.9206976885512006e+17,-1.9207001258566086e+17,-1.920702563162017e+17,-1.9207050004674253e+17,-1.9207074377728336e+17,-1.920709875078242e+17,-1.9207123123836502e+17,-1.9207147496890586e+17,-1.920717186994467e+17],[-2.1544196946720205e+17,-2.1544221319774288e+17,-2.1544245692828368e+17,-2.154427006588245e+17,-2.1544294438936534e+17,-2.1544318811990618e+17,-2.15443431850447e+17,-2.1544367558098784e+17,-2.1544391931152867e+17,-2.154441630420695e+17]],\"type\":\"surface\"},{\"opacity\":0.5,\"x\":[[0.093214,0.111898,0.130582,0.149266,0.16795,0.18663399999999997,0.205318,0.22400199999999998,0.24268599999999996,0.26137],[0.093214,0.111898,0.130582,0.149266,0.16795,0.18663399999999997,0.205318,0.22400199999999998,0.24268599999999996,0.26137],[0.093214,0.111898,0.130582,0.149266,0.16795,0.18663399999999997,0.205318,0.22400199999999998,0.24268599999999996,0.26137],[0.093214,0.111898,0.130582,0.149266,0.16795,0.18663399999999997,0.205318,0.22400199999999998,0.24268599999999996,0.26137],[0.093214,0.111898,0.130582,0.149266,0.16795,0.18663399999999997,0.205318,0.22400199999999998,0.24268599999999996,0.26137],[0.093214,0.111898,0.130582,0.149266,0.16795,0.18663399999999997,0.205318,0.22400199999999998,0.24268599999999996,0.26137],[0.093214,0.111898,0.130582,0.149266,0.16795,0.18663399999999997,0.205318,0.22400199999999998,0.24268599999999996,0.26137],[0.093214,0.111898,0.130582,0.149266,0.16795,0.18663399999999997,0.205318,0.22400199999999998,0.24268599999999996,0.26137],[0.093214,0.111898,0.130582,0.149266,0.16795,0.18663399999999997,0.205318,0.22400199999999998,0.24268599999999996,0.26137],[0.093214,0.111898,0.130582,0.149266,0.16795,0.18663399999999997,0.205318,0.22400199999999998,0.24268599999999996,0.26137]],\"y\":[[535.0,535.0,535.0,535.0,535.0,535.0,535.0,535.0,535.0,535.0],[2992.222222222222,2992.222222222222,2992.222222222222,2992.222222222222,2992.222222222222,2992.222222222222,2992.222222222222,2992.222222222222,2992.222222222222,2992.222222222222],[5449.444444444444,5449.444444444444,5449.444444444444,5449.444444444444,5449.444444444444,5449.444444444444,5449.444444444444,5449.444444444444,5449.444444444444,5449.444444444444],[7906.666666666666,7906.666666666666,7906.666666666666,7906.666666666666,7906.666666666666,7906.666666666666,7906.666666666666,7906.666666666666,7906.666666666666,7906.666666666666],[10363.888888888889,10363.888888888889,10363.888888888889,10363.888888888889,10363.888888888889,10363.888888888889,10363.888888888889,10363.888888888889,10363.888888888889,10363.888888888889],[12821.111111111111,12821.111111111111,12821.111111111111,12821.111111111111,12821.111111111111,12821.111111111111,12821.111111111111,12821.111111111111,12821.111111111111,12821.111111111111],[15278.333333333332,15278.333333333332,15278.333333333332,15278.333333333332,15278.333333333332,15278.333333333332,15278.333333333332,15278.333333333332,15278.333333333332,15278.333333333332],[17735.555555555555,17735.555555555555,17735.555555555555,17735.555555555555,17735.555555555555,17735.555555555555,17735.555555555555,17735.555555555555,17735.555555555555,17735.555555555555],[20192.777777777777,20192.777777777777,20192.777777777777,20192.777777777777,20192.777777777777,20192.777777777777,20192.777777777777,20192.777777777777,20192.777777777777,20192.777777777777],[22650.0,22650.0,22650.0,22650.0,22650.0,22650.0,22650.0,22650.0,22650.0,22650.0]],\"z\":[[-5089970383596506.0,-5090214114137336.0,-5090457844678165.0,-5090701575218995.0,-5090945305759824.0,-5091189036300654.0,-5091432766841484.0,-5091676497382313.0,-5091920227923143.0,-5092163958463972.0],[-2.846241472621934e+16,-2.846265845676017e+16,-2.8462902187301e+16,-2.8463145917841828e+16,-2.846338964838266e+16,-2.846363337892349e+16,-2.8463877109464316e+16,-2.8464120840005148e+16,-2.8464364570545976e+16,-2.846460830108681e+16],[-5.183485906884218e+16,-5.183510279938301e+16,-5.183534652992384e+16,-5.183559026046467e+16,-5.1835833991005496e+16,-5.183607772154633e+16,-5.183632145208716e+16,-5.183656518262798e+16,-5.183680891316882e+16,-5.183705264370965e+16],[-7.520730341146501e+16,-7.520754714200584e+16,-7.520779087254667e+16,-7.52080346030875e+16,-7.520827833362834e+16,-7.520852206416917e+16,-7.520876579470998e+16,-7.520900952525082e+16,-7.520925325579165e+16,-7.520949698633248e+16],[-9.857974775408786e+16,-9.857999148462869e+16,-9.858023521516952e+16,-9.858047894571035e+16,-9.858072267625118e+16,-9.858096640679202e+16,-9.858121013733283e+16,-9.858145386787366e+16,-9.85816975984145e+16,-9.858194132895533e+16],[-1.219521920967107e+17,-1.2195243582725154e+17,-1.2195267955779237e+17,-1.219529232883332e+17,-1.2195316701887403e+17,-1.2195341074941486e+17,-1.2195365447995568e+17,-1.2195389821049651e+17,-1.2195414194103734e+17,-1.2195438567157818e+17],[-1.4532463643933354e+17,-1.4532488016987437e+17,-1.4532512390041517e+17,-1.45325367630956e+17,-1.4532561136149683e+17,-1.4532585509203766e+17,-1.453260988225785e+17,-1.4532634255311933e+17,-1.4532658628366016e+17,-1.45326830014201e+17],[-1.6869708078195638e+17,-1.686973245124972e+17,-1.68697568243038e+17,-1.6869781197357885e+17,-1.6869805570411968e+17,-1.686982994346605e+17,-1.6869854316520134e+17,-1.6869878689574218e+17,-1.68699030626283e+17,-1.6869927435682384e+17],[-1.9206952512457923e+17,-1.9206976885512006e+17,-1.9207001258566086e+17,-1.920702563162017e+17,-1.9207050004674253e+17,-1.9207074377728336e+17,-1.920709875078242e+17,-1.9207123123836502e+17,-1.9207147496890586e+17,-1.920717186994467e+17],[-2.1544196946720205e+17,-2.1544221319774288e+17,-2.1544245692828368e+17,-2.154427006588245e+17,-2.1544294438936534e+17,-2.1544318811990618e+17,-2.15443431850447e+17,-2.1544367558098784e+17,-2.1544391931152867e+17,-2.154441630420695e+17]],\"type\":\"surface\"},{\"opacity\":0.5,\"x\":[[0.093214,0.111898,0.130582,0.149266,0.16795,0.18663399999999997,0.205318,0.22400199999999998,0.24268599999999996,0.26137],[0.093214,0.111898,0.130582,0.149266,0.16795,0.18663399999999997,0.205318,0.22400199999999998,0.24268599999999996,0.26137],[0.093214,0.111898,0.130582,0.149266,0.16795,0.18663399999999997,0.205318,0.22400199999999998,0.24268599999999996,0.26137],[0.093214,0.111898,0.130582,0.149266,0.16795,0.18663399999999997,0.205318,0.22400199999999998,0.24268599999999996,0.26137],[0.093214,0.111898,0.130582,0.149266,0.16795,0.18663399999999997,0.205318,0.22400199999999998,0.24268599999999996,0.26137],[0.093214,0.111898,0.130582,0.149266,0.16795,0.18663399999999997,0.205318,0.22400199999999998,0.24268599999999996,0.26137],[0.093214,0.111898,0.130582,0.149266,0.16795,0.18663399999999997,0.205318,0.22400199999999998,0.24268599999999996,0.26137],[0.093214,0.111898,0.130582,0.149266,0.16795,0.18663399999999997,0.205318,0.22400199999999998,0.24268599999999996,0.26137],[0.093214,0.111898,0.130582,0.149266,0.16795,0.18663399999999997,0.205318,0.22400199999999998,0.24268599999999996,0.26137],[0.093214,0.111898,0.130582,0.149266,0.16795,0.18663399999999997,0.205318,0.22400199999999998,0.24268599999999996,0.26137]],\"y\":[[535.0,535.0,535.0,535.0,535.0,535.0,535.0,535.0,535.0,535.0],[2992.222222222222,2992.222222222222,2992.222222222222,2992.222222222222,2992.222222222222,2992.222222222222,2992.222222222222,2992.222222222222,2992.222222222222,2992.222222222222],[5449.444444444444,5449.444444444444,5449.444444444444,5449.444444444444,5449.444444444444,5449.444444444444,5449.444444444444,5449.444444444444,5449.444444444444,5449.444444444444],[7906.666666666666,7906.666666666666,7906.666666666666,7906.666666666666,7906.666666666666,7906.666666666666,7906.666666666666,7906.666666666666,7906.666666666666,7906.666666666666],[10363.888888888889,10363.888888888889,10363.888888888889,10363.888888888889,10363.888888888889,10363.888888888889,10363.888888888889,10363.888888888889,10363.888888888889,10363.888888888889],[12821.111111111111,12821.111111111111,12821.111111111111,12821.111111111111,12821.111111111111,12821.111111111111,12821.111111111111,12821.111111111111,12821.111111111111,12821.111111111111],[15278.333333333332,15278.333333333332,15278.333333333332,15278.333333333332,15278.333333333332,15278.333333333332,15278.333333333332,15278.333333333332,15278.333333333332,15278.333333333332],[17735.555555555555,17735.555555555555,17735.555555555555,17735.555555555555,17735.555555555555,17735.555555555555,17735.555555555555,17735.555555555555,17735.555555555555,17735.555555555555],[20192.777777777777,20192.777777777777,20192.777777777777,20192.777777777777,20192.777777777777,20192.777777777777,20192.777777777777,20192.777777777777,20192.777777777777,20192.777777777777],[22650.0,22650.0,22650.0,22650.0,22650.0,22650.0,22650.0,22650.0,22650.0,22650.0]],\"z\":[[-5089970383596506.0,-5090214114137336.0,-5090457844678165.0,-5090701575218995.0,-5090945305759824.0,-5091189036300654.0,-5091432766841484.0,-5091676497382313.0,-5091920227923143.0,-5092163958463972.0],[-2.846241472621934e+16,-2.846265845676017e+16,-2.8462902187301e+16,-2.8463145917841828e+16,-2.846338964838266e+16,-2.846363337892349e+16,-2.8463877109464316e+16,-2.8464120840005148e+16,-2.8464364570545976e+16,-2.846460830108681e+16],[-5.183485906884218e+16,-5.183510279938301e+16,-5.183534652992384e+16,-5.183559026046467e+16,-5.1835833991005496e+16,-5.183607772154633e+16,-5.183632145208716e+16,-5.183656518262798e+16,-5.183680891316882e+16,-5.183705264370965e+16],[-7.520730341146501e+16,-7.520754714200584e+16,-7.520779087254667e+16,-7.52080346030875e+16,-7.520827833362834e+16,-7.520852206416917e+16,-7.520876579470998e+16,-7.520900952525082e+16,-7.520925325579165e+16,-7.520949698633248e+16],[-9.857974775408786e+16,-9.857999148462869e+16,-9.858023521516952e+16,-9.858047894571035e+16,-9.858072267625118e+16,-9.858096640679202e+16,-9.858121013733283e+16,-9.858145386787366e+16,-9.85816975984145e+16,-9.858194132895533e+16],[-1.219521920967107e+17,-1.2195243582725154e+17,-1.2195267955779237e+17,-1.219529232883332e+17,-1.2195316701887403e+17,-1.2195341074941486e+17,-1.2195365447995568e+17,-1.2195389821049651e+17,-1.2195414194103734e+17,-1.2195438567157818e+17],[-1.4532463643933354e+17,-1.4532488016987437e+17,-1.4532512390041517e+17,-1.45325367630956e+17,-1.4532561136149683e+17,-1.4532585509203766e+17,-1.453260988225785e+17,-1.4532634255311933e+17,-1.4532658628366016e+17,-1.45326830014201e+17],[-1.6869708078195638e+17,-1.686973245124972e+17,-1.68697568243038e+17,-1.6869781197357885e+17,-1.6869805570411968e+17,-1.686982994346605e+17,-1.6869854316520134e+17,-1.6869878689574218e+17,-1.68699030626283e+17,-1.6869927435682384e+17],[-1.9206952512457923e+17,-1.9206976885512006e+17,-1.9207001258566086e+17,-1.920702563162017e+17,-1.9207050004674253e+17,-1.9207074377728336e+17,-1.920709875078242e+17,-1.9207123123836502e+17,-1.9207147496890586e+17,-1.920717186994467e+17],[-2.1544196946720205e+17,-2.1544221319774288e+17,-2.1544245692828368e+17,-2.154427006588245e+17,-2.1544294438936534e+17,-2.1544318811990618e+17,-2.15443431850447e+17,-2.1544367558098784e+17,-2.1544391931152867e+17,-2.154441630420695e+17]],\"type\":\"surface\"},{\"opacity\":0.5,\"x\":[[0.093214,0.111898,0.130582,0.149266,0.16795,0.18663399999999997,0.205318,0.22400199999999998,0.24268599999999996,0.26137],[0.093214,0.111898,0.130582,0.149266,0.16795,0.18663399999999997,0.205318,0.22400199999999998,0.24268599999999996,0.26137],[0.093214,0.111898,0.130582,0.149266,0.16795,0.18663399999999997,0.205318,0.22400199999999998,0.24268599999999996,0.26137],[0.093214,0.111898,0.130582,0.149266,0.16795,0.18663399999999997,0.205318,0.22400199999999998,0.24268599999999996,0.26137],[0.093214,0.111898,0.130582,0.149266,0.16795,0.18663399999999997,0.205318,0.22400199999999998,0.24268599999999996,0.26137],[0.093214,0.111898,0.130582,0.149266,0.16795,0.18663399999999997,0.205318,0.22400199999999998,0.24268599999999996,0.26137],[0.093214,0.111898,0.130582,0.149266,0.16795,0.18663399999999997,0.205318,0.22400199999999998,0.24268599999999996,0.26137],[0.093214,0.111898,0.130582,0.149266,0.16795,0.18663399999999997,0.205318,0.22400199999999998,0.24268599999999996,0.26137],[0.093214,0.111898,0.130582,0.149266,0.16795,0.18663399999999997,0.205318,0.22400199999999998,0.24268599999999996,0.26137],[0.093214,0.111898,0.130582,0.149266,0.16795,0.18663399999999997,0.205318,0.22400199999999998,0.24268599999999996,0.26137]],\"y\":[[535.0,535.0,535.0,535.0,535.0,535.0,535.0,535.0,535.0,535.0],[2992.222222222222,2992.222222222222,2992.222222222222,2992.222222222222,2992.222222222222,2992.222222222222,2992.222222222222,2992.222222222222,2992.222222222222,2992.222222222222],[5449.444444444444,5449.444444444444,5449.444444444444,5449.444444444444,5449.444444444444,5449.444444444444,5449.444444444444,5449.444444444444,5449.444444444444,5449.444444444444],[7906.666666666666,7906.666666666666,7906.666666666666,7906.666666666666,7906.666666666666,7906.666666666666,7906.666666666666,7906.666666666666,7906.666666666666,7906.666666666666],[10363.888888888889,10363.888888888889,10363.888888888889,10363.888888888889,10363.888888888889,10363.888888888889,10363.888888888889,10363.888888888889,10363.888888888889,10363.888888888889],[12821.111111111111,12821.111111111111,12821.111111111111,12821.111111111111,12821.111111111111,12821.111111111111,12821.111111111111,12821.111111111111,12821.111111111111,12821.111111111111],[15278.333333333332,15278.333333333332,15278.333333333332,15278.333333333332,15278.333333333332,15278.333333333332,15278.333333333332,15278.333333333332,15278.333333333332,15278.333333333332],[17735.555555555555,17735.555555555555,17735.555555555555,17735.555555555555,17735.555555555555,17735.555555555555,17735.555555555555,17735.555555555555,17735.555555555555,17735.555555555555],[20192.777777777777,20192.777777777777,20192.777777777777,20192.777777777777,20192.777777777777,20192.777777777777,20192.777777777777,20192.777777777777,20192.777777777777,20192.777777777777],[22650.0,22650.0,22650.0,22650.0,22650.0,22650.0,22650.0,22650.0,22650.0,22650.0]],\"z\":[[5.190839730475172,5.190846171920513,5.190852613365853,5.190859054811193,5.190865496256532,5.190871937701873,5.190878379147213,5.190884820592553,5.190891262037892,5.190897703483233],[29.032274352759952,29.032280794205292,29.03228723565063,29.03229367709597,29.03230011854131,29.03230655998665,29.03231300143199,29.03231944287733,29.03232588432267,29.03233232576801],[52.873708975044735,52.87371541649007,52.873721857935415,52.87372829938075,52.873734740826094,52.87374118227143,52.873747623716774,52.87375406516212,52.873760506607454,52.8737669480528],[76.7151435973295,76.71515003877484,76.71515648022017,76.71516292166552,76.71516936311086,76.7151758045562,76.71518224600153,76.71518868744688,76.71519512889222,76.71520157033756],[100.55657821961428,100.55658466105962,100.55659110250495,100.5565975439503,100.55660398539564,100.55661042684098,100.55661686828631,100.55662330973166,100.556629751177,100.55663619262234],[124.39801284189907,124.39801928334441,124.39802572478975,124.3980321662351,124.39803860768043,124.39804504912577,124.3980514905711,124.39805793201646,124.39806437346179,124.39807081490713],[148.23944746418383,148.23945390562918,148.2394603470745,148.23946678851985,148.23947322996517,148.23947967141052,148.23948611285587,148.2394925543012,148.23949899574654,148.2395054371919],[172.08088208646862,172.08088852791397,172.0808949693593,172.08090141080464,172.08090785224996,172.08091429369532,172.08092073514067,172.080927176586,172.08093361803134,172.0809400594767],[195.92231670875339,195.92232315019874,195.92232959164406,195.9223360330894,195.92234247453473,195.92234891598008,195.92235535742543,195.92236179887075,195.9223682403161,195.92237468176145],[219.76375133103818,219.76375777248353,219.76376421392885,219.7637706553742,219.76377709681952,219.76378353826487,219.76378997971022,219.76379642115555,219.7638028626009,219.76380930404625]],\"type\":\"surface\"},{\"opacity\":0.5,\"x\":[[0.093214,0.111898,0.130582,0.149266,0.16795,0.18663399999999997,0.205318,0.22400199999999998,0.24268599999999996,0.26137],[0.093214,0.111898,0.130582,0.149266,0.16795,0.18663399999999997,0.205318,0.22400199999999998,0.24268599999999996,0.26137],[0.093214,0.111898,0.130582,0.149266,0.16795,0.18663399999999997,0.205318,0.22400199999999998,0.24268599999999996,0.26137],[0.093214,0.111898,0.130582,0.149266,0.16795,0.18663399999999997,0.205318,0.22400199999999998,0.24268599999999996,0.26137],[0.093214,0.111898,0.130582,0.149266,0.16795,0.18663399999999997,0.205318,0.22400199999999998,0.24268599999999996,0.26137],[0.093214,0.111898,0.130582,0.149266,0.16795,0.18663399999999997,0.205318,0.22400199999999998,0.24268599999999996,0.26137],[0.093214,0.111898,0.130582,0.149266,0.16795,0.18663399999999997,0.205318,0.22400199999999998,0.24268599999999996,0.26137],[0.093214,0.111898,0.130582,0.149266,0.16795,0.18663399999999997,0.205318,0.22400199999999998,0.24268599999999996,0.26137],[0.093214,0.111898,0.130582,0.149266,0.16795,0.18663399999999997,0.205318,0.22400199999999998,0.24268599999999996,0.26137],[0.093214,0.111898,0.130582,0.149266,0.16795,0.18663399999999997,0.205318,0.22400199999999998,0.24268599999999996,0.26137]],\"y\":[[535.0,535.0,535.0,535.0,535.0,535.0,535.0,535.0,535.0,535.0],[2992.222222222222,2992.222222222222,2992.222222222222,2992.222222222222,2992.222222222222,2992.222222222222,2992.222222222222,2992.222222222222,2992.222222222222,2992.222222222222],[5449.444444444444,5449.444444444444,5449.444444444444,5449.444444444444,5449.444444444444,5449.444444444444,5449.444444444444,5449.444444444444,5449.444444444444,5449.444444444444],[7906.666666666666,7906.666666666666,7906.666666666666,7906.666666666666,7906.666666666666,7906.666666666666,7906.666666666666,7906.666666666666,7906.666666666666,7906.666666666666],[10363.888888888889,10363.888888888889,10363.888888888889,10363.888888888889,10363.888888888889,10363.888888888889,10363.888888888889,10363.888888888889,10363.888888888889,10363.888888888889],[12821.111111111111,12821.111111111111,12821.111111111111,12821.111111111111,12821.111111111111,12821.111111111111,12821.111111111111,12821.111111111111,12821.111111111111,12821.111111111111],[15278.333333333332,15278.333333333332,15278.333333333332,15278.333333333332,15278.333333333332,15278.333333333332,15278.333333333332,15278.333333333332,15278.333333333332,15278.333333333332],[17735.555555555555,17735.555555555555,17735.555555555555,17735.555555555555,17735.555555555555,17735.555555555555,17735.555555555555,17735.555555555555,17735.555555555555,17735.555555555555],[20192.777777777777,20192.777777777777,20192.777777777777,20192.777777777777,20192.777777777777,20192.777777777777,20192.777777777777,20192.777777777777,20192.777777777777,20192.777777777777],[22650.0,22650.0,22650.0,22650.0,22650.0,22650.0,22650.0,22650.0,22650.0,22650.0]],\"z\":[[5.190839730475172,5.190846171920513,5.190852613365853,5.190859054811193,5.190865496256532,5.190871937701873,5.190878379147213,5.190884820592553,5.190891262037892,5.190897703483233],[29.032274352759952,29.032280794205292,29.03228723565063,29.03229367709597,29.03230011854131,29.03230655998665,29.03231300143199,29.03231944287733,29.03232588432267,29.03233232576801],[52.873708975044735,52.87371541649007,52.873721857935415,52.87372829938075,52.873734740826094,52.87374118227143,52.873747623716774,52.87375406516212,52.873760506607454,52.8737669480528],[76.7151435973295,76.71515003877484,76.71515648022017,76.71516292166552,76.71516936311086,76.7151758045562,76.71518224600153,76.71518868744688,76.71519512889222,76.71520157033756],[100.55657821961428,100.55658466105962,100.55659110250495,100.5565975439503,100.55660398539564,100.55661042684098,100.55661686828631,100.55662330973166,100.556629751177,100.55663619262234],[124.39801284189907,124.39801928334441,124.39802572478975,124.3980321662351,124.39803860768043,124.39804504912577,124.3980514905711,124.39805793201646,124.39806437346179,124.39807081490713],[148.23944746418383,148.23945390562918,148.2394603470745,148.23946678851985,148.23947322996517,148.23947967141052,148.23948611285587,148.2394925543012,148.23949899574654,148.2395054371919],[172.08088208646862,172.08088852791397,172.0808949693593,172.08090141080464,172.08090785224996,172.08091429369532,172.08092073514067,172.080927176586,172.08093361803134,172.0809400594767],[195.92231670875339,195.92232315019874,195.92232959164406,195.9223360330894,195.92234247453473,195.92234891598008,195.92235535742543,195.92236179887075,195.9223682403161,195.92237468176145],[219.76375133103818,219.76375777248353,219.76376421392885,219.7637706553742,219.76377709681952,219.76378353826487,219.76378997971022,219.76379642115555,219.7638028626009,219.76380930404625]],\"type\":\"surface\"},{\"opacity\":0.5,\"x\":[[0.093214,0.111898,0.130582,0.149266,0.16795,0.18663399999999997,0.205318,0.22400199999999998,0.24268599999999996,0.26137],[0.093214,0.111898,0.130582,0.149266,0.16795,0.18663399999999997,0.205318,0.22400199999999998,0.24268599999999996,0.26137],[0.093214,0.111898,0.130582,0.149266,0.16795,0.18663399999999997,0.205318,0.22400199999999998,0.24268599999999996,0.26137],[0.093214,0.111898,0.130582,0.149266,0.16795,0.18663399999999997,0.205318,0.22400199999999998,0.24268599999999996,0.26137],[0.093214,0.111898,0.130582,0.149266,0.16795,0.18663399999999997,0.205318,0.22400199999999998,0.24268599999999996,0.26137],[0.093214,0.111898,0.130582,0.149266,0.16795,0.18663399999999997,0.205318,0.22400199999999998,0.24268599999999996,0.26137],[0.093214,0.111898,0.130582,0.149266,0.16795,0.18663399999999997,0.205318,0.22400199999999998,0.24268599999999996,0.26137],[0.093214,0.111898,0.130582,0.149266,0.16795,0.18663399999999997,0.205318,0.22400199999999998,0.24268599999999996,0.26137],[0.093214,0.111898,0.130582,0.149266,0.16795,0.18663399999999997,0.205318,0.22400199999999998,0.24268599999999996,0.26137],[0.093214,0.111898,0.130582,0.149266,0.16795,0.18663399999999997,0.205318,0.22400199999999998,0.24268599999999996,0.26137]],\"y\":[[535.0,535.0,535.0,535.0,535.0,535.0,535.0,535.0,535.0,535.0],[2992.222222222222,2992.222222222222,2992.222222222222,2992.222222222222,2992.222222222222,2992.222222222222,2992.222222222222,2992.222222222222,2992.222222222222,2992.222222222222],[5449.444444444444,5449.444444444444,5449.444444444444,5449.444444444444,5449.444444444444,5449.444444444444,5449.444444444444,5449.444444444444,5449.444444444444,5449.444444444444],[7906.666666666666,7906.666666666666,7906.666666666666,7906.666666666666,7906.666666666666,7906.666666666666,7906.666666666666,7906.666666666666,7906.666666666666,7906.666666666666],[10363.888888888889,10363.888888888889,10363.888888888889,10363.888888888889,10363.888888888889,10363.888888888889,10363.888888888889,10363.888888888889,10363.888888888889,10363.888888888889],[12821.111111111111,12821.111111111111,12821.111111111111,12821.111111111111,12821.111111111111,12821.111111111111,12821.111111111111,12821.111111111111,12821.111111111111,12821.111111111111],[15278.333333333332,15278.333333333332,15278.333333333332,15278.333333333332,15278.333333333332,15278.333333333332,15278.333333333332,15278.333333333332,15278.333333333332,15278.333333333332],[17735.555555555555,17735.555555555555,17735.555555555555,17735.555555555555,17735.555555555555,17735.555555555555,17735.555555555555,17735.555555555555,17735.555555555555,17735.555555555555],[20192.777777777777,20192.777777777777,20192.777777777777,20192.777777777777,20192.777777777777,20192.777777777777,20192.777777777777,20192.777777777777,20192.777777777777,20192.777777777777],[22650.0,22650.0,22650.0,22650.0,22650.0,22650.0,22650.0,22650.0,22650.0,22650.0]],\"z\":[[5.190839730475172,5.190846171920513,5.190852613365853,5.190859054811193,5.190865496256532,5.190871937701873,5.190878379147213,5.190884820592553,5.190891262037892,5.190897703483233],[29.032274352759952,29.032280794205292,29.03228723565063,29.03229367709597,29.03230011854131,29.03230655998665,29.03231300143199,29.03231944287733,29.03232588432267,29.03233232576801],[52.873708975044735,52.87371541649007,52.873721857935415,52.87372829938075,52.873734740826094,52.87374118227143,52.873747623716774,52.87375406516212,52.873760506607454,52.8737669480528],[76.7151435973295,76.71515003877484,76.71515648022017,76.71516292166552,76.71516936311086,76.7151758045562,76.71518224600153,76.71518868744688,76.71519512889222,76.71520157033756],[100.55657821961428,100.55658466105962,100.55659110250495,100.5565975439503,100.55660398539564,100.55661042684098,100.55661686828631,100.55662330973166,100.556629751177,100.55663619262234],[124.39801284189907,124.39801928334441,124.39802572478975,124.3980321662351,124.39803860768043,124.39804504912577,124.3980514905711,124.39805793201646,124.39806437346179,124.39807081490713],[148.23944746418383,148.23945390562918,148.2394603470745,148.23946678851985,148.23947322996517,148.23947967141052,148.23948611285587,148.2394925543012,148.23949899574654,148.2395054371919],[172.08088208646862,172.08088852791397,172.0808949693593,172.08090141080464,172.08090785224996,172.08091429369532,172.08092073514067,172.080927176586,172.08093361803134,172.0809400594767],[195.92231670875339,195.92232315019874,195.92232959164406,195.9223360330894,195.92234247453473,195.92234891598008,195.92235535742543,195.92236179887075,195.9223682403161,195.92237468176145],[219.76375133103818,219.76375777248353,219.76376421392885,219.7637706553742,219.76377709681952,219.76378353826487,219.76378997971022,219.76379642115555,219.7638028626009,219.76380930404625]],\"type\":\"surface\"},{\"opacity\":0.5,\"x\":[[0.093214,0.111898,0.130582,0.149266,0.16795,0.18663399999999997,0.205318,0.22400199999999998,0.24268599999999996,0.26137],[0.093214,0.111898,0.130582,0.149266,0.16795,0.18663399999999997,0.205318,0.22400199999999998,0.24268599999999996,0.26137],[0.093214,0.111898,0.130582,0.149266,0.16795,0.18663399999999997,0.205318,0.22400199999999998,0.24268599999999996,0.26137],[0.093214,0.111898,0.130582,0.149266,0.16795,0.18663399999999997,0.205318,0.22400199999999998,0.24268599999999996,0.26137],[0.093214,0.111898,0.130582,0.149266,0.16795,0.18663399999999997,0.205318,0.22400199999999998,0.24268599999999996,0.26137],[0.093214,0.111898,0.130582,0.149266,0.16795,0.18663399999999997,0.205318,0.22400199999999998,0.24268599999999996,0.26137],[0.093214,0.111898,0.130582,0.149266,0.16795,0.18663399999999997,0.205318,0.22400199999999998,0.24268599999999996,0.26137],[0.093214,0.111898,0.130582,0.149266,0.16795,0.18663399999999997,0.205318,0.22400199999999998,0.24268599999999996,0.26137],[0.093214,0.111898,0.130582,0.149266,0.16795,0.18663399999999997,0.205318,0.22400199999999998,0.24268599999999996,0.26137],[0.093214,0.111898,0.130582,0.149266,0.16795,0.18663399999999997,0.205318,0.22400199999999998,0.24268599999999996,0.26137]],\"y\":[[535.0,535.0,535.0,535.0,535.0,535.0,535.0,535.0,535.0,535.0],[2992.222222222222,2992.222222222222,2992.222222222222,2992.222222222222,2992.222222222222,2992.222222222222,2992.222222222222,2992.222222222222,2992.222222222222,2992.222222222222],[5449.444444444444,5449.444444444444,5449.444444444444,5449.444444444444,5449.444444444444,5449.444444444444,5449.444444444444,5449.444444444444,5449.444444444444,5449.444444444444],[7906.666666666666,7906.666666666666,7906.666666666666,7906.666666666666,7906.666666666666,7906.666666666666,7906.666666666666,7906.666666666666,7906.666666666666,7906.666666666666],[10363.888888888889,10363.888888888889,10363.888888888889,10363.888888888889,10363.888888888889,10363.888888888889,10363.888888888889,10363.888888888889,10363.888888888889,10363.888888888889],[12821.111111111111,12821.111111111111,12821.111111111111,12821.111111111111,12821.111111111111,12821.111111111111,12821.111111111111,12821.111111111111,12821.111111111111,12821.111111111111],[15278.333333333332,15278.333333333332,15278.333333333332,15278.333333333332,15278.333333333332,15278.333333333332,15278.333333333332,15278.333333333332,15278.333333333332,15278.333333333332],[17735.555555555555,17735.555555555555,17735.555555555555,17735.555555555555,17735.555555555555,17735.555555555555,17735.555555555555,17735.555555555555,17735.555555555555,17735.555555555555],[20192.777777777777,20192.777777777777,20192.777777777777,20192.777777777777,20192.777777777777,20192.777777777777,20192.777777777777,20192.777777777777,20192.777777777777,20192.777777777777],[22650.0,22650.0,22650.0,22650.0,22650.0,22650.0,22650.0,22650.0,22650.0,22650.0]],\"z\":[[5.190839730475172,5.190846171920513,5.190852613365853,5.190859054811193,5.190865496256532,5.190871937701873,5.190878379147213,5.190884820592553,5.190891262037892,5.190897703483233],[29.032274352759952,29.032280794205292,29.03228723565063,29.03229367709597,29.03230011854131,29.03230655998665,29.03231300143199,29.03231944287733,29.03232588432267,29.03233232576801],[52.873708975044735,52.87371541649007,52.873721857935415,52.87372829938075,52.873734740826094,52.87374118227143,52.873747623716774,52.87375406516212,52.873760506607454,52.8737669480528],[76.7151435973295,76.71515003877484,76.71515648022017,76.71516292166552,76.71516936311086,76.7151758045562,76.71518224600153,76.71518868744688,76.71519512889222,76.71520157033756],[100.55657821961428,100.55658466105962,100.55659110250495,100.5565975439503,100.55660398539564,100.55661042684098,100.55661686828631,100.55662330973166,100.556629751177,100.55663619262234],[124.39801284189907,124.39801928334441,124.39802572478975,124.3980321662351,124.39803860768043,124.39804504912577,124.3980514905711,124.39805793201646,124.39806437346179,124.39807081490713],[148.23944746418383,148.23945390562918,148.2394603470745,148.23946678851985,148.23947322996517,148.23947967141052,148.23948611285587,148.2394925543012,148.23949899574654,148.2395054371919],[172.08088208646862,172.08088852791397,172.0808949693593,172.08090141080464,172.08090785224996,172.08091429369532,172.08092073514067,172.080927176586,172.08093361803134,172.0809400594767],[195.92231670875339,195.92232315019874,195.92232959164406,195.9223360330894,195.92234247453473,195.92234891598008,195.92235535742543,195.92236179887075,195.9223682403161,195.92237468176145],[219.76375133103818,219.76375777248353,219.76376421392885,219.7637706553742,219.76377709681952,219.76378353826487,219.76378997971022,219.76379642115555,219.7638028626009,219.76380930404625]],\"type\":\"surface\"}],                        {\"template\":{\"data\":{\"bar\":[{\"error_x\":{\"color\":\"#2a3f5f\"},\"error_y\":{\"color\":\"#2a3f5f\"},\"marker\":{\"line\":{\"color\":\"#E5ECF6\",\"width\":0.5},\"pattern\":{\"fillmode\":\"overlay\",\"size\":10,\"solidity\":0.2}},\"type\":\"bar\"}],\"barpolar\":[{\"marker\":{\"line\":{\"color\":\"#E5ECF6\",\"width\":0.5},\"pattern\":{\"fillmode\":\"overlay\",\"size\":10,\"solidity\":0.2}},\"type\":\"barpolar\"}],\"carpet\":[{\"aaxis\":{\"endlinecolor\":\"#2a3f5f\",\"gridcolor\":\"white\",\"linecolor\":\"white\",\"minorgridcolor\":\"white\",\"startlinecolor\":\"#2a3f5f\"},\"baxis\":{\"endlinecolor\":\"#2a3f5f\",\"gridcolor\":\"white\",\"linecolor\":\"white\",\"minorgridcolor\":\"white\",\"startlinecolor\":\"#2a3f5f\"},\"type\":\"carpet\"}],\"choropleth\":[{\"colorbar\":{\"outlinewidth\":0,\"ticks\":\"\"},\"type\":\"choropleth\"}],\"contour\":[{\"colorbar\":{\"outlinewidth\":0,\"ticks\":\"\"},\"colorscale\":[[0.0,\"#0d0887\"],[0.1111111111111111,\"#46039f\"],[0.2222222222222222,\"#7201a8\"],[0.3333333333333333,\"#9c179e\"],[0.4444444444444444,\"#bd3786\"],[0.5555555555555556,\"#d8576b\"],[0.6666666666666666,\"#ed7953\"],[0.7777777777777778,\"#fb9f3a\"],[0.8888888888888888,\"#fdca26\"],[1.0,\"#f0f921\"]],\"type\":\"contour\"}],\"contourcarpet\":[{\"colorbar\":{\"outlinewidth\":0,\"ticks\":\"\"},\"type\":\"contourcarpet\"}],\"heatmap\":[{\"colorbar\":{\"outlinewidth\":0,\"ticks\":\"\"},\"colorscale\":[[0.0,\"#0d0887\"],[0.1111111111111111,\"#46039f\"],[0.2222222222222222,\"#7201a8\"],[0.3333333333333333,\"#9c179e\"],[0.4444444444444444,\"#bd3786\"],[0.5555555555555556,\"#d8576b\"],[0.6666666666666666,\"#ed7953\"],[0.7777777777777778,\"#fb9f3a\"],[0.8888888888888888,\"#fdca26\"],[1.0,\"#f0f921\"]],\"type\":\"heatmap\"}],\"heatmapgl\":[{\"colorbar\":{\"outlinewidth\":0,\"ticks\":\"\"},\"colorscale\":[[0.0,\"#0d0887\"],[0.1111111111111111,\"#46039f\"],[0.2222222222222222,\"#7201a8\"],[0.3333333333333333,\"#9c179e\"],[0.4444444444444444,\"#bd3786\"],[0.5555555555555556,\"#d8576b\"],[0.6666666666666666,\"#ed7953\"],[0.7777777777777778,\"#fb9f3a\"],[0.8888888888888888,\"#fdca26\"],[1.0,\"#f0f921\"]],\"type\":\"heatmapgl\"}],\"histogram\":[{\"marker\":{\"pattern\":{\"fillmode\":\"overlay\",\"size\":10,\"solidity\":0.2}},\"type\":\"histogram\"}],\"histogram2d\":[{\"colorbar\":{\"outlinewidth\":0,\"ticks\":\"\"},\"colorscale\":[[0.0,\"#0d0887\"],[0.1111111111111111,\"#46039f\"],[0.2222222222222222,\"#7201a8\"],[0.3333333333333333,\"#9c179e\"],[0.4444444444444444,\"#bd3786\"],[0.5555555555555556,\"#d8576b\"],[0.6666666666666666,\"#ed7953\"],[0.7777777777777778,\"#fb9f3a\"],[0.8888888888888888,\"#fdca26\"],[1.0,\"#f0f921\"]],\"type\":\"histogram2d\"}],\"histogram2dcontour\":[{\"colorbar\":{\"outlinewidth\":0,\"ticks\":\"\"},\"colorscale\":[[0.0,\"#0d0887\"],[0.1111111111111111,\"#46039f\"],[0.2222222222222222,\"#7201a8\"],[0.3333333333333333,\"#9c179e\"],[0.4444444444444444,\"#bd3786\"],[0.5555555555555556,\"#d8576b\"],[0.6666666666666666,\"#ed7953\"],[0.7777777777777778,\"#fb9f3a\"],[0.8888888888888888,\"#fdca26\"],[1.0,\"#f0f921\"]],\"type\":\"histogram2dcontour\"}],\"mesh3d\":[{\"colorbar\":{\"outlinewidth\":0,\"ticks\":\"\"},\"type\":\"mesh3d\"}],\"parcoords\":[{\"line\":{\"colorbar\":{\"outlinewidth\":0,\"ticks\":\"\"}},\"type\":\"parcoords\"}],\"pie\":[{\"automargin\":true,\"type\":\"pie\"}],\"scatter\":[{\"marker\":{\"colorbar\":{\"outlinewidth\":0,\"ticks\":\"\"}},\"type\":\"scatter\"}],\"scatter3d\":[{\"line\":{\"colorbar\":{\"outlinewidth\":0,\"ticks\":\"\"}},\"marker\":{\"colorbar\":{\"outlinewidth\":0,\"ticks\":\"\"}},\"type\":\"scatter3d\"}],\"scattercarpet\":[{\"marker\":{\"colorbar\":{\"outlinewidth\":0,\"ticks\":\"\"}},\"type\":\"scattercarpet\"}],\"scattergeo\":[{\"marker\":{\"colorbar\":{\"outlinewidth\":0,\"ticks\":\"\"}},\"type\":\"scattergeo\"}],\"scattergl\":[{\"marker\":{\"colorbar\":{\"outlinewidth\":0,\"ticks\":\"\"}},\"type\":\"scattergl\"}],\"scattermapbox\":[{\"marker\":{\"colorbar\":{\"outlinewidth\":0,\"ticks\":\"\"}},\"type\":\"scattermapbox\"}],\"scatterpolar\":[{\"marker\":{\"colorbar\":{\"outlinewidth\":0,\"ticks\":\"\"}},\"type\":\"scatterpolar\"}],\"scatterpolargl\":[{\"marker\":{\"colorbar\":{\"outlinewidth\":0,\"ticks\":\"\"}},\"type\":\"scatterpolargl\"}],\"scatterternary\":[{\"marker\":{\"colorbar\":{\"outlinewidth\":0,\"ticks\":\"\"}},\"type\":\"scatterternary\"}],\"surface\":[{\"colorbar\":{\"outlinewidth\":0,\"ticks\":\"\"},\"colorscale\":[[0.0,\"#0d0887\"],[0.1111111111111111,\"#46039f\"],[0.2222222222222222,\"#7201a8\"],[0.3333333333333333,\"#9c179e\"],[0.4444444444444444,\"#bd3786\"],[0.5555555555555556,\"#d8576b\"],[0.6666666666666666,\"#ed7953\"],[0.7777777777777778,\"#fb9f3a\"],[0.8888888888888888,\"#fdca26\"],[1.0,\"#f0f921\"]],\"type\":\"surface\"}],\"table\":[{\"cells\":{\"fill\":{\"color\":\"#EBF0F8\"},\"line\":{\"color\":\"white\"}},\"header\":{\"fill\":{\"color\":\"#C8D4E3\"},\"line\":{\"color\":\"white\"}},\"type\":\"table\"}]},\"layout\":{\"annotationdefaults\":{\"arrowcolor\":\"#2a3f5f\",\"arrowhead\":0,\"arrowwidth\":1},\"autotypenumbers\":\"strict\",\"coloraxis\":{\"colorbar\":{\"outlinewidth\":0,\"ticks\":\"\"}},\"colorscale\":{\"diverging\":[[0,\"#8e0152\"],[0.1,\"#c51b7d\"],[0.2,\"#de77ae\"],[0.3,\"#f1b6da\"],[0.4,\"#fde0ef\"],[0.5,\"#f7f7f7\"],[0.6,\"#e6f5d0\"],[0.7,\"#b8e186\"],[0.8,\"#7fbc41\"],[0.9,\"#4d9221\"],[1,\"#276419\"]],\"sequential\":[[0.0,\"#0d0887\"],[0.1111111111111111,\"#46039f\"],[0.2222222222222222,\"#7201a8\"],[0.3333333333333333,\"#9c179e\"],[0.4444444444444444,\"#bd3786\"],[0.5555555555555556,\"#d8576b\"],[0.6666666666666666,\"#ed7953\"],[0.7777777777777778,\"#fb9f3a\"],[0.8888888888888888,\"#fdca26\"],[1.0,\"#f0f921\"]],\"sequentialminus\":[[0.0,\"#0d0887\"],[0.1111111111111111,\"#46039f\"],[0.2222222222222222,\"#7201a8\"],[0.3333333333333333,\"#9c179e\"],[0.4444444444444444,\"#bd3786\"],[0.5555555555555556,\"#d8576b\"],[0.6666666666666666,\"#ed7953\"],[0.7777777777777778,\"#fb9f3a\"],[0.8888888888888888,\"#fdca26\"],[1.0,\"#f0f921\"]]},\"colorway\":[\"#636efa\",\"#EF553B\",\"#00cc96\",\"#ab63fa\",\"#FFA15A\",\"#19d3f3\",\"#FF6692\",\"#B6E880\",\"#FF97FF\",\"#FECB52\"],\"font\":{\"color\":\"#2a3f5f\"},\"geo\":{\"bgcolor\":\"white\",\"lakecolor\":\"white\",\"landcolor\":\"#E5ECF6\",\"showlakes\":true,\"showland\":true,\"subunitcolor\":\"white\"},\"hoverlabel\":{\"align\":\"left\"},\"hovermode\":\"closest\",\"mapbox\":{\"style\":\"light\"},\"paper_bgcolor\":\"white\",\"plot_bgcolor\":\"#E5ECF6\",\"polar\":{\"angularaxis\":{\"gridcolor\":\"white\",\"linecolor\":\"white\",\"ticks\":\"\"},\"bgcolor\":\"#E5ECF6\",\"radialaxis\":{\"gridcolor\":\"white\",\"linecolor\":\"white\",\"ticks\":\"\"}},\"scene\":{\"xaxis\":{\"backgroundcolor\":\"#E5ECF6\",\"gridcolor\":\"white\",\"gridwidth\":2,\"linecolor\":\"white\",\"showbackground\":true,\"ticks\":\"\",\"zerolinecolor\":\"white\"},\"yaxis\":{\"backgroundcolor\":\"#E5ECF6\",\"gridcolor\":\"white\",\"gridwidth\":2,\"linecolor\":\"white\",\"showbackground\":true,\"ticks\":\"\",\"zerolinecolor\":\"white\"},\"zaxis\":{\"backgroundcolor\":\"#E5ECF6\",\"gridcolor\":\"white\",\"gridwidth\":2,\"linecolor\":\"white\",\"showbackground\":true,\"ticks\":\"\",\"zerolinecolor\":\"white\"}},\"shapedefaults\":{\"line\":{\"color\":\"#2a3f5f\"}},\"ternary\":{\"aaxis\":{\"gridcolor\":\"white\",\"linecolor\":\"white\",\"ticks\":\"\"},\"baxis\":{\"gridcolor\":\"white\",\"linecolor\":\"white\",\"ticks\":\"\"},\"bgcolor\":\"#E5ECF6\",\"caxis\":{\"gridcolor\":\"white\",\"linecolor\":\"white\",\"ticks\":\"\"}},\"title\":{\"x\":0.05},\"xaxis\":{\"automargin\":true,\"gridcolor\":\"white\",\"linecolor\":\"white\",\"ticks\":\"\",\"title\":{\"standoff\":15},\"zerolinecolor\":\"white\",\"zerolinewidth\":2},\"yaxis\":{\"automargin\":true,\"gridcolor\":\"white\",\"linecolor\":\"white\",\"ticks\":\"\",\"title\":{\"standoff\":15},\"zerolinecolor\":\"white\",\"zerolinewidth\":2}}},\"scene\":{\"domain\":{\"x\":[0.0,1.0],\"y\":[0.0,1.0]},\"xaxis\":{\"title\":{\"text\":\"Electronegativity\"}},\"yaxis\":{\"title\":{\"text\":\"Density\"}},\"zaxis\":{\"title\":{\"text\":\"Youngs MOdulus\"}}},\"legend\":{\"tracegroupgap\":0},\"margin\":{\"t\":60}},                        {\"responsive\": true}                    ).then(function(){\n",
       "                            \n",
       "var gd = document.getElementById('d75ae7e6-b8a2-4afa-9838-20198d49d113');\n",
       "var x = new MutationObserver(function (mutations, observer) {{\n",
       "        var display = window.getComputedStyle(gd).display;\n",
       "        if (!display || display === 'none') {{\n",
       "            console.log([gd, 'removed!']);\n",
       "            Plotly.purge(gd);\n",
       "            observer.disconnect();\n",
       "        }}\n",
       "}});\n",
       "\n",
       "// Listen for the removal of the full notebook cells\n",
       "var notebookContainer = gd.closest('#notebook-container');\n",
       "if (notebookContainer) {{\n",
       "    x.observe(notebookContainer, {childList: true});\n",
       "}}\n",
       "\n",
       "// Listen for the clearing of the current output cell\n",
       "var outputEl = gd.closest('.output');\n",
       "if (outputEl) {{\n",
       "    x.observe(outputEl, {childList: true});\n",
       "}}\n",
       "\n",
       "                        })                };                });            </script>        </div>"
      ]
     },
     "metadata": {},
     "output_type": "display_data"
    }
   ],
   "source": [
    "# Comparing the plots obtained with my GD function \n",
    "x1_range1 = np.linspace(df['en_ghosh'].min(), df['en_ghosh'].max(), 10)\n",
    "x2_range2 = np.linspace(df['density_of_solid'].min(), df['density_of_solid'].max(), 10)\n",
    "x1_mesh1, x2_mesh2 = np.meshgrid(x1_range1, x2_range2)\n",
    "y_pred_mesh_1 = reg.predict(np.c_[x1_mesh.ravel(), x2_mesh.ravel()])\n",
    "y_pred_mesh_1 = y_pred_mesh.reshape(x1_mesh.shape)\n",
    "fig.add_trace(go.Surface(x=x1_mesh, y=x2_mesh, z=y_pred_mesh_1, opacity=0.5))\n",
    "\n",
    "# updating the plot layout\n",
    "fig.update_layout(scene=dict(\n",
    "                    xaxis_title='Electronegativity',\n",
    "                    yaxis_title='Density',\n",
    "                    zaxis_title='Youngs MOdulus'))\n",
    "\n",
    "# showing the plot\n",
    "fig.show()\n"
   ]
  },
  {
   "cell_type": "code",
   "execution_count": null,
   "id": "c1cfdaf0",
   "metadata": {},
   "outputs": [],
   "source": [
    "\n",
    "\n",
    "\n"
   ]
  },
  {
   "cell_type": "code",
   "execution_count": null,
   "id": "e892f1c3",
   "metadata": {},
   "outputs": [],
   "source": []
  },
  {
   "cell_type": "code",
   "execution_count": null,
   "id": "2e3208a6",
   "metadata": {},
   "outputs": [],
   "source": []
  },
  {
   "cell_type": "code",
   "execution_count": null,
   "id": "2f735629",
   "metadata": {},
   "outputs": [],
   "source": []
  }
 ],
 "metadata": {
  "kernelspec": {
   "display_name": "Python 3",
   "language": "python",
   "name": "python3"
  },
  "language_info": {
   "codemirror_mode": {
    "name": "ipython",
    "version": 3
   },
   "file_extension": ".py",
   "mimetype": "text/x-python",
   "name": "python",
   "nbconvert_exporter": "python",
   "pygments_lexer": "ipython3",
   "version": "3.8.8"
  }
 },
 "nbformat": 4,
 "nbformat_minor": 5
}
