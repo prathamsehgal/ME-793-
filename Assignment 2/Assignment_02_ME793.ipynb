{
 "cells": [
  {
   "cell_type": "code",
   "execution_count": 16,
   "id": "e9b3834c",
   "metadata": {},
   "outputs": [],
   "source": [
    "import numpy as np \n",
    "import pandas as pd\n",
    "import matplotlib.pyplot as plt \n",
    "from scipy import linalg\n"
   ]
  },
  {
   "cell_type": "code",
   "execution_count": 7,
   "id": "63a50853",
   "metadata": {},
   "outputs": [],
   "source": [
    "df = pd.DataFrame({'length':[7,4,6,8,8,7,5,9,7,8], 'width' : [4,1,3,6,5,2,3,5,4,2],'thickness':[3,8,5,1,7,9,3,8,5,2]})"
   ]
  },
  {
   "cell_type": "code",
   "execution_count": 8,
   "id": "9813308b",
   "metadata": {},
   "outputs": [
    {
     "data": {
      "text/html": [
       "<div>\n",
       "<style scoped>\n",
       "    .dataframe tbody tr th:only-of-type {\n",
       "        vertical-align: middle;\n",
       "    }\n",
       "\n",
       "    .dataframe tbody tr th {\n",
       "        vertical-align: top;\n",
       "    }\n",
       "\n",
       "    .dataframe thead th {\n",
       "        text-align: right;\n",
       "    }\n",
       "</style>\n",
       "<table border=\"1\" class=\"dataframe\">\n",
       "  <thead>\n",
       "    <tr style=\"text-align: right;\">\n",
       "      <th></th>\n",
       "      <th>length</th>\n",
       "      <th>width</th>\n",
       "      <th>thickness</th>\n",
       "    </tr>\n",
       "  </thead>\n",
       "  <tbody>\n",
       "    <tr>\n",
       "      <th>0</th>\n",
       "      <td>7</td>\n",
       "      <td>4</td>\n",
       "      <td>3</td>\n",
       "    </tr>\n",
       "    <tr>\n",
       "      <th>1</th>\n",
       "      <td>4</td>\n",
       "      <td>1</td>\n",
       "      <td>8</td>\n",
       "    </tr>\n",
       "    <tr>\n",
       "      <th>2</th>\n",
       "      <td>6</td>\n",
       "      <td>3</td>\n",
       "      <td>5</td>\n",
       "    </tr>\n",
       "    <tr>\n",
       "      <th>3</th>\n",
       "      <td>8</td>\n",
       "      <td>6</td>\n",
       "      <td>1</td>\n",
       "    </tr>\n",
       "    <tr>\n",
       "      <th>4</th>\n",
       "      <td>8</td>\n",
       "      <td>5</td>\n",
       "      <td>7</td>\n",
       "    </tr>\n",
       "    <tr>\n",
       "      <th>5</th>\n",
       "      <td>7</td>\n",
       "      <td>2</td>\n",
       "      <td>9</td>\n",
       "    </tr>\n",
       "    <tr>\n",
       "      <th>6</th>\n",
       "      <td>5</td>\n",
       "      <td>3</td>\n",
       "      <td>3</td>\n",
       "    </tr>\n",
       "    <tr>\n",
       "      <th>7</th>\n",
       "      <td>9</td>\n",
       "      <td>5</td>\n",
       "      <td>8</td>\n",
       "    </tr>\n",
       "    <tr>\n",
       "      <th>8</th>\n",
       "      <td>7</td>\n",
       "      <td>4</td>\n",
       "      <td>5</td>\n",
       "    </tr>\n",
       "    <tr>\n",
       "      <th>9</th>\n",
       "      <td>8</td>\n",
       "      <td>2</td>\n",
       "      <td>2</td>\n",
       "    </tr>\n",
       "  </tbody>\n",
       "</table>\n",
       "</div>"
      ],
      "text/plain": [
       "   length  width  thickness\n",
       "0       7      4          3\n",
       "1       4      1          8\n",
       "2       6      3          5\n",
       "3       8      6          1\n",
       "4       8      5          7\n",
       "5       7      2          9\n",
       "6       5      3          3\n",
       "7       9      5          8\n",
       "8       7      4          5\n",
       "9       8      2          2"
      ]
     },
     "execution_count": 8,
     "metadata": {},
     "output_type": "execute_result"
    }
   ],
   "source": [
    "df # conveted data points  into dataframe "
   ]
  },
  {
   "cell_type": "code",
   "execution_count": 17,
   "id": "1d299456",
   "metadata": {},
   "outputs": [],
   "source": [
    "df_new.to_excel('sample_data.xlsx', sheet_name='sheet1', index=False) # saving data to excel "
   ]
  },
  {
   "cell_type": "code",
   "execution_count": null,
   "id": "1efaa435",
   "metadata": {},
   "outputs": [],
   "source": []
  },
  {
   "cell_type": "markdown",
   "id": "baf9f4f6",
   "metadata": {},
   "source": [
    "# a) Write a function for determining PCs of the above dataset X. Standardize your data i.e. use zero mean and normalized data using the ”Standardize” function shown in Tutorial."
   ]
  },
  {
   "cell_type": "code",
   "execution_count": 103,
   "id": "0a628472",
   "metadata": {},
   "outputs": [],
   "source": [
    "def standardize(a):                     #a here is the input data\n",
    "    mean = sum(a)/len(a)                #computing mean\n",
    "    var = sum((a-mean)**2)/len(a)       #computing variance\n",
    "    snd = (a-mean)/(var**0.5)           #compute zero mean for normalizating data\n",
    "    return snd    \n",
    "\n",
    "\n"
   ]
  },
  {
   "cell_type": "code",
   "execution_count": 104,
   "id": "b6206163",
   "metadata": {},
   "outputs": [],
   "source": [
    "x_standardised = df.values    # Extracting values from columns of data "
   ]
  },
  {
   "cell_type": "code",
   "execution_count": 105,
   "id": "c3a619ea",
   "metadata": {},
   "outputs": [],
   "source": [
    "x_scaled = standardize(x_standardised)    # Applying transformation of standardisation "
   ]
  },
  {
   "cell_type": "code",
   "execution_count": 106,
   "id": "f7929f3d",
   "metadata": {},
   "outputs": [
    {
     "data": {
      "text/plain": [
       "array([[ 0.06917145,  0.33333333, -0.78867155],\n",
       "       [-2.00597195, -1.66666667,  1.08911786],\n",
       "       [-0.62254302, -0.33333333, -0.03755579],\n",
       "       [ 0.76088591,  1.66666667, -1.53978732],\n",
       "       [ 0.76088591,  1.        ,  0.71355998],\n",
       "       [ 0.06917145, -1.        ,  1.46467574],\n",
       "       [-1.31425748, -0.33333333, -0.78867155],\n",
       "       [ 1.45260037,  1.        ,  1.08911786],\n",
       "       [ 0.06917145,  0.33333333, -0.03755579],\n",
       "       [ 0.76088591, -1.        , -1.16422944]])"
      ]
     },
     "execution_count": 106,
     "metadata": {},
     "output_type": "execute_result"
    }
   ],
   "source": [
    "x_scaled"
   ]
  },
  {
   "cell_type": "code",
   "execution_count": null,
   "id": "9a79a62b",
   "metadata": {},
   "outputs": [],
   "source": []
  },
  {
   "cell_type": "code",
   "execution_count": null,
   "id": "e12f5451",
   "metadata": {},
   "outputs": [],
   "source": []
  },
  {
   "cell_type": "code",
   "execution_count": 37,
   "id": "d455dfc9",
   "metadata": {},
   "outputs": [],
   "source": [
    "def pca(X):\n",
    "  # Add a functionality of adjusting X for zero mean for each column and normalize each column using variance.\n",
    "    n, m = X.shape\n",
    "  # Compute covariance matrix\n",
    "    C = np.dot(X.T, X) / (n-1)\n",
    "  # Eigen decomposition\n",
    "    eigen_vals, eigen_vecs = np.linalg.eig(C)\n",
    "  # Project X onto PC space\n",
    "    X_pca = np.dot(X, eigen_vecs)\n",
    "    return eigen_vecs,eigen_vals,X_pca"
   ]
  },
  {
   "cell_type": "code",
   "execution_count": 107,
   "id": "8719b688",
   "metadata": {},
   "outputs": [
    {
     "data": {
      "text/plain": [
       "(array([[-0.64200458, -0.66321742,  0.38467229],\n",
       "        [-0.68636164,  0.72074503,  0.09713033],\n",
       "        [ 0.34166917,  0.20166619,  0.91792861]]),\n",
       " array([1.9653046 , 0.33794439, 1.03008435]),\n",
       " array([[-0.54266035,  0.03532425, -0.66495907],\n",
       "        [ 2.80389723,  0.34879208,  0.06620673],\n",
       "        [ 0.61563102,  0.1650593 , -0.30632536],\n",
       "        [-2.15852616,  0.38608588, -0.95883922],\n",
       "        [-0.93105243,  0.36001316,  1.04481917],\n",
       "        [ 1.1423878 , -0.47124516,  1.27394577],\n",
       "        [ 0.80308178,  0.47234173, -1.2618794 ],\n",
       "        [-1.24681973, -0.0230066 ,  1.65563789],\n",
       "        [-0.28602725,  0.1867989 ,  0.02451158],\n",
       "        [-0.1999119 , -1.46016354, -0.87311811]]))"
      ]
     },
     "execution_count": 107,
     "metadata": {},
     "output_type": "execute_result"
    }
   ],
   "source": [
    "pca(x_scaled)"
   ]
  },
  {
   "cell_type": "code",
   "execution_count": null,
   "id": "6123ca84",
   "metadata": {},
   "outputs": [],
   "source": []
  },
  {
   "cell_type": "markdown",
   "id": "7057dd24",
   "metadata": {},
   "source": [
    "# (b) Show the principal vectors i.e. matrix P."
   ]
  },
  {
   "cell_type": "code",
   "execution_count": 108,
   "id": "c753a7ac",
   "metadata": {},
   "outputs": [],
   "source": [
    "n,m = x_scaled.shape         # storing the vallues of matrix dimensions \n"
   ]
  },
  {
   "cell_type": "code",
   "execution_count": 109,
   "id": "decae4b6",
   "metadata": {},
   "outputs": [
    {
     "name": "stdout",
     "output_type": "stream",
     "text": [
      "[[ 1.11111111  0.74295257 -0.11257082]\n",
      " [ 0.74295257  1.11111111 -0.31991968]\n",
      " [-0.11257082 -0.31991968  1.11111111]]\n"
     ]
    }
   ],
   "source": [
    "C = np.dot(x_scaled.T,x_scaled) / (n-1)\n",
    "print(C)                           # covariance matrix"
   ]
  },
  {
   "cell_type": "code",
   "execution_count": null,
   "id": "2b20b5ef",
   "metadata": {},
   "outputs": [],
   "source": []
  },
  {
   "cell_type": "code",
   "execution_count": 110,
   "id": "95ac186a",
   "metadata": {},
   "outputs": [
    {
     "name": "stdout",
     "output_type": "stream",
     "text": [
      "eigen values - [1.9653046  0.33794439 1.03008435]\n",
      "eigen vectors -  [[-0.64200458 -0.66321742  0.38467229]\n",
      " [-0.68636164  0.72074503  0.09713033]\n",
      " [ 0.34166917  0.20166619  0.91792861]]\n"
     ]
    }
   ],
   "source": [
    "eigen_values, eigen_vectors = np.linalg.eig(C) # eigen values computing\n",
    "print(\"eigen values -\",eigen_values)            \n",
    "print(\"eigen vectors - \",eigen_vectors)\n"
   ]
  },
  {
   "cell_type": "code",
   "execution_count": null,
   "id": "a5d0a97b",
   "metadata": {},
   "outputs": [],
   "source": []
  },
  {
   "cell_type": "code",
   "execution_count": 111,
   "id": "ea2c9dc6",
   "metadata": {},
   "outputs": [],
   "source": [
    "# sorting the values\n",
    "index_sorting = np.argsort(eigen_values)[::-1] \n",
    " \n",
    "eigenvals_sorted = eigen_values[index_sorting]      # sorted eigen values and vectors \n",
    "\n",
    "eigenvecs_sorting = eigen_vectors[:,index_sorting]"
   ]
  },
  {
   "cell_type": "code",
   "execution_count": 112,
   "id": "6c039858",
   "metadata": {},
   "outputs": [
    {
     "data": {
      "text/plain": [
       "array([1.9653046 , 1.03008435, 0.33794439])"
      ]
     },
     "execution_count": 112,
     "metadata": {},
     "output_type": "execute_result"
    }
   ],
   "source": [
    "eigenvals_sorted"
   ]
  },
  {
   "cell_type": "code",
   "execution_count": 113,
   "id": "4acc6ee4",
   "metadata": {},
   "outputs": [
    {
     "data": {
      "text/plain": [
       "array([[-0.64200458,  0.38467229, -0.66321742],\n",
       "       [-0.68636164,  0.09713033,  0.72074503],\n",
       "       [ 0.34166917,  0.91792861,  0.20166619]])"
      ]
     },
     "execution_count": 113,
     "metadata": {},
     "output_type": "execute_result"
    }
   ],
   "source": [
    "eigenvecs_sorting"
   ]
  },
  {
   "cell_type": "code",
   "execution_count": null,
   "id": "f6460251",
   "metadata": {},
   "outputs": [],
   "source": []
  },
  {
   "cell_type": "code",
   "execution_count": 114,
   "id": "569db273",
   "metadata": {},
   "outputs": [],
   "source": [
    "P= eigenvecs_sorting.T # principal vectors "
   ]
  },
  {
   "cell_type": "code",
   "execution_count": 115,
   "id": "3d9ef79d",
   "metadata": {},
   "outputs": [
    {
     "data": {
      "text/plain": [
       "array([[-0.64200458, -0.68636164,  0.34166917],\n",
       "       [ 0.38467229,  0.09713033,  0.91792861],\n",
       "       [-0.66321742,  0.72074503,  0.20166619]])"
      ]
     },
     "execution_count": 115,
     "metadata": {},
     "output_type": "execute_result"
    }
   ],
   "source": [
    "P"
   ]
  },
  {
   "cell_type": "code",
   "execution_count": null,
   "id": "650d8d0c",
   "metadata": {},
   "outputs": [],
   "source": []
  },
  {
   "cell_type": "markdown",
   "id": "2eed1830",
   "metadata": {},
   "source": [
    "# c) Show the transformed data Y ."
   ]
  },
  {
   "cell_type": "code",
   "execution_count": null,
   "id": "f03f8910",
   "metadata": {},
   "outputs": [],
   "source": []
  },
  {
   "cell_type": "code",
   "execution_count": 116,
   "id": "254ed9c2",
   "metadata": {},
   "outputs": [
    {
     "data": {
      "text/plain": [
       "array([[-0.54266035, -0.66495907,  0.03532425],\n",
       "       [ 2.80389723,  0.06620673,  0.34879208],\n",
       "       [ 0.61563102, -0.30632536,  0.1650593 ],\n",
       "       [-2.15852616, -0.95883922,  0.38608588],\n",
       "       [-0.93105243,  1.04481917,  0.36001316],\n",
       "       [ 1.1423878 ,  1.27394577, -0.47124516],\n",
       "       [ 0.80308178, -1.2618794 ,  0.47234173],\n",
       "       [-1.24681973,  1.65563789, -0.0230066 ],\n",
       "       [-0.28602725,  0.02451158,  0.1867989 ],\n",
       "       [-0.1999119 , -0.87311811, -1.46016354]])"
      ]
     },
     "execution_count": 116,
     "metadata": {},
     "output_type": "execute_result"
    }
   ],
   "source": [
    "#transformed data\n",
    "\n",
    "Y = np.dot(x_scaled,eigenvecs_sorting)        \n",
    "Y"
   ]
  },
  {
   "cell_type": "code",
   "execution_count": null,
   "id": "e49aaff5",
   "metadata": {},
   "outputs": [],
   "source": []
  },
  {
   "cell_type": "code",
   "execution_count": 117,
   "id": "8f5ef878",
   "metadata": {},
   "outputs": [],
   "source": [
    "principal_component1 = x_scaled.dot(eigenvecs_sorting.T[0]) # calculating the principal components 3 componets for each \n",
    "principal_component2 = x_scaled.dot(eigenvecs_sorting.T[1])   # calculating the principal components \n",
    "principal_component3 = x_scaled.dot(eigenvecs_sorting.T[2])  # calculating the principal components  \n",
    "\n",
    " "
   ]
  },
  {
   "cell_type": "code",
   "execution_count": 118,
   "id": "049d3827",
   "metadata": {},
   "outputs": [],
   "source": [
    "data_y= pd.DataFrame({'Pc1':principal_component1, 'Pc2':principal_component2, 'Pc3':principal_component3})"
   ]
  },
  {
   "cell_type": "code",
   "execution_count": 119,
   "id": "7bb86614",
   "metadata": {},
   "outputs": [
    {
     "data": {
      "text/html": [
       "<div>\n",
       "<style scoped>\n",
       "    .dataframe tbody tr th:only-of-type {\n",
       "        vertical-align: middle;\n",
       "    }\n",
       "\n",
       "    .dataframe tbody tr th {\n",
       "        vertical-align: top;\n",
       "    }\n",
       "\n",
       "    .dataframe thead th {\n",
       "        text-align: right;\n",
       "    }\n",
       "</style>\n",
       "<table border=\"1\" class=\"dataframe\">\n",
       "  <thead>\n",
       "    <tr style=\"text-align: right;\">\n",
       "      <th></th>\n",
       "      <th>Pc1</th>\n",
       "      <th>Pc2</th>\n",
       "      <th>Pc3</th>\n",
       "    </tr>\n",
       "  </thead>\n",
       "  <tbody>\n",
       "    <tr>\n",
       "      <th>0</th>\n",
       "      <td>-0.542660</td>\n",
       "      <td>-0.664959</td>\n",
       "      <td>0.035324</td>\n",
       "    </tr>\n",
       "    <tr>\n",
       "      <th>1</th>\n",
       "      <td>2.803897</td>\n",
       "      <td>0.066207</td>\n",
       "      <td>0.348792</td>\n",
       "    </tr>\n",
       "    <tr>\n",
       "      <th>2</th>\n",
       "      <td>0.615631</td>\n",
       "      <td>-0.306325</td>\n",
       "      <td>0.165059</td>\n",
       "    </tr>\n",
       "    <tr>\n",
       "      <th>3</th>\n",
       "      <td>-2.158526</td>\n",
       "      <td>-0.958839</td>\n",
       "      <td>0.386086</td>\n",
       "    </tr>\n",
       "    <tr>\n",
       "      <th>4</th>\n",
       "      <td>-0.931052</td>\n",
       "      <td>1.044819</td>\n",
       "      <td>0.360013</td>\n",
       "    </tr>\n",
       "    <tr>\n",
       "      <th>5</th>\n",
       "      <td>1.142388</td>\n",
       "      <td>1.273946</td>\n",
       "      <td>-0.471245</td>\n",
       "    </tr>\n",
       "    <tr>\n",
       "      <th>6</th>\n",
       "      <td>0.803082</td>\n",
       "      <td>-1.261879</td>\n",
       "      <td>0.472342</td>\n",
       "    </tr>\n",
       "    <tr>\n",
       "      <th>7</th>\n",
       "      <td>-1.246820</td>\n",
       "      <td>1.655638</td>\n",
       "      <td>-0.023007</td>\n",
       "    </tr>\n",
       "    <tr>\n",
       "      <th>8</th>\n",
       "      <td>-0.286027</td>\n",
       "      <td>0.024512</td>\n",
       "      <td>0.186799</td>\n",
       "    </tr>\n",
       "    <tr>\n",
       "      <th>9</th>\n",
       "      <td>-0.199912</td>\n",
       "      <td>-0.873118</td>\n",
       "      <td>-1.460164</td>\n",
       "    </tr>\n",
       "  </tbody>\n",
       "</table>\n",
       "</div>"
      ],
      "text/plain": [
       "        Pc1       Pc2       Pc3\n",
       "0 -0.542660 -0.664959  0.035324\n",
       "1  2.803897  0.066207  0.348792\n",
       "2  0.615631 -0.306325  0.165059\n",
       "3 -2.158526 -0.958839  0.386086\n",
       "4 -0.931052  1.044819  0.360013\n",
       "5  1.142388  1.273946 -0.471245\n",
       "6  0.803082 -1.261879  0.472342\n",
       "7 -1.246820  1.655638 -0.023007\n",
       "8 -0.286027  0.024512  0.186799\n",
       "9 -0.199912 -0.873118 -1.460164"
      ]
     },
     "execution_count": 119,
     "metadata": {},
     "output_type": "execute_result"
    }
   ],
   "source": [
    "data_y              # dataframe of Pcs "
   ]
  },
  {
   "cell_type": "markdown",
   "id": "97a186ed",
   "metadata": {},
   "source": [
    "#  (d) Determine the variances along the principal directions.\n"
   ]
  },
  {
   "cell_type": "code",
   "execution_count": 125,
   "id": "7b0a063d",
   "metadata": {},
   "outputs": [],
   "source": [
    "variance_along_pdir =[]\n",
    "for i in eigenvals_sorted:\n",
    "    variance_along_pdir.append(i / np.sum(eigen_values))\n",
    "     \n",
    "     # calculating the variance for each eigevalue "
   ]
  },
  {
   "cell_type": "code",
   "execution_count": 126,
   "id": "de98643e",
   "metadata": {},
   "outputs": [
    {
     "name": "stdout",
     "output_type": "stream",
     "text": [
      "[0.5895913787011413, 0.3090253056329647, 0.10138331566589397]\n"
     ]
    }
   ],
   "source": [
    "print(variance_along_pdir)  # required variance "
   ]
  },
  {
   "cell_type": "code",
   "execution_count": null,
   "id": "97049e6d",
   "metadata": {},
   "outputs": [],
   "source": []
  },
  {
   "cell_type": "markdown",
   "id": "e00e8348",
   "metadata": {},
   "source": [
    "## (e) Determine the principal axes using Scikitlearn or Numpy and compare with your solution. Does your solution compare well with that from the python library functions ? Why not? What is the difference?"
   ]
  },
  {
   "cell_type": "code",
   "execution_count": null,
   "id": "59535d53",
   "metadata": {},
   "outputs": [],
   "source": []
  },
  {
   "cell_type": "code",
   "execution_count": 74,
   "id": "28197701",
   "metadata": {},
   "outputs": [],
   "source": [
    "from sklearn.decomposition import PCA      # using library function "
   ]
  },
  {
   "cell_type": "code",
   "execution_count": 75,
   "id": "9b532f2a",
   "metadata": {},
   "outputs": [],
   "source": [
    "Pca = PCA(n_components=3)  # using inbuilt class"
   ]
  },
  {
   "cell_type": "code",
   "execution_count": 128,
   "id": "1e8c356d",
   "metadata": {},
   "outputs": [
    {
     "data": {
      "text/plain": [
       "array([[-0.54266035, -0.66495907, -0.03532425],\n",
       "       [ 2.80389723,  0.06620673, -0.34879208],\n",
       "       [ 0.61563102, -0.30632536, -0.1650593 ],\n",
       "       [-2.15852616, -0.95883922, -0.38608588],\n",
       "       [-0.93105243,  1.04481917, -0.36001316],\n",
       "       [ 1.1423878 ,  1.27394577,  0.47124516],\n",
       "       [ 0.80308178, -1.2618794 , -0.47234173],\n",
       "       [-1.24681973,  1.65563789,  0.0230066 ],\n",
       "       [-0.28602725,  0.02451158, -0.1867989 ],\n",
       "       [-0.1999119 , -0.87311811,  1.46016354]])"
      ]
     },
     "execution_count": 128,
     "metadata": {},
     "output_type": "execute_result"
    }
   ],
   "source": [
    "Pca.fit_transform(x_scaled)   # fit the model and apply transformation of pCA "
   ]
  },
  {
   "cell_type": "code",
   "execution_count": 129,
   "id": "06aee392",
   "metadata": {},
   "outputs": [
    {
     "data": {
      "text/plain": [
       "array([[-0.64200458, -0.68636164,  0.34166917],\n",
       "       [ 0.38467229,  0.09713033,  0.91792861],\n",
       "       [ 0.66321742, -0.72074503, -0.20166619]])"
      ]
     },
     "execution_count": 129,
     "metadata": {},
     "output_type": "execute_result"
    }
   ],
   "source": [
    "Pca.components_                # 3 principal components for each eigen vector "
   ]
  },
  {
   "cell_type": "code",
   "execution_count": 130,
   "id": "c88f4b79",
   "metadata": {},
   "outputs": [
    {
     "data": {
      "text/plain": [
       "array([0.58959138, 0.30902531, 0.10138332])"
      ]
     },
     "execution_count": 130,
     "metadata": {},
     "output_type": "execute_result"
    }
   ],
   "source": [
    "Pca.explained_variance_ratio_"
   ]
  },
  {
   "cell_type": "markdown",
   "id": "75fdd957",
   "metadata": {},
   "source": [
    "The principal axes with Scikit   do not differed  much from my solution .\n",
    "however it differs in the direction although that doesnot concern us.\n",
    "The vectors that identify these axes are the major components after processing the input data using pca.\n"
   ]
  },
  {
   "cell_type": "code",
   "execution_count": null,
   "id": "90b9c691",
   "metadata": {},
   "outputs": [],
   "source": []
  },
  {
   "cell_type": "code",
   "execution_count": null,
   "id": "7ab50af8",
   "metadata": {},
   "outputs": [],
   "source": []
  },
  {
   "cell_type": "markdown",
   "id": "e0dc0c5f",
   "metadata": {},
   "source": [
    "## (g) How many PCs are sufficient to represent the data in reduced dimensions with 95 % accuracy. Show how did you come up with you answer."
   ]
  },
  {
   "cell_type": "code",
   "execution_count": 142,
   "id": "7e9e0ccf",
   "metadata": {},
   "outputs": [],
   "source": []
  },
  {
   "cell_type": "code",
   "execution_count": 144,
   "id": "b6b79495",
   "metadata": {},
   "outputs": [],
   "source": [
    "import seaborn as sns  # seaborn library "
   ]
  },
  {
   "cell_type": "code",
   "execution_count": 131,
   "id": "775e6d2d",
   "metadata": {},
   "outputs": [
    {
     "data": {
      "text/plain": [
       "array([0.58959138, 0.30902531, 0.10138332])"
      ]
     },
     "execution_count": 131,
     "metadata": {},
     "output_type": "execute_result"
    }
   ],
   "source": [
    "Pca.explained_variance_ratio_ "
   ]
  },
  {
   "cell_type": "markdown",
   "id": "e0c7a6d1",
   "metadata": {},
   "source": [
    "\n",
    "The first two  PCs  are covering almost 90% of the variance. So 2 dimensions would be optimum choice to go ahead with .\n",
    "The other 10% can be represented using the 3rd PC\n",
    "Below is the Scree Plot "
   ]
  },
  {
   "cell_type": "code",
   "execution_count": null,
   "id": "2d552029",
   "metadata": {},
   "outputs": [],
   "source": [
    "PC_components = np.arange(Pca.n_components_) + 1"
   ]
  },
  {
   "cell_type": "code",
   "execution_count": 151,
   "id": "0a151050",
   "metadata": {},
   "outputs": [
    {
     "data": {
      "image/png": "[encoded data removed]",
      "text/plain": [
       "<Figure size 1080x720 with 1 Axes>"
      ]
     },
     "metadata": {},
     "output_type": "display_data"
    }
   ],
   "source": [
    "# Scree Plot\n",
    "_ = sns.set(style='whitegrid', font_scale=1.2)\n",
    "fig, ax = plt.subplots(figsize=(15, 10))     \n",
    "_ = sns.barplot(x=PC_components, y=Pca.explained_variance_ratio_, color='cyan')\n",
    "_ = sns.lineplot(x=PC_components-1, y=np.cumsum(Pca.explained_variance_ratio_), color='red', linestyle='-', linewidth=2, marker='o', markersize=8)\n",
    "\n",
    "plt.title('Scree Plot')\n",
    "plt.xlabel('N-th Principal Component')\n",
    "plt.ylabel('Variance Explained')\n",
    "plt.ylim(0, 1)\n",
    "plt.show()"
   ]
  },
  {
   "cell_type": "markdown",
   "id": "46d327da",
   "metadata": {},
   "source": [
    "### The chart informs us that using 2 principal components instead of 3 is fine because they can capture ~ 90% of the variance."
   ]
  },
  {
   "cell_type": "code",
   "execution_count": null,
   "id": "196a4eca",
   "metadata": {},
   "outputs": [],
   "source": []
  },
  {
   "cell_type": "code",
   "execution_count": null,
   "id": "e719975d",
   "metadata": {},
   "outputs": [],
   "source": []
  },
  {
   "cell_type": "code",
   "execution_count": null,
   "id": "d2b83809",
   "metadata": {},
   "outputs": [],
   "source": []
  }
 ],
 "metadata": {
  "kernelspec": {
   "display_name": "Python 3",
   "language": "python",
   "name": "python3"
  },
  "language_info": {
   "codemirror_mode": {
    "name": "ipython",
    "version": 3
   },
   "file_extension": ".py",
   "mimetype": "text/x-python",
   "name": "python",
   "nbconvert_exporter": "python",
   "pygments_lexer": "ipython3",
   "version": "3.8.8"
  }
 },
 "nbformat": 4,
 "nbformat_minor": 5
}
